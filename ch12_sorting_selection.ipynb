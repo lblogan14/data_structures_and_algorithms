{
  "nbformat": 4,
  "nbformat_minor": 0,
  "metadata": {
    "colab": {
      "name": "ch12_sorting_selection.ipynb",
      "version": "0.3.2",
      "provenance": [],
      "collapsed_sections": [],
      "include_colab_link": true
    },
    "kernelspec": {
      "name": "python3",
      "display_name": "Python 3"
    }
  },
  "cells": [
    {
      "cell_type": "markdown",
      "metadata": {
        "id": "view-in-github",
        "colab_type": "text"
      },
      "source": [
        "<a href=\"https://colab.research.google.com/github/lblogan14/data_structures_and_algorithms/blob/master/ch12_sorting_selection.ipynb\" target=\"_parent\"><img src=\"https://colab.research.google.com/assets/colab-badge.svg\" alt=\"Open In Colab\"/></a>"
      ]
    },
    {
      "metadata": {
        "id": "dpsL3-dyG-yY",
        "colab_type": "text"
      },
      "cell_type": "markdown",
      "source": [
        "#12.2 Merge-Sort\n",
        "\n",
        "##12.2.1 Divide-and-Conquer\n",
        "Merge-sort uses recursion in the **divide-and-conquer** design pattern.\n",
        "\n",
        "The divide-and-conquer pattern consists of the following three steps:\n",
        "1. **Divide**: If the input size is smaller than a certain threshold (say, one or two elements), solve the problem directly using a straightforward method and return the solution so obtained. Otherwise, divide the input data into two or more disjoint subsets.\n",
        "2. **Conquer**: Recursively solve the subproblems associated with the subsets.\n",
        "3. **Combine**: Take the solutions to the subproblems and merge them into a solution to the original problem.\n",
        "\n",
        "###Using Divide-and-Conquer for Sorting\n",
        "To sort a sequence $S$ with $n$ elements using the three divide-and-conquer steps, the merge-sort algorithm proceeds as follows:\n",
        "1. **Divide**: If $S$ has zero or one element, return $S$ immediately; it is already sorted. Otherwise ($S$ has at least two elements), remove all the elements from $S$ and put them into two sequences, $S_1$ and $S_2$, each containing about half of the element of $S$; that is, $S_1$ contains the first $\\lfloor n/2\\rfloor$ elements of $S$, and $S_2$ contains the remaining $\\lceil n/2\\rceil$ elements.\n",
        "2. **Conquer**: Recursively sort sequences $S_1$ and $S_2$.\n",
        "3. **Combine**: Put back the elements into $S$ by merging the sorted sequences $S_1$ and $S_2$ into a sorted sequence.\n",
        "\n",
        "The execution of the merge-sort algorithm can be visualized by means of a binary tree $T$, called the **merge-sort tree**. Each node of $T$ represents a recursive invocation (or call) of the merge-sort algorithm. Each node $v$ of $T$ is associated with the sequence $S$ that is processed by the invocation associated with $v$. The children of node $v$ are associated with the recursive calls that process the subsequences $S_1$ and $S_2$ of $S$. The external nodes of $T$ are associated with individual elements of $S$, corresponding to instances of the algorithm that make no recursive calls.\n",
        "\n",
        "*The merge-sort treee associated with an execution of merge-sort on a sequence of size $n$ has height $\\lceil\\log n\\rceil$."
      ]
    },
    {
      "metadata": {
        "id": "UGg3iVuzMvuz",
        "colab_type": "text"
      },
      "cell_type": "markdown",
      "source": [
        "##12.2.2 Array-Based Implementation of Merge-Sort\n",
        "If a sequence of items is represented as an (array-based) Python list, the following `merge` function is responsible for the subtask of merging two previously sorted sequences, $S_1$ and $S_2$, with the output copied into $S$."
      ]
    },
    {
      "metadata": {
        "id": "n0mcx7ZiQdTb",
        "colab_type": "code",
        "colab": {}
      },
      "cell_type": "code",
      "source": [
        "def merge(S1, S2, S):\n",
        "  '''Merge two sorted Python lists S1 and S2 into properly sized list S'''\n",
        "  i = j = 0\n",
        "  while i + j < len(S):\n",
        "    if j == len(S2) or (i < len(S1) and S1[i] < S2[j]):\n",
        "      S[i+j] = S1[i] # copy ith element of S1 as next item of S\n",
        "      i += 1\n",
        "    else:\n",
        "      S[i+j] = S2[j] # copy jth element of S2 as next item of S\n",
        "      j += 1"
      ],
      "execution_count": 0,
      "outputs": []
    },
    {
      "metadata": {
        "id": "iY9FFuGlRmDi",
        "colab_type": "text"
      },
      "cell_type": "markdown",
      "source": [
        "The divide-and-conquer merge-sort algorithm is shown below:"
      ]
    },
    {
      "metadata": {
        "id": "E4Cnp979Rpi8",
        "colab_type": "code",
        "colab": {}
      },
      "cell_type": "code",
      "source": [
        "def merge_sort(S):\n",
        "  '''Sort the elements of Python list S using the merge-sort algorithm'''\n",
        "  n = len(S)\n",
        "  if n < 2:\n",
        "    return # list is already sorted\n",
        "  # Divide\n",
        "  mid = n // 2\n",
        "  S1 = S[0:mid] # copy of first half\n",
        "  S2 = S[mid:n] # copy of second half\n",
        "  # Conquer (with recursion)\n",
        "  merge_sort(S1) # sort copy of first half\n",
        "  merge_sort(S2) # sort copy of second half\n",
        "  # merge results\n",
        "  merge(S1, S2, S) # merge sorted halves back into S"
      ],
      "execution_count": 0,
      "outputs": []
    },
    {
      "metadata": {
        "id": "9MgK-2RZRFM6",
        "colab_type": "text"
      },
      "cell_type": "markdown",
      "source": [
        "During the process, index $i$ represents the number of elements of $S_1$ that have been copied to $S$, while index $j$ represents the number of elements of $S_2$ that have been copied to $S$. Copy the smaller of the two elements being considered. Since $i+j$ objects have been previously copied, the next element is placed in $S[i+j]$."
      ]
    },
    {
      "metadata": {
        "id": "aaJeYqJcSWcp",
        "colab_type": "text"
      },
      "cell_type": "markdown",
      "source": [
        "The running time of algorithm `merge` is $O(n_1+n_2)$.\n",
        "\n",
        "*The merge-sort algorithm sorts a sequence $S$ of size $n$ in $O(n\\log n)$ time, assuming two elements of $S$ can be compared in $O(1)$ time.*"
      ]
    },
    {
      "metadata": {
        "id": "q9k3DfTwUkUP",
        "colab_type": "text"
      },
      "cell_type": "markdown",
      "source": [
        "##12.2.5 Alternative Implementations of Merge-Sort\n",
        "###Sorting Linked Lists"
      ]
    },
    {
      "metadata": {
        "id": "3aJuP7kfUyUV",
        "colab_type": "code",
        "colab": {}
      },
      "cell_type": "code",
      "source": [
        "def merge(S1, S2, S):\n",
        "  '''Merge two sorted queue instances S1 and S2 into empty queue S'''\n",
        "  while not S1.is_empty() and not S2.is_empty():\n",
        "    if S1.first() < S2.first():\n",
        "      S.enqueue(S1.dequeue())\n",
        "    else:\n",
        "      S.enqueue(S2.dequeue())\n",
        "  while not S1.is_empty(): # move remaining elements of S1 to S\n",
        "    S.enqueue(S1.dequeue())\n",
        "  while not S2.is_empty(): # move reamining elements of S2 to S\n",
        "    S.enqueue(S2.dequeue())\n",
        "    \n",
        "def merge_sort(S):\n",
        "  '''Sort the elements of queue S using the merge-sort algorithm'''\n",
        "  n = len(S)\n",
        "  if n < 2:\n",
        "    return # list is already sorted\n",
        "  # Divide\n",
        "  S1 = LinkedQueue() # or any other queue implementation\n",
        "  S2 = LinkedQueue()\n",
        "  while len(S1) < n//2 : # move the first n//2 elements to S1\n",
        "    S1.enqueue(S.dequeue())\n",
        "  while not S.is_empty(): # move the rest to S2\n",
        "    S2.enqueue(S.dequeue())\n",
        "  # Conquer (with recursion)\n",
        "  merge_sort(S1) # sort first half\n",
        "  merge_sort(S2) # sort second half\n",
        "  # Merge results\n",
        "  merge(S1, S2, S) # merge sorted halves back into S"
      ],
      "execution_count": 0,
      "outputs": []
    },
    {
      "metadata": {
        "id": "w6fAMcaeXJB4",
        "colab_type": "text"
      },
      "cell_type": "markdown",
      "source": [
        "###Buttom-Up (Nonrecursive) Merge-Sort\n",
        "The main idea is to perform merge-sort buttom-up, performing the merges level by level going up the merge-sort tree.\n",
        "\n",
        "Given an input array of elements, begin by merging every successive pair of elements into sorted runs of length two. Merge these runs into runs of length four, merge these new runs into runs of length eight, and so on, until the array is sorted."
      ]
    },
    {
      "metadata": {
        "id": "6SVVTebMb2bL",
        "colab_type": "code",
        "colab": {}
      },
      "cell_type": "code",
      "source": [
        "def merge(src, result, start, inc):\n",
        "  '''Merge src[start:start+inc] and src[start+inc:start+2*inc] into result'''\n",
        "  end1 = start + inc # boundary for run 1\n",
        "  end2 = min(start+2*inc, len(src)) # boundary for run 2\n",
        "  x, y, z = start, start+inc, start # index into run 1, run 2, result\n",
        "  while x < end1 and y < end2:\n",
        "    if src[x] < src[y]:\n",
        "      result[z] = src[x]; x += 1 # copy from run 1 and increment x\n",
        "    else:\n",
        "      result[z] = src[y]; y += 1 # copy from run 2 and increment y\n",
        "    z += 1 # increment z to reflect new result\n",
        "  if x < end1:\n",
        "    result[z:end2] = src[x:end1] # copy remainder of run 1 to output\n",
        "  elif y < end2:\n",
        "    result[z:end2] = src[y:end2] # copy remainder of run 2 to output\n",
        "    \n",
        "def merge_sort(S):\n",
        "  '''Sort the elements of Python list S using the merge-sort algorithm'''\n",
        "  n = len(S)\n",
        "  logn = math.ceil(math.log(n,2))\n",
        "  src, dest = S, [None]*n # make temporary storage for dest\n",
        "  for i in (2**k for k in range(logn)): # pass i creates all runs of length 2i\n",
        "    for j in range(0, n, 2*i): # each pass merges two length i runs\n",
        "      merge(src, dest, j, i)\n",
        "    src, dest = dest, src # reverse roles of lists\n",
        "  if S is not src:\n",
        "    S[0:n] = src[0:n] # additional copy to get results to S"
      ],
      "execution_count": 0,
      "outputs": []
    },
    {
      "metadata": {
        "id": "5FcKQaJTdOP1",
        "colab_type": "text"
      },
      "cell_type": "markdown",
      "source": [
        "#12.3 Quick-Sort\n",
        "based on the *divide-and-conquer* paradigm.\n",
        "\n",
        "###High-Level Description of Quick-Sort\n",
        "1. **Divide**: If $S$ has at least two elements (nothing need to be done if $S$ has zero or one element), select a specific element $x$ from $S$, which is called the **pivot**. As is common practice, choose the pivot $x$ to be the last element in $S$. Remove all the elements from $S$ and put them into three sequences:\n",
        "  * $L$, storing the elements in $S$ less than $x$\n",
        "  * $E$, storing the elements in $S$ equal to $x$\n",
        "  * $G$, storing the elements in $S$ greater than $x$\n",
        "2. **Conquer**: Recursively sort sequences $L$ and $G$.\n",
        "3. **Combine**: Put back the elements into $S$ in order by first inserting the elements of $L$, then those of $E$, and finally those of $G$.\n",
        "\n",
        "Unlike merge-sort, the height of the quick-sort tree associated with an execution of quick-sort is linear in the worst case.\n",
        "\n",
        "###Performing Quick-Sort on General Sequences"
      ]
    },
    {
      "metadata": {
        "id": "Ci4ksz1tfEem",
        "colab_type": "code",
        "colab": {}
      },
      "cell_type": "code",
      "source": [
        "def quick_sort(S):\n",
        "  '''Sort the elements of queue S using the quick-sort algorithm'''\n",
        "  n = len(S)\n",
        "  if n < 2:\n",
        "    return # list is already sorted\n",
        "  # Divide\n",
        "  p = S.first() # using first as arbitrary pivot\n",
        "  L = LinkedQueue()\n",
        "  E = LinkedQueue()\n",
        "  G = LinkedQueue()\n",
        "  while not S.is_empty(): # divide S into L, E, and G\n",
        "    if S.first() < p:\n",
        "      L.enqueue(S.dequeue())\n",
        "    elif p < S.first():\n",
        "      G.enqueue(S.dequeue())\n",
        "    else: # S.first() must equal pivot\n",
        "      E.enqueue(S.dequeue())\n",
        "  # Conquer (with recursion)\n",
        "  quick_sort(L) # sort elements less than p\n",
        "  quick_sort(G) # sort elements greater than p\n",
        "  # Concatenate results\n",
        "  while not L.is_empty():\n",
        "    S.enqueue(L.dequeue())\n",
        "  while not E.is_empty():\n",
        "    S.enqueue(E.dequeue())\n",
        "  while not G.is_empty():\n",
        "    S.enqueue(G.dequeue())"
      ],
      "execution_count": 0,
      "outputs": []
    },
    {
      "metadata": {
        "id": "yY5zoyUKgwT9",
        "colab_type": "text"
      },
      "cell_type": "markdown",
      "source": [
        "The overall running time of an execution of quick-sort is bounded as $O(n\\cdot h)$ where $h$ is the overall height of the quick-sort tree $T$ for that execution. However, in the worst case, the height of a quick-sort tree is $\\Theta(n)$. Quick-sort above runs in $O(n^2)$ worst-case time.\n",
        "\n",
        "The best case for quick-sort on a sequence of distinct elements occurs when subsequences $L$ and $G$ have roughly the same size, then the tree has height $O(\\log n)$ and quick-sort runs in $O(n\\log n)$ time;"
      ]
    },
    {
      "metadata": {
        "id": "vNFQenhkipyB",
        "colab_type": "text"
      },
      "cell_type": "markdown",
      "source": [
        "##12.3.1 Randomized Quick-Sort\n",
        "Pick a *random element* as the pivot of the input sequence while keeping the rest of the algorithm unchanged. This is called **randomized quick-sort**.\n",
        "\n",
        "*The expected running time of randomized quick-sort on a sequence $S$ of size $n$ is $O(n\\log n)$.\n",
        "\n",
        "##12.3.2 Additional Optimizations for Quick-Sort\n",
        "An algorithm is **in-place** if it uses only a small amount of memory in addition\n",
        "to that needed for the original input. The heap-sort implementation in Chapter 9 is an example of such an in-place sorting algorithm. The quick-sort implementation above does not qualify as in-place, but quick-sort of an array-based sequence can be adapted to be in-place.\n",
        "\n",
        "The implementation below assumes that the input sequence, $S$, is given as a Python list of elements."
      ]
    },
    {
      "metadata": {
        "id": "uc5hUOu0kGGT",
        "colab_type": "code",
        "colab": {}
      },
      "cell_type": "code",
      "source": [
        "def inplace_quick_sort(S, a, b):\n",
        "  '''Sort the list from S[a] to S[b] inclusive using the quick-sort algorithm'''\n",
        "  if a >= b: return # range is trivially sorted\n",
        "  pivot = S[b] # last element of range is pivot\n",
        "  left = a # will scan rightward\n",
        "  right = b-1 # will scan leftward\n",
        "  while left <= right:\n",
        "    # scan until reaching value equal or larger than pivot (or right marker)\n",
        "    while left <= right and S[left] < pivot:\n",
        "      left += 1\n",
        "    # scan until reaching value equal or smaller than pivot (or left marker)\n",
        "    while left <= right and pivot < S[right]:\n",
        "      right -= 1\n",
        "    if left <= right: # scans did not strictly cross\n",
        "      S[left], S[right] = S[right], S[left] # swap values\n",
        "      left, right = left + 1, right - 1 # shrink range\n",
        "      \n",
        "  # put pivot into its final place (currently marked by left index)\n",
        "  S[left], S[b] = S[b], S[left]\n",
        "  # make recursive calls\n",
        "  inplace_quick_sort(S, a, left - 1)\n",
        "  inplace_quick_sort(S, left + 1, b)"
      ],
      "execution_count": 0,
      "outputs": []
    },
    {
      "metadata": {
        "id": "rneb_4ZwlEeD",
        "colab_type": "text"
      },
      "cell_type": "markdown",
      "source": [
        "A subsequence of the input sequence is implicitly represented by\n",
        "a range of positions specified by a leftmost index `a` and a rightmost index `b`."
      ]
    },
    {
      "metadata": {
        "id": "91TURFCFgi6O",
        "colab_type": "text"
      },
      "cell_type": "markdown",
      "source": [
        "#12.5 Comparing Sorting Algorithms\n",
        "\n",
        "###Insertion-Sort\n",
        "The running time of *insertion-sort* is $O(n+m)$, where $m$ is the number of *inversions* (that is, the number of pairs of elements out of order). Thus, insertion-sort is excellent for sorting small sequences, but the $O(n^2)$-time performance of insertion-sort makes it a poor choice if the sequence is long.\n",
        "\n",
        "###Heap-Sort\n",
        "The running time of *heap-sort* is $O(n\\log n)$ time in the worst case, which is optimal for comparison-based sorting methods. Heap-sort can easily be made to execute in-place, and is a natural choice on small- and medium- sized sequences, when input data can fit into main memory. However, heap-sort tends to be outperformed by both quick-sort and merge-sort on larger sequences. A standard heap-sort does not provide a stable sort, because of the swapping of elements.\n",
        "\n",
        "###Quick-Sort\n",
        "The worst-case performance of *quick-sort* is $O(n^2)$ time in real-time applications, but the expected performance is $O(n\\log n)$ and it outperforms both heap-sort and merge-sort on many tests. Quick-sort does not naturally provide a stable sort, due to the swapping\n",
        "of elements during the partitioning step.\n",
        "\n",
        "###Merge-Sort\n",
        "*Merge-sort* runs in $O(n\\log n)$ time in the worst case. It is quite difficult to make\n",
        "merge-sort run in-place for arrays, and without that optimization the extra overhead\n",
        "of allocate a temporary array, and copying between the arrays is less attractive than\n",
        "in-place implementations of heap-sort and quick-sort for sequences that can fit entirely\n",
        "in a computer’s main memory. Even so, merge-sort is an excellent algorithm\n",
        "for situations where the input is stratified across various levels of the computer’s\n",
        "memory hierarchy (e.g., cache, main memory, external memory). In these contexts,\n",
        "the way that merge-sort processes runs of data in long merge streams makes the best\n",
        "use of all the data brought as a block into a level of memory, thereby reducing the\n",
        "total number of memory transfers."
      ]
    },
    {
      "metadata": {
        "id": "qFGNmkwOixhG",
        "colab_type": "text"
      },
      "cell_type": "markdown",
      "source": [
        "#12.6 Python's Built-In Sorting Functions\n",
        "1. `sort` method of the `list` class: Due to the natural meaning of the < operator in Python, the natural order is defined alphabetically within elements that are strings."
      ]
    },
    {
      "metadata": {
        "id": "Z2C01Ox9jNIm",
        "colab_type": "code",
        "colab": {}
      },
      "cell_type": "code",
      "source": [
        "colors = ['red', 'green', 'blue', 'cyan', 'magenta', 'yellow']"
      ],
      "execution_count": 0,
      "outputs": []
    },
    {
      "metadata": {
        "id": "SQE0CkT8jTNv",
        "colab_type": "code",
        "outputId": "fd029993-db25-4e74-afb6-99c3b61ac83d",
        "colab": {
          "base_uri": "https://localhost:8080/",
          "height": 35
        }
      },
      "cell_type": "code",
      "source": [
        "colors.sort()\n",
        "colors"
      ],
      "execution_count": 0,
      "outputs": [
        {
          "output_type": "execute_result",
          "data": {
            "text/plain": [
              "['blue', 'cyan', 'green', 'magenta', 'red', 'yellow']"
            ]
          },
          "metadata": {
            "tags": []
          },
          "execution_count": 6
        }
      ]
    },
    {
      "metadata": {
        "id": "bBKENxh7jZZU",
        "colab_type": "text"
      },
      "cell_type": "markdown",
      "source": [
        "2. Built-in `sorted` function: Return a new list of those colos, in alphabetical order, while leaving the contents of the original list unchanged."
      ]
    },
    {
      "metadata": {
        "id": "8Y03qb2SkFag",
        "colab_type": "code",
        "colab": {}
      },
      "cell_type": "code",
      "source": [
        "colors = ['red', 'green', 'blue', 'cyan', 'magenta', 'yellow']"
      ],
      "execution_count": 0,
      "outputs": []
    },
    {
      "metadata": {
        "id": "k7DOB2h9kHAP",
        "colab_type": "code",
        "outputId": "0cd65ef1-896e-4dfc-f88a-dbdb23774642",
        "colab": {
          "base_uri": "https://localhost:8080/",
          "height": 35
        }
      },
      "cell_type": "code",
      "source": [
        "sorted(colors)"
      ],
      "execution_count": 0,
      "outputs": [
        {
          "output_type": "execute_result",
          "data": {
            "text/plain": [
              "['blue', 'cyan', 'green', 'magenta', 'red', 'yellow']"
            ]
          },
          "metadata": {
            "tags": []
          },
          "execution_count": 8
        }
      ]
    },
    {
      "metadata": {
        "id": "JjG1SGbjkS6S",
        "colab_type": "text"
      },
      "cell_type": "markdown",
      "source": [
        "##12.6.1 Sorting According to a Key Function\n",
        "Control the notion of order that is used when sorting by providing as an optional keyword parameter, a reference to a secondary function tha tcomputes a *key* for each element of the primary sequence; then the primary elements are sorted based on the natural order of their keys.\n",
        "\n",
        "For example, use the built-in `len` function when sorting strings by length, as a call `len(s)` for string `s` returns its length:"
      ]
    },
    {
      "metadata": {
        "id": "mS9xUWV5k7ST",
        "colab_type": "code",
        "outputId": "d3b85f3c-704e-4900-f09e-25e21590ba77",
        "colab": {
          "base_uri": "https://localhost:8080/",
          "height": 35
        }
      },
      "cell_type": "code",
      "source": [
        "colors.sort(key=len)\n",
        "colors"
      ],
      "execution_count": 0,
      "outputs": [
        {
          "output_type": "execute_result",
          "data": {
            "text/plain": [
              "['red', 'blue', 'cyan', 'green', 'yellow', 'magenta']"
            ]
          },
          "metadata": {
            "tags": []
          },
          "execution_count": 9
        }
      ]
    },
    {
      "metadata": {
        "id": "ZFCsLRhTlBmM",
        "colab_type": "code",
        "outputId": "c5c5dfa4-5068-4b0f-967a-cfcb7cc43d32",
        "colab": {
          "base_uri": "https://localhost:8080/",
          "height": 35
        }
      },
      "cell_type": "code",
      "source": [
        "sorted(colors, key=len)"
      ],
      "execution_count": 0,
      "outputs": [
        {
          "output_type": "execute_result",
          "data": {
            "text/plain": [
              "['red', 'blue', 'cyan', 'green', 'yellow', 'magenta']"
            ]
          },
          "metadata": {
            "tags": []
          },
          "execution_count": 10
        }
      ]
    },
    {
      "metadata": {
        "id": "vPagzQhalHxR",
        "colab_type": "text"
      },
      "cell_type": "markdown",
      "source": [
        "These built-in functions also support a keyword parameter, `reverse`, that can be\n",
        "set to `True` to cause the sort order to be from largest to smallest."
      ]
    },
    {
      "metadata": {
        "id": "T7OT9VunlNu6",
        "colab_type": "code",
        "outputId": "5e19f3fc-d126-4183-f62b-a43311756d94",
        "colab": {
          "base_uri": "https://localhost:8080/",
          "height": 35
        }
      },
      "cell_type": "code",
      "source": [
        "colors.sort(key=len, reverse=True)\n",
        "colors"
      ],
      "execution_count": 0,
      "outputs": [
        {
          "output_type": "execute_result",
          "data": {
            "text/plain": [
              "['magenta', 'yellow', 'green', 'blue', 'cyan', 'red']"
            ]
          },
          "metadata": {
            "tags": []
          },
          "execution_count": 11
        }
      ]
    },
    {
      "metadata": {
        "id": "mk_gNxh5lTKj",
        "colab_type": "text"
      },
      "cell_type": "markdown",
      "source": [
        "###Decorate-Sort-Undecorate Design Pattern\n",
        "1. Each element of the list is temporarily replaced with a “decorated” version\n",
        "that includes the result of the key function applied to the element.\n",
        "2. The list is sorted based upon the natural order of the keys.\n",
        "3. The decorated elements are replaced by the original elements.\n",
        "\n",
        "####Approach for implementing the decorate-sort-undecorate pattern"
      ]
    },
    {
      "metadata": {
        "id": "MkqXVEkhmDAZ",
        "colab_type": "code",
        "colab": {}
      },
      "cell_type": "code",
      "source": [
        "def decorated_merge_sort(data, key=None):\n",
        "  '''Demonstration of the decorate-sort-undecorate pattern'''\n",
        "  if key is not None:\n",
        "    for j in range(len(data)):\n",
        "      data[j] = _Item(key(data[j]), data[j]) # decorate each element\n",
        "  merge_sort(data) # sort with existing algorithm\n",
        "  if key is not None:\n",
        "    for j in range(len(data)):\n",
        "      data[j] = data[j]._value # undecorate each element"
      ],
      "execution_count": 0,
      "outputs": []
    },
    {
      "metadata": {
        "id": "irgDUMTRmkSP",
        "colab_type": "text"
      },
      "cell_type": "markdown",
      "source": [
        "#12.7 Selection\n",
        "The **selection** problem is defined as selectign the $k^{th}$ smallest element from an unsorted collection of $n$ comparable elements. This can be solved by sorting the collection and then indexed into the sorted sequence at index $k-1$. Using the best comparison-based sorting algorithm, this approach would take $O(n\\log n)$ time, which is an overkill for the cases where $k=1$ or $k=n$. Can we solve this problem in $O(n)$ time."
      ]
    },
    {
      "metadata": {
        "id": "SR7iLw8pnY0L",
        "colab_type": "text"
      },
      "cell_type": "markdown",
      "source": [
        "##12.7.1 Prune-and-Search\n",
        "The **prune-and-search** or **decrease-and-conquer** design pattern is to solve a given problem that is defined on a collection of $n$ objects by pruning away a fraction of the $n$ objects and recursively solving the smaller problem. Once the problem is reduced to one defined on a constant-sized collection of objects, the problem is solved using some brute-force method. The binary search method in Chapter 4 is an example of the prune-and-search design pattern. "
      ]
    },
    {
      "metadata": {
        "id": "3KNvMow3qN30",
        "colab_type": "text"
      },
      "cell_type": "markdown",
      "source": [
        "##12.7.2 Randomized Quick-Select\n",
        "The **randomized quick-select** runs in $O(n)$ expected time, taken over all possible random choices made by the algorithm; this expectation does not depend whatsoever on any randomness assumptions about the input distribution, though the randomized quick-select runs in $O(n^2)$ time in the worst case.\n",
        "\n",
        "Suppose an unsorted sequence $S$ of $n$ comparable elements together is given with an integer $k\\in[1,n]$. Pick a \"pivot\" element from $S$ at random and use this to subdivide $S$ into three subsequences $L$, $E$, and $G$, storing the elements of $S$ less than, equal to, and greater than the pivot, respectively. In the prune step, determine which of these subsets contains the desired eleemnt, based on the value of $k$ and the size of those subsets. Then, recur on the appropriate subset, noting that the desired element's rank in the subset may differ from its rank in the full set:"
      ]
    },
    {
      "metadata": {
        "id": "1j5VzG43ruQh",
        "colab_type": "code",
        "colab": {}
      },
      "cell_type": "code",
      "source": [
        "def quick_select(S, k):\n",
        "  '''Return the kth smallest element of list S, for k from 1 to len(S)'''\n",
        "  if len(S) == 1:\n",
        "    return S[0]\n",
        "  pivot = random.choice(S) # pick random pivot element from S\n",
        "  L = [x for x in S if x < pivot] # elements less than pivot\n",
        "  E = [x for x in S if x == pivot] # elements equal to pivot\n",
        "  G = [x for x in S if pivot < x] # elements greater than pivot\n",
        "  if k <= len(L):\n",
        "    return quick_select(L, k) # kth smallest lies in L\n",
        "  elif k <= len(L) + len(E):\n",
        "    return pivot # kth smallest equal to pivot\n",
        "  else:\n",
        "    j = k - len(L) - len(E) # new selection parameter\n",
        "    return quick_select(G, j) # kth smallest is jth in G"
      ],
      "execution_count": 0,
      "outputs": []
    },
    {
      "metadata": {
        "id": "P1jTxAOTscvx",
        "colab_type": "text"
      },
      "cell_type": "markdown",
      "source": [
        "*The expected running time of randomized quick-select on a sequence $S$ of size $n$ is $O(n)$, assuming two elements of $S$ can be compared in $O(1)$ time.*"
      ]
    }
  ]
}