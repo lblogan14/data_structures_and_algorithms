{
  "nbformat": 4,
  "nbformat_minor": 0,
  "metadata": {
    "colab": {
      "name": "ch2_oop.ipynb",
      "version": "0.3.2",
      "provenance": [],
      "collapsed_sections": [],
      "include_colab_link": true
    },
    "kernelspec": {
      "name": "python3",
      "display_name": "Python 3"
    }
  },
  "cells": [
    {
      "cell_type": "markdown",
      "metadata": {
        "id": "view-in-github",
        "colab_type": "text"
      },
      "source": [
        "<a href=\"https://colab.research.google.com/github/lblogan14/data_structures_and_algorithms/blob/master/ch2_oop.ipynb\" target=\"_parent\"><img src=\"https://colab.research.google.com/assets/colab-badge.svg\" alt=\"Open In Colab\"/></a>"
      ]
    },
    {
      "metadata": {
        "id": "JqtwttTRoYXB",
        "colab_type": "text"
      },
      "cell_type": "markdown",
      "source": [
        "#2.3 Class Definitions\n",
        "A `class` serves as the primary means for abstraction in object-oriented programming. \n",
        "\n",
        "In Python, every piece of data is represented as an instance of some class.\n",
        "A class provides a set of behaviors in the form of member functions (also known\n",
        "as methods), with implementations that are common to all instances of that class.\n",
        "A class also serves as a blueprint for its instances, effectively determining the way\n",
        "that state information for each instance is represented in the form of attributes (also\n",
        "known as fields, instance variables, or data members)."
      ]
    },
    {
      "metadata": {
        "id": "C34EiDVOopAw",
        "colab_type": "text"
      },
      "cell_type": "markdown",
      "source": [
        "##2.3.1 Example: CreditCard Class\n",
        "\n",
        "###`self` Identifier\n",
        "Syntactically, `self` identifies the instance upon which a method is invoked.\n",
        "\n",
        "For\n",
        "example, assume that a user of our class has a variable, `my card`, that identifies\n",
        "an instance of the `CreditCard` class. When the user calls `my card.get balance( )`,\n",
        "identifier `self`, within the definition of the `get balance` method, refers to the card\n",
        "known as `my card` by the caller. The expression, `self._balance` refers to an instance\n",
        "variable, named `_balance`, stored as part of that particular credit card’s state.\n",
        "\n",
        "####Code Fragments 2.1&2.2: `CreditCard` class definition"
      ]
    },
    {
      "metadata": {
        "id": "JH4O4Tcgph6M",
        "colab_type": "code",
        "colab": {}
      },
      "cell_type": "code",
      "source": [
        "class CreditCard:\n",
        "  '''A consumer credit card'''\n",
        "  \n",
        "  def __init__(self, customer, bank, acnt, limit):\n",
        "    '''\n",
        "    Create a new credit card instance.\n",
        "    \n",
        "    The initial balance is zero.\n",
        "       \n",
        "    customer  the name of the customer (e.g. 'John Bowman')\n",
        "    bank      the name of the bank (e.g. 'California Savings')\n",
        "    acnt      the account identifier (e.g. '5391 0375 9387 5309')\n",
        "    limit     credit limit (measured in dollars)\n",
        "    '''\n",
        "    self._customer = customer\n",
        "    self._bank = bank\n",
        "    self._account = acnt\n",
        "    self._limit = limit\n",
        "    self._balance = 0\n",
        "    \n",
        "  def get_customer(self):\n",
        "    '''Return name of the customer'''\n",
        "    return self._customer\n",
        "  \n",
        "  def get_bank(self):\n",
        "    '''Return the bank name '''\n",
        "    return self._bank\n",
        "  \n",
        "  def get_account(self):\n",
        "    '''Return the card identifying number\n",
        "       typically stored as a string'''\n",
        "    return self._account\n",
        "  \n",
        "  def get_limit(self):\n",
        "    '''Return current credit limit'''\n",
        "    return self._limit\n",
        "  \n",
        "  def get_balance(self):\n",
        "    '''Return current balance'''\n",
        "    return self._balance\n",
        "  \n",
        "  def charge(self, price):\n",
        "    '''\n",
        "    Charge given price to the card, assuming sufficient credit limit\n",
        "    \n",
        "    Return True if charge was processed; False if charge was denied\n",
        "    '''\n",
        "    if price + self._balance > self._limit: # if charge would exceed limit\n",
        "      return False\n",
        "    else:\n",
        "      self._balance += price\n",
        "      return True\n",
        "    \n",
        "  def make_payment(self, amount):\n",
        "    '''Process customer payment that reduces balance'''\n",
        "    self._balance -= amount"
      ],
      "execution_count": 0,
      "outputs": []
    },
    {
      "metadata": {
        "id": "VM4JxYu4rbtu",
        "colab_type": "code",
        "colab": {}
      },
      "cell_type": "code",
      "source": [
        "cc = CreditCard( 'John Doe', '1st Bank' , '5391 0375 9387 5309' , 1000)"
      ],
      "execution_count": 0,
      "outputs": []
    },
    {
      "metadata": {
        "id": "l26l7wqzrpYD",
        "colab_type": "text"
      },
      "cell_type": "markdown",
      "source": [
        "###Testing the Class\n",
        "insert three card into a list named wallet. Use loops to make some charges and payments and uses various accessors to print results to the console.\n",
        "\n",
        "These tests and enclosed within a conditional, `if __name__ == '__main__':`, so that they can be embedded in the source code with the class definition."
      ]
    },
    {
      "metadata": {
        "id": "_BoynSaMsf36",
        "colab_type": "code",
        "outputId": "1ff9beb9-0a1d-490a-d428-92814bafba9b",
        "colab": {
          "base_uri": "https://localhost:8080/",
          "height": 451
        }
      },
      "cell_type": "code",
      "source": [
        "class CreditCard:\n",
        "  '''A consumer credit card'''\n",
        "  \n",
        "  def __init__(self, customer, bank, acnt, limit):\n",
        "    '''\n",
        "    Create a new credit card instance.\n",
        "    \n",
        "    The initial balance is zero.\n",
        "       \n",
        "    customer  the name of the customer (e.g. 'John Bowman')\n",
        "    bank      the name of the bank (e.g. 'California Savings')\n",
        "    acnt      the account identifier (e.g. '5391 0375 9387 5309')\n",
        "    limit     credit limit (measured in dollars)\n",
        "    '''\n",
        "    self._customer = customer\n",
        "    self._bank = bank\n",
        "    self._account = acnt\n",
        "    self._limit = limit\n",
        "    self._balance = 0\n",
        "    \n",
        "  def get_customer(self):\n",
        "    '''Return name of the customer'''\n",
        "    return self._customer\n",
        "  \n",
        "  def get_bank(self):\n",
        "    '''Return the bank name '''\n",
        "    return self._bank\n",
        "  \n",
        "  def get_account(self):\n",
        "    '''Return the card identifying number\n",
        "       typically stored as a string'''\n",
        "    return self._account\n",
        "  \n",
        "  def get_limit(self):\n",
        "    '''Return current credit limit'''\n",
        "    return self._limit\n",
        "  \n",
        "  def get_balance(self):\n",
        "    '''Return current balance'''\n",
        "    return self._balance\n",
        "  \n",
        "  def charge(self, price):\n",
        "    '''\n",
        "    Charge given price to the card, assuming sufficient credit limit\n",
        "    \n",
        "    Return True if charge was processed; False if charge was denied\n",
        "    '''\n",
        "    if price + self._balance > self._limit: # if charge would exceed limit\n",
        "      return False\n",
        "    else:\n",
        "      self._balance += price\n",
        "      return True\n",
        "    \n",
        "  def make_payment(self, amount):\n",
        "    '''Process customer payment that reduces balance'''\n",
        "    self._balance -= amount\n",
        "    \n",
        "  \n",
        "  if __name__ == '__main__' :\n",
        "    wallet = [ ]\n",
        "    wallet.append(CreditCard('John Bowman' , 'California Savings' ,\n",
        "                             '5391 0375 9387 5309' , 2500) )\n",
        "    wallet.append(CreditCard('John Bowman' , 'California Federal' ,\n",
        "                             '3485 0399 3395 1954' , 3500) )\n",
        "    wallet.append(CreditCard('John Bowman' , 'California Finance' ,\n",
        "                             '5391 0375 9387 5309' , 5000) )\n",
        "\n",
        "    for val in range(1, 17):\n",
        "      wallet[0].charge(val)\n",
        "      wallet[1].charge(2*val)\n",
        "      wallet[2].charge(3*val)\n",
        "\n",
        "    for c in range(3):\n",
        "      print('Customer =' , wallet[c].get_customer())\n",
        "      print('Bank =' , wallet[c].get_bank())\n",
        "      print('Account =' , wallet[c].get_account())\n",
        "      print('Limit = ', wallet[c].get_limit())\n",
        "      print('Balance = ', wallet[c].get_balance())\n",
        "      while wallet[c].get_balance() > 100:\n",
        "        wallet[c].make_payment(100)\n",
        "        print('New balance =' , wallet[c].get_balance())\n",
        "      print()"
      ],
      "execution_count": 0,
      "outputs": [
        {
          "output_type": "stream",
          "text": [
            "Customer = John Bowman\n",
            "Bank = California Savings\n",
            "Account = 5391 0375 9387 5309\n",
            "Limit =  2500\n",
            "Balance =  136\n",
            "New balance = 36\n",
            "\n",
            "Customer = John Bowman\n",
            "Bank = California Federal\n",
            "Account = 3485 0399 3395 1954\n",
            "Limit =  3500\n",
            "Balance =  272\n",
            "New balance = 172\n",
            "New balance = 72\n",
            "\n",
            "Customer = John Bowman\n",
            "Bank = California Finance\n",
            "Account = 5391 0375 9387 5309\n",
            "Limit =  5000\n",
            "Balance =  408\n",
            "New balance = 308\n",
            "New balance = 208\n",
            "New balance = 108\n",
            "New balance = 8\n",
            "\n"
          ],
          "name": "stdout"
        }
      ]
    },
    {
      "metadata": {
        "id": "FZhFJYvJtuVD",
        "colab_type": "text"
      },
      "cell_type": "markdown",
      "source": [
        "Notice the difference without `if __name__ = '__main__':` conditional"
      ]
    },
    {
      "metadata": {
        "id": "Zt8Ocu6MuUMi",
        "colab_type": "text"
      },
      "cell_type": "markdown",
      "source": [
        "##2.3.2 Operator Overloading and Python's Special Methods\n",
        "**Operator overloading** is done by implementing a speically named method. The `+` operator is overloaded by implementing a method named `__add__`, which takes the right-hand operand as a parameter and which returns the result of the expression. Thus, `a + b` is converted to a method call on object `a` of the form, `a.__add(b)`.\n",
        "\n",
        "###Non-Operator Overloads\n",
        "Python relies on specially named\n",
        "methods to control the behavior of various other functionality, when applied to\n",
        "user-defined classes. \\\\\n",
        "For example, `str(foo)` is formally a call to the constructor for the string class. If the parameter is an instance of a user-defined class, the string constructor calls a specially named method, `foo.__str__()`, that must return an appropriate string representation."
      ]
    },
    {
      "metadata": {
        "id": "pOYZVZnEvkmw",
        "colab_type": "text"
      },
      "cell_type": "markdown",
      "source": [
        "##2.3.3 Example: Multidimensional Vector Class"
      ]
    },
    {
      "metadata": {
        "id": "lNKH9pqFvqPB",
        "colab_type": "code",
        "colab": {}
      },
      "cell_type": "code",
      "source": [
        "class Vector:\n",
        "  '''Represent a vector in a multidimensional space'''\n",
        "  \n",
        "  def __init__(self, d):\n",
        "    '''Create d-dimensional vector of zeros'''\n",
        "    self._coords = [0] * d\n",
        "    \n",
        "  def __len__(self):\n",
        "    '''Return the dimension of the vector'''\n",
        "    return len(self._coords)\n",
        "  \n",
        "  def __getitem__(self, j):\n",
        "    '''Return jth coordinate of vector'''\n",
        "    return self._coords[j]\n",
        "  \n",
        "  def __setitem__(self, j, val):\n",
        "    '''Set jth coordinate of vector to given value'''\n",
        "    self._coords[j] = val\n",
        "    \n",
        "  def __add__(self, other):\n",
        "    '''Return sum of two vectors'''\n",
        "    if len(self) != len(other): #relies on __len__ method\n",
        "      raise ValueError('dimensions must agree')\n",
        "    result = Vector(len(self)) # start with vector of zeros\n",
        "    for j in range(len(self)):\n",
        "      result[j] = self[j] + other[j]\n",
        "    return result\n",
        "  \n",
        "  def __eq__(self, other):\n",
        "    '''Return True if vector has same coordinates as other'''\n",
        "    return self._coords == other._coords\n",
        "  \n",
        "  def __ne__(self, other):\n",
        "    '''Return True if vector differs from other'''\n",
        "    return not self == other # rely on existing __eq__ definition\n",
        "  \n",
        "  def __str__(self):\n",
        "    '''Produce string representation of vector'''\n",
        "    return '<' + str(self._coords)[1:-1] + '>' # adapt list representation"
      ],
      "execution_count": 0,
      "outputs": []
    },
    {
      "metadata": {
        "id": "K_OtYpbzyfKu",
        "colab_type": "code",
        "colab": {}
      },
      "cell_type": "code",
      "source": [
        "v = Vector(5) # construct five-dimensional <0, 0, 0, 0, 0>"
      ],
      "execution_count": 0,
      "outputs": []
    },
    {
      "metadata": {
        "id": "u9csMLyxyw_b",
        "colab_type": "code",
        "outputId": "a3b1ae37-eb79-4602-a8d7-e3c1f8566e07",
        "colab": {
          "base_uri": "https://localhost:8080/",
          "height": 35
        }
      },
      "cell_type": "code",
      "source": [
        "print(v)"
      ],
      "execution_count": 0,
      "outputs": [
        {
          "output_type": "stream",
          "text": [
            "<0, 0, 0, 0, 0>\n"
          ],
          "name": "stdout"
        }
      ]
    },
    {
      "metadata": {
        "id": "TAKyy_q2zLi_",
        "colab_type": "code",
        "colab": {}
      },
      "cell_type": "code",
      "source": [
        "v[1] = 23 # <0, 23, 0, 0, 0> (based on use of setitem )"
      ],
      "execution_count": 0,
      "outputs": []
    },
    {
      "metadata": {
        "id": "WWLJgkl6zOTT",
        "colab_type": "code",
        "outputId": "3558aea2-53d5-4fbc-ac2d-efac39885bac",
        "colab": {
          "base_uri": "https://localhost:8080/",
          "height": 131
        }
      },
      "cell_type": "code",
      "source": [
        "v[−1] = 45 # <0, 23, 0, 0, 45> (also via setitem )"
      ],
      "execution_count": 0,
      "outputs": [
        {
          "output_type": "error",
          "ename": "SyntaxError",
          "evalue": "ignored",
          "traceback": [
            "\u001b[0;36m  File \u001b[0;32m\"<ipython-input-24-3d8eac4cd0aa>\"\u001b[0;36m, line \u001b[0;32m1\u001b[0m\n\u001b[0;31m    v[−1] = 45 # <0, 23, 0, 0, 45> (also via setitem )\u001b[0m\n\u001b[0m       ^\u001b[0m\n\u001b[0;31mSyntaxError\u001b[0m\u001b[0;31m:\u001b[0m invalid character in identifier\n"
          ]
        }
      ]
    },
    {
      "metadata": {
        "id": "UiXHLMKnzbyt",
        "colab_type": "text"
      },
      "cell_type": "markdown",
      "source": [
        "Error occured because we didn't implement `__setitem()` for negative index case."
      ]
    },
    {
      "metadata": {
        "id": "Z7UmjZ66zl68",
        "colab_type": "text"
      },
      "cell_type": "markdown",
      "source": [
        "##2.3.4 Iterators\n",
        "supports a special method named **`__next__`** that returns the next element of the collection, if any, or raises a `StopIteration` exception to indicate that there are no further elements.\n",
        "\n",
        "The preferred approach is the use of the **generator** syntax which automatically produces an iterator of yielded values.\n",
        "\n",
        "Python also helps by providing an automatic iterator implementation for any\n",
        "class that defines both `__len__` and `__getitem__`.\n",
        "\n",
        "Each time `__next__` is called, the index is incremented, until reaching the end of the sequence.\n",
        "\n",
        "####Iterator class for any sequence type"
      ]
    },
    {
      "metadata": {
        "id": "r5yfyJmH0cxI",
        "colab_type": "code",
        "colab": {}
      },
      "cell_type": "code",
      "source": [
        "class SequenceIterator:\n",
        "  '''An iterator for any of Python sequence types'''\n",
        "  \n",
        "  def __init__(self, sequence):\n",
        "    '''Create an iterator for the given sequence'''\n",
        "    self._seq = sequence # keep a reference to the underlying data\n",
        "    self._k = -1 # will increment to 0 on first call to next\n",
        "    \n",
        "  def __next__(self):\n",
        "    '''Return the next element, or else raise StopIteration error'''\n",
        "    self._k += 1 # advance to next index\n",
        "    if self._k < len(self._seq):\n",
        "      return self._seq[self._k] # return the data element\n",
        "    else:\n",
        "      raise StopIteration() # there are no more elements\n",
        "      \n",
        "  def __iter__(self):\n",
        "    '''By convention, an iterator must return itself as an iterator'''\n",
        "    return self"
      ],
      "execution_count": 0,
      "outputs": []
    },
    {
      "metadata": {
        "id": "gK-lUvcv1yEM",
        "colab_type": "code",
        "outputId": "49cab6a2-c177-4ea1-fbc9-afc28d757517",
        "colab": {
          "base_uri": "https://localhost:8080/",
          "height": 104
        }
      },
      "cell_type": "code",
      "source": [
        "seq = SequenceIterator([1,3,5,7,9])\n",
        "for entry in seq:\n",
        "  print(entry)"
      ],
      "execution_count": 0,
      "outputs": [
        {
          "output_type": "stream",
          "text": [
            "1\n",
            "3\n",
            "5\n",
            "7\n",
            "9\n"
          ],
          "name": "stdout"
        }
      ]
    },
    {
      "metadata": {
        "id": "SWRziftg2Cl6",
        "colab_type": "text"
      },
      "cell_type": "markdown",
      "source": [
        "##2.4.5 Example: Range Class\n",
        "Python 3 uses **lazy evaluation**: rather than creating a new list instance, `range` is a class that can effectively represent the desired range of elements without ever storing them explicityly in memory."
      ]
    },
    {
      "metadata": {
        "id": "9G9gFJwi9MGl",
        "colab_type": "code",
        "colab": {}
      },
      "cell_type": "code",
      "source": [
        "class Range:\n",
        "  '''A class that mimic the built-in range class'''\n",
        "  \n",
        "  def __init__(self, start, stop=None, step=1):\n",
        "    '''\n",
        "    Initialize a Range instance\n",
        "    \n",
        "    Semantics is similar to built-in range class\n",
        "    '''\n",
        "    if step == 0:\n",
        "      raise ValueError('step cannot be 0')\n",
        "      \n",
        "    if stop is None: # special case of range(n)\n",
        "      start, stop = 0, start # should be treated as if range(0,n)\n",
        "      \n",
        "    #calculate the effective length once\n",
        "    self._length = max(0, (stop - start + step -1) // step)\n",
        "    \n",
        "    #need knowledge of start and step (but not stop) to support __getitem__\n",
        "    self._start = start\n",
        "    self._step = step\n",
        "    \n",
        "  def __len__(self):\n",
        "    '''Return number of entries in the range'''\n",
        "    return self._length\n",
        "  \n",
        "  def __getitem__(self, k):\n",
        "    '''Return entry at index k (using standard interpretation if negative)'''\n",
        "    if k < 0:\n",
        "      k += len(self) # attempt to convert negative index\n",
        "      \n",
        "    if not 0 <= k < self._length:\n",
        "      raise IndexError('index out of range')\n",
        "      \n",
        "    return self._start + k * self._step"
      ],
      "execution_count": 0,
      "outputs": []
    },
    {
      "metadata": {
        "id": "n4bZLpr2SEIs",
        "colab_type": "code",
        "outputId": "350206cd-9dc2-4e4b-c9bf-57443ff3c4ec",
        "colab": {
          "base_uri": "https://localhost:8080/",
          "height": 139
        }
      },
      "cell_type": "code",
      "source": [
        "r = Range(7)\n",
        "for entry in r:\n",
        "  print(entry)"
      ],
      "execution_count": 0,
      "outputs": [
        {
          "output_type": "stream",
          "text": [
            "0\n",
            "1\n",
            "2\n",
            "3\n",
            "4\n",
            "5\n",
            "6\n"
          ],
          "name": "stdout"
        }
      ]
    },
    {
      "metadata": {
        "id": "vlpAyW4FSPzq",
        "colab_type": "text"
      },
      "cell_type": "markdown",
      "source": [
        "#2.4 Inheritance\n",
        "In object-oriented programming, the mechanism for a modular and hierarchical organization is a technique known as **inheritance**. \\\\\n",
        "The inheritance allows a new class to be defined based upon an existing class as the starting point. The existing class is described as the *base class*, *parent class*, or *super-class*; the newly defined class is known as the *sub-class* or *child class*.\n",
        "\n",
        "The sub-class may specialize an exisiting behavior by providing a new implementation that overrides an existing method. \\\\\n",
        "The sub-class may also extend its superclass by providing brand new methods."
      ]
    },
    {
      "metadata": {
        "id": "ILf65fygToN9",
        "colab_type": "text"
      },
      "cell_type": "markdown",
      "source": [
        "##2.4.1 Extending the `CreditCard` Class\n",
        "The new class, `PredatoryCreditCard`, will differ from the orginal: \n",
        "1. a $5 fee will be charged if an attemted charge is rejected because it would have exceeded the credit limit. (*override* the existing `charge` method)\n",
        "2. a monthly interest charge is assessed on the outstanding balance based upon an Annual Perecntage Rate specified as a constructor parameter. (*extend* the class with a new method name `process_month`)\n",
        "\n",
        "To indicate that thew new class inherits from the existing `CreditCard` class, use the syntax `class PredatoryCreditCard(CreditCard)`."
      ]
    },
    {
      "metadata": {
        "id": "-iJCoqMDVS75",
        "colab_type": "code",
        "colab": {}
      },
      "cell_type": "code",
      "source": [
        "class PredatoryCreditCard(CreditCard):\n",
        "  '''An extension to Creditcard that compounds interest and fees'''\n",
        "  \n",
        "  def __init__(self, customer, bank, acnt, limit, apr):\n",
        "    '''\n",
        "    Create a new predatory credit card instance\n",
        "    \n",
        "    The initial balance is zero\n",
        "    \n",
        "    customer  the name of customer (e.g. 'John Bowman')\n",
        "    bank      the name of bank (e.g. 'California Savings')\n",
        "    acnt      the account identifier (e.g. '5391 0375 9387 5309')\n",
        "    limit     credit limit (measured in dollars)\n",
        "    apr       annual percentage rate (e.g. 0.0825 or 8.25% APR)\n",
        "    '''\n",
        "    super().__init__(customer, bank, acnt, limit) # call super constructor\n",
        "    self._apr = apr\n",
        "    \n",
        "  def charge(self, price):\n",
        "    '''\n",
        "    Charge given price to the card, assuming sufficient credit limit\n",
        "    \n",
        "    Return True if charge was processed\n",
        "    Return False and assess $5 fee if charge is denied\n",
        "    '''\n",
        "    success = super().charge(price) # call inherited method\n",
        "    if not success:\n",
        "      self._balance += 5 # assess penalty\n",
        "    return success # caller expectes return value\n",
        "  \n",
        "  def process_month(self):\n",
        "    '''Assess monthly interest on outstanding balance'''\n",
        "    if self._balance > 0:\n",
        "      # if positive balance, convert APR to monthly multiplicative factor\n",
        "      monthly_factor = pow(1 + self._apr, 1/12)\n",
        "      self._balance *= monthly_factor"
      ],
      "execution_count": 0,
      "outputs": []
    },
    {
      "metadata": {
        "id": "ETEfm67JXDMb",
        "colab_type": "text"
      },
      "cell_type": "markdown",
      "source": [
        "Note how the `super().__init__(customer, bank, acnt, limit)` and `super().charge(price)` are inherited from the `CreditCard` superclass."
      ]
    },
    {
      "metadata": {
        "id": "oM5PTReRXktw",
        "colab_type": "text"
      },
      "cell_type": "markdown",
      "source": [
        "Python does not support formal access control, but names beginning with a single\n",
        "underscore are conventionally akin to protected, while names beginning with a\n",
        "double underscore (other than special methods) are akin to private."
      ]
    },
    {
      "metadata": {
        "id": "BKZRqaBWdB5a",
        "colab_type": "text"
      },
      "cell_type": "markdown",
      "source": [
        "##2.4.2 Hierachy of Numeric Progressions\n",
        "A numeric progression is a sequence of numbers, where each number depends on one or more of the previous numbers. \n",
        "\n",
        "The base class is `Progression` and implements the conventions of a Python iterator."
      ]
    },
    {
      "metadata": {
        "id": "ZNvGP7yjgl8_",
        "colab_type": "code",
        "colab": {}
      },
      "cell_type": "code",
      "source": [
        "class Progression:\n",
        "  '''\n",
        "  Iterator producing a generic progression.\n",
        "  \n",
        "  Default iterator produces the whole number 0, 1, 2, ...\n",
        "  '''\n",
        "  \n",
        "  def __init__(self, start=0):\n",
        "    '''Initialize current to the first value of the progression'''\n",
        "    self._current = start\n",
        "    \n",
        "  def _advance(self):\n",
        "    '''\n",
        "    Update self._current to a new value\n",
        "    \n",
        "    This should be overridden by a subclass to cutomize progression.\n",
        "    \n",
        "    By convention, if current is set to None, this designates the end of a finite progression\n",
        "    '''\n",
        "    self._current += 1\n",
        "    \n",
        "  def __next__(self):\n",
        "    '''Return the next element, or else raise StopIteration error'''\n",
        "    if self._current is None: # convention to end a progression\n",
        "      raise StopIteration()\n",
        "    else:\n",
        "      answer = self._current # record current value to return\n",
        "      self._advance() # advance to prepare for next time\n",
        "      return answer # return the answer\n",
        "    \n",
        "  def __iter__(self):\n",
        "    '''By convention, an iterator must return itself as an iterator'''\n",
        "    return self\n",
        "  \n",
        "  def print_progression(self, n):\n",
        "    '''Print next n values of the progression'''\n",
        "    print(' '.join(str(next(self)) for j in range(n) ))"
      ],
      "execution_count": 0,
      "outputs": []
    },
    {
      "metadata": {
        "id": "svZWEghviKD-",
        "colab_type": "code",
        "colab": {}
      },
      "cell_type": "code",
      "source": [
        "prog = Progression()"
      ],
      "execution_count": 0,
      "outputs": []
    },
    {
      "metadata": {
        "id": "yRYQD07HiTV_",
        "colab_type": "code",
        "outputId": "e80b9502-d8d9-4ece-ebaa-d2e1a0d7ce21",
        "colab": {
          "base_uri": "https://localhost:8080/",
          "height": 52
        }
      },
      "cell_type": "code",
      "source": [
        "prog.print_progression(5)\n",
        "prog._advance()\n",
        "prog.print_progression(5)"
      ],
      "execution_count": 0,
      "outputs": [
        {
          "output_type": "stream",
          "text": [
            "0 1 2 3 4\n",
            "6 7 8 9 10\n"
          ],
          "name": "stdout"
        }
      ]
    },
    {
      "metadata": {
        "id": "3mtw716Ritkp",
        "colab_type": "text"
      },
      "cell_type": "markdown",
      "source": [
        "###Arithmetic Progression Class\n",
        "An arithmetic progression adds a fixed constant to one term of the progression to produce the next."
      ]
    },
    {
      "metadata": {
        "id": "8FysYeCbi6kC",
        "colab_type": "code",
        "colab": {}
      },
      "cell_type": "code",
      "source": [
        "class ArithmeticProgression(Progression): # inherit from Progression\n",
        "  '''Iterator producing an arithmetic progression'''\n",
        "  \n",
        "  def __init__(self, increment=1, start=0):\n",
        "    '''\n",
        "    Create a new arithmetic progression\n",
        "    \n",
        "    increment   the fixed constant to add to each term (default 1)\n",
        "    start       the first term of the progression (default 0)\n",
        "    '''\n",
        "    super().__init__(start) # initialize base class\n",
        "    self._increment = increment\n",
        "    \n",
        "  def _advance(self): # override inherited version\n",
        "    '''Update current value by adding the fixed increment'''\n",
        "    self._current += self._increment"
      ],
      "execution_count": 0,
      "outputs": []
    },
    {
      "metadata": {
        "id": "smb4ymdSjiMz",
        "colab_type": "code",
        "outputId": "3dc55798-4c54-4691-8c86-28766122df91",
        "colab": {
          "base_uri": "https://localhost:8080/",
          "height": 35
        }
      },
      "cell_type": "code",
      "source": [
        "arith_prog = ArithmeticProgression(increment=4, start=0)\n",
        "arith_prog.print_progression(5)"
      ],
      "execution_count": 0,
      "outputs": [
        {
          "output_type": "stream",
          "text": [
            "0 4 8 12 16\n"
          ],
          "name": "stdout"
        }
      ]
    },
    {
      "metadata": {
        "id": "CLp8bq-cjxNL",
        "colab_type": "text"
      },
      "cell_type": "markdown",
      "source": [
        "###Geometric Progression Class\n",
        "In geometric progression, each value is produced by multiplying the preceding value by a fixed constant, known as the base of the geometric progression. The starting point of a geometric progression is traditionally 1, rather than 0."
      ]
    },
    {
      "metadata": {
        "id": "bPX4R1b9kGxn",
        "colab_type": "code",
        "colab": {}
      },
      "cell_type": "code",
      "source": [
        "class GeometricProgression(Progression): # inherit from Progression\n",
        "  '''Iterator producing a geometric progression'''\n",
        "  \n",
        "  def __init__(self, base=2, start=1):\n",
        "    '''\n",
        "    Create a new geometric progression\n",
        "    \n",
        "    base   the fixed constant multiplied to each term (default 2)\n",
        "    start  the first term of the progression (default 1)\n",
        "    '''\n",
        "    super().__init__(start)\n",
        "    self._base = base\n",
        "    \n",
        "  def _advance(self): #override inherited version\n",
        "    '''Update current value by multiplying it by the base value'''\n",
        "    self._current *= self._base"
      ],
      "execution_count": 0,
      "outputs": []
    },
    {
      "metadata": {
        "id": "-coqRgvJktw8",
        "colab_type": "code",
        "outputId": "50a4a6dd-b7ff-421d-9621-fe9bf56df777",
        "colab": {
          "base_uri": "https://localhost:8080/",
          "height": 35
        }
      },
      "cell_type": "code",
      "source": [
        "geo_prog = GeometricProgression(base=4, start=1)\n",
        "geo_prog.print_progression(5)"
      ],
      "execution_count": 0,
      "outputs": [
        {
          "output_type": "stream",
          "text": [
            "1 4 16 64 256\n"
          ],
          "name": "stdout"
        }
      ]
    },
    {
      "metadata": {
        "id": "37mQ-E5Vk1lD",
        "colab_type": "text"
      },
      "cell_type": "markdown",
      "source": [
        "###Fibonacci Progression Class\n",
        "Each value of a Fibonacci series is the sum of the two most recent values."
      ]
    },
    {
      "metadata": {
        "id": "XxOWXQx2lAi3",
        "colab_type": "code",
        "colab": {}
      },
      "cell_type": "code",
      "source": [
        "class FibonacciProgression(Progression):\n",
        "  '''Iterator producing a generalized Fibonacci progression'''\n",
        "  \n",
        "  def __init__(self, first=0, second=1):\n",
        "    '''\n",
        "    Create a new Fibonacci progression\n",
        "    \n",
        "    first     the first term of the progression (default 0)\n",
        "    second    the second term of the progression (default 1)\n",
        "    '''\n",
        "    super().__init__(first) # start progression at first: self._current = first\n",
        "    self._prev = second - first # fictitious value preceding the first\n",
        "    \n",
        "  def _advance(self):\n",
        "    '''Update current value by taking sum of previous two'''\n",
        "    self._prev, self._current = self._current, self._prev + self._current\n",
        "    #simultanous assignment"
      ],
      "execution_count": 0,
      "outputs": []
    },
    {
      "metadata": {
        "id": "ngibXFgOlz62",
        "colab_type": "code",
        "outputId": "06f37131-b1b5-4c2e-a8c9-de7a2d4b1fe2",
        "colab": {
          "base_uri": "https://localhost:8080/",
          "height": 35
        }
      },
      "cell_type": "code",
      "source": [
        "f_prog = FibonacciProgression()\n",
        "f_prog.print_progression(9)"
      ],
      "execution_count": 0,
      "outputs": [
        {
          "output_type": "stream",
          "text": [
            "0 1 1 2 3 5 8 13 21\n"
          ],
          "name": "stdout"
        }
      ]
    },
    {
      "metadata": {
        "id": "R1cqRVEUqgzu",
        "colab_type": "text"
      },
      "cell_type": "markdown",
      "source": [
        "##2.4.3 Abstract Base Classes\n",
        "The purpose of the abstract base class is to serve as a base through inheritance.\n",
        "\n",
        "An abstract base class is one that cannot be directly instantiated, while a *concrete class* is one that can be instantiated.\n",
        "\n",
        "Python's `collections` module provides several abstract base classes that assist when defining custom data structures that share a common interface with some of Python's built-in data structures. These rely on an object-oriented software design\n",
        "pattern known as the template method pattern. The **template method pattern** is\n",
        "when an abstract base class provides concrete behaviors that rely upon calls to\n",
        "other abstract behaviors.\n",
        "\n",
        "For example, the `collections.Sequence` abstract base class defines behaviors common to Python's `list`, `str`, and `tuple` classes, as sequences that support element access via an integer index. More so, the `collections.Sequence` class\n",
        "provides concrete implementations of methods, `count`, `index`, and `__contains__`\n",
        "that can be inherited by any class that provides concrete implementations of both\n",
        "`__len__` and `__getitem__` ."
      ]
    },
    {
      "metadata": {
        "id": "sy9T_FRrrwpn",
        "colab_type": "code",
        "colab": {}
      },
      "cell_type": "code",
      "source": [
        "from abc import ABCMeta, abstractmethod # need these definitions\n",
        "\n",
        "class Sequence(metaclass=ABCMeta):\n",
        "  '''Our own version of collections.Sequence abstract base class'''\n",
        "  \n",
        "  @abstractmethod\n",
        "  def __len__(self):\n",
        "    '''Return the length of the sequence'''\n",
        "    \n",
        "  @abstractmethod\n",
        "  def __getitem(self, j):\n",
        "    '''Return the element at index j of the sequence'''\n",
        "    \n",
        "  def __contains__(self, val):\n",
        "    '''Return True if val found in the sequence; False otherwise'''\n",
        "    for j in range(len(self)):\n",
        "      if self[j] == val: # found match\n",
        "        return True\n",
        "    return False\n",
        "  \n",
        "  def index(self, val):\n",
        "    '''Return leftmost index at which val is found (or raise ValueError)'''\n",
        "    for j in range(len(self)):\n",
        "      if self[j] == val: # leftmost match\n",
        "        return j\n",
        "    raise ValueError('value not in sequence') # never found a match\n",
        "    \n",
        "  def count(self, val):\n",
        "    '''Return the number of elements equal to given value'''\n",
        "    k = 0\n",
        "    for j in range(len(self)):\n",
        "      if self[j] == val: # found a match\n",
        "        k += 1\n",
        "    return k"
      ],
      "execution_count": 0,
      "outputs": []
    },
    {
      "metadata": {
        "id": "YSlBh4L0tBNm",
        "colab_type": "text"
      },
      "cell_type": "markdown",
      "source": [
        "1. The `ABCMeta` class of the `abc` module is declared as a **metaclass** of the `Sequence` class. A metaclass is different from a superclass, in that it provides a template for the class definition itself. The `ABCMeta` declaration assures that the constructor for the class raises an error.\n",
        "2. The `@abstractmethod` decorator is used before the `__len__` and the `__getitem__` methods are declared. That `@abstractmethod` declares these two methods to be abstract, meaning that we do not provide an implementation within the `Sequence` base class, but that we expect any concrete subclasses to support those two methods."
      ]
    },
    {
      "metadata": {
        "id": "w_xkVxDeuSoC",
        "colab_type": "text"
      },
      "cell_type": "markdown",
      "source": [
        "For example, the `Range` class is an example of a class that supports the `__len__` and `__getitem` methods. But that class does not support methods `count` or `index`. If we had originally declared it with `Sequence` as a superclass, then it would also inherit the `count` and `index` methods. Thus, the syntax for such a declaration would be as: \\\\\n",
        "`class Range(collections.Sequence):`"
      ]
    },
    {
      "metadata": {
        "id": "XWUL9I2-vJdB",
        "colab_type": "text"
      },
      "cell_type": "markdown",
      "source": [
        "#2.5 Namespaces and Object-Orientation\n",
        "A **namespace** is an abstraction that manages all of the identifiers that are defined in a particular scope, mapping each name to its associtaed value."
      ]
    },
    {
      "metadata": {
        "id": "i3hOZ6FU07nO",
        "colab_type": "text"
      },
      "cell_type": "markdown",
      "source": [
        "##2.5.1 Instance and Class Namespaces\n",
        "**Instance namespace** manages attributes specific to an individual object. For example: Each instance of `CreditCard` class maintins a distinct balance, a distinct account number, a distinct credit limit, and so on. Each credit card will have a dedicated instance namespace to manage such values.\n",
        "\n",
        "**Class namespace** manages members that are to be shared by all instances of a class or used without reference to any particular instance. For example: the `make_payment` method of the `CreditCard` class is not stored independently by each instance of that class, but that member function is stored within the namespace of the `CreditCard` class.\n",
        "\n",
        "###Class Data Members\n",
        "A class-level data member is used when there is some value, such as a constant, that is to be shared by all instances of a class. For example: a $5 fee in the `PredatoryCreditCard` class:"
      ]
    },
    {
      "metadata": {
        "id": "n5mjFRdY2wpG",
        "colab_type": "code",
        "colab": {}
      },
      "cell_type": "code",
      "source": [
        "class PredatoryCreditCard(CreditCard):\n",
        "  OVERLIMIT_FEE = 5 # this is a class-level member\n",
        "  \n",
        "  def charge(self, price):\n",
        "    success = super().charge(price)\n",
        "    if not success:\n",
        "      self._balance += PredatoryCreditCard.OVERLIMIT_FEE\n",
        "    return success"
      ],
      "execution_count": 0,
      "outputs": []
    },
    {
      "metadata": {
        "id": "6ZY1PkRw3W7F",
        "colab_type": "text"
      },
      "cell_type": "markdown",
      "source": [
        "The data member, `OVERLIMIT FEE`, is entered into the `PredatoryCreditCard`\n",
        "class namespace because that assignment takes place within the immediate scope\n",
        "of the class definition, and without any qualifying identifier"
      ]
    },
    {
      "metadata": {
        "id": "AwMtbzFd3a_D",
        "colab_type": "text"
      },
      "cell_type": "markdown",
      "source": [
        "###Nested Classes\n",
        "`class A:     # the outer class` \\\\\n",
        "$\\quad$ `class B:  # the nested class`\n",
        "\n",
        "Nesting one class in the scope of another makes clear that the nested class\n",
        "exists for support of the outer class"
      ]
    },
    {
      "metadata": {
        "id": "Jr1fI3Gn3uJl",
        "colab_type": "text"
      },
      "cell_type": "markdown",
      "source": [
        "###Dictionaries and the `__slots__` Declaration\n",
        "Python provides a more direct mechanism for representing instance namespaces\n",
        "that avoids the use of an auxiliary dictionary.\n",
        "\n",
        "To use this, the class definition must provide a class-level member named `__slots__` that is assigned to a fixed sequence of strings that serve as names for instance variables.\n",
        "\n",
        "For example, with the `CreditCard` class:"
      ]
    },
    {
      "metadata": {
        "id": "OdjZGsmQ4Ju8",
        "colab_type": "code",
        "colab": {}
      },
      "cell_type": "code",
      "source": [
        "class CreditCard:\n",
        "  __slots__ = '_customer', '_bank', '_account', '_balance', '_limit'"
      ],
      "execution_count": 0,
      "outputs": []
    },
    {
      "metadata": {
        "id": "VNPIZSHG4Tg0",
        "colab_type": "text"
      },
      "cell_type": "markdown",
      "source": [
        "This assignment is a tuple. Therefore, when inheritance is used, if the base class declared `__slots__`, a subclass must also declare `__slots__` to avoid creation of instance dictionaries. The declaration in the subclass should only include names of *supplemental* methods that are newly introduced.\n",
        "\n",
        "For example, with the `PredatoryCreditCard` class:"
      ]
    },
    {
      "metadata": {
        "id": "6yvTB_2h4yVc",
        "colab_type": "code",
        "colab": {}
      },
      "cell_type": "code",
      "source": [
        "class PredatoryCreditCard(CreditCard):\n",
        "  __slots__ = '_apr' # in addition to the inherited members"
      ],
      "execution_count": 0,
      "outputs": []
    }
  ]
}