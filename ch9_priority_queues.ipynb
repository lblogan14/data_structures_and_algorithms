{
  "nbformat": 4,
  "nbformat_minor": 0,
  "metadata": {
    "colab": {
      "name": "ch9_priority_queues.ipynb",
      "version": "0.3.2",
      "provenance": [],
      "collapsed_sections": [],
      "include_colab_link": true
    },
    "kernelspec": {
      "name": "python3",
      "display_name": "Python 3"
    }
  },
  "cells": [
    {
      "cell_type": "markdown",
      "metadata": {
        "id": "view-in-github",
        "colab_type": "text"
      },
      "source": [
        "<a href=\"https://colab.research.google.com/github/lblogan14/data_structures_and_algorithms/blob/master/ch9_priority_queues.ipynb\" target=\"_parent\"><img src=\"https://colab.research.google.com/assets/colab-badge.svg\" alt=\"Open In Colab\"/></a>"
      ]
    },
    {
      "metadata": {
        "id": "nzZ4iFzEMZ6I",
        "colab_type": "text"
      },
      "cell_type": "markdown",
      "source": [
        "#9.1 The Priority Queue Abstract Data Type"
      ]
    },
    {
      "metadata": {
        "id": "0tG0268WMdY5",
        "colab_type": "text"
      },
      "cell_type": "markdown",
      "source": [
        "##9.1.1 Priorities\n",
        "**Priority queue** is a collection of prioritized elements that allows arbitray element insertion, and allows the removal of the element that has first priority. When an element is\n",
        "added to a priority queue, the user designates its priority by providing an associated\n",
        "**key**. The element with the minimum key will be the next to be removed from the\n",
        "queue.\n",
        "\n",
        "##9.1.2 Priority Queue ADT\n",
        "The priority queue ADT, `P,` is defined to support the following methods:\n",
        "* `P.add(k, v)`: Insert an item with key `k` and value `v` into priority queue `P`.\n",
        "* `P.min()`: Return a tuple, `(k,v)`, representing the key and value of an\n",
        "item in priority queue `P` with minimum key (but do not remove\n",
        "the item); an error occurs if the priority queue is empty.\n",
        "* `P.remove_min()`: Remove an item with minimum key from priority queue P,\n",
        "and return a tuple, `(k,v)`, representing the key and value of the\n",
        "removed item; an error occurs if the priority queue is empty.\n",
        "* `P.is_empty()`: Return True if priority queue `P` does not contain any items.\n",
        "* `len(P)`: Return the number of items in priority queue `P`."
      ]
    },
    {
      "metadata": {
        "id": "AjHlTUAcOm4C",
        "colab_type": "text"
      },
      "cell_type": "markdown",
      "source": [
        "#9.2 Implementing a Priority Queue\n",
        "Implement a priority queue by sotring its elements in a positional list $L$"
      ]
    },
    {
      "metadata": {
        "id": "RCXqnMOmOxQX",
        "colab_type": "text"
      },
      "cell_type": "markdown",
      "source": [
        "##9.2.1 The Composition Design Pattern\n",
        "For priority queues, the **composition design pattern** is applied to store items internally as pairs comsisting of a key $k$ and a value $v$. The `PriorityQueueBase` class is privoded to implement this concept for all priority queue implementations. This base class includes a definition for a nested `_Item` class."
      ]
    },
    {
      "metadata": {
        "id": "D5eCgLF4Ph-o",
        "colab_type": "code",
        "colab": {}
      },
      "cell_type": "code",
      "source": [
        "class PriorityQueueBase:\n",
        "  '''Abstract base class for a priority queue'''\n",
        "  \n",
        "  class _Item:\n",
        "    '''Lightweight composite to store priority queue items'''\n",
        "    __slots__ = '_key', '_value'\n",
        "    \n",
        "    def __init__(self, k, v):\n",
        "      self._key = k\n",
        "      self._value = v\n",
        "      \n",
        "    def __It__(self, other):\n",
        "      return self._key < other._key # compare items based on their keys\n",
        "    \n",
        "  def is_empty(self): # concrete method assuming abstract len\n",
        "    '''Return True if the priority queue is empty'''\n",
        "    return len(self) == 0"
      ],
      "execution_count": 0,
      "outputs": []
    },
    {
      "metadata": {
        "id": "mKKCdQ0_QGju",
        "colab_type": "text"
      },
      "cell_type": "markdown",
      "source": [
        "##9.2.2 Implementation with an Unsorted List"
      ]
    },
    {
      "metadata": {
        "id": "NL5qWkbZQWCW",
        "colab_type": "code",
        "colab": {}
      },
      "cell_type": "code",
      "source": [
        "class UnsortedPriorityQueue(PriorityQueueBase): # base class defines _Item\n",
        "  '''A min-oriented priority queue implemented with an unsorted list'''\n",
        "  \n",
        "  def _find_min(self): # nonpublic utility\n",
        "    '''Return Position of item with minimum key'''\n",
        "    if self.is_empty(): # is_empty inherited from base class\n",
        "      raise Empty('Priority queue is empty')\n",
        "    small = self._data.first()\n",
        "    walk = self._data.after(small)\n",
        "    while walk is not None:\n",
        "      if walk.element() < small.element():\n",
        "        small = walk\n",
        "      walk = self._data.after(walk)\n",
        "    return small\n",
        "  \n",
        "  def __init__(self):\n",
        "    '''Create a new empty Priority Queue'''\n",
        "    self._data = PositionalList()\n",
        "    \n",
        "  def __len__(self):\n",
        "    '''Return the number if items in the priority queue'''\n",
        "    return len(self._data)\n",
        "  \n",
        "  def add(self, key, value):\n",
        "    '''Add a key-value pair'''\n",
        "    self._data.add_last(self.Item(key, value))\n",
        "    \n",
        "  def min(self):\n",
        "    '''Return but do not remove (k,v) tuple with minimum key'''\n",
        "    p = self._find_min()\n",
        "    item = p.element()\n",
        "    return (item._key, item._value)\n",
        "  \n",
        "  def remove_min(self):\n",
        "    '''Remove and return (k,v) tuple with minimum key'''\n",
        "    p = self._find_min()\n",
        "    item = self._data.delete(p)\n",
        "    return (item._key, item._value)"
      ],
      "execution_count": 0,
      "outputs": []
    },
    {
      "metadata": {
        "id": "F3AuD_aMS_28",
        "colab_type": "text"
      },
      "cell_type": "markdown",
      "source": [
        "The `UnsortedPriorityQueue` class inherits from the `PriorityQueueBase` class. The key-value pairs are presented as composites, using instances of the inherited `_Item` class. These items are stored within a `PositionalList` class, identified as the `_data` member. The positional list here is assumed to be implemented with a doubly-linked list."
      ]
    },
    {
      "metadata": {
        "id": "RwSb3ACsTqix",
        "colab_type": "text"
      },
      "cell_type": "markdown",
      "source": [
        "##9.2.3 Implementation with a Sorted List\n",
        "maintains entries sorted by nondecreasing keys. This ensures that the first element of the list is an entry with the smallest key."
      ]
    },
    {
      "metadata": {
        "id": "qxuBpPq2VW6-",
        "colab_type": "code",
        "colab": {}
      },
      "cell_type": "code",
      "source": [
        "class SortedPriorityQueue(PriorityQueueBase): # base class defines _Item\n",
        "  '''A min-oriented priority queue implemented with a sorted list'''\n",
        "  \n",
        "  def __init__(self):\n",
        "    '''Create a new empty Priority Queue'''\n",
        "    self._data = PositionalList()\n",
        "    \n",
        "  def __len__(self):\n",
        "    '''Return the number of items in the priority queue'''\n",
        "    return len(self._data)\n",
        "  \n",
        "  def add(self, key, value):\n",
        "    '''Add a key-value pair'''\n",
        "    newest = self._Item(key, value) # make new item instance\n",
        "    walk = self._data.last() # walk backward looking for smaller key\n",
        "    while walk is not None and newest < walk.element():\n",
        "      walk = self._data.before(walk)\n",
        "    if walk is None:\n",
        "      self._data.add_first(newest) # new key is smallest\n",
        "    else:\n",
        "      self._data.add_after(walk, newest) # newest goes after walk\n",
        "      \n",
        "  def min(self):\n",
        "    '''Return but do not remove (k,v) tuple with minimum key'''\n",
        "    if self.is_empty():\n",
        "      raise Empty('Priority queue is empty')\n",
        "    p = self._data.first()\n",
        "    item = p.element()\n",
        "    return (item._key, item._value)\n",
        "  \n",
        "  def remove_min(self):\n",
        "    '''Remove and return (k,v) tuple with minimum key'''\n",
        "    if self.is_empty():\n",
        "      raise Empty('Priority queue is empty')\n",
        "      item = self._data.delete(self._data.first())\n",
        "      return (item._key, item._value)"
      ],
      "execution_count": 0,
      "outputs": []
    },
    {
      "metadata": {
        "id": "FJaT83pLW9P8",
        "colab_type": "text"
      },
      "cell_type": "markdown",
      "source": [
        "The `min` and `remove_min` methods in the `SortedPriorityQueue` class are straightforward given knowledge that the first element of the list has a minimum key.\n",
        "\n",
        "###Comparison between two list-based implementations\n",
        "Operation | Unsorted List | Sorted List\n",
        "-- | -- | --\n",
        "`len` | $O(1)$ | $O(1)$\n",
        "`is_empty`|$O(1)$|$O(1)$\n",
        "`add`|$O(1)$|$O(n)$\n",
        "`min`|$O(n)$|$O(1)$\n",
        "`remove_min`|$O(n)$|$O(1)$\n",
        "\n",
        "When using an unsorted list to store entries,\n",
        "we can perform insertions in $O(1)$ time, but finding or removing an element with\n",
        "minimum key requires an $O(n)$-time loop through the entire collection. In contrast,\n",
        "if using a sorted list, we can trivially find or remove the minimum element in $O(1)$\n",
        "time, but adding a new element to the queue may require $O(n)$ time to restore the\n",
        "sorted order."
      ]
    },
    {
      "metadata": {
        "id": "5wUU56K1Xpow",
        "colab_type": "text"
      },
      "cell_type": "markdown",
      "source": [
        "#9.3 Heaps\n",
        "The **binary heap** data structure allows users to perform both insertions and removals in logarithmic time, which is a significant improvement over the list-based implementations."
      ]
    },
    {
      "metadata": {
        "id": "chj7nEwnd2FZ",
        "colab_type": "text"
      },
      "cell_type": "markdown",
      "source": [
        "##9.3.1 The Heap Data Structure\n",
        "A **heap** is a binary tree $T$ that stores a collection of items at its positions and that satisfies two additional properties: a relational property defined in terms of the way keys are stored in $T$ and a structural property defined in terms of the shape of $T$.\n",
        "\n",
        "***Heap-Order Property***: In a heap $T$, for every position $p$ other than the root, the key stored at $p$ is greater than or equal to the key stored at $p$'s parent.\n",
        "\n",
        "Thus, the keys encountered on a path from the root to a leaf of $T$ are in nondecreasing order. Also, a minimum key is always stored at the root of $T$, which makes it easy to locate such an item when `min` or `remove_min` is called, as it is informally said to be \"at the top of the heap\".\n",
        "\n",
        "To have a satisfying efficiency, the heap $T$ is required to have as small a height as possible. Thus, the **complete binary tree property** comes into play.\n",
        "\n",
        "**Complete Binary Tree Property**: A heap $T$ with height $h$ is a **complete** binary tree if levels 0, 1, 2, ..., $h$-1 of $T$ have the maximum number of nodes possible (namely, level $i$ has $2^i$ nodes, for $0\\leq i \\leq h-1$ ) and the remaining nodes at level $h$ reside in the leftmost possible positions at that level.\n",
        "\n",
        "###The Height of a Heap\n",
        "Let $h$ denote the height of $T$. *A heap $T$ storing $n$ entries has height $h=\\lfloor\\log n\\rfloor$.*"
      ]
    },
    {
      "metadata": {
        "id": "kICLOoZ3t2Rj",
        "colab_type": "text"
      },
      "cell_type": "markdown",
      "source": [
        "##9.3.2 Implementing a Priority Queue with a Heap\n",
        "\n",
        "###Adding an Item to the Heap\n",
        "We store the pair $(k,v)$ as an item at a new node of the tree. To maintain\n",
        "the **complete binary tree property**, that new node should be placed at a position p\n",
        "just beyond the rightmost node at the bottom level of the tree, or as the leftmost\n",
        "position of a new level, if the bottom level is already full (or if the heap is empty).\n",
        "\n",
        "###Up-Heap Bubbling After an Insertion\n",
        "After adding the item to the heap, the tree $T$ is complete, but it may violate the **heap-order property**. Thus, unless position $p$ is the root of $T$, we compare the key at position $p$ to that of $p$'s parent, which we denote as $q$. If key $k_p\\geq k_q$, the heap-order property is satisfied and the algorithm terminates. If instead $k_p\\leq k_q$, then we need to restore the heap-order property, which can be locally achieved by swapping the entries stored at positions $p$ and $q$. This swap causes the new item to move up one level. The swap process continues until no violation of the heap-order property occurs.\n",
        "\n",
        "**Up-heap bubbling**: the upward movement of the newly inserted entry by means of swaps\n",
        "\n",
        "###Removing the Item with Minimum Key\n",
        "The entry with the smallest key is stored at the root $r$ of $T$. To ensure the shape of the heap respects the **complete binary tree property** by deleting the leaf at the last position $p$ of $T$, defined as the rightmost position $p$, we copy it to the root $r$ (in place of the item with minimum key that is being removed by the operation)\n",
        "\n",
        "###Down-Heap Bubbling After a Removal\n",
        "For even though $T$ is now complete, it likely violates the heap-order property. If $T$ has only one node (the root), then the heap-order property is trivially satisfied and the algorithm terminates. Otherwise, we distinguish two cases, where $p$ initially denotes the root of $T$:\n",
        "* If $p$ has no right child, let $c$ be the left child of $p$.\n",
        "* Otherwise ($p$ has both children), let $c$ be a child of $p$ with minimal key.\n",
        "\n",
        "If key $k_p \\leq k_c$, the heap-order property is satisfied and the algorithm terminates. If\n",
        "instead $k_p >k_c$, then we need to restore the heap-order property. This can be locally\n",
        "achieved by swapping the entries stored at $p$ and $c$.\n",
        "\n",
        "**Down-heap bubbling**: Having restored the heap-order property for node $p$ relative to its children, there\n",
        "may be a violation of this property at $c$; hence, we may have to continue swapping\n",
        "down T until no violation of the heap-order property occurs."
      ]
    },
    {
      "metadata": {
        "id": "Oqv2blSmxcn8",
        "colab_type": "text"
      },
      "cell_type": "markdown",
      "source": [
        "##9.3.3 Array-Based Representation of a Complete Binary Tree\n",
        "The elements of $T$ are stored in an array-based list $A$ such that the element at position $p$ in $T$ is stored in $A$ with index equal to the level number $f(p)$ of $p$, defined as follows:\n",
        "* If $p$ is the root of $T$, then $f(p)=0$\n",
        "* If $p$ is the left child of position $q$, then $f(p)=2f(q)+1$\n",
        "* If $p$ is the right child of position $q$, then $f(p)=2f(q)+2$\n",
        "\n",
        "With this implementation, the elements of $T$ have contiguous indices in the range $[0, n-1]$ and the last position of $T$ is always at index $n-1$, where $n$ is the number of positions of $T$.\n",
        "\n",
        "Implementing a priority queue using an array-based heap representation allows\n",
        "us to avoid some complexities of a node-based tree structure"
      ]
    },
    {
      "metadata": {
        "id": "8UsD3F7EyW0H",
        "colab_type": "text"
      },
      "cell_type": "markdown",
      "source": [
        "##9.3.4 Python Heap Implementation"
      ]
    },
    {
      "metadata": {
        "id": "xZd7AGsbylbr",
        "colab_type": "code",
        "colab": {}
      },
      "cell_type": "code",
      "source": [
        "class HeapPriorityQueue(PriorityQueueBase): # base class defines _Item\n",
        "  '''A min-oriented priority queue implemented with a binary heap'''\n",
        "  #-------------------nonpublic behaviors---------------------------\n",
        "  def _parent(self, j):\n",
        "    return (j-1) // 2\n",
        "  \n",
        "  def _left(self, j):\n",
        "    return 2*j + 1\n",
        "  \n",
        "  def _right(self, j):\n",
        "    return 2*j + 2\n",
        "  \n",
        "  def _has_left(self, j):\n",
        "    return self._left(j) < len(self._data) # index beyond end of list?\n",
        "  \n",
        "  def _has_right(self, j):\n",
        "    return self._right(j) < len(self._data) # index beyond end of list?\n",
        "  \n",
        "  def _swap(self, i, j):\n",
        "    '''Swap the elements at indices i and j of array'''\n",
        "    self._data[i], self._data[j] = self._data[j], self._data[i]\n",
        "    \n",
        "  def _upheap(self, j):\n",
        "    parent = self._parent(j)\n",
        "    if j>0 and self._data[j] < self._data[parent]:\n",
        "      self._swap(j, parent)\n",
        "      self._upheap(parent) # recur at position of parent\n",
        "      \n",
        "  def _downheap(self, j):\n",
        "    if self._has_left(j):\n",
        "      left = self._left(j)\n",
        "      small_child = left # although right may be smaller\n",
        "      if self._has_right(j):\n",
        "        right = self._right(j)\n",
        "        if self._data[right] < self._data[left]:\n",
        "          small._child = right\n",
        "      if self._data[small_child] < self._data[j]:\n",
        "        self._swap(j, small_child)\n",
        "        self._downheap(small_child) # recur at position of small child\n",
        "        \n",
        "  #-----------------------public behaviors-------------------------------\n",
        "  def __init__(self):\n",
        "    '''Create a new empty Priority Queue'''\n",
        "    self._data = []\n",
        "    \n",
        "  def __len__(self):\n",
        "    '''Return the number of items in the priority queue'''\n",
        "    return len(self._data)\n",
        "  \n",
        "  def add(self, key, value):\n",
        "    '''Add a key-value pair to the priority queue'''\n",
        "    self._data.append(self._Item(key, value))\n",
        "    self._upheap(len(self._data) - 1) # upheap newly added position\n",
        "    \n",
        "  def min(self):\n",
        "    '''Return but do not remove (k,v) tuple with minimum key\n",
        "    \n",
        "    Raise Empty exception if empty\n",
        "    '''\n",
        "    if self.is_empty():\n",
        "      raise Empty('Priority queue is empty')\n",
        "    item = self._data[0]\n",
        "    return (item._key, item._value)\n",
        "  \n",
        "  def remove_min(self):\n",
        "    '''Remove and return (k,v) tuple with minimum key\n",
        "    \n",
        "    Raise EMpty exception if empty\n",
        "    '''\n",
        "    if self.is_empty():\n",
        "      raise Empty('Priority queue is empty')\n",
        "    self._swap(0, len(self._data) − 1) # put minimum item at the end\n",
        "    item = self._data.pop() # and remove it from the list;\n",
        "    self._downheap(0) # then fix new root\n",
        "    return (item._key, item._value)"
      ],
      "execution_count": 0,
      "outputs": []
    },
    {
      "metadata": {
        "id": "ezGkAJQH3m9b",
        "colab_type": "text"
      },
      "cell_type": "markdown",
      "source": [
        "##9.3.5 Analysis of a Heap-Based Priority Queue\n",
        "Each of the priority queue ADT methods can be performed in $O(1)$ or\n",
        "in $O(\\log n)$ time, where $n$ is the number of entries at the time the method is executed\n",
        "\n",
        "* The heap $T$ has $n$ nodes, each storing a reference to a key-value pair.\n",
        "* The height of heap $T$ is $O(\\log n)$, since $T$ is complete.\n",
        "* The `min` operation runs in $O(1)$ because the root of the tree contains such an\n",
        "element.\n",
        "* Locating the last position of a heap, as required for `add` and `remove_min`,\n",
        "can be performed in $O(1)$ time for an array-based representation, or $O(\\log n)$\n",
        "time for a linked-tree representation.\n",
        "* In the worst case, up-heap and down-heap bubbling perform a number of\n",
        "swaps equal to the height of $T$."
      ]
    },
    {
      "metadata": {
        "id": "PLEbWNbY4Pua",
        "colab_type": "text"
      },
      "cell_type": "markdown",
      "source": [
        "##9.3.6 Bottom-Up Heap Construction\n",
        "If we start with an initially empty heap, $n$ successive calls to the `add` operation will run in $O(n\\log n)$ time in the worst case.\n",
        "\n",
        "If all $n$ key-value pairs to be stored in the heap are given in advance, such as during the first phase of the heap-sort algorithm, there is an alternative **bottom_up** construction methods that runs in $O(n)$ time. Heap-sort still requries $O(n\\log n)$ time because of the second phase in which we repeatedly remove the remaining element with smallest key.\n",
        "\n",
        "Assume the number of keys, $n$, is an integer such that $n=2*{h+1}-1$. That is, the heap is a complete binary tree with every level being full, so the heap has height $h=\\log(n+1)-1$.\n",
        "\n",
        "Viewed nonrecursively, bottom-up heap construction consists of the following $h+1=\\log(n+1)$ steps:\n",
        "1. Construct $(n+1)/2$ elementary heaps storing one entry each.\n",
        "2. Form $(n+1)/4$ heaps, each storing three entries, by joinin pairs of elementary heaps and adding a new entry. The new entry is placed at the root and may have to be swapped with the entry stored at a child to preserve the heap-order property.\n",
        "3. Form $(n+1)/8$ heaps, each storing 7 entries, by joining pairs of 3-entry heaps (constructed in the previous step) and adding a new entry. The new entry is placed initially at the root, but may have to move down with a down-heap bubbling to preserve the heap-order property\n",
        "4. In the generic $i$th  step, $2\\leq i\\leq h$, form $(n+1)/2^i$ heaps, each storing $2^i-1$ entries, by joining pairs of heaps storing $(2^{i-1}-1)$ entries (constructed in the previous step) and adding a new entry. The new entry is placed initially at the root but may have to move down with a down-heap bubbling to preserve the heap-order property.\n",
        "5. In the last step, $h+1$, form the final heap, storing all the\n",
        "$n$ entries, by joining two heaps storing $(n−1)/2$ entries (constructed in the\n",
        "previous step) and adding a new entry. The new entry is placed initially at\n",
        "the root, but may have to move down with a down-heap bubbling to preserve\n",
        "the heap-order property."
      ]
    },
    {
      "metadata": {
        "id": "u-nfQBlyW9d1",
        "colab_type": "code",
        "colab": {}
      },
      "cell_type": "code",
      "source": [
        "class HeapPriorityQueue(PriorityQueueBase): # base class defines _Item\n",
        "  '''A min-oriented priority queue implemented with a binary heap\n",
        "  bottom-up construction\n",
        "  '''\n",
        "  #-------------------nonpublic behaviors---------------------------\n",
        "  def _parent(self, j):\n",
        "    return (j-1) // 2\n",
        "  \n",
        "  def _left(self, j):\n",
        "    return 2*j + 1\n",
        "  \n",
        "  def _right(self, j):\n",
        "    return 2*j + 2\n",
        "  \n",
        "  def _has_left(self, j):\n",
        "    return self._left(j) < len(self._data) # index beyond end of list?\n",
        "  \n",
        "  def _has_right(self, j):\n",
        "    return self._right(j) < len(self._data) # index beyond end of list?\n",
        "  \n",
        "  def _swap(self, i, j):\n",
        "    '''Swap the elements at indices i and j of array'''\n",
        "    self._data[i], self._data[j] = self._data[j], self._data[i]\n",
        "    \n",
        "  def _upheap(self, j):\n",
        "    parent = self._parent(j)\n",
        "    if j>0 and self._data[j] < self._data[parent]:\n",
        "      self._swap(j, parent)\n",
        "      self._upheap(parent) # recur at position of parent\n",
        "      \n",
        "  def _downheap(self, j):\n",
        "    if self._has_left(j):\n",
        "      left = self._left(j)\n",
        "      small_child = left # although right may be smaller\n",
        "      if self._has_right(j):\n",
        "        right = self._right(j)\n",
        "        if self._data[right] < self._data[left]:\n",
        "          small._child = right\n",
        "      if self._data[small_child] < self._data[j]:\n",
        "        self._swap(j, small_child)\n",
        "        self._downheap(small_child) # recur at position of small child\n",
        "        \n",
        "  #-----------------------public behaviors-------------------------------\n",
        "  def __init__(self, contents=()):\n",
        "    '''Create a new empty Priority Queue\n",
        "    \n",
        "    By default, queue will be empty. If contents is given, it should be as an\n",
        "    iterable sequence of (k,v) typles specifying the initial contents\n",
        "    '''\n",
        "    self._data = [ self._Item(k,v) for k,v in contents ] # empty by default\n",
        "    if len(self._data) > 1:\n",
        "      self._heapify()\n",
        "      \n",
        "  def _heapify(self):\n",
        "    start = self._parent(len(self) - 1) # start at PARENT of last leaf\n",
        "    for j in range(start, -1, -1): # going to and including the root\n",
        "      self._downheap(j)\n",
        "    \n",
        "  def __len__(self):\n",
        "    '''Return the number of items in the priority queue'''\n",
        "    return len(self._data)\n",
        "  \n",
        "  def add(self, key, value):\n",
        "    '''Add a key-value pair to the priority queue'''\n",
        "    self._data.append(self._Item(key, value))\n",
        "    self._upheap(len(self._data) - 1) # upheap newly added position\n",
        "    \n",
        "  def min(self):\n",
        "    '''Return but do not remove (k,v) tuple with minimum key\n",
        "    \n",
        "    Raise Empty exception if empty\n",
        "    '''\n",
        "    if self.is_empty():\n",
        "      raise Empty('Priority queue is empty')\n",
        "    item = self._data[0]\n",
        "    return (item._key, item._value)\n",
        "  \n",
        "  def remove_min(self):\n",
        "    '''Remove and return (k,v) tuple with minimum key\n",
        "    \n",
        "    Raise EMpty exception if empty\n",
        "    '''\n",
        "    if self.is_empty():\n",
        "      raise Empty('Priority queue is empty')\n",
        "    self._swap(0, len(self._data) − 1) # put minimum item at the end\n",
        "    item = self._data.pop() # and remove it from the list;\n",
        "    self._downheap(0) # then fix new root\n",
        "    return (item._key, item._value)"
      ],
      "execution_count": 0,
      "outputs": []
    },
    {
      "metadata": {
        "id": "mn6Q9BvcXzjc",
        "colab_type": "text"
      },
      "cell_type": "markdown",
      "source": [
        "With the array-based representation of a heap, if we initially store all $n4 items in\n",
        "arbitrary order within the array, we can implement the bottom-up heap construction\n",
        "process with a single loop that makes a call to `_downheap` from each position of\n",
        "the tree, as long as those calls are ordered starting with the deepest level and ending\n",
        "with the root of the tree."
      ]
    },
    {
      "metadata": {
        "id": "lKhYr_WfYAcH",
        "colab_type": "text"
      },
      "cell_type": "markdown",
      "source": [
        "Bottom-up heap construction is asymptotically faster than incrementally inserting\n",
        "$n$ keys into an initially empty heap.\n",
        "\n",
        "*Bottom-up construction of a heap with $n$ entries takes $O(n)$ time, assuming two keys can be compared in $O(1)$ time.*"
      ]
    },
    {
      "metadata": {
        "id": "OCYUgMnfYS1Z",
        "colab_type": "text"
      },
      "cell_type": "markdown",
      "source": [
        "##9.3.7 Python's `heapq` Module\n",
        "`heapq` module provides support for heap-based priority queues but does not provide any priority queue class; it only provides functions that allow a standard Python list to be managed as a heap.\n"
      ]
    },
    {
      "metadata": {
        "id": "jAT_SVqeZdxE",
        "colab_type": "text"
      },
      "cell_type": "markdown",
      "source": [
        "#9.4 Sorting with a Priority Queue\n",
        "Assume $C$ is a positional list. Use an original element of the collection as both a key and value when calling `P.add(element, element)`"
      ]
    },
    {
      "metadata": {
        "id": "t8JNBKDaaPtb",
        "colab_type": "code",
        "colab": {}
      },
      "cell_type": "code",
      "source": [
        "def pq_sort(C):\n",
        "  '''Sort a collection of elements stored in a positional list'''\n",
        "  n = len(C)\n",
        "  P = PriorityQueue()\n",
        "  for j in range(n):\n",
        "    element = C.delete(C.first())\n",
        "    P.add(element, element) # use element as key and value\n",
        "  for j in range(n):\n",
        "    (k,v) = P.remove_min()\n",
        "    C.add_last(v) # store smallest remaining element in C"
      ],
      "execution_count": 0,
      "outputs": []
    },
    {
      "metadata": {
        "id": "LkUK3ssNaz6m",
        "colab_type": "text"
      },
      "cell_type": "markdown",
      "source": [
        "##9.4.1 Selection-Sort and Insertion-Sort\n",
        "\n",
        "###Selection-Sort\n",
        "If we implement $P$ with an unsorted list, then Phase 1 of `pq_sort` takes $O(n)$ time,\n",
        "for we can add each element in $O(1)$ time. In Phase 2, the running time of each\n",
        "`remove_min` operation is proportional to the size of $P$. Thus, the bottleneck computation\n",
        "is the repeated “selection” of the minimum element in Phase 2. The total time needed for the second phase is $O(n^2)$ as does the entire selection-sort algorithm.\n",
        "\n",
        "###Insertion-Sort\n",
        "If we implement the priority queue $P$ using a sorted list, then we improve the running\n",
        "time of Phase 2 to $O(n)$, for each `remove_min` operation on $P$ now takes $O(1)$\n",
        "time. Now, Phase 1 becomes the bottleneck for the running time, since, in the worst case, each `add` operation takes time proportional to the current size of $P$. Phase 1 takes $O(n^2)$ time in the worst case. However, unlike selection-sort, insertion-sort\n",
        "has a *best-case* running time of O(n)."
      ]
    },
    {
      "metadata": {
        "id": "ozLIKsvHcMa1",
        "colab_type": "text"
      },
      "cell_type": "markdown",
      "source": [
        "##9.4.2 Heap-Sort\n",
        "During Phase 1, the $i$th `add` operation takes $O(\\log i)$ time, since the heap has $i$\n",
        "entries after the operation is performed. Therefore this phase takes $O(n\\log n)$ time.\n",
        "(It could be improved to $O(n)$ with the bottom-up heap construction). \\\\\n",
        "During the second phase of `pq_sort`, the $j$th `remove_min` operation runs in\n",
        "$O(\\log(n− j +1))$, since the heap has $n− j +1$ entries at the time the operation\n",
        "is performed. Summing over all $j$, this phase takes $O(n\\log n)$ time, so the entire\n",
        "priority-queue sorting algorithm runs in $O(n\\log n)$ time when we use a heap to implement\n",
        "the priority queue.\n",
        "\n",
        "*The heap-sort algorithm sorts a collection $C$ of $n$ elements in $O(n\\log n)$ time, assuming two elements of $C$ can be compared in $O(1)$ time.*"
      ]
    }
  ]
}