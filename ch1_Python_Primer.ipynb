{
  "nbformat": 4,
  "nbformat_minor": 0,
  "metadata": {
    "colab": {
      "name": "ch1_Python_Primer.ipynb",
      "version": "0.3.2",
      "provenance": [],
      "collapsed_sections": [],
      "include_colab_link": true
    },
    "kernelspec": {
      "name": "python3",
      "display_name": "Python 3"
    }
  },
  "cells": [
    {
      "cell_type": "markdown",
      "metadata": {
        "id": "view-in-github",
        "colab_type": "text"
      },
      "source": [
        "<a href=\"https://colab.research.google.com/github/lblogan14/data_structures_and_algorithms/blob/master/ch1_Python_Primer.ipynb\" target=\"_parent\"><img src=\"https://colab.research.google.com/assets/colab-badge.svg\" alt=\"Open In Colab\"/></a>"
      ]
    },
    {
      "metadata": {
        "id": "2SWTrLRJZJbV",
        "colab_type": "text"
      },
      "cell_type": "markdown",
      "source": [
        "#1.1 Python Overview"
      ]
    },
    {
      "metadata": {
        "id": "yJYFXoyCZSAY",
        "colab_type": "text"
      },
      "cell_type": "markdown",
      "source": [
        "##1.1.1 The Python Interpreter\n",
        "Python is formally an *interpreted* language. Commands are executed through a piece of software known as the ***Python interpreter***\n",
        "\n",
        "##1.1.2 Preview of a Python Program\n",
        "####Code Fragment 1.1\n",
        "GPA calculator"
      ]
    },
    {
      "metadata": {
        "id": "3t2ctaK0aTAN",
        "colab_type": "code",
        "outputId": "2e2c2e21-9b6b-439a-b3c4-d93fec5db13e",
        "colab": {
          "base_uri": "https://localhost:8080/",
          "height": 173
        }
      },
      "cell_type": "code",
      "source": [
        "print('Welcome to the GPA calculator.')\n",
        "print('Please enter all your letter grades, one per line.')\n",
        "print('Enter a blank line to designate the end.')\n",
        "# map from letter grade to point value\n",
        "points = {'A+':4.0, 'A':4.0, 'A-':3.67, 'B+':3.33, 'B':3.0, 'B-':2.67,\n",
        "          'C+':2.33, 'C':2.0, 'C-':1.67, 'D+':1.33, 'D':1.0, 'F':0.}\n",
        "num_courses = 0\n",
        "total_points = 0\n",
        "done = False\n",
        "while not done:\n",
        "  grade = input() # read line from user\n",
        "  if grade == '': #empty line was entered\n",
        "    done = True\n",
        "  elif grade not in points: # unrecognized grade entered\n",
        "    print(\"Unknown grade '{0}' being ignored\".format(grade))\n",
        "  else:\n",
        "    num_courses += 1\n",
        "    total_points += points[grade]\n",
        "    \n",
        "if num_courses > 0: # avoid division by zero\n",
        "  print('Your GPA is {0: .3}'.format(total_points / num_courses))"
      ],
      "execution_count": 0,
      "outputs": [
        {
          "output_type": "stream",
          "text": [
            "Welcome to the GPA calculator.\n",
            "Please enter all your letter grades, one per line.\n",
            "Enter a blank line to designate the end.\n",
            "A\n",
            "B+\n",
            "C\n",
            "A+\n",
            "\n",
            "Your GPA is  3.33\n"
          ],
          "name": "stdout"
        }
      ]
    },
    {
      "metadata": {
        "id": "aK3iCXmUb4Il",
        "colab_type": "text"
      },
      "cell_type": "markdown",
      "source": [
        "#1.2 Objects in Python\n",
        "Python is an object-oriented language and *class* form the basis for all data types.\n",
        "\n",
        "##1.2.2 Creating and Using Objects\n",
        "###Instantiation\n",
        "The process of creating a new instance of a class. \\\\\n",
        "The syntax for instantiating an object is to invoke the *constructor* of a class: \\\\\n",
        "For example: `w = Widget()`\n",
        "\n",
        "###Calling Methods\n",
        "traditional functions: `sorted(data)`, where `data` is a parameter sent to the function \\\\\n",
        "alternative: ***member functions*** or called ***methods***, for example: `data.sort()`\n",
        "\n",
        "***Accessors***: methods that return information about the state of an object without changing that state \\\\\n",
        "***Mutators*** or **update methods***: methods that changes the state of an object"
      ]
    },
    {
      "metadata": {
        "id": "Cl2m_Kw-dqe_",
        "colab_type": "text"
      },
      "cell_type": "markdown",
      "source": [
        "##1.2.3 Python Built-in Classes\n",
        "Class | Description | Immutable?\n",
        "-- | -- | --\n",
        "**bool** | Boolean value | yes\n",
        "**int** | integer (arbitrary magnitude) | yes\n",
        "**float** | floating-point number | yes\n",
        "**list** | mutable sequence of objects\n",
        "**tuple** | immutable sequence of objects | yes\n",
        "**str** | character string | yes\n",
        "**set** | unordered set of distinct objects\n",
        "**frozenset** | immutable form of set class | yes\n",
        "**dict** | associative mapping (aka dictionary)"
      ]
    },
    {
      "metadata": {
        "id": "YWQdI708efC8",
        "colab_type": "text"
      },
      "cell_type": "markdown",
      "source": [
        "###bool Class\n",
        "logical (Boolean) values. \\\\\n",
        "default constructor: `bool()`"
      ]
    },
    {
      "metadata": {
        "id": "lJlfdcsRfkSF",
        "colab_type": "text"
      },
      "cell_type": "markdown",
      "source": [
        "###list Class\n",
        "stores a sequence of objects. A list is a *referential* structure, as it technically stores a sequence of *references* to its elements. \\\\\n",
        "*iterable* \\\\\n",
        "default constructor: `list()` $\\rightarrow$ creates an empty list."
      ]
    },
    {
      "metadata": {
        "id": "8MzbBdSzfbbg",
        "colab_type": "code",
        "outputId": "0f44e0d2-8a00-4ad5-d30d-00ec98962c3c",
        "colab": {
          "base_uri": "https://localhost:8080/",
          "height": 35
        }
      },
      "cell_type": "code",
      "source": [
        "list('hello')"
      ],
      "execution_count": 0,
      "outputs": [
        {
          "output_type": "execute_result",
          "data": {
            "text/plain": [
              "['h', 'e', 'l', 'l', 'o']"
            ]
          },
          "metadata": {
            "tags": []
          },
          "execution_count": 2
        }
      ]
    },
    {
      "metadata": {
        "id": "9nmPVs3UfvSd",
        "colab_type": "text"
      },
      "cell_type": "markdown",
      "source": [
        "###typle Class\n",
        "immutable, its instances have an internal representation that may be more streamlined than that of a list. \\\\\n",
        "To express a tuple of length one as a literal, a comma must be placed after the element, but within the parentheses."
      ]
    },
    {
      "metadata": {
        "id": "vvHjPO6xgEsZ",
        "colab_type": "code",
        "outputId": "0c5e10b8-c7e1-49d5-9b24-185767f9af14",
        "colab": {
          "base_uri": "https://localhost:8080/",
          "height": 35
        }
      },
      "cell_type": "code",
      "source": [
        "(17,)"
      ],
      "execution_count": 0,
      "outputs": [
        {
          "output_type": "execute_result",
          "data": {
            "text/plain": [
              "(17,)"
            ]
          },
          "metadata": {
            "tags": []
          },
          "execution_count": 3
        }
      ]
    },
    {
      "metadata": {
        "id": "p7tCPNkVgFvW",
        "colab_type": "code",
        "outputId": "56a34797-7c01-420f-f431-88e1c1ce7b5b",
        "colab": {
          "base_uri": "https://localhost:8080/",
          "height": 35
        }
      },
      "cell_type": "code",
      "source": [
        "(17)"
      ],
      "execution_count": 0,
      "outputs": [
        {
          "output_type": "execute_result",
          "data": {
            "text/plain": [
              "17"
            ]
          },
          "metadata": {
            "tags": []
          },
          "execution_count": 4
        }
      ]
    },
    {
      "metadata": {
        "id": "t9Jq5Y4VgL3m",
        "colab_type": "text"
      },
      "cell_type": "markdown",
      "source": [
        "###set and frozenset Classes\n",
        "`set` class represents the mathematical notion of a set, a collection of elements, without duplicates, and without an inherent order to those elements. \\\\\n",
        "Compared to `list`, `set` class has a highly optimized method for checking *whether a specific element is contained in the set*, based on ***hash table***.\n",
        "\n",
        "`set` does not maintain the elements in any particular order. \\\\\n",
        "Only instances of *immutable* types can be added to a Python `set`: objects such as integers, floating-point numbers, and character strings are eligible to be elements of a set.\n",
        "\n",
        "It is possible to maintain a set of tuples, but not a set of lists or a set of sets, as lists and sets are mutable.\n",
        "\n",
        "default constructor: `set()` or `{}`\n",
        "\n",
        "`frozenset` class is an immutable form of the `set` type.\n",
        "\n"
      ]
    },
    {
      "metadata": {
        "id": "22VfLEzRhWfQ",
        "colab_type": "code",
        "outputId": "70d6fe2d-b58e-45b7-f62d-e0897db6794a",
        "colab": {
          "base_uri": "https://localhost:8080/",
          "height": 35
        }
      },
      "cell_type": "code",
      "source": [
        "{'red', 'green', 'blue'}"
      ],
      "execution_count": 0,
      "outputs": [
        {
          "output_type": "execute_result",
          "data": {
            "text/plain": [
              "{'blue', 'green', 'red'}"
            ]
          },
          "metadata": {
            "tags": []
          },
          "execution_count": 5
        }
      ]
    },
    {
      "metadata": {
        "id": "ulcQrQH_hZ8r",
        "colab_type": "code",
        "outputId": "29dede94-c99e-45a6-dc4f-2233c507c1d5",
        "colab": {
          "base_uri": "https://localhost:8080/",
          "height": 35
        }
      },
      "cell_type": "code",
      "source": [
        "set('hello')"
      ],
      "execution_count": 0,
      "outputs": [
        {
          "output_type": "execute_result",
          "data": {
            "text/plain": [
              "{'e', 'h', 'l', 'o'}"
            ]
          },
          "metadata": {
            "tags": []
          },
          "execution_count": 6
        }
      ]
    },
    {
      "metadata": {
        "id": "jK8vfKNhhe6a",
        "colab_type": "text"
      },
      "cell_type": "markdown",
      "source": [
        "###`dict` Class\n",
        "*dictionary* or *mapping* from a set of distinct *keys* to associated *values*."
      ]
    },
    {
      "metadata": {
        "id": "XPtHr4n4hrgQ",
        "colab_type": "code",
        "outputId": "976f7534-94d0-4693-b840-029e6da22197",
        "colab": {
          "base_uri": "https://localhost:8080/",
          "height": 35
        }
      },
      "cell_type": "code",
      "source": [
        "{'ga': 'Irish', 'de': 'German'}"
      ],
      "execution_count": 0,
      "outputs": [
        {
          "output_type": "execute_result",
          "data": {
            "text/plain": [
              "{'de': 'German', 'ga': 'Irish'}"
            ]
          },
          "metadata": {
            "tags": []
          },
          "execution_count": 7
        }
      ]
    },
    {
      "metadata": {
        "id": "0v6nYfwPhvj8",
        "colab_type": "code",
        "outputId": "1d474af1-5c20-4f33-9cfe-494ac18e2acf",
        "colab": {
          "base_uri": "https://localhost:8080/",
          "height": 35
        }
      },
      "cell_type": "code",
      "source": [
        "pairs = [('ga', 'Irish'), ('de', 'German')]\n",
        "dict(pairs)"
      ],
      "execution_count": 0,
      "outputs": [
        {
          "output_type": "execute_result",
          "data": {
            "text/plain": [
              "{'de': 'German', 'ga': 'Irish'}"
            ]
          },
          "metadata": {
            "tags": []
          },
          "execution_count": 8
        }
      ]
    },
    {
      "metadata": {
        "id": "GbCLjmmDiFI7",
        "colab_type": "text"
      },
      "cell_type": "markdown",
      "source": [
        "#1.3 Expressions, Operators, and Precedence\n",
        "###Logical Operators\n",
        "Logical | \n",
        "-- | --\n",
        "not | unary negation\n",
        "and | conditional and\n",
        "or | conditional or\n",
        "\n",
        "###Equality Operators\n",
        "Equality | \n",
        "-- | --\n",
        "is | same identity\n",
        "is not | different identity\n",
        "== | equivalent\n",
        "!= | not equivalent\n",
        "\n",
        "###Comparison Operators\n",
        "Comparison | \n",
        "-- | --\n",
        "< |less than\n",
        "<=| less than or equal to\n",
        "> |greater than\n",
        ">=| greater than or equal to\n",
        "\n",
        "###Arithmetic Operators\n",
        "Arithmetic |\n",
        "-- | --\n",
        "+ |addition\n",
        "− |subtraction\n",
        "* |multiplication\n",
        "/ |true division\n",
        "// |integer division\n",
        "% |the modulo operator\n",
        "\n",
        "###Bitwise Operators\n",
        "Bitwise |\n",
        "--|--\n",
        "∼ |bitwise complement (prefix unary operator)\n",
        "& |bitwise and\n",
        "$|$ |bitwise or\n",
        "ˆ |bitwise exclusive-or\n",
        "<< |shift bits left, filling in with zeros\n",
        ">> |shift bits right, filling in with sign bit\n",
        "\n",
        "###Sequence Operators\n",
        "for `str, tuple, list`\n",
        "\n",
        "Sequence |\n",
        "-- | --\n",
        "`s[j]`| element at index j\n",
        "`s[start:stop]`| slice including indices [start,stop)\n",
        "`s[start:stop:step]`| slice including indices start, start + step, start + 2 step, . . . , up to but not equalling or stop\n",
        "`s + t`| concatenation of sequences\n",
        "`k * s`| shorthand for s + s + s + ... (k times)\n",
        "`val in s`| containment check\n",
        "`val not in s`| non-containment check\n",
        "\n",
        "Python supports *negative indices*. Index -1 denotes the last element, index -2 the second to last...\n",
        "\n",
        "###Operators for Sets and Dictionaries\n",
        "\n",
        "Sets&Frozonsets | \n",
        "-- | --\n",
        "key in s |containment check\n",
        "key not in s |non-containment check\n",
        "s1 == s2 |s1 is equivalent to s2\n",
        "s1 != s2 |s1 is not equivalent to s2\n",
        "s1 <= s2 |s1 is subset of s2\n",
        "s1 < s2 |s1 is proper subset of s2\n",
        "s1 >= s2 |s1 is superset of s2\n",
        "s1 > s2 |s1 is proper superset of s2\n",
        "s1 $|$ s2 |the union of s1 and s2\n",
        "s1 & s2 |the intersection of s1 and s2\n",
        "s1 − s2 |the set of elements in s1 but not s2\n",
        "s1 ˆ s2 |the set of elements in precisely one of s1 or s2\n",
        "\n",
        "For dictionary:\n",
        "\n",
        "dictionary | \n",
        "-- | --\n",
        "d[key] | value associated with given key\n",
        "d[key] = value |set (or reset) the value associated with given key\n",
        "del d[key] |remove key and its associated value from dictionary\n",
        "key in d |containment check\n",
        "key not in d |non-containment check\n",
        "d1 == d2 |d1 is equivalent to d2\n",
        "d1 != d2 |d1 is not equivalent to d2"
      ]
    },
    {
      "metadata": {
        "id": "ZIKU3QjBmKjQ",
        "colab_type": "text"
      },
      "cell_type": "markdown",
      "source": [
        "#1.8 Iterators and Generators\n",
        "`for element in iterable:` \\\\\n",
        "Basic container types, such as list, tuple, and set, qualify as iterable types.\n",
        "Furthermore, a string can produce an iteration of its characters, a dictionary can\n",
        "produce an iteration of its keys, and a file can produce an iteration of its lines. Userdefined\n",
        "types may also support iteration. \\\\\n",
        "* An **iterator** is an object that manages an iteration through a series of values. If\n",
        "variable, i, identifies an iterator object, then each call to the built-in function,\n",
        "`next(i)`, produces a subsequent element from the underlying series, with a\n",
        "`StopIteration` exception raised to indicate that there are no further elements.\n",
        "* An **iterable** is an object, `obj`, that produces an *iterator* via the syntax `iter(obj)`.\n",
        "\n",
        "A **generator** is implemented with a syntax that\n",
        "is very similar to a function, but instead of returning values, a **`yield`** statement is\n",
        "executed to indicate each element of the series"
      ]
    },
    {
      "metadata": {
        "id": "I_OampcjnLnP",
        "colab_type": "code",
        "colab": {}
      },
      "cell_type": "code",
      "source": [
        "def factors(n): # traditional function that computes factors\n",
        "  results = [ ] # store factors in a new list\n",
        "  for k in range(1,n+1):\n",
        "    if n % k == 0: # divides evenly, thus k is a factor\n",
        "      results.append(k) # add k to the list of factors\n",
        "  return results # return the entire list"
      ],
      "execution_count": 0,
      "outputs": []
    },
    {
      "metadata": {
        "id": "8dTiiCGInQY_",
        "colab_type": "code",
        "colab": {}
      },
      "cell_type": "code",
      "source": [
        "def factors(n): # generator that computes factors\n",
        "  for k in range(1,n+1):\n",
        "    if n % k == 0: # divides evenly, thus k is a factor\n",
        "      yield k # yield this factor as next result"
      ],
      "execution_count": 0,
      "outputs": []
    },
    {
      "metadata": {
        "id": "X7sjp52XnYaL",
        "colab_type": "text"
      },
      "cell_type": "markdown",
      "source": [
        "Notice use of the keyword yield rather than return to indicate a result. This indicates\n",
        "to Python that we are defining a generator, rather than a traditional function. It\n",
        "is illegal to combine yield and return statements in the same implementation, other\n",
        "than a zero-argument return statement to cause a generator to end its execution."
      ]
    },
    {
      "metadata": {
        "id": "f9_RccKInhjb",
        "colab_type": "code",
        "colab": {}
      },
      "cell_type": "code",
      "source": [
        "def factors(n): # generator that computes factors\n",
        "  k = 1\n",
        "    while k k < n: # while k < sqrt(n)\n",
        "      if n % k == 0:\n",
        "        yield k\n",
        "        yield n // k\n",
        "      k += 1\n",
        "    if k k == n: # special case if n is perfect square\n",
        "      yield k"
      ],
      "execution_count": 0,
      "outputs": []
    },
    {
      "metadata": {
        "id": "Fy4Gqn-3nvgO",
        "colab_type": "text"
      },
      "cell_type": "markdown",
      "source": [
        "In closing, we wish to emphasize the benefits of lazy evaluation when using a\n",
        "generator rather than a traditional function. The results are only computed if requested,\n",
        "and the entire series need not reside in memory at one time. In fact, a\n",
        "generator can effectively produce an infinite series of values."
      ]
    },
    {
      "metadata": {
        "id": "S_EEKEBvnwLQ",
        "colab_type": "code",
        "colab": {}
      },
      "cell_type": "code",
      "source": [
        "def fibonacci( ):\n",
        "  a = 0\n",
        "  b = 1\n",
        "  while True: # keep going...\n",
        "    yield a # report value, a, during this pass\n",
        "    future = a + b\n",
        "    a = b # this will be next value reported\n",
        "    b = future # and subsequently this"
      ],
      "execution_count": 0,
      "outputs": []
    },
    {
      "metadata": {
        "id": "PWSBt8l-pati",
        "colab_type": "text"
      },
      "cell_type": "markdown",
      "source": [
        "#1.9 Additional Python Conveniences\n",
        "### Simultaneous Assignments\n",
        "The combination of automatic packing and unpacking forms a technique known\n",
        "as *simultaneous assignment*, whereby we explicitly assign a series of values to a\n",
        "series of identifiers:"
      ]
    },
    {
      "metadata": {
        "id": "KmcwuJ7Hpnq4",
        "colab_type": "code",
        "colab": {}
      },
      "cell_type": "code",
      "source": [
        "x, y, z = 6, 2, 5"
      ],
      "execution_count": 0,
      "outputs": []
    },
    {
      "metadata": {
        "id": "ydEaDdpgpssy",
        "colab_type": "text"
      },
      "cell_type": "markdown",
      "source": [
        "When using a simultaneous assignment, all of the expressions are evaluated\n",
        "on the right-hand side before any of the assignments are made to the left-hand\n",
        "variables. This is significant, as it provides a convenient means for swapping the\n",
        "values associated with two variables:"
      ]
    },
    {
      "metadata": {
        "id": "e0lwSDT_pvU4",
        "colab_type": "code",
        "colab": {}
      },
      "cell_type": "code",
      "source": [
        "j = 50\n",
        "k = 100"
      ],
      "execution_count": 0,
      "outputs": []
    },
    {
      "metadata": {
        "id": "YYzOXya8pyOi",
        "colab_type": "code",
        "outputId": "ed0b671f-7bd2-4287-a562-6da3da1d9853",
        "colab": {
          "base_uri": "https://localhost:8080/",
          "height": 52
        }
      },
      "cell_type": "code",
      "source": [
        "j,k = k,j\n",
        "print('j =',j)\n",
        "print('k =',k)"
      ],
      "execution_count": 0,
      "outputs": [
        {
          "output_type": "stream",
          "text": [
            "j = 100\n",
            "k = 50\n"
          ],
          "name": "stdout"
        }
      ]
    },
    {
      "metadata": {
        "id": "Ge5iM9Ulp60k",
        "colab_type": "text"
      },
      "cell_type": "markdown",
      "source": [
        "With this command, j will be assigned to the *old value* of k, and k will be assigned\n",
        "to the *old value* of j. Without simultaneous assignment, a swap typically requires\n",
        "more delicate use of a temporary variable:"
      ]
    },
    {
      "metadata": {
        "id": "0no_26uKqCsi",
        "colab_type": "code",
        "colab": {}
      },
      "cell_type": "code",
      "source": [
        "j = 50\n",
        "k = 100"
      ],
      "execution_count": 0,
      "outputs": []
    },
    {
      "metadata": {
        "id": "F-2crIBGqEIN",
        "colab_type": "code",
        "outputId": "8920751b-b020-463d-fae0-f0a49b40507c",
        "colab": {
          "base_uri": "https://localhost:8080/",
          "height": 52
        }
      },
      "cell_type": "code",
      "source": [
        "temp = j\n",
        "j = k\n",
        "k = temp\n",
        "print('j =',j)\n",
        "print('k =',k)"
      ],
      "execution_count": 0,
      "outputs": [
        {
          "output_type": "stream",
          "text": [
            "j = 100\n",
            "k = 50\n"
          ],
          "name": "stdout"
        }
      ]
    }
  ]
}