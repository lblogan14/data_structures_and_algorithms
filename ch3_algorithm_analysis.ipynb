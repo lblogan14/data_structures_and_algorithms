{
  "nbformat": 4,
  "nbformat_minor": 0,
  "metadata": {
    "colab": {
      "name": "ch3_algorithm_analysis.ipynb",
      "version": "0.3.2",
      "provenance": [],
      "include_colab_link": true
    },
    "kernelspec": {
      "name": "python3",
      "display_name": "Python 3"
    }
  },
  "cells": [
    {
      "cell_type": "markdown",
      "metadata": {
        "id": "view-in-github",
        "colab_type": "text"
      },
      "source": [
        "<a href=\"https://colab.research.google.com/github/lblogan14/data_structures_and_algorithms/blob/master/ch3_algorithm_analysis.ipynb\" target=\"_parent\"><img src=\"https://colab.research.google.com/assets/colab-badge.svg\" alt=\"Open In Colab\"/></a>"
      ]
    },
    {
      "metadata": {
        "id": "PHvTo5ZgBmz7",
        "colab_type": "text"
      },
      "cell_type": "markdown",
      "source": [
        "**Data structure** is a systematic way of organizing and accessing data\n",
        "\n",
        "**Algorithm** is a step-by-step procedure for performing some task in a finite amount of time"
      ]
    },
    {
      "metadata": {
        "id": "H9PZD4ZWCEbo",
        "colab_type": "text"
      },
      "cell_type": "markdown",
      "source": [
        "#3.1 Experimental Studies\n",
        "\n",
        "###Counting Primitive Operations\n",
        "**Primitive operations**:\n",
        "* Assigning an identifier to an object\n",
        "* Determinting the object associated with an identifier\n",
        "* Performing an arithmetic operation\n",
        "* Comparing two numbers\n",
        "* Accessing a single element of a Python list by index\n",
        "* Calling a function (excluding operations executed within the function)\n",
        "* Returning from a function\n",
        "\n",
        "A primitive operation corresponds to a low-level instruction with a *constant* execution time. "
      ]
    },
    {
      "metadata": {
        "id": "P36gI1ZgFS_7",
        "colab_type": "text"
      },
      "cell_type": "markdown",
      "source": [
        "#3.2 Functions used in Algorithm Analysis\n",
        "### Constnat Function\n",
        "$$f(n)=c$$\n",
        "for some fixed constant $c$.\n",
        "\n",
        "Constant function characterzes the number of steps needed to do a basic operation on a computer, like *adding two numbers, assigning a value to some variable, or comparing two numbers*.\n",
        "\n",
        "###Logarithm Function\n",
        "$$f(n)=\\log_bn$$\n",
        "for some constant $b>1$. \\\\\n",
        "Also defined as follow: \\\\\n",
        "$$x=\\log_bn \\quad if\\,and\\,only\\,if\\quad b^x=n$$\n",
        "Most common base in computer science is 2.\n",
        "\n",
        "###Linear Function\n",
        "$$f(n)=n$$\n",
        "This functions is applied to do a single basic operation for each of $n$ elements. For example, *comparing a number $x$ to each element of a sequence of size $n$* requires $n$ comparisons. \\\\\n",
        "The linear function also represents the best running time to achieve for any algorithm that processes each of $n$ objects that are not already in the computer memory, because *reading in the $n$ objects already requires $n$ operations*.\n",
        "\n",
        "###N-log-N Function\n",
        "$$f(n)=n\\log n$$\n",
        "assigns to an input $n$ the value of $n$ times the logarithm base-two of $n$. \\\\\n",
        "This function is more preferred because it grows a lot less rapidly than the quadratic function but a little more rapidly than the linear function.\n",
        "\n",
        "###Quadratic Function\n",
        "$$f(n)=n^2$$\n",
        "for nested loops.\n",
        "\n"
      ]
    }
  ]
}