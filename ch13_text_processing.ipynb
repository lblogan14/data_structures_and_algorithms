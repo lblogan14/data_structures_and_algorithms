{
  "nbformat": 4,
  "nbformat_minor": 0,
  "metadata": {
    "colab": {
      "name": "ch13_text_processing.ipynb",
      "version": "0.3.2",
      "provenance": [],
      "collapsed_sections": [],
      "include_colab_link": true
    },
    "kernelspec": {
      "name": "python3",
      "display_name": "Python 3"
    }
  },
  "cells": [
    {
      "cell_type": "markdown",
      "metadata": {
        "id": "view-in-github",
        "colab_type": "text"
      },
      "source": [
        "<a href=\"https://colab.research.google.com/github/lblogan14/data_structures_and_algorithms/blob/master/ch13_text_processing.ipynb\" target=\"_parent\"><img src=\"https://colab.research.google.com/assets/colab-badge.svg\" alt=\"Open In Colab\"/></a>"
      ]
    },
    {
      "metadata": {
        "id": "QkqK3vkHs1h_",
        "colab_type": "text"
      },
      "cell_type": "markdown",
      "source": [
        "#13.1 Abundance of Digitized Text\n",
        "\n",
        "##13.1.1 Notations for Strings and the Python `str` Class\n",
        "Character strings are used as a model for text when dicussing algorithms for text processing. To allow fairly general notions of a string in the algorithm descriptions, assume that the characters of a string come from a known **alphabet**, denoted as $\\Sigma$. For example, in the context of DNA, there are four symbols in the standard alphabet, $\\Sigma=\\{A,C,G,T\\}$. The alphabet $\\Sigma$ can also be a subset of the ASCII or Unicode character sets.\n",
        "\n",
        "In order to be able to speak about the pieces that result from string-processing operations, the Python's *indexing* and *slicing* notations are used here. `S[0:k]` refers to any substring for $0\\leq k\\leq n$ as a **prefix** of `S`. This can also be used as `S[:k]`. Similarly, `S[j:n]` refers to any substring for $0\\leq j\\leq n$ as a **suffix** of `S`, or used as `S[j:]`."
      ]
    },
    {
      "metadata": {
        "id": "lmxc0LLA87X-",
        "colab_type": "text"
      },
      "cell_type": "markdown",
      "source": [
        "#13.2 Pattern-Matching Algorithms\n",
        "In the classic **pattern-matching** problem, a **text** string `T` of length $n$ and a **pattern** string `P` of length $m$ are given, and the problem is asked to find whether `P` is a substring of `T`. If so, find the lowest index $j$ within `T`at which `P` begins, such that `T[j:j+m]` equals `P`, or perhaps to find all indices of `T` at which pattern `P` begins.\n",
        "\n",
        "This problem can be solved by using Python's `str` class, such as `P in T`, `T.find(P)`, `T.index(P)`, `T.count(P)`, or more complex tasks such as `T.partition(P)`, `T.split(P)`, and `T.replace(P,Q)`.\n",
        "\n",
        "For example:\n"
      ]
    },
    {
      "metadata": {
        "id": "-LaHQZRd-KLC",
        "colab_type": "code",
        "colab": {}
      },
      "cell_type": "code",
      "source": [
        "T = 'CGTAAACTGCTTTAATCAAACGC'\n",
        "#                 ^index 13\n",
        "P = 'AATCA'"
      ],
      "execution_count": 0,
      "outputs": []
    },
    {
      "metadata": {
        "id": "SxKySxuC-TVK",
        "colab_type": "code",
        "outputId": "6c51ebc8-f3ea-40b0-e3ee-b82f922e3bea",
        "colab": {
          "base_uri": "https://localhost:8080/",
          "height": 35
        }
      },
      "cell_type": "code",
      "source": [
        "T.find(P)"
      ],
      "execution_count": 0,
      "outputs": [
        {
          "output_type": "execute_result",
          "data": {
            "text/plain": [
              "13"
            ]
          },
          "metadata": {
            "tags": []
          },
          "execution_count": 2
        }
      ]
    },
    {
      "metadata": {
        "id": "5U5-DlDe-UA2",
        "colab_type": "code",
        "outputId": "81897d31-7f3c-459f-e32d-cfb8ff14a223",
        "colab": {
          "base_uri": "https://localhost:8080/",
          "height": 35
        }
      },
      "cell_type": "code",
      "source": [
        "T.index(P)"
      ],
      "execution_count": 0,
      "outputs": [
        {
          "output_type": "execute_result",
          "data": {
            "text/plain": [
              "13"
            ]
          },
          "metadata": {
            "tags": []
          },
          "execution_count": 3
        }
      ]
    },
    {
      "metadata": {
        "id": "qGe_a4Oy-gcN",
        "colab_type": "code",
        "outputId": "39d13812-fd18-4a10-ae12-5f672d70420a",
        "colab": {
          "base_uri": "https://localhost:8080/",
          "height": 35
        }
      },
      "cell_type": "code",
      "source": [
        "T.count(P)"
      ],
      "execution_count": 0,
      "outputs": [
        {
          "output_type": "execute_result",
          "data": {
            "text/plain": [
              "1"
            ]
          },
          "metadata": {
            "tags": []
          },
          "execution_count": 4
        }
      ]
    },
    {
      "metadata": {
        "id": "BUlrt0hd-iXn",
        "colab_type": "code",
        "outputId": "f0a04fb9-68d4-4bb3-ae1a-48127cff9d77",
        "colab": {
          "base_uri": "https://localhost:8080/",
          "height": 35
        }
      },
      "cell_type": "code",
      "source": [
        "T.count('AAA')"
      ],
      "execution_count": 0,
      "outputs": [
        {
          "output_type": "execute_result",
          "data": {
            "text/plain": [
              "2"
            ]
          },
          "metadata": {
            "tags": []
          },
          "execution_count": 5
        }
      ]
    },
    {
      "metadata": {
        "id": "Tt8fVFj6-l57",
        "colab_type": "code",
        "outputId": "754223dd-4760-4a86-b67a-32befe66b1c3",
        "colab": {
          "base_uri": "https://localhost:8080/",
          "height": 35
        }
      },
      "cell_type": "code",
      "source": [
        "T.partition(P)"
      ],
      "execution_count": 0,
      "outputs": [
        {
          "output_type": "execute_result",
          "data": {
            "text/plain": [
              "('CGTAAACTGCTTT', 'AATCA', 'AACGC')"
            ]
          },
          "metadata": {
            "tags": []
          },
          "execution_count": 6
        }
      ]
    },
    {
      "metadata": {
        "id": "oOJRFlGI-pOS",
        "colab_type": "code",
        "outputId": "89b8bab0-9e10-4824-fd6f-e89e5bcf9700",
        "colab": {
          "base_uri": "https://localhost:8080/",
          "height": 35
        }
      },
      "cell_type": "code",
      "source": [
        "T.split(P)"
      ],
      "execution_count": 0,
      "outputs": [
        {
          "output_type": "execute_result",
          "data": {
            "text/plain": [
              "['CGTAAACTGCTTT', 'AACGC']"
            ]
          },
          "metadata": {
            "tags": []
          },
          "execution_count": 7
        }
      ]
    },
    {
      "metadata": {
        "id": "4oqrr3T9-yCg",
        "colab_type": "text"
      },
      "cell_type": "markdown",
      "source": [
        "For simplicity, the outward semantics of the functions are modeled upon the `find` method of the string class, returning the lowest index at which the pattern begins, or `-1` if the pattern is not found."
      ]
    },
    {
      "metadata": {
        "id": "rb83Zki3--x-",
        "colab_type": "text"
      },
      "cell_type": "markdown",
      "source": [
        "##13.2.1 Brute Force\n",
        "The **brute-force** design pattern is used when searching or optimizing some functions. When it is applied in a general situation,  it enumerates all possible configurations of the inputs involved and pick the best of all these enumerated configurations."
      ]
    },
    {
      "metadata": {
        "id": "LGuFd1ec_hgd",
        "colab_type": "code",
        "colab": {}
      },
      "cell_type": "code",
      "source": [
        "def find_brute(T, P):\n",
        "  '''Return the lowest index of T at which substring P begins (or else -1)'''\n",
        "  n, m = len(T), len(P) # introduce convenient notations\n",
        "  for i in range(n-m+1): # try every potential starting index within T\n",
        "    k = 0 # an index into pattern P\n",
        "    while k < m and T[i+k] == P[k]: # kth character of P matches\n",
        "      k += 1\n",
        "    if k == m: # if we reached the end of pattern\n",
        "      return i # substring T[i:i+m] matches P\n",
        "  return -1 # failed to find a match starting with any i"
      ],
      "execution_count": 0,
      "outputs": []
    },
    {
      "metadata": {
        "id": "D6wGMlkFAfmT",
        "colab_type": "text"
      },
      "cell_type": "markdown",
      "source": [
        "The worst-case running time of the brute-force methods is $O(nm)$."
      ]
    },
    {
      "metadata": {
        "id": "Qlm5s9H5Asw6",
        "colab_type": "text"
      },
      "cell_type": "markdown",
      "source": [
        "##13.2.2 The Boyer-Moore Algorithm\n",
        "The **Boyer-Moore** pattern-matching algorithm can sometimes avoid comparisons between `P` and a sizable fraction of the characters in `T`, as it may not be necessary to examine every character in `T` in order to locate a pattern `P` as a substring or to rule out its existence.\n",
        "\n",
        "The main idea here is to improve the running time of the brute-force algorithm by adding two potentially time-saving heuristics:\n",
        "1. **Looking-Glass Heuristic**: When testing a possible placement of `P` against `T`, begin the comparisons from the end of `P` and move backward to the front of `P`.\n",
        "2. **Character-Jump Heuristic**: During the testing of a possible placement of `P` within `T`, a mismatch of text character `T[i]=c` with the corresponding pattern character `P[k]` is handled as follows. If $c$ is not contained anywhere in `P`, then shift `P` completely past `T[i]` (for it cannot match any character in `P`). Otherwise, shift `P` until an occurrence of character $c$ in `P` gets aligned with `T[i]`.\n",
        "\n",
        "More generally, when a match is found for\n",
        "that last character, the algorithm continues by trying to extend the match with the\n",
        "second-to-last character of the pattern in its current alignment. That process continues\n",
        "until either matching the entire pattern, or finding a mismatch at some interior\n",
        "position of the pattern.\n",
        "\n",
        "If a mismatch is found, and the mismatched character of the text does not occur in the pattern, the entire pattern is shifted beyond that location.\n",
        "\n",
        "The efficiency of the Boyer-Moore algorithm relies on creating a lookup table that quickly determines where a mismatched character occurs elsewhere in the pattern. Thus define a function `last(c)` as\n",
        "* If $c$ is in `P`, `last(c)` is the index of the last (rightmost) occurrence of $c$ in `P`. Otherwise, `last(c)=-1`.\n",
        "\n",
        "Assume that the alphabet is of fixed, finite size, and characters can be converted to indices of an array, then the `last(c)` function runs with worst-case $O(1)$ time, but the table would have length equal to the size of the alphabet. A hash table is preferred to represent the `last` function with only those characters from the pattern occurring in the structure. Then the expected lookup time is $O(m)$."
      ]
    },
    {
      "metadata": {
        "id": "WuulI6NKEGNu",
        "colab_type": "code",
        "colab": {}
      },
      "cell_type": "code",
      "source": [
        "def find_boyer_moore(T, P):\n",
        "  '''Return the lowest index of T at which substring P begins (or else -1)'''\n",
        "  n, m = len(T), len(P) # introduce convenient notations\n",
        "  if m == 0: return 0 # trivial search for empty string\n",
        "  last = {} # build 'last' dictionary\n",
        "  for k in range(m):\n",
        "    last[ P[k] ] = k # later occurrence overwrites\n",
        "  # align end of pattern at index m-1 of text\n",
        "  i = m-1 # an index into T\n",
        "  k = m-1 # an index into P\n",
        "  while i < n:\n",
        "    if T[i] == P[k]: # a matching character\n",
        "      if k == 0:\n",
        "        return i # pattern begins at index i of text\n",
        "      else:\n",
        "        i -= 1 # examine previous character\n",
        "        k -= 1 # of both T and P\n",
        "    else:\n",
        "      j = last.get(T[i], -1) # last(T[i]) is -1 if not found\n",
        "      i += m - min(k, j+1) # case analysis for jump step\n",
        "      k = m-1 # restart at end of pattern\n",
        "  return -1"
      ],
      "execution_count": 0,
      "outputs": []
    },
    {
      "metadata": {
        "id": "jGU-fmiHFKxh",
        "colab_type": "text"
      },
      "cell_type": "markdown",
      "source": [
        "The correctness of the Boyer-Moore pattern-matching algorithm follows from\n",
        "the fact that each time the method makes a shift, it is guaranteed not to “skip” over\n",
        "any possible matches. For `last(c)` is the location of the last occurrence of $c$ in `P`.\n",
        "\n",
        "The running time is $O(n+m+|\\Sigma|)$ in the original algorithm."
      ]
    },
    {
      "metadata": {
        "id": "pLoG9DROFpw2",
        "colab_type": "text"
      },
      "cell_type": "markdown",
      "source": [
        "##13.2.3 The Knuth-Morris-Pratt Algorithm\n",
        "The main idea of the KMP algorithm is to percompute self-overlaps between portions of the pattern so that when a mismatch occurs at one location, the maximum amount to shift the pattern is immediately known before continuing the search.\n",
        "\n",
        "###The Failure Function\n",
        "A **failure function**, $f$, indicates the proper shift of `P` upon a failed comparison. The failure function $f(k)$ is defined as the length of the longest prefix of `P` that is a suffix of `P[1:k+1]` (note that `P[0]` is excluded here, since here the shift is at least one unit). If a mismatch is found upon character `P[k+1]`, the function $f(k)$ tells how many of the immediately preceding characters can be reused to restart the pattern.\n",
        "\n",
        "###Implementation"
      ]
    },
    {
      "metadata": {
        "id": "ppT48jq3HQZa",
        "colab_type": "code",
        "colab": {}
      },
      "cell_type": "code",
      "source": [
        "def find_kmp(T, P):\n",
        "  '''Return the lowest index of T at which substring P begins (or else -1)'''\n",
        "  n, m = len(T), len(P)\n",
        "  if m == 0: return 0\n",
        "  fail = compute_kmp_fail(P) # rely on utility to precompute\n",
        "  j = 0 # index into text\n",
        "  k = 0 # index into pattern\n",
        "  while j < n:\n",
        "    if T[j] == P[k]: # P[0:1+k] matched thus far\n",
        "      if k == m-1: # match is complete\n",
        "        return j - m + 1\n",
        "      j += 1 # try to extend match\n",
        "      k += 1\n",
        "    elif k > 0:\n",
        "      k = fail[k-1] # reuse suffix of P[0:k]\n",
        "    else:\n",
        "      j += 1\n",
        "  return -1 # reached end without match"
      ],
      "execution_count": 0,
      "outputs": []
    },
    {
      "metadata": {
        "id": "wXV5ia9sH18I",
        "colab_type": "text"
      },
      "cell_type": "markdown",
      "source": [
        "The implementation of KMP pattern-matching algorithm relies on a utility function, `compute_kmp_fail` to compute the failure function efficiently.\n",
        "\n",
        "The main part of the KMP algorithm is its **while** loop, each iteration of which\n",
        "performs a comparison between the character at index `j` in `T` and the character at\n",
        "index `k` in `P`. If the outcome of this comparison is a match, the algorithm moves on\n",
        "to the next characters in both `T` and `P` (or reports a match if reaching the end of the\n",
        "pattern). If the comparison failed, the algorithm consults the failure function for a\n",
        "new candidate character in `P`, or starts over with the next index in `T` if failing on\n",
        "the first character of the pattern (since nothing can be reused)."
      ]
    },
    {
      "metadata": {
        "id": "HkgQOgpxISxD",
        "colab_type": "text"
      },
      "cell_type": "markdown",
      "source": [
        "###KMP Failure Function"
      ]
    },
    {
      "metadata": {
        "id": "og6rUwX0IVC6",
        "colab_type": "code",
        "colab": {}
      },
      "cell_type": "code",
      "source": [
        "def compute_kmp_fail(P):\n",
        "  '''Utility that computes and returns KMP fail list'''\n",
        "  m = len(P)\n",
        "  fail = [0] * m # by default, presume overlap of 0 everywhere\n",
        "  j = 1\n",
        "  k = 0\n",
        "  while j < m: # compute f(j) during this pass, if nonzero\n",
        "    if P[j] == P[k]: # k+1 characters match thus far\n",
        "      fail[j] = k+1\n",
        "      j += 1\n",
        "      k += 1\n",
        "    elif k > 0: # k follows a matching prefix\n",
        "      k = fail[k-1]\n",
        "    else: # no match found starting at j\n",
        "      j += 1\n",
        "  return fail"
      ],
      "execution_count": 0,
      "outputs": []
    },
    {
      "metadata": {
        "id": "dg8Bo2QLI0qQ",
        "colab_type": "text"
      },
      "cell_type": "markdown",
      "source": [
        "The failure function applies a \"bootstrapping\" process that compares the pattern to itself as in the KMP algorithm. Each time two characters match, set $f(j)=k+1$.\n",
        "\n",
        "*The Knuth-Morris-Pratt algorithm performs pattern matching\n",
        "on a text string of length $n$ and a pattern string of length $m$ in $O(n+m)$ time.*"
      ]
    },
    {
      "metadata": {
        "id": "9CS_DQ_TPa1a",
        "colab_type": "text"
      },
      "cell_type": "markdown",
      "source": [
        "#13.3 Dynamic Programming\n",
        "**Dynamic programming** algorithm-design technique can be used to take problems that seem to require exponential time and produce polynomial-time algorithms to solve them."
      ]
    },
    {
      "metadata": {
        "id": "gH5X_bIVQAlO",
        "colab_type": "text"
      },
      "cell_type": "markdown",
      "source": [
        "##13.3.1 Matrix Chain-Product\n",
        "The matrix chain-product problem is to determine the parenthesization of the\n",
        "expression defining the product $A$ that minimizes the total number of scalar multiplications\n",
        "performed.\n",
        "\n",
        "The straightforward (\"brute force\") way to solve this problem is to enumerate all possible ways of parenthesizing the expression for $A$ and determine the number of multiplications performed by each one, however the number of different parenthesizations of expression for $A$ is euqal in number to the set of all different binary trees that have $n$ leaves, which is exponential in $n$.\n",
        "\n",
        "###Characterizing Optimal Solutions\n",
        "Characterize an optimal solution to a particular subproblem in terms of optimal solutons to its subproblems.\n",
        "\n",
        "###Designing a Dynamic Programming Algorithm\n",
        "**Sharing of subproblems** helps prevent from dividing the problem into completely independent subproblems."
      ]
    },
    {
      "metadata": {
        "id": "NNnz8eoRmPwd",
        "colab_type": "code",
        "colab": {}
      },
      "cell_type": "code",
      "source": [
        "def matrix_chain(d):\n",
        "  '''d is a list of n+1 numbers such that size of kth matrix is d[k]-by-d[k+1]\n",
        "  \n",
        "  Return a n-by-n table such that N[i][j] represents the minimum number of \n",
        "  multiplications needed to compute the product of Ai through Aj inclusive\n",
        "  '''\n",
        "  n = len(d) - 1 # number of matrices\n",
        "  N = [[0] * n for i in range(n)] # initialize n-by-n result to zero\n",
        "  for b in range(1, n): # number of products in subchain\n",
        "    for i in range(n-b): # start of subchain\n",
        "      j = i + b # end of subchain\n",
        "      N[i][j] = min(N[i][k]+N[k+1][j]+d[i]*d[k+1]*d[j+1] for k in range(i,j))\n",
        "  return N"
      ],
      "execution_count": 0,
      "outputs": []
    },
    {
      "metadata": {
        "id": "Zv9pZK6bnJ3N",
        "colab_type": "text"
      },
      "cell_type": "markdown",
      "source": [
        "The total running time of this algorithm is $O(n^3)$."
      ]
    },
    {
      "metadata": {
        "id": "xpdGagYSnPjL",
        "colab_type": "text"
      },
      "cell_type": "markdown",
      "source": [
        "##13.3.2 DNA and Text Sequence Alignment\n",
        "In a genetics application, the two sttrings could correspond to two strands of DNA, for which are computed similarities.\n",
        "\n",
        "Given a string $X=x_0x_1x_2...x_{n-1}$, a subsequence of $X$ is any string that is of the form $x_{i_1}x_{i_2}...x_{i_k}$, where $i_j<i_{j+1}$; that is, it is a sequence of characters that are not necessarily contiguous but are nevertheless taken in order from $X$. For example, The string AAAG is a subsequence of the string CG**A**T**AA**TT**G**AGA.\n",
        "\n",
        "This type of problems is the **longest common subsequence** (LCS) problem. In this problem, two character strings are given, $X=x_0x_1x_2...x_{n-1}$ and $Y=y_0y_1y_2...y_{m-1}$, over some alphabet and are asked to find a longest string $S$ that is subsequence of both $X$ and $Y$."
      ]
    },
    {
      "metadata": {
        "id": "EXhDB93zpH8t",
        "colab_type": "text"
      },
      "cell_type": "markdown",
      "source": [
        "###Components of a Dynamic Programming Solution\n",
        "The dynamic programming technique is used primarily for **optimization** problem, where the objective is to find the \"best\" way of doing something.\n",
        "\n",
        "Dynamic programming is applied if the problem has certain properties:\n",
        "* **Simple Subproblems**: There has to be some way of repeatedly breaking the global\n",
        "optimization problem into subproblems. Moreover, there should be a way to\n",
        "parameterize subproblems with just a few indices, like i, j, k, and so on.\n",
        "* **Subproblem Optimization**: An optimal solution to the global problem must be a\n",
        "composition of optimal subproblem solutions.\n",
        "* **Subproblem Overlap**: Optimal solutions to unrelated subproblems can contain\n",
        "subproblems in common"
      ]
    },
    {
      "metadata": {
        "id": "wwQo57KjJ16b",
        "colab_type": "text"
      },
      "cell_type": "markdown",
      "source": [
        "###The LCS Algorithm"
      ]
    },
    {
      "metadata": {
        "id": "6bPMn4M2J6Jv",
        "colab_type": "code",
        "colab": {}
      },
      "cell_type": "code",
      "source": [
        "def LCS(X, Y):\n",
        "  '''Return table such that L[j][k] is length of LCS for X[0:j] and Y[0:k]'''\n",
        "  n, m = len(X), len(Y)\n",
        "  L = [[0]*(m+1) for k in range(n+1)] # (n+1) x (m+1) table\n",
        "  for j in range(n):\n",
        "    for k in range(m):\n",
        "      if X[j] == Y[k]: # align this match\n",
        "        L[j+1][k+1] = L[j][k] + 1\n",
        "      else: # choose to ignore one character\n",
        "        L[j+1][k+1] = max(L[j][k+1], L[j+1][k])\n",
        "  return L"
      ],
      "execution_count": 0,
      "outputs": []
    },
    {
      "metadata": {
        "id": "d1tANR1BKfm1",
        "colab_type": "text"
      },
      "cell_type": "markdown",
      "source": [
        "This algorithm runs in $O(nm)$ time, so the dynamic programming technique can be applied to this problem."
      ]
    },
    {
      "metadata": {
        "id": "sWUCfhFgKpqc",
        "colab_type": "code",
        "colab": {}
      },
      "cell_type": "code",
      "source": [
        "def LCS_solution(X, Y, L):\n",
        "  '''Return the longest common substring of X and Y, given LCS table L'''\n",
        "  solution = []\n",
        "  j,k = len(X), len(Y)\n",
        "  while L[j][k] > 0: # common characters remain\n",
        "    if X[j-1] == Y[k-1]:\n",
        "      solution.append(X[j-1])\n",
        "      j -= 1\n",
        "      k -= 1\n",
        "    elif L[j-1][k] >= L[j][k-1]:\n",
        "      j -= 1\n",
        "    else:\n",
        "      k -= 1\n",
        "  return ''.join(reversed(solution)) # return left-to-right version"
      ],
      "execution_count": 0,
      "outputs": []
    },
    {
      "metadata": {
        "id": "dl7RyqsSMcfR",
        "colab_type": "text"
      },
      "cell_type": "markdown",
      "source": [
        "The `LCS` function computes the length of the longest common subsequence but not the subsequence itself. The `LCS_solution` function reconstructs back to front by reverse engineering the calculation, constructs a longest common subsequence in $O(n+m)$ additional time."
      ]
    }
  ]
}