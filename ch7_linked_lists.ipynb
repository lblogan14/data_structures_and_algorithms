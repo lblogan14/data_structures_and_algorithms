{
  "nbformat": 4,
  "nbformat_minor": 0,
  "metadata": {
    "colab": {
      "name": "ch7_linked_lists.ipynb",
      "version": "0.3.2",
      "provenance": [],
      "collapsed_sections": [],
      "include_colab_link": true
    },
    "kernelspec": {
      "name": "python3",
      "display_name": "Python 3"
    }
  },
  "cells": [
    {
      "cell_type": "markdown",
      "metadata": {
        "id": "view-in-github",
        "colab_type": "text"
      },
      "source": [
        "<a href=\"https://colab.research.google.com/github/lblogan14/data_structures_and_algorithms/blob/master/ch7_linked_lists.ipynb\" target=\"_parent\"><img src=\"https://colab.research.google.com/assets/colab-badge.svg\" alt=\"Open In Colab\"/></a>"
      ]
    },
    {
      "metadata": {
        "id": "OaHaTouT_YFu",
        "colab_type": "text"
      },
      "cell_type": "markdown",
      "source": [
        "The Python's `list` class is highly optimized but there are some disadvantages:\n",
        "1. The length of a dynamic array might be longer than the actual number of\n",
        "elements that it stores.\n",
        "2. Amortized bounds for operations may be unacceptable in real-time systems.\n",
        "3. Insertions and deletions at interior positions of an array are expensive."
      ]
    },
    {
      "metadata": {
        "id": "U6ubP0DG_n5H",
        "colab_type": "text"
      },
      "cell_type": "markdown",
      "source": [
        "A **linked list**, an alternative to an array-based sequence, relies on a more distributed representation in which a lightweight object, known as a **node**, is allocated for each element. Each node maintains a reference to its element and one or more references to neighboring\n",
        "nodes in order to collectively represent the linear order of the sequence."
      ]
    },
    {
      "metadata": {
        "id": "Q-fwfc5q_-6R",
        "colab_type": "text"
      },
      "cell_type": "markdown",
      "source": [
        "#7.1 Singly Linked Lists\n",
        "A **singly linked list** is a collection of **nodes** that collectively form a linear sequence. Each node stores a reference to an object that is an element of the sequence, as well as a reference to the next node of the list. \\\\\n",
        "The first and last nodes of a linked list are known as the **head** and **tail** of the list, respectively. By starting at the head, and moving from one node to another by following each node's `next` reference, the tail of the list can be reached. If the `next` reference returns `None`, it is identified as the tail node. The process of traversing a list is known as *link hopping* or *pointer hopping*.\n",
        "\n",
        "###Inserting an Element at the Head of a Singly Linked List\n",
        "Algorithm `add_first(L,e)`: (pseduecode) \\\\\n",
        "`newest = Node(e) {create new node instance storing reference to element e}` \\\\\n",
        "`newest.next = L.head {set new node's next to reference the old head node}` \\\\\n",
        "`L.head = newest {set variable head to refernece the new node}` \\\\\n",
        "`L.size = L.size + 1 {increment the node count}`\n",
        "\n",
        "###Inserting an Element at the Tail of a Singly Linked List\n",
        "Algorithm `add_last(L,e)`: \\\\\n",
        "`newest = Node(e) {create new node instance storing reference to element e}` \\\\\n",
        "`newest.next = None {set new node's next to reference the None object}` \\\\\n",
        "`L.tail.next = newest {make old tail node point to new node}` \\\\\n",
        "`L.tail = newest {set variable tail to reference the new node}` \\\\\n",
        "`L.size = L.size + 1 {increment the node count}`\n",
        "\n",
        "###Removing an Element from a Singly Linked List\n",
        "Algorithm `remove_first(L)`: \\\\\n",
        "`if L.head is None then` \\\\\n",
        "$\\quad$ `Indicate an error: the list is empty` \\\\\n",
        "`L.head = L.head.next {make head point to next node (or None)}` \\\\\n",
        "`L.size = L.size - 1 {decrement the node count}`\n",
        "\n",
        "Unfortunately, we cannot easily delete the last node of a singly linked list. Even\n",
        "if we maintain a tail reference directly to the last node of the list, we must be able\n",
        "to access the node before the last node in order to remove the last node. But we\n",
        "cannot reach the node before the tail by following next links from the tail. The only\n",
        "way to access this node is to start from the head of the list and search all the way\n",
        "through the list. But such a sequence of link-hopping operations could take a long\n",
        "time"
      ]
    },
    {
      "metadata": {
        "id": "XkmwNe1eP17o",
        "colab_type": "text"
      },
      "cell_type": "markdown",
      "source": [
        "##7.1.1 Implementing a Stack with a Singly Linked List\n",
        "To represent individual nodes of the list, a lightweight `_Node` class is developed, which will never be directly exposed to the user of the stack class."
      ]
    },
    {
      "metadata": {
        "id": "KaAqfJc5QOhs",
        "colab_type": "code",
        "colab": {}
      },
      "cell_type": "code",
      "source": [
        "class _Node:\n",
        "  '''Lightweight, nonpublic class for storing a singly linked node'''\n",
        "  __slots__ = '_element', '_next' # streamline memory usage\n",
        "  \n",
        "  def __init__(self, element, next): # initialize node's fields\n",
        "    self._element = element # reference to user's element\n",
        "    self._next = next # reference to next node"
      ],
      "execution_count": 0,
      "outputs": []
    },
    {
      "metadata": {
        "id": "fnvIBlExQuH7",
        "colab_type": "text"
      },
      "cell_type": "markdown",
      "source": [
        "This node only has two instance variables: `_element` and `_next`, which are defined with the `__slots__` to streamline the memory usage, because there may potentially be many node instances in a single list."
      ]
    },
    {
      "metadata": {
        "id": "2wy2KtLRRGk7",
        "colab_type": "text"
      },
      "cell_type": "markdown",
      "source": [
        "####Implementation of a stack ADT using a singly linked list"
      ]
    },
    {
      "metadata": {
        "id": "q-s4ugzHRMWl",
        "colab_type": "code",
        "colab": {}
      },
      "cell_type": "code",
      "source": [
        "class LinkedStack:\n",
        "  '''LIFO Stack implementation using a singly linked list for storage'''\n",
        "  \n",
        "  #----------------------nested _Node class-------------------------\n",
        "  class _Node:\n",
        "    '''Lightweight, nonpublic class for storing a singly linked node'''\n",
        "    __slots__ = '_element', '_next' # streamline memory usage\n",
        "    \n",
        "    def __init__(self, element, next): # initialize node's fields\n",
        "      self._element = element # reference to user's element\n",
        "      self._next = next # reference to next node\n",
        "      \n",
        "  #---------------------stack methods-------------------------------\n",
        "  def __init__(self):\n",
        "    '''Create an empty stack'''\n",
        "    self._head = None # reference to the head node\n",
        "    self._size = 0 # number of stack elements\n",
        "    \n",
        "  def __len__(self):\n",
        "    '''Return the number of elements in the stack'''\n",
        "    return self._size\n",
        "  \n",
        "  def is_empty(self):\n",
        "    '''Return True if the stack is empty'''\n",
        "    return self._size == 0\n",
        "  \n",
        "  def push(self, e):\n",
        "    '''Add element e to the top of the stack'''\n",
        "    self._head = self._Node(e, self._head) # create and link a new node\n",
        "    self._size += 1\n",
        "    \n",
        "  def top(self):\n",
        "    '''Return (but do not remove) the element at the top of the stack\n",
        "    \n",
        "    Raise Empty exception if the stack is empty\n",
        "    '''\n",
        "    if self.is_empty():\n",
        "      raise Empty('Stack is empty')\n",
        "    return self._head._element # top of stack is at the head of list\n",
        "  \n",
        "  def pop(self):\n",
        "    '''Remove and return the element from the top of the stack (i.e. LIFO)\n",
        "    \n",
        "    Raise Empty exception if the stack is empty\n",
        "    '''\n",
        "    if self.is_empty():\n",
        "      raise Empty('Stack is empty')\n",
        "    answer = self._head._element\n",
        "    self._head = self._head._next # bypass the former top node\n",
        "    self._size -= 1\n",
        "    return answer"
      ],
      "execution_count": 0,
      "outputs": []
    },
    {
      "metadata": {
        "id": "C77y987VTb_A",
        "colab_type": "text"
      },
      "cell_type": "markdown",
      "source": [
        "Each stack instance maintains two variables. The `_head` member is a reference to the node at the head of the list (or `None`, if the stack is empty)"
      ]
    },
    {
      "metadata": {
        "id": "v3LJ5eFdVGkG",
        "colab_type": "text"
      },
      "cell_type": "markdown",
      "source": [
        "##7.1.2 Implementing a Queue with a Singly Linked List\n",
        "The natural orientation for a queue is to align the front of the queue with the head of\n",
        "the list, and the back of the queue with the tail of the list, because we must be able to enqueue elements at the back, and dequeue them from the front."
      ]
    },
    {
      "metadata": {
        "id": "MDbppMamVdQj",
        "colab_type": "code",
        "colab": {}
      },
      "cell_type": "code",
      "source": [
        "class LinkedQueue:\n",
        "  '''FIFO queue implementation using a singly linked list for storage'''\n",
        "  \n",
        "  #----------------------nested _Node class-------------------------\n",
        "  class _Node:\n",
        "    '''Lightweight, nonpublic class for storing a singly linked node'''\n",
        "    __slots__ = '_element', '_next' # streamline memory usage\n",
        "    \n",
        "    def __init__(self, element, next): # initialize node's fields\n",
        "      self._element = element # reference to user's element\n",
        "      self._next = next # reference to next node\n",
        "      \n",
        "  #---------------------queue methods-------------------------------\n",
        "  def __init__(self):\n",
        "    '''Create an empty queue'''\n",
        "    self._head = None\n",
        "    self._tail = None\n",
        "    self._size = 0 # number of queue elements\n",
        "    \n",
        "  def __len__(self):\n",
        "    '''Return the number of elements in the queue'''\n",
        "    return self._size\n",
        "  \n",
        "  def is_empty(self):\n",
        "    '''Return True if the queue is empty'''\n",
        "    return self._size == 0\n",
        "  \n",
        "  def first(self):\n",
        "    '''Return (but do not remove) the element at the front of the queue'''\n",
        "    if self.is_empty():\n",
        "      raise Empty('Queue is empty')\n",
        "    return self._head._element # front aligned with head of list\n",
        "  \n",
        "  def dequeue(self):\n",
        "    '''Remove and return the first element of the queue (i.e. FIFO)\n",
        "    \n",
        "    Raise Empty exception if the queue is empty\n",
        "    '''\n",
        "    if self.is_empty():\n",
        "      raise Empty('Queue is empty')\n",
        "    answer = self._head._element\n",
        "    self._head = self._head._next\n",
        "    self._size -= 1\n",
        "    if self.is_empty(): # special case as queue is empty\n",
        "      self._tail = None # removed head had been the tail\n",
        "    return answer\n",
        "  \n",
        "  def enqueue(self, e):\n",
        "    '''Add an element to the back of queue'''\n",
        "    newest = self._Node(e, None) # node will be new tail node\n",
        "    if self.is_empty():\n",
        "      self._head = newest # special case: previously empty\n",
        "    else:\n",
        "      self._tail._next = newest\n",
        "    self._tail = newest # update reference to tail node\n",
        "    self._size += 1"
      ],
      "execution_count": 0,
      "outputs": []
    },
    {
      "metadata": {
        "id": "bCKuA4X7YroM",
        "colab_type": "text"
      },
      "cell_type": "markdown",
      "source": [
        "#7.2 Circularly Linked Lists\n",
        "The next reference of the tail of the circularly linked lists points back to the head of the list.\n",
        "\n",
        "Even though a circularly linked list has no beginning or end, per\n",
        "se, we must maintain a reference to a particular node in order to make use of the\n",
        "list. We use the identifier `current` to describe such a designated node. By setting\n",
        "`current = current.next`, we can effectively advance through the nodes of the list."
      ]
    },
    {
      "metadata": {
        "id": "AT4z8rASaOBT",
        "colab_type": "text"
      },
      "cell_type": "markdown",
      "source": [
        "###Implementing a Queue with a CIrcularly LInked List"
      ]
    },
    {
      "metadata": {
        "id": "XSQtYpPNgu_9",
        "colab_type": "code",
        "colab": {}
      },
      "cell_type": "code",
      "source": [
        "class CircularQueue:\n",
        "  '''Queue implementation using circularly linked list for storage'''\n",
        "  \n",
        "  #----------------------nested _Node class-------------------------\n",
        "  class _Node:\n",
        "    '''Lightweight, nonpublic class for storing a singly linked node'''\n",
        "    __slots__ = '_element', '_next' # streamline memory usage\n",
        "    \n",
        "    def __init__(self, element, next): # initialize node's fields\n",
        "      self._element = element # reference to user's element\n",
        "      self._next = next # reference to next node\n",
        "      \n",
        "  #---------------------queue methods-------------------------------\n",
        "  def __init__(self):\n",
        "    '''Create an empty queue'''\n",
        "    self._tail = None # will represent tail of queue\n",
        "    self._size = 0 # number of queue elements\n",
        "    \n",
        "  def __len__(self):\n",
        "    '''Return the number of elements in the queue'''\n",
        "    return self._size\n",
        "  \n",
        "  def is_empty(self):\n",
        "    '''Return True if the queue is empty'''\n",
        "    return self._size == 0\n",
        "  \n",
        "  def first(self):\n",
        "    '''Return (but do not remove) the element at the front of the queue\n",
        "    \n",
        "    Raise Empty exception if the queue is empty\n",
        "    '''\n",
        "    if self.is_empty():\n",
        "      raise Empty('Queue is empty')\n",
        "    head = self._tail._next\n",
        "    return head._element\n",
        "  \n",
        "  def dequeue(self):\n",
        "    '''Remove and return the first element of the queue (i.e. FIFO)\n",
        "    \n",
        "    Raise Empty exception if the queue is empty\n",
        "    '''\n",
        "    if self.is_empty():\n",
        "      raise Empty('Queue is empty')\n",
        "    oldhead = self._tail._next\n",
        "    if self._size == 1: # removing only element\n",
        "      self._tail = None # queue becomes empty\n",
        "    else:\n",
        "      self._tail._next = oldhead._next # bypass the old head\n",
        "    self._size -= 1\n",
        "    return oldhead._element\n",
        "  \n",
        "  def enqueue(self, e):\n",
        "    '''Add an element to the back of queue'''\n",
        "    newest = self._Node(e, None) # node will be a new tail node\n",
        "    if self.is_empty():\n",
        "      newest._next = newest # intialize circularly\n",
        "    else:\n",
        "      newest._next = self._tail._next # new node points to head\n",
        "      self._tail._next = newest # old tail points to new node\n",
        "    self._tail = newest # new node becomes the tail\n",
        "    self._size += 1\n",
        "    \n",
        "  def rotate(self):\n",
        "    '''Rotate front element to the back of the queue'''\n",
        "    if self._size > 0:\n",
        "      self._tail = self._tail._next # old head becomes new tail"
      ],
      "execution_count": 0,
      "outputs": []
    },
    {
      "metadata": {
        "id": "bm91aGf6jc6H",
        "colab_type": "text"
      },
      "cell_type": "markdown",
      "source": [
        "The only two instance variables are `_tail`, which is a\n",
        "reference to the tail node (or `None` when empty), and `_size`, which is the current\n",
        "number of elements in the queue.\n",
        "\n",
        "The `rotate` method enacts the combination of removing the front element and reinserting it at the back of the queue. With the circular representation,\n",
        "we simply set `self._tail = self._tail._next` to make the old head become the new tail\n",
        "(with the node after the old head becoming the new head)."
      ]
    },
    {
      "metadata": {
        "id": "fprIL3qWkEHT",
        "colab_type": "text"
      },
      "cell_type": "markdown",
      "source": [
        "#7.3 Doubly Linked Lists\n",
        "In a singly linked list, each node maintains a reference to the node that is immediately\n",
        "after it. For singly linked list, we can efficiently insert a node at either end of a singly linked list, and can delete a node at the head of a list, but we are unable to efficiently delete a node\n",
        "at the tail of the list. More generally, we cannot efficiently delete an arbitrary node\n",
        "from an interior position of the list if only given a reference to that node, because\n",
        "we cannot determine the node that immediately precedes the node to be deleted.\n",
        "\n",
        "**Doubly linked list** comes into play as each node in the doubly linked lists keeps an explicit reference to the node before it and a reference to the node after it. \\\\\n",
        "A **header** node at the beginning of the list, and a **trailer** node at the end of the list. These nodes are known as *sentinels (or guards)* and they do not store elements of the primary sequence.\n",
        "\n",
        "When using sentinel nodes, an empty list is initialized so that the `next` field of\n",
        "the header points to the trailer, and the `prev` field of the trailer points to the header.\n",
        "\n",
        "###Advantage of Using Sentinels\n",
        "1. The header and trailer nodes never change—only the nodes between them change.\n",
        "2. Treat all insertions in a unified manner, because a new node will always be\n",
        "placed between a pair of existing nodes"
      ]
    },
    {
      "metadata": {
        "id": "MzPzWvmqluik",
        "colab_type": "text"
      },
      "cell_type": "markdown",
      "source": [
        "##7.3.1 Basic Implementation of a Doubly Linked List\n",
        "When working with a linked list, the most direct way to describe the location\n",
        "of an operation is by identifying a relevant node of the list. However, we prefer\n",
        "to encapsulate the inner workings of our data structure to avoid having users directly\n",
        "access nodes of a list."
      ]
    },
    {
      "metadata": {
        "id": "wuRrgbfnnLHP",
        "colab_type": "code",
        "colab": {}
      },
      "cell_type": "code",
      "source": [
        "class _DoublyLinkedBase:\n",
        "  '''A base class providing a doubly linked list representation'''\n",
        "  \n",
        "  #----------------------nested _Node class-------------------------\n",
        "  class _Node:\n",
        "    '''Lightweight, nonpublic class for storing a doubly linked node'''\n",
        "    __slots__ = '_element', '_prev', '_next' # streamline memory usage\n",
        "    \n",
        "    def __init__(self, element, prev, next): # initialize node's fields\n",
        "      self._element = element # reference to user's element\n",
        "      self._prev = prev # reference to previous node\n",
        "      self._next = next # reference to next node\n",
        "      \n",
        "  #---------------------base-------------------------------\n",
        "  \n",
        "  def __init__(self):\n",
        "    '''Create an empty list'''\n",
        "    self._header = self._Node(None, None, None)\n",
        "    self._trailer = self._Node(None, None, None)\n",
        "    self._header._next = self._trailer # trailer is after header\n",
        "    self._trailer._prev = self._header # header is before trailer\n",
        "    self._size = 0 # number of elements\n",
        "    \n",
        "  def __len__(self):\n",
        "    '''Return the number of elements in the list'''\n",
        "    return self._size\n",
        "  \n",
        "  def is_empty(self):\n",
        "    '''Return True if list is empty'''\n",
        "    return self._size == 0\n",
        "  \n",
        "  def _insert_between(self, e, predecessor, successor):\n",
        "    '''Add element e between two existing nodes and return new node'''\n",
        "    newest = self._Node(e, predecessor, successor) # linked to neighbors\n",
        "    predecessor._next = newest\n",
        "    successor._prev = newest\n",
        "    self._size += 1\n",
        "    return newest\n",
        "  \n",
        "  def _delete_node(self, node):\n",
        "    '''Delete nonsentinel node from the list and return its element'''\n",
        "    predecessor = node._prev\n",
        "    successor = node._next\n",
        "    predecessor._next = successor\n",
        "    successsor._prev = predecessor\n",
        "    self._size -= 1\n",
        "    element = node._element # record deleted element\n",
        "    node._prev = node._next = node._element = None # deprecate node\n",
        "    return element # return deleted element"
      ],
      "execution_count": 0,
      "outputs": []
    },
    {
      "metadata": {
        "id": "5kKnb1LMpe-L",
        "colab_type": "text"
      },
      "cell_type": "markdown",
      "source": [
        "##7.3.2 Implementing a Deque with a Doubly Linked List\n",
        "With an implementation based upon a\n",
        "doubly linked list, we can achieve all deque operation in worst-case $O(1)$ time.\n",
        "\n",
        "The implementation of a `LinkedDeque` class inherits from the `_DoublyLinkedBase` class."
      ]
    },
    {
      "metadata": {
        "id": "oogZC6S3qBFr",
        "colab_type": "code",
        "colab": {}
      },
      "cell_type": "code",
      "source": [
        "class LinkedDeque(_DoublyLinkedBase): # note the use of inheritance\n",
        "  '''Double-ended queue implementation based on a doubly linked list'''\n",
        "  \n",
        "  def first(self):\n",
        "    '''Return (but do not remove) the element at the front of the deque'''\n",
        "    if self.is_empty():\n",
        "      raise Empty('Deque is empty')\n",
        "    return self._header._next._element # real item just after header\n",
        "  \n",
        "  def last(self):\n",
        "    '''Return (but do not remove) the element at the back of the deque'''\n",
        "    if self.is_empty():\n",
        "      raise Empty('Deque is empty')\n",
        "    return self._trailer._prev._element # real item just before trailer\n",
        "  \n",
        "  def insert_first(self, e):\n",
        "    '''Add an element to the front of the deque'''\n",
        "    self.insert_between(e, self._header, self._header._next) # after header\n",
        "    \n",
        "  def insert_last(self, e):\n",
        "    '''Add an element to the back of the deque'''\n",
        "    self.insert_between(e, self._trailer._prev, self._trailer) # before trailer\n",
        "    \n",
        "  def delete_first(self):\n",
        "    '''Remove and return the element from the front of the deque\n",
        "    \n",
        "    Raise Empty exception if the deque is empty\n",
        "    '''\n",
        "    if self.is_empty():\n",
        "      raise Empty('Deque is empty')\n",
        "    return self._delete_node(self._header._next) # use inherited method\n",
        "  \n",
        "  def delete_last(self):\n",
        "    '''Remove and return the element from the back of the deque.\n",
        "\n",
        "    Raise Empty exception if the deque is empty.\n",
        "    '''\n",
        "    if self.is empty( ):\n",
        "      raise Empty(\"Deque is empty\")\n",
        "    return self. delete node(self. trailer. prev) # use inherited method"
      ],
      "execution_count": 0,
      "outputs": []
    },
    {
      "metadata": {
        "id": "F1LYWxnRsQRt",
        "colab_type": "text"
      },
      "cell_type": "markdown",
      "source": [
        "#7.4 The Positional List ADT\n",
        "A position acts as a marker or token within the broader positional list. A position $p$ is unaffected by changes elsewhere in a list; the only way in which position becomes invalid is if an explicit command is issued to delete it.\n",
        "\n",
        "A position instance is a simple object, supporting only the `p.element()` method, which returns the element stored at position `p`.\n",
        "\n",
        "In the context of the positional list ADT, positions serve as parameters to some methods and as return values from other methods. The positional list is defined as `L` and supports the following accessor methods:\n",
        "* `L.first()`: Return the position of the first element of `L`, or `None` if `L` is empty.\n",
        "* `L.last()`: Return the position of the last element of `L`, or `None` if `L` is empty.\n",
        "* `L.before(p)`: Return the position of `L` immediately before position `p`, or `None` if `p` is the first position.\n",
        "* `L.after(p)`: Return the position of `L` immediately after position `p`, or None if\n",
        "`p` is the last position.\n",
        "* `L.is_empty()`: Return `True` if list `L` does not contain any elements.\n",
        "* `len(L)`: Return the number of elements in the list.\n",
        "* `iter(L)`: Return a forward iterator for the elements of the list\n",
        "\n",
        "The positional list ADT also supports the following update methods:\n",
        "* `L.add_first(e)`: Insert a new element `e` at the front of `L`, returning the position\n",
        "of the new element.\n",
        "* `L.add_last(e)`: Insert a new element `e` at the back of `L`, returning the position\n",
        "of the new element.\n",
        "* `L.add_before(p, e)`: Insert a new element `e` just before position `p` in `L`, returning\n",
        "the position of the new element.\n",
        "* `L.add_after(p, e)`: Insert a new element `e` just after position `p` in `L`, returning\n",
        "the position of the new element.\n",
        "* `L.replace(p, e)`: Replace the element at position `p` with element `e`, returning\n",
        "the element formerly at position `p`.\n",
        "* `L.delete(p)`: Remove and return the element at position `p` in `L`, invalidating\n",
        "the position.\n",
        "\n",
        "For those methods of the ADT that accept a position `p` as a parameter, an error\n",
        "occurs if `p` is not a valid position for list `L`.\n",
        "\n",
        "Note well that the `first()` and `last()` methods of the positional list ADT return\n",
        "the associated positions, not the elements"
      ]
    },
    {
      "metadata": {
        "id": "98ooNIvT115s",
        "colab_type": "text"
      },
      "cell_type": "markdown",
      "source": [
        "##Doubly Linked List Implementation\n",
        "The implementation is relied on the `_DoublyLinkedBase` class"
      ]
    },
    {
      "metadata": {
        "id": "TXA2_gY62KvS",
        "colab_type": "code",
        "colab": {}
      },
      "cell_type": "code",
      "source": [
        "class PositionalList(_DoublyLinkedBase):\n",
        "  '''A sequential container of elements allowing positional access'''\n",
        "  \n",
        "  #----------------------nested Position class----------------------\n",
        "  class Position:\n",
        "    '''An abstraction representing the location of a single element'''\n",
        "    def __init__(self, container, node):\n",
        "      '''Constructor should not be invoked by user'''\n",
        "      self._container = container\n",
        "      self._node = node\n",
        "      \n",
        "    def element(self):\n",
        "      '''Return the element stored at this Position'''\n",
        "      return self._node._element\n",
        "    \n",
        "    def __eq__(self, other):\n",
        "      '''Return True if other is a Position representing the same location'''\n",
        "      return type(other) is type(self) and other._node is self._node\n",
        "    \n",
        "    def __ne__(self, other):\n",
        "      '''Return True if other does not represent the same location'''\n",
        "      return not (self == other) # opposite of __eq__\n",
        "  \n",
        "  #----------------------utility methods----------------------------\n",
        "  def _validate(self, p):\n",
        "    '''Return position's node, or raise appropriate error if invalid '''\n",
        "    if not isinstance(p, self.Position):\n",
        "      raise TypeError('p must be proper Position type')\n",
        "    if p._container is not self:\n",
        "      raise ValueError('p does not belong to this container')\n",
        "    if p._node._next is None: # convention for deprecated nodes\n",
        "      raise ValueError('p is no longer valid')\n",
        "    return p._node\n",
        "  \n",
        "  def _make_position(self, node):\n",
        "    '''Return Position instance for given node (or None if sentinel)'''\n",
        "    if node is self._header or node is self._trailer:\n",
        "      return None # boundary violation\n",
        "    else:\n",
        "      return self.Position(self, node) # legitimate position\n",
        "    \n",
        "  #-----------------------accessors---------------------------------\n",
        "  def first(self):\n",
        "    '''Return the first Position in the list (or None if list is empty)'''\n",
        "    return self._make_position(self._header._next)\n",
        "  \n",
        "  def last(self):\n",
        "    '''Return the last Position in the list (or None if list is empty)'''\n",
        "    return self._make_position(self._trailer._prev)\n",
        "  \n",
        "  def before(self, p):\n",
        "    '''Return the Position just before Position p (or None if p is first)'''\n",
        "    node = self._validate(p)\n",
        "    return self._make_position(node._prev)\n",
        "  \n",
        "  def after(self, p):\n",
        "    '''Return the Position just after Position p (or None if p is last)'''\n",
        "    node = self._validate(p)\n",
        "    return self._make_position(node._next)\n",
        "  \n",
        "  def __iter__(self):\n",
        "    '''Generate a forward iteration of the elements of the list'''\n",
        "    cursor = self.first()\n",
        "    while cursor is not None:\n",
        "      yield cursor.element()\n",
        "      cursor = self.after(cursor)\n",
        "      \n",
        "  #------------------------mutators------------------------------------\n",
        "  # override inherited version to return Position, rather than Node\n",
        "  def _insert_between(self, e, predecessor, successor):\n",
        "    '''Add element between existing nodes and return new Position'''\n",
        "    node = super()._insert_between(e, predecessor, successor)\n",
        "    return self._make_position(node)\n",
        "  \n",
        "  def add_first(self, e):\n",
        "    '''Insert element e at the front of the list and return new Position'''\n",
        "    return self._insert_between(e, self._header, self._header._next)\n",
        "  \n",
        "  def add_last(self, e):\n",
        "    '''Insert element e at the back of the list and return new Position'''\n",
        "    return self._insert_between(e, self._trailer._prev, self._trailer)\n",
        "  \n",
        "  def add_before(self, p, e):\n",
        "    '''Insert element e into list before Position p and return new Position'''\n",
        "    original = self._validate(p)\n",
        "    return self._insert_between(e, original._prev, original)\n",
        "  \n",
        "  def add_after(self, p, e):\n",
        "    '''Insert element e into list after Position p and return new Position'''\n",
        "    original = self._validate(p)\n",
        "    return self._insert_between(e, original, original._next)\n",
        "  \n",
        "  def delete(self, p):\n",
        "    '''Remove and return the element at Position p'''\n",
        "    original = self._validate(p)\n",
        "    return self._delete_node(original) # inherited method returns element\n",
        "  \n",
        "  def replace(self, p, e):\n",
        "    '''Replace the element at Position p with e\n",
        "    \n",
        "    Return the element formerly at Position p\n",
        "    '''\n",
        "    original = self._validate(p)\n",
        "    old_value = original._element # temporarily store old element\n",
        "    original._element = e # replace with new element\n",
        "    return old_value # return the old element value"
      ],
      "execution_count": 0,
      "outputs": []
    },
    {
      "metadata": {
        "id": "NKDJx0zB61qI",
        "colab_type": "text"
      },
      "cell_type": "markdown",
      "source": [
        "#7.5 Sorting a Positional List\n",
        "Implementation of the **insertion-sort** algorithm operates on a `PositionalList`, relying on the same high-level algorithm in which each element is placed relative to a growing collection of previously sorted elements.\n",
        "\n",
        "We maintain a variable named `marker` that represents the rightmost position of\n",
        "the currently sorted portion of a list. During each pass, we consider the position just\n",
        "past the marker as the `pivot` and consider where the pivot’s element belongs relative\n",
        "to the sorted portion; we use another variable, named `walk`, to move leftward from\n",
        "the marker, as long as there remains a preceding element with value larger than the\n",
        "pivot’s."
      ]
    },
    {
      "metadata": {
        "id": "Y4K8ZIfN7_R8",
        "colab_type": "code",
        "colab": {}
      },
      "cell_type": "code",
      "source": [
        "def insertion_sort(L):\n",
        "  '''Sort PositionalList of comparable elements into nondecreasing order'''\n",
        "  if len(L) > 1: # otherwise, no need to sort it\n",
        "    marker = L.first()\n",
        "    while marker != L.last():\n",
        "      pivot = L.after(marker) # next item to place\n",
        "      value = pivot.element()\n",
        "      if value > marker.element(): # pivot is already sorted\n",
        "        marker = pivot # pivot becomes new marker\n",
        "      else: # must relocate pivot\n",
        "        walk = marker # find leftmost item greater than value\n",
        "        while walk != L.first() and L.before(walk).element() > value:\n",
        "          walk = L.before(walk)\n",
        "        L.delete(pivot)\n",
        "        L.add_before(walk, value) # reinsert value before walk"
      ],
      "execution_count": 0,
      "outputs": []
    },
    {
      "metadata": {
        "id": "bDjiKGvg89NL",
        "colab_type": "text"
      },
      "cell_type": "markdown",
      "source": [
        "#7.6 Case Study: Maintaining Access Frequencies\n",
        "Maintain a collection of elements while keeping track of the number of times each element is accessed. Keeping such access counts allows people to know which elements are among the most popular. \n",
        "\n",
        "The example here supports the `len` and `is_empty` methods as well as the following new methods:\n",
        "* `access(e)`: Access the element `e`, incrementing its access count, and adding it to the favorites list if it is not already present\n",
        "* `remove(e)`: Remove element `e` from the favorites list, if present\n",
        "* `top(k)`: Return an iteration of the `k` most accessed elements"
      ]
    },
    {
      "metadata": {
        "id": "_x1AfkXF7B4H",
        "colab_type": "text"
      },
      "cell_type": "markdown",
      "source": [
        "##7.6.1 Using a Sorted List\n",
        "Manage a list of favorites to store elements in a *linked list*, keeping them in nonincreasing order of access counts.\n",
        "\n",
        "###Composition Pattern\n",
        "Implement a fovorite list by making use of a `PositionalList` for storage. If elements of the positional list were simply elements of the favorites list, we\n",
        "would be challenged to maintain access counts and to keep the proper count with\n",
        "the associated element as the contents of the list are reordered. We use a general\n",
        "object-oriented design pattern, the **composition pattern**, in which we define a *single\n",
        "object that is composed of two or more other objects*.\n",
        "\n",
        "For example, we define a nonpublic nested class, `_Item`, that stores the element and its access count as a single instance. Then we maintain the favorite list as a `PositionalList` of `Item` instances, so that the access count for a user's element is embedded alongside it in the representation. (An `_Item` instance is never exposed to a user of a `FavoritesList`)"
      ]
    },
    {
      "metadata": {
        "id": "J0bfkOeD8Ov5",
        "colab_type": "code",
        "colab": {}
      },
      "cell_type": "code",
      "source": [
        "class FavoritesList:\n",
        "  '''List of elements ordered from most frequently accessed to least'''\n",
        "  \n",
        "  #-------------------------nested _Item class------------------------\n",
        "  class _Item:\n",
        "    __slots__ = '_value', '_count' # streamline memory usage\n",
        "    \n",
        "    def __init__(self, e):\n",
        "      self._value = e # the user's element\n",
        "      self._count = 0 # access count initially zero\n",
        "      \n",
        "  #-----------------------nonpublic utilities-------------------------\n",
        "  def _find_position(self, e):\n",
        "    '''Search for element e and return its Position (or None if not found)'''\n",
        "    walk = self._data.first()\n",
        "    while walk is not None and walk.element()._value != e:\n",
        "      walk = self._data.after(walk)\n",
        "    return walk\n",
        "  \n",
        "  def _move_up(self, p):\n",
        "    '''Move item at Position p earlier in the list based on access count'''\n",
        "    if p != self._data.first(): # consider moving\n",
        "      cnt = p.element()._count\n",
        "      walk = self._data.before(p)\n",
        "      if cnt > walk.element()._count: # must shift forward\n",
        "        while (walk != self._data.first() and \n",
        "               cnt > self._data.before(walk).element()._count):\n",
        "          walk = self._data.before(walk)\n",
        "        self._data.add_before(walk, self._data.delete(p)) #delete/reinsert\n",
        "        \n",
        "  #----------------------public methods------------------------------\n",
        "  def __init__(self):\n",
        "    '''Create an empty list of favorites'''\n",
        "    self._data = PositionalList() # will be list of _Item instances\n",
        "    \n",
        "  def __len__(self):\n",
        "    '''Return number of entries on favorites list'''\n",
        "    return len(self._data)\n",
        "  \n",
        "  def is_empty(self):\n",
        "    '''Return True if list is empty'''\n",
        "    return len(self._data) == 0\n",
        "  \n",
        "  def access(self, e):\n",
        "    '''Access element e, thereby increasing its access count'''\n",
        "    p = self._find_position(e) # try to locate existing element\n",
        "    if p is None:\n",
        "      p = self._data.add_last(self.Item(e)) # if new, place at end\n",
        "    p.element()._count += 1 # always increment count\n",
        "    self._move_up(p) # consider moving forward\n",
        "    \n",
        "  def remove(self, e):\n",
        "    '''Remove element e from the list of favorites'''\n",
        "    p = self._find_position(e) # try to locate existing element\n",
        "    if p is not None:\n",
        "      self._data.delete(p) # delete, if found\n",
        "      \n",
        "  def top(self, k):\n",
        "    '''Generate sequence of top k elements in terms of access count'''\n",
        "    if not 1 <= k <= len(self):\n",
        "      raise ValueError('Illegal value for k')\n",
        "    walk = self._data.first()\n",
        "    for j in range(k):\n",
        "      item = walk.element() # element of list is _Item\n",
        "      yield item._value # report user's element\n",
        "      walk = self._data.after(walk)"
      ],
      "execution_count": 0,
      "outputs": []
    },
    {
      "metadata": {
        "id": "YCKxSEPR_wVU",
        "colab_type": "text"
      },
      "cell_type": "markdown",
      "source": [
        "The execution time of `access(e)` method takes $O(k)$ time."
      ]
    },
    {
      "metadata": {
        "id": "HyALNqrD_pp5",
        "colab_type": "text"
      },
      "cell_type": "markdown",
      "source": [
        "##7.6.2 Using a List with the Move-to-Front Heuristic\n",
        "A **heuristic**, or rule of thumb, that attempts to take advantage of the locality of reference that is present in an access sequence is the **move-to-front heuristic**.\n",
        "\n",
        "To apply this heuristic, each time we access an element we move it all the way to the front of the list.\n",
        "\n",
        "###Implementation with Move-to-Front Heuristic\n",
        "The new `FavortitesListMTF` class inherits most of its functionality from the original `FavoritesList` as base class. \\\\\n",
        "Override `_move_up` method with Move-to-Front heuristic"
      ]
    },
    {
      "metadata": {
        "id": "2hx2iwxsBUHU",
        "colab_type": "code",
        "colab": {}
      },
      "cell_type": "code",
      "source": [
        "class FavoritesListMTF(FavoritesList):\n",
        "  '''List of elements ordered with move-to-front heuristic'''\n",
        "  \n",
        "  # override _move_up to provide move-to-front semantics\n",
        "  def _move_up(self, p):\n",
        "    '''Move accessed item at Position p to front of list'''\n",
        "    if p != self._data.first():\n",
        "      self._data.add_first(self._data.delete(p)) # delete/reinsert\n",
        "      \n",
        "  # override top because list is no longer sorted\n",
        "  def top(self, k):\n",
        "    '''Generate sequence of top k elements in terms of access count'''\n",
        "    if not 1 <= k <= len(self):\n",
        "      raise ValueError('Illegal value for k')\n",
        "      \n",
        "      # begin by making a copy of the original list\n",
        "      temp = PositionalList()\n",
        "      for item in self._data: # positional lists support iteration\n",
        "        temp.add_last(item)\n",
        "        \n",
        "      # repeatedly find, report, and remove element with largest count\n",
        "      for j in range(k):\n",
        "        # find and report next highest from temp\n",
        "        highPos = temp.first()\n",
        "        walk = temp.after(highPos)\n",
        "        while walk is not None:\n",
        "          if walk.element()._count > highPos.element()._count:\n",
        "            highPos = walk\n",
        "          walk = temp.after(walk)\n",
        "        # found the element with highest count\n",
        "        yield highPos.element._value # report element to user\n",
        "        temp.delete(highPos) # remove from temp list"
      ],
      "execution_count": 0,
      "outputs": []
    },
    {
      "metadata": {
        "id": "IJNNbNbIDK4V",
        "colab_type": "text"
      },
      "cell_type": "markdown",
      "source": [
        "#7.7 Linked-Based vs. Array-Based Sequences\n",
        "\n",
        "###Advantages of Array-Based Sequences\n",
        "* Arrays provide $O(1)$-time access to an element based on an integer index\n",
        "* Operations with equivalent asymptotic bounds typically run a constant factor\n",
        "more efficiently with an array-based structure versus a linked structure\n",
        "* Array-based representations typically use proportionally less memory than\n",
        "linked structures\n",
        "\n",
        "###Advantages of Link-Based Seuqnences\n",
        "* Link-based structures provide worst-case time bounds for their operations.\n",
        "* Link-based structures support $O(1)$-time insertions and deletions at arbitrary\n",
        "positions\n"
      ]
    }
  ]
}