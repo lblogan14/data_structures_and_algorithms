{
  "nbformat": 4,
  "nbformat_minor": 0,
  "metadata": {
    "colab": {
      "name": "ch10_maps_ht_sl.ipynb",
      "version": "0.3.2",
      "provenance": [],
      "collapsed_sections": [],
      "include_colab_link": true
    },
    "kernelspec": {
      "name": "python3",
      "display_name": "Python 3"
    }
  },
  "cells": [
    {
      "cell_type": "markdown",
      "metadata": {
        "id": "view-in-github",
        "colab_type": "text"
      },
      "source": [
        "<a href=\"https://colab.research.google.com/github/lblogan14/data_structures_and_algorithms/blob/master/ch10_maps_ht_sl.ipynb\" target=\"_parent\"><img src=\"https://colab.research.google.com/assets/colab-badge.svg\" alt=\"Open In Colab\"/></a>"
      ]
    },
    {
      "metadata": {
        "id": "BsteIXLn46f6",
        "colab_type": "text"
      },
      "cell_type": "markdown",
      "source": [
        "#10.1 Maps and Dictionaries\n",
        "Dictionaries in Python are commonly known as **associate arrays** or **maps**. The abstraction, *dictionary* or *map* uses unique *keys* to map to associated *values*. The keys are assumed to be unique, but the values are not necessarily unique. Unlike a standard array, indices for a map need not be consecutive nor even numeric."
      ]
    },
    {
      "metadata": {
        "id": "XR5lD5NW5ziE",
        "colab_type": "text"
      },
      "cell_type": "markdown",
      "source": [
        "##10.1.1 The Map ADT\n",
        "A map $M$ supports the following behaviors:\n",
        "* `M[k]`: Return the value `v` associated with key `k` in map `M`, if\n",
        "one exists; otherwise raise a `KeyError`. In Python, this is\n",
        "implemented with the special method `__getitem__` .\n",
        "* `M[k] = v`: Associate value `v` with key `k` in map `M`, replacing the existing\n",
        "value if the map already contains an item with key\n",
        "equal to `k`. In Python, this is implemented with the special\n",
        "method `__setitem__` .\n",
        "* `del M[k]`: Remove from map `M` the item with key equal to `k`; if `M`\n",
        "has no such item, then raise a `KeyError`. In Python, this is\n",
        "implemented with the special method `__delitem__` .\n",
        "* `len(M)`: Return the number of items in map `M`. In Python, this is\n",
        "implemented with the special method `__len__` .\n",
        "* `iter(M)`: The default iteration for a map generates a sequence of\n",
        "keys in the map. In Python, this is implemented with the\n",
        "special method `__iter__` , and it allows loops of the form,\n",
        "for `k` in `M`.\n",
        "\n",
        "Additional behaviors:\n",
        "* `k in M`: Return `True` if the map contains an item with key `k`. In\n",
        "Python, this is implemented with the special `__contains__`\n",
        "method.\n",
        "* `M.get(k, d=None)`: Return `M[k]` if key `k` exists in the map; otherwise return\n",
        "default value `d`. This provides a form to query `M[k]` without\n",
        "risk of a `KeyError`.\n",
        "* `M.setdefault(k, d)`: If key `k` exists in the map, simply return `M[k]`; if key `k`\n",
        "does not exist, set `M[k] = d` and return that value.\n",
        "* `M.pop(k, d=None)`: Remove the item associated with key `k` from the map and\n",
        "return its associated value `v`. If key `k` is not in the map,\n",
        "return default value `d` (or raise `KeyError` if parameter `d` is\n",
        "`None`).\n",
        "* `M.popitem()`: Remove an arbitrary key-value pair from the map, and return\n",
        "`a(k,v)` tuple representing the removed pair. If map is\n",
        "empty, raise a `KeyError`.\n",
        "* `M.clear()`: Remove all key-value pairs from the map.\n",
        "* `M.keys()`: Return a set-like view of all keys of `M`.\n",
        "* `M.values()`: Return a set-like view of all values of `M`.\n",
        "* `M.items()`: Return a set-like view of `(k,v)` tuples for all entries of `M`.\n",
        "* `M.update(M2)`: Assign `M[k] = v` for every `(k,v)` pair in map `M2`.\n",
        "* `M == M2`: Return `True` if maps `M` and `M2` have identical key-value\n",
        "associations.\n",
        "* `M != M2`: Return `True` if maps `M` and `M2` do not have identical keyvalue\n",
        "associations."
      ]
    },
    {
      "metadata": {
        "id": "8lUoApzd8JAU",
        "colab_type": "text"
      },
      "cell_type": "markdown",
      "source": [
        "##10.1.2 Application: Counting Word Frequencies\n",
        "####Counting word frequencies in a document"
      ]
    },
    {
      "metadata": {
        "id": "BgRuIlCb8arf",
        "colab_type": "code",
        "colab": {}
      },
      "cell_type": "code",
      "source": [
        "freq = {}\n",
        "for piece in open(filename).read().lower().split():\n",
        "  # only consider alphabetic characters within this piece\n",
        "  word = ' '.join(c for c in piece if c.isalpha())\n",
        "  if word: # require at least one alphabetic character\n",
        "    freq[word] = 1 + freq.get(word, 0)\n",
        "    \n",
        "max_word = ' '\n",
        "max_count = 0\n",
        "for (w,c) in freq.items(): # (key, value) tuples represent (word, count)\n",
        "  if c > max_count:\n",
        "    max_word = w\n",
        "    max_count = c\n",
        "print('The most frequent word is', max_word)\n",
        "print('Its number of occurrences is', max_count)"
      ],
      "execution_count": 0,
      "outputs": []
    },
    {
      "metadata": {
        "id": "f_RnTacm_FVF",
        "colab_type": "text"
      },
      "cell_type": "markdown",
      "source": [
        "##10.1.3 Python's MutableMapping Abstract Base Class\n",
        "The Python's `collections` module provides two abstract base classes: `Mapping` and `MutableMapping`. The `Mapping` class includes all nonmutating methods supported by Python's `dict` class. The `MutableMapping` class extends to include the mutating methods, such as `__getitem__`, `__setitem__`, `__delitem__`, `__len__` and `__iter__`."
      ]
    },
    {
      "metadata": {
        "id": "EUdHBCr6AJOc",
        "colab_type": "text"
      },
      "cell_type": "markdown",
      "source": [
        "##10.1.4 `MapBase` Class\n",
        "The `MapBase` class is itself a subclass of the `MutableMapping` class and provides additional support for the composition design pattern."
      ]
    },
    {
      "metadata": {
        "id": "Rcj-9ETbAjfT",
        "colab_type": "code",
        "colab": {}
      },
      "cell_type": "code",
      "source": [
        "class MapBase(MutableMapping):\n",
        "  '''Our own abstract base class that includes a nonpublic _Item class'''\n",
        "  \n",
        "  #---------------------nested _Item class------------------------------\n",
        "  class _Item:\n",
        "    '''Lightweight composite to store key-value pairs as map items'''\n",
        "    __slots__ = '_key', '_value'\n",
        "    \n",
        "    def __init__(self, k, v):\n",
        "      self._key = k\n",
        "      self._value = v\n",
        "      \n",
        "    def __eq__(self, other):\n",
        "      return self._key == other._key # compare items based on their keys\n",
        "    \n",
        "    def __ne__(self, other):\n",
        "      return not (self == other) # opposite of __eq__\n",
        "    \n",
        "    def __It__(self, other):\n",
        "      return self._key < other._key # compare items based on their keys"
      ],
      "execution_count": 0,
      "outputs": []
    },
    {
      "metadata": {
        "id": "PsMDXCrYDdJq",
        "colab_type": "text"
      },
      "cell_type": "markdown",
      "source": [
        "##10.1.5 Simple Unsorted Map Implementation"
      ]
    },
    {
      "metadata": {
        "id": "P2L6ApKGE3ix",
        "colab_type": "code",
        "colab": {}
      },
      "cell_type": "code",
      "source": [
        "class UnsortedTableMap(MapBase):\n",
        "  '''Map implementation using an unsorted list'''\n",
        "  \n",
        "  def __init__(self):\n",
        "    '''Create a empty map'''\n",
        "    self._table = [] # list of _Item's\n",
        "    \n",
        "  def __getitem__(self, k):\n",
        "    '''Return value associated with key k (raise KeyError if not found)'''\n",
        "    for item in self._table:\n",
        "      if k == item._key:\n",
        "        return item._value\n",
        "    raise KeyError('Key Error: ' + repr(k))\n",
        "    \n",
        "  def __setitem__(self, k, v):\n",
        "    '''Assign value v to key k, overwriting existing value if present'''\n",
        "    for item in self._table:\n",
        "      if k == item._key: # found a match\n",
        "        item._value = v # reassign value\n",
        "        return # and quit\n",
        "    # did not find match for key\n",
        "    self._table.append(self._Item(k,v))\n",
        "    \n",
        "  def __delitem(self, k):\n",
        "    '''Remove item associted with key k (raise KerError if not found)'''\n",
        "    for j in range(len(self._table)):\n",
        "      if k == self._table[j]._key: # found a match\n",
        "        self._table.pop(j) # remove item\n",
        "        return # and quit\n",
        "    raise KeyError('Key Error: '+ repr(k))\n",
        "    \n",
        "  def __len__(self):\n",
        "    '''Return number of items in the map'''\n",
        "    return len(self._table)\n",
        "  \n",
        "  def __iter__(self):\n",
        "    '''Generate iteration of the map's keys '''\n",
        "    for item in self._table:\n",
        "      yield item._key # yield the KEY"
      ],
      "execution_count": 0,
      "outputs": []
    },
    {
      "metadata": {
        "id": "9Ihp2ahkGbSg",
        "colab_type": "text"
      },
      "cell_type": "markdown",
      "source": [
        "Each of these methods runs in $O(n)$ time on a map with $n$ items."
      ]
    },
    {
      "metadata": {
        "id": "FZZ4sdTNG3Bj",
        "colab_type": "text"
      },
      "cell_type": "markdown",
      "source": [
        "#10.2 Hash Tables\n",
        "A map $M$ supports the abstraction of using keys as indices with a syntax such as `M[k]`. The novel concept for a hash table is the use of a **hash function** to map general keys to corresponding indices in a table. Ideally, keys will be well distributed in the\n",
        "range from 0 to N−1 by a hash function, but in practice there may be two or more\n",
        "distinct keys that get mapped to the same index. As a result, the table $M$ is conceptualized as a **bucket array**, in which each bucket may manage a collection of items that are sent to the specific index by the hash function. (To save space, an empty bucket may be replaced by `None`)"
      ]
    },
    {
      "metadata": {
        "id": "3fT9j3L3H8t-",
        "colab_type": "text"
      },
      "cell_type": "markdown",
      "source": [
        "##10.2.1 Hash Functions\n",
        "The goal of a **hash funciton**, $h$, is to map each key $k$ to an integer in the range $[0, N-1]$, where $N$ is the capacity of the bucket array for a hash table. Equipped with such a hash function, $h$, the main idea is to use the hash funtion value, $h(k)$, as an index into the bucket array, $A$, instead of the key $k$. That is, the item $(k, v)$ is stored in the bucket $A[h(k)]$.\n",
        "\n",
        "If there are two or more keys with the same hash value, then two different items\n",
        "will be mapped to the same bucket in $A$. This is so called a **collision** has occured. A hash function is \"good\" if it maps the keys in the map so as to sufficiently minimize collisions.\n",
        "\n",
        "The evaluation of a hash function, $h(k)$, consists of two portions: a **hash code** that maps a key $k$ to an integer, and a **compression function** that maps the hash code to an integer within a range of indices, $[0, N-1]$, for a bucket array.\n",
        "\n",
        "The reason behind using those two components is that the hash code portion of that computation is independent of a specific hash table size, which allows the development of a general hash code for each object that can be used for a hash table of any size; only the compression function depends upon the table size."
      ]
    },
    {
      "metadata": {
        "id": "4PgNxbayWcT1",
        "colab_type": "text"
      },
      "cell_type": "markdown",
      "source": [
        "##Hash Codes\n",
        "The hash code for $k$ is an integer which is computed and an arbitrary key $k$ is taken in the map when a hash function applies. This integer need not be in the range$[0, N-1]$. The set of hash codes assigned to the keys should avoid collisions as much as possible, because there is no hope for the compression function to avoid them if the hash codes of the keys cause collisions.\n",
        "\n",
        "###Hash Codes in Python\n",
        "`hash(x)` returns an integer value that serves as the hash cod for object `x`. Only *immutable* data types are deemed hashable in Python.\n",
        "\n",
        "Instances of user-defined classes are treated as unhashable by default, with a\n",
        "`TypeError` raised by the hash function. However, a function that computes hash\n",
        "codes can be implemented in the form of a special method named `__hash__` within\n",
        "a class. The returned hash code should reflect the immutable attributes of an instance. \\\\\n",
        "For example, a `Color` class that maintains three numeric red, green, and blue components might implement the method as:"
      ]
    },
    {
      "metadata": {
        "id": "ZyZXHH3zay_h",
        "colab_type": "code",
        "colab": {}
      },
      "cell_type": "code",
      "source": [
        "def __hash__(self):\n",
        "  return hash( (self._red, self._green, self._blue) ) # hash combined tuple"
      ],
      "execution_count": 0,
      "outputs": []
    },
    {
      "metadata": {
        "id": "yw0UDxWJbA81",
        "colab_type": "text"
      },
      "cell_type": "markdown",
      "source": [
        "An important rule to obey is that if a class defines equivalence through `__eq__` ,\n",
        "then any implementation of hash must be consistent, in that if `x == y`, then\n",
        "`hash(x) == hash(y)`."
      ]
    },
    {
      "metadata": {
        "id": "jVCREo7sbF9M",
        "colab_type": "text"
      },
      "cell_type": "markdown",
      "source": [
        "##Compression Functions  \n",
        "The compression function maps an integer hash code for a key object $k$ into the range $[0,N-1]$.\n",
        "\n",
        "A good compression function minimizes the number of collisions for a given set of distinct hash codes\n",
        "\n",
        "####Division method\n",
        "maps an integer $i$ to $$i\\mod N$$\n",
        "where $N$, the size of the bucket array, is a fixed positive integer.\n",
        "\n",
        "####MAD method\n",
        "maps an integer $i$ to\n",
        "$$[(ai+b)\\mod p] \\mod N$$\n",
        "where $N$ is the size of the bucket array, $p$ is a prime number larger than $N$, and $a$ and $b$ are integers chosen at random from the interval $[0, p-1]$, with $a>0$. \\\\\n",
        "This\n",
        "compression function is chosen in order to eliminate repeated patterns in the set of\n",
        "hash codes and get us closer to having a “good” hash function, that is, one such that\n",
        "the probability any two different keys collide is $1/N$."
      ]
    },
    {
      "metadata": {
        "id": "yWrFmKBTh3Oj",
        "colab_type": "text"
      },
      "cell_type": "markdown",
      "source": [
        "##10.2.2 Collision-Handling Schemes\n",
        "The main idea of a hash table is to take a bucket array $A$, and a hash function, $h$, and use them to implement a map by storing each item $(k,v)$ in the bucket $A[h(k)]$. The collisions occur when two distinct keys, $k_1$ and $k_2$ have $h(k_1)=h(k_2)$.\n",
        "\n",
        "###Separate Chaining\n",
        "A simple and efficient way for dealing with collisions is to have each bucket $A[j]$ store its own secondary container, holding items $(k,v)$ such that $h(k)=j$. A natural choice for the secondary container is a small map instance implemented using a list, as described by the compression function above. This **collision resolution** rule is known as **separate chaining**.\n",
        "\n",
        "###Open Addressing\n",
        "The separate chaining rule has many nice properties, such as affording simple implementations\n",
        "of map operations, but it nevertheless has one slight disadvantage:\n",
        "It requires the use of an auxiliary data structure—a list—to hold items with colliding\n",
        "keys. If space is at a premium (for example, if we are writing a program for a\n",
        "small handheld device), then we can use the alternative approach of always storing\n",
        "each item directly in a table slot. This approach saves space because no auxiliary\n",
        "structures are employed, but it requires a bit more complexity to deal with collisions.\n",
        "There are several variants of this approach, collectively referred to as **open\n",
        "addressing** schemes.\n",
        "\n",
        "####Linear Probing\n",
        "A simple method for collision handling with open addressing is **linear probing**.\n",
        "With this approach, if we try to insert an item $(k,v)$ into a bucket $A[ j]$ that is already\n",
        "occupied, where $j = h(k)$, then we next try $A[( j+1) \\mod N]$. If $A[( j+1) \\mod N]$\n",
        "is also occupied, then we try $A[( j+2) \\mod N]$, and so on, until we find an empty\n",
        "bucket that can accept the new item. Once this bucket is located, we simply insert\n",
        "the item there."
      ]
    },
    {
      "metadata": {
        "id": "OGbibQ9-CFlX",
        "colab_type": "text"
      },
      "cell_type": "markdown",
      "source": [
        "##10.2.4 Python Hash Table Implementation"
      ]
    },
    {
      "metadata": {
        "id": "JrPrrZe5CfV3",
        "colab_type": "code",
        "colab": {}
      },
      "cell_type": "code",
      "source": [
        "class HashMapBase(MapBase):\n",
        "  '''Abstract base class for map using hash-table with MAD compression'''\n",
        "  \n",
        "  def __init__(self, cap=11, p=109345121):\n",
        "    '''Create an empty hash-table map'''\n",
        "    self._table = cap * [None]\n",
        "    self._n = 0 # number of entries in the map\n",
        "    self._prime = p # prime for MAD compression\n",
        "    self._scale = 1 + randrange(p-1) # scale from 1 to p-1 for MAD\n",
        "    self._shift = randrange(p) # shift from 0 to p-1 for MAD\n",
        "    \n",
        "  def _hash_function(self, k):\n",
        "    return (hash(k)*self._scale + self._shift) % self._prime % len(self._table)\n",
        "  \n",
        "  def __len__(self):\n",
        "    return self._n\n",
        "  \n",
        "  def __getitem__(self, k):\n",
        "    j = self._hash_function(k)\n",
        "    return self._bucket_getitem(j, k) # may raise KeyError\n",
        "  \n",
        "  def __setitem__(self, k, v):\n",
        "    j = self._hash_function(k)\n",
        "    self._bucket_setitem(j, k, v) # subroutine maintains self._n\n",
        "    if self._n > len(self._table)//2: # keep load factor <= 0.5\n",
        "      self._resize(2*len(self._table) - 1) # number 2^x - 1 is often prime\n",
        "      \n",
        "  def __delitem__(self, k):\n",
        "    j = self._hash_function(k)\n",
        "    self._bucket_delitem(j, k) # may raise KeyError\n",
        "    self._n -= 1\n",
        "    \n",
        "  def _resize(self, c): # resize bucket array to capacity c\n",
        "    old = list(self.items()) # use iteration to record existing items\n",
        "    self._table = c * [None] # then reset table to desired capacity\n",
        "    self._n = 0 # n recomputed during subsequent adds\n",
        "    for (k,v) in old:\n",
        "      self[k] = v # reinsert old key-value pair\n",
        "    "
      ],
      "execution_count": 0,
      "outputs": []
    },
    {
      "metadata": {
        "id": "8N7nMkM6EQLW",
        "colab_type": "text"
      },
      "cell_type": "markdown",
      "source": [
        "* The bucket array is represented as a Python list, named `self._table`, with all\n",
        "entries initialized to `None`.\n",
        "* We maintain an instance variable `self._n` that represents the number of distinct\n",
        "items that are currently stored in the hash table.\n",
        "* If the load factor of the table increases beyond 0.5, we double the size of the\n",
        "table and rehash all items into the new table.\n",
        "* We define a `_hash_function` utility method that relies on Python’s built-in\n",
        "hash function to produce hash codes for keys, and a randomized Multiply-\n",
        "Add-and-Divide (MAD) formula for the compression function"
      ]
    },
    {
      "metadata": {
        "id": "0wiutygblDRj",
        "colab_type": "text"
      },
      "cell_type": "markdown",
      "source": [
        "The `HashMapBase` class has not implemented how a \"bucket\" should be represented. With **separate chaining**, each bucket will be an independent structure. With **open addressing**, there is no tangible container for each bucket; the \"buckets\" are effectively interleaved due to the probing sequences "
      ]
    },
    {
      "metadata": {
        "id": "7RSeyvEYlyza",
        "colab_type": "text"
      },
      "cell_type": "markdown",
      "source": [
        "###Separate Chaining\n",
        "####Concrete Implementation of Hash Table with Separate Chaining"
      ]
    },
    {
      "metadata": {
        "id": "9r4QiCPzmKEJ",
        "colab_type": "code",
        "colab": {}
      },
      "cell_type": "code",
      "source": [
        "class ChainHashMap(HashMapBase):\n",
        "  '''Hash map implemented with separate chaining for collision resolution'''\n",
        "  \n",
        "  def _bucket_getitem(self, j, k):\n",
        "    bucket = self._table[j]\n",
        "    if bucket is None:\n",
        "      raise KeyError('Key Error: ' + repr(k)) # no match found\n",
        "    return bucket[k]\n",
        "  \n",
        "  def _bucket_setitem(self, j, k, v):\n",
        "    if self._table[j] is None:\n",
        "      self._table[j] = UnsortedTableMap() # bucket is new to the table\n",
        "    oldsize = len(self._table[j])\n",
        "    self._table[j][k] = v\n",
        "    if len(self._table[j]) > oldsize: # key was new to the table\n",
        "      self._n += 1 # increase overall map size\n",
        "      \n",
        "  def _bucket_delitem(self, j, k):\n",
        "    bucket = self._table[j]\n",
        "    if bucket is None:\n",
        "      raise KeyError('Key Error: ' + repr(k)) # no match found\n",
        "    del bucket[k] # may raise KeyError\n",
        "    \n",
        "  def __iter__(self):\n",
        "    for bucket in self._table:\n",
        "      if bucket is not None: # a nonempty slot\n",
        "        for key in bucket:\n",
        "          yield key"
      ],
      "execution_count": 0,
      "outputs": []
    },
    {
      "metadata": {
        "id": "RS4Fiwkanqva",
        "colab_type": "text"
      },
      "cell_type": "markdown",
      "source": [
        "###Linear Probing with Open Addressing"
      ]
    },
    {
      "metadata": {
        "id": "raHoXV_0n2nq",
        "colab_type": "code",
        "colab": {}
      },
      "cell_type": "code",
      "source": [
        "class ProbeHashMap(HashMapBase):\n",
        "  '''Hash map implemented with linear probing for collision resolution'''\n",
        "  _AVAIL = object() # sentinal marks locations of previous deleteions\n",
        "  \n",
        "  def _is_available(self, j):\n",
        "    '''Return True if index j is available in table'''\n",
        "    return self._table[j] is None or self._table[j] is ProbeHashMap._AVAIL\n",
        "  \n",
        "  def _find_slot(self, j, k):\n",
        "    '''Search for key k in bucket at index j\n",
        "    \n",
        "    Return (success, index) tuple:\n",
        "    If match was found, success is True and index denotes its location.\n",
        "    If no match was found, success is False and index denotes first available slot\n",
        "    '''\n",
        "    firstAvail = None\n",
        "    while True:\n",
        "      if self._is_available(j):\n",
        "        if firstAvail is None:\n",
        "          firstAvail = j # mark this as first avail\n",
        "        if self._table[j] is None:\n",
        "          return (False, firstAvail) # search has failed\n",
        "      elif k == self._table[j]._key:\n",
        "        return (True, j) # found a match\n",
        "      j = (j + 1) % len(self._table) # keep looking (cyclically)\n",
        "      \n",
        "  def _bucket_getitem(self, j, k):\n",
        "    found, s = self._find_slot(j, k)\n",
        "    if not found:\n",
        "      raise KeyError('Key Error: ' + repr(k)) # no match found\n",
        "    return self._table[s]._value\n",
        "  \n",
        "  def _bucket_setitem(self, j, k, v):\n",
        "    found, s = self._find_slot(j, k)\n",
        "    if not found:\n",
        "      self._table[s] = self.Item(k, v) # insert new item\n",
        "      self._n += 1 # size has increased\n",
        "    else:\n",
        "      self._table[s]._value = v # overwrite existing\n",
        "      \n",
        "  def _bucket_delitem(self, j, k):\n",
        "    found, s = self._find_slot(j, k)\n",
        "    if not found:\n",
        "      raise KeyError('Key Error: ' + repr(k)) # no match found\n",
        "    self._table[s] = ProbeHashMap._AVAIL # mark as vacated\n",
        "    \n",
        "  def __iter__(self):\n",
        "    for j in range(len(self._table)): # scan entire table\n",
        "      if not self._is_available(j):\n",
        "        yield self._table[j]._key"
      ],
      "execution_count": 0,
      "outputs": []
    },
    {
      "metadata": {
        "id": "L0mhzbSMu7Cd",
        "colab_type": "text"
      },
      "cell_type": "markdown",
      "source": [
        "#10.3 Sorted Maps\n",
        "The sorted map ADT supports the following methods:\n",
        "* `M.find_min()`: Return the `(key,value)` pair with minimum key\n",
        "(or `None`, if map is empty).\n",
        "* `M.find_max()`: Return the `(key,value)` pair with maximum key\n",
        "(or `None`, if map is empty).\n",
        "* `M.find_lt(k)`: Return the `(key,value)` pair with the greatest key that\n",
        "is strictly less than `k` (or `None`, if no such item exists).\n",
        "* `M.find_le(k)`: Return the `(key,value)` pair with the greatest key that\n",
        "is less than or equal to `k` (or `None`, if no such item\n",
        "exists).\n",
        "* `M.find_gt(k)`: Return the `(key,value)` pair with the least key that is\n",
        "strictly greater than `k` (or `None`, if no such item exists).\n",
        "* `M.find_ge(k)`: Return the `(key,value)` pair with the least key that is\n",
        "greater than or equal to `k` (or `None`, if no such item).\n",
        "* `M.find_range(start, stop)`: Iterate all `(key,value)` pairs with `start <= key < stop`.\n",
        "If `start` is `None`, iteration begins with minimum key; if\n",
        "`stop` is `None`, iteration concludes with maximum key.\n",
        "* `iter(M)`: Iterate all keys of the map according to their natural\n",
        "order, from smallest to largest.\n",
        "* `reversed(M)`: Iterate all keys of the map in reverse order; in Python,\n",
        "this is implemented with the `__reversed__` method."
      ]
    },
    {
      "metadata": {
        "id": "7OFCQHO8zdhD",
        "colab_type": "text"
      },
      "cell_type": "markdown",
      "source": [
        "##10.3.1 Sorted Search Tables\n",
        "The sorted search table has a space requirement that is $O(n)$, assuming the array is grown and shrunk to keep its size proportional to the number of items in the map. The primary advantage of this representation is that it allows us to use the **binary search** for a variety of efficient operations."
      ]
    },
    {
      "metadata": {
        "id": "Be36okDo0HyA",
        "colab_type": "text"
      },
      "cell_type": "markdown",
      "source": [
        "###Binary Search and Inexact Searches\n",
        "The important realization is that while performing a binary search, we can determine\n",
        "the index at or near where a target might be found. During a successful\n",
        "search, the standard implementation determines the precise index at which the target\n",
        "is found. During an unsuccessful search, although the target is not found, the\n",
        "algorithm will effectively determine a pair of indices designating elements of the\n",
        "collection that are just less than or just greater than the missing target."
      ]
    },
    {
      "metadata": {
        "id": "yhZGEuV00yQI",
        "colab_type": "text"
      },
      "cell_type": "markdown",
      "source": [
        "###Implementation"
      ]
    },
    {
      "metadata": {
        "id": "YsJY6UPl0zdo",
        "colab_type": "code",
        "colab": {}
      },
      "cell_type": "code",
      "source": [
        "class SortedTableMap(MapBase):\n",
        "  '''Map implementation using a sorted table'''\n",
        "  \n",
        "  #--------------------nonpublic behaviors------------------------------\n",
        "  def _find_index(self, k, low, high):\n",
        "    '''Return index of the leftmost item with key greater than or equal to k\n",
        "    \n",
        "    Return high+1 if no such item qualifies\n",
        "    \n",
        "    That is, j will be returned such that:\n",
        "      all items of slice table[low:j] have key < k\n",
        "      all items of slice table[j:high+1] have key >= k\n",
        "    '''\n",
        "    if high < low:\n",
        "      return high + 1 # no element qualifies\n",
        "    else:\n",
        "      mid = (low + high) // 2\n",
        "      if k == self._table[mid]._key:\n",
        "        return mid # found exact match\n",
        "      elif k < self._table[mid]._key: \n",
        "        return self._find_index(k, low, mid - 1) # note: may return mid\n",
        "      else:\n",
        "        return self._find_index(k, mid + 1, high) # answer if right of mid\n",
        "      \n",
        "  def __init__(self):\n",
        "    '''Create an empty map'''\n",
        "    self._table = []\n",
        "    \n",
        "  def __len__(self):\n",
        "    '''Return number of items in the map'''\n",
        "    return len(self._table)\n",
        "  \n",
        "  def __getitem__(self, k):\n",
        "    '''Return value associated with key k (raise KeyError if not found)'''\n",
        "    j = self._find_index(k, 0, len(self._table) - 1)\n",
        "    if j == len(self._table) or self._table[j]._key != k:\n",
        "      raise KeyError('Key Error: ' + repr(k))\n",
        "    return self._table[j]._value\n",
        "  \n",
        "  def __setitem__(self, k, v):\n",
        "    '''Assign value v to key k, overwriting existing value if present'''\n",
        "    j = self._find_index(k, 0, len(self._table) - 1)\n",
        "    if j < len(self._table) and self._table[j]._key == k:\n",
        "      self._table[j]._value = v # reassign value\n",
        "    else:\n",
        "      self._table.insert(j, self._Item(k,v)) # adds new item\n",
        "      \n",
        "  def __delitem__(self, k):\n",
        "    '''Remove item associated with key k (raise KeyError if not found)'''\n",
        "    j = self._find_index(k, 0, len(self._table) - 1)\n",
        "    if j == len(self._table) or self._table[j]._key != k:\n",
        "      raise KeyError('Key Error: ' + repr(k))\n",
        "    self._table.pop(j) # delete item\n",
        "    \n",
        "  def __iter__(self):\n",
        "    '''Generate keys of the map ordered from minimum to maximum'''\n",
        "    for item in self._table:\n",
        "      yield item._key\n",
        "      \n",
        "  def __reversed__(self):\n",
        "    '''Generate keys of the map ordered from maximum to minimum'''\n",
        "    for item in reversed(self._table):\n",
        "      yield item._key\n",
        "      \n",
        "  def find_min(self):\n",
        "    '''Return (key,value) pair with minimum key (or None if empty)'''\n",
        "    if len(self._table) > 0:\n",
        "      return (self._table[0]._key, self._table[0]._value)\n",
        "    else:\n",
        "      return None\n",
        "    \n",
        "  def find_max(self):\n",
        "    '''Return (key,value) pair with maximum key (or None if empty)'''\n",
        "    if len(self._table) > 0:\n",
        "      return (self._table[-1]._key, self._table[-1]._value)\n",
        "    else:\n",
        "      return None\n",
        "  \n",
        "  def find_ge(self, k):\n",
        "    '''Return (key,value) pair with least key greater than or equal to k'''\n",
        "    j = self._find_index(k, 0, len(self._table) - 1) # j's key >= k\n",
        "    if j < len(self._table):\n",
        "      return (self._table[j]._key, self._table[j]._value)\n",
        "    else:\n",
        "      return None\n",
        "    \n",
        "  def find_lt(self, k):\n",
        "    '''Return (key,value) pair with greatest key strictly less than k'''\n",
        "    j = self._find_index(k, 0, len(self._table) - 1) # j's key >= k\n",
        "    if j > 0:\n",
        "      return (self._table[j-1]._key, self._table[j-1]._value) # Note: use j-1\n",
        "    else:\n",
        "      return None\n",
        "  \n",
        "  def find gt(self, k):\n",
        "    '''Return (key,value) pair with least key strictly greater than k'''\n",
        "    j = self._find_index(k, 0, len(self._table) − 1) # j s key >= k\n",
        "    if j < len(self._table) and self._table[j]._key == k:\n",
        "      j += 1 # advanced past match\n",
        "    if j < len(self._table):\n",
        "      return (self._table[j]._key, self._table[j]._value)\n",
        "    else:\n",
        "      return None\n",
        "    \n",
        "  def find_range(self, start, stop):\n",
        "    '''Iterate all (key,value) pairs such that start <= key < stop\n",
        "    \n",
        "    If start is None, iteration begins with minimum key of map.\n",
        "    If stop is None, iteration continues through the maximum key of map.\n",
        "    '''\n",
        "    if start is None:\n",
        "      j = 0\n",
        "    else:\n",
        "      j = self._find_index(start, 0, len(self._table) - 1) # find first result\n",
        "    while j < len(self._table) and (stop is None or self._table[j]._key < stop):\n",
        "      yield (self._table[j]._key, self._table[j]._value)\n",
        "      j += 1"
      ],
      "execution_count": 0,
      "outputs": []
    },
    {
      "metadata": {
        "id": "Ja4Xa9_sAtyr",
        "colab_type": "text"
      },
      "cell_type": "markdown",
      "source": [
        "* `__len__` , `find_min`, and `find_max` methods run in $O(1)$ time\n",
        "* Iterating the keys of the table in $O(n)$ time\n",
        "* `__getitem__` , `find_lt`, `find_gt`, `find_le`, and `find_ge` run in $O(\\log n)$ worst-case time for binary search"
      ]
    },
    {
      "metadata": {
        "id": "XERBWf_wCVd_",
        "colab_type": "text"
      },
      "cell_type": "markdown",
      "source": [
        "#10.5 Sets, Multisets, and Multimaps\n",
        "A **set** is an unordered collection of elements, without duplicates, that typically supports efficient membership tests. In essence, elements of a set are like keys of a map, but without any auxiliary values.\n",
        "\n",
        "A **multiset** (also known as a **bag**) is a set-like container that allows duplicates.\n",
        "\n",
        "A **multimap** is similar to a traditional map, in that it associates values with keys; however, in a multimap the same key can be mapped to multiple values. For example, the index of a book maps a given term to one or more locations at which the term occurs elsewhere in the book."
      ]
    },
    {
      "metadata": {
        "id": "8qp7jhMUDIAQ",
        "colab_type": "text"
      },
      "cell_type": "markdown",
      "source": [
        "##10.5.1 The Set ADT\n",
        "Python’s `collections` module defines abstract base classes that essentially mirror\n",
        "these built-in classes. The `collections.Set` matches the concrete `frozenset` class, while the `collections.MutableSet` matches the concrete `set` class.\n",
        "\n",
        "The set $S$ ADT supports the following methods:\n",
        "* `S.add(e)`: Add element `e` to the set. This has no effect if the set\n",
        "already contains `e`.\n",
        "* `S.discard(e)`: Remove element `e` from the set, if present. This has no\n",
        "effect if the set does not contain `e`.\n",
        "* `e in S`: Return `True` if the set contains element `e`. In Python, this\n",
        "is implemented with the special `__contains__` method.\n",
        "* `len(S)`: Return the number of elements in set `S`. In Python, this\n",
        "is implemented with the special method `__len__` .\n",
        "* `iter(S)`: Generate an iteration of all elements of the set. In Python,\n",
        "this is implemented with the special method `__iter__` .\n",
        "\n",
        "Additional operations:\n",
        "* `S.remove(e)`: Remove element `e` from the set. If the set does not contain `e`,\n",
        "raise a `KeyError`.\n",
        "* `S.pop()`: Remove and return an arbitrary element from the set. If the\n",
        "set is empty, raise a `KeyError`.\n",
        "* `S.clear()`: Remove all elements from the set."
      ]
    },
    {
      "metadata": {
        "id": "MMXH4YzrFMLF",
        "colab_type": "text"
      },
      "cell_type": "markdown",
      "source": [
        "##10.5.3 Implementing Sets, Multisets, and Multimaps\n",
        "\n",
        "###Sets\n",
        "Although sets and maps have very different public interfaces, they are really quite\n",
        "similar. A set is simply a map in which keys do not have associated values. Any\n",
        "data structure used to implement a map can be modified to implement the set ADT\n",
        "with similar performance guarantees. An efficient set implementation should\n",
        "abandon the `_Item` composite in the `MapBase` class and instead store\n",
        "set elements directly in a data structure.\n",
        "\n",
        "###Multisets\n",
        "The same element may occur several times in a multiset. All of the data structures\n",
        "we have seen can be reimplemented to allow for duplicates to appear as separate\n",
        "elements. However, another way to implement a multiset is by using a map in\n",
        "which the map key is a (distinct) element of the multiset, and the associated value\n",
        "is a count of the number of occurrences of that element within the multiset. \n",
        "\n",
        "Python’s standard `collections` module includes a definition for a class named\n",
        "`Counter` that is in essence a multiset. Formally, the `Counter` class is a subclass of\n",
        "`dict`, with the expectation that values are integers, and with additional functionality\n",
        "like a `most_common(n)` method that returns a list of the n most common elements.\n",
        "The standard `__iter__` reports each element only once (since those are formally the\n",
        "keys of the dictionary). There is another method named `elements()` that iterates\n",
        "through the multiset with each element being repeated according to its count.\n",
        "\n",
        "###Multimaps\n",
        "Although there is no multimap in Python’s standard libraries, a common implementation\n",
        "approach is to use a standard map in which the value associated with a\n",
        "key is itself a container class storing any number of associated values. \\\\\n",
        "The implementation below uses the standard `dict` class as the map, and a list of values as a composite value in the dictionary."
      ]
    },
    {
      "metadata": {
        "id": "ojc06j8qGQwn",
        "colab_type": "code",
        "colab": {}
      },
      "cell_type": "code",
      "source": [
        "class MultiMap:\n",
        "  '''A multimap class built upon use of an underlying map for storage'''\n",
        "  _MapType = dict # Map type; can be redefined by subclass\n",
        "  \n",
        "  def __init__(self):\n",
        "    '''Create a new empty multimap instance'''\n",
        "    self._map = self._MapType() # create map instance for storage\n",
        "    self._n = 0\n",
        "    \n",
        "  def __iter__(self):\n",
        "    '''Iterate through all (k,v) pairs in multimap'''\n",
        "    for k,secondary in self._map.items():\n",
        "      for v in secondary:\n",
        "        yield (k,v)\n",
        "        \n",
        "  def add(self, k, v):\n",
        "    '''Add pair (k,v) to multimap'''\n",
        "    container = self._map.setdefault(k, []) # create empty list, if needed\n",
        "    container.append(v)\n",
        "    self._n += 1\n",
        "    \n",
        "  def pop(self, k):\n",
        "    '''Remove and return arbitrary (k,v) with key k (or raise KeyError)'''\n",
        "    secondary = self._map[k] # map raise KeyError\n",
        "    v = secondary.pop()\n",
        "    if len(secondary) == 0:\n",
        "      del self._map[k] # no pairs left\n",
        "    self._n -= 1\n",
        "    return (k, v)\n",
        "  \n",
        "  def find(self, k):\n",
        "    '''Return arbitrary (k,v) pair with given key (or raise KeyError)'''\n",
        "    secondary = self._map[k] # may raise KeyError\n",
        "    return (k, secondary[0])\n",
        "  \n",
        "  def find_all(self, k):\n",
        "    '''Generate iteration of all (k,v) pairs with given key'''\n",
        "    secondary = self._map.get(k, []) # empty list, by default\n",
        "    for v in secondary:\n",
        "      yield (k, v)"
      ],
      "execution_count": 0,
      "outputs": []
    }
  ]
}