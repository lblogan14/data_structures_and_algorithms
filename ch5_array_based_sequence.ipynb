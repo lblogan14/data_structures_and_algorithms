{
  "nbformat": 4,
  "nbformat_minor": 0,
  "metadata": {
    "colab": {
      "name": "ch5_array-based_sequence.ipynb",
      "version": "0.3.2",
      "provenance": [],
      "collapsed_sections": [],
      "include_colab_link": true
    },
    "kernelspec": {
      "name": "python3",
      "display_name": "Python 3"
    }
  },
  "cells": [
    {
      "cell_type": "markdown",
      "metadata": {
        "id": "view-in-github",
        "colab_type": "text"
      },
      "source": [
        "<a href=\"https://colab.research.google.com/github/lblogan14/data_structures_and_algorithms/blob/master/ch5_array_based_sequence.ipynb\" target=\"_parent\"><img src=\"https://colab.research.google.com/assets/colab-badge.svg\" alt=\"Open In Colab\"/></a>"
      ]
    },
    {
      "metadata": {
        "id": "YHUQonLnsSJr",
        "colab_type": "text"
      },
      "cell_type": "markdown",
      "source": [
        "#5.3 Dynamic Arrays and Amortization"
      ]
    },
    {
      "metadata": {
        "id": "3skhsa3xwFV-",
        "colab_type": "code",
        "outputId": "4f97d1e1-b246-4c90-ae4c-37d8d1952654",
        "colab": {
          "base_uri": "https://localhost:8080/",
          "height": 364
        }
      },
      "cell_type": "code",
      "source": [
        "import sys # provide getsizeof function\n",
        "data = []\n",
        "for k in range(20): # Note: must fix choice of n\n",
        "  a = len(data) # number of elements\n",
        "  b = sys.getsizeof(data) # actual size in bytes\n",
        "  print('Length: {0:3d}; Size in bytes: {1:4d}'.format(a,b))\n",
        "  data.append(None) # increase length by one"
      ],
      "execution_count": 0,
      "outputs": [
        {
          "output_type": "stream",
          "text": [
            "Length:   0; Size in bytes:   64\n",
            "Length:   1; Size in bytes:   96\n",
            "Length:   2; Size in bytes:   96\n",
            "Length:   3; Size in bytes:   96\n",
            "Length:   4; Size in bytes:   96\n",
            "Length:   5; Size in bytes:  128\n",
            "Length:   6; Size in bytes:  128\n",
            "Length:   7; Size in bytes:  128\n",
            "Length:   8; Size in bytes:  128\n",
            "Length:   9; Size in bytes:  192\n",
            "Length:  10; Size in bytes:  192\n",
            "Length:  11; Size in bytes:  192\n",
            "Length:  12; Size in bytes:  192\n",
            "Length:  13; Size in bytes:  192\n",
            "Length:  14; Size in bytes:  192\n",
            "Length:  15; Size in bytes:  192\n",
            "Length:  16; Size in bytes:  192\n",
            "Length:  17; Size in bytes:  264\n",
            "Length:  18; Size in bytes:  264\n",
            "Length:  19; Size in bytes:  264\n"
          ],
          "name": "stdout"
        }
      ]
    },
    {
      "metadata": {
        "id": "2UHWozaHwqOx",
        "colab_type": "text"
      },
      "cell_type": "markdown",
      "source": [
        "An empty list instance already requires a certain number of bytes of memory.\n",
        "\n",
        "Each object in Python maintains some state, for example, a reference to denote the class to which it belongs."
      ]
    },
    {
      "metadata": {
        "id": "pNixMcjpxBiv",
        "colab_type": "text"
      },
      "cell_type": "markdown",
      "source": [
        "##5.3.1 Implementing a Dynamic Array\n",
        "Provide means to grow the array $A$ that stores the elements of a list.:\n",
        "1. Allocate a new array $B$ with larger capacity\n",
        "2. Set $B[i]=A[i]$, for $i=0,...,n-1$, where $n$ denotes current number of items\n",
        "3. Set $A=B$, that is, use $B$ as the array supporting the list\n",
        "4. Insert the new element in the new array\n",
        "\n",
        "###Dynamic Array Implementation"
      ]
    },
    {
      "metadata": {
        "id": "BLl0SUNSx_pQ",
        "colab_type": "code",
        "colab": {}
      },
      "cell_type": "code",
      "source": [
        "import ctypes # provide low-level arrays\n",
        " \n",
        "class DynamicArray:\n",
        "  '''A dynamic array class akin to a simplified Python list'''\n",
        "  \n",
        "  def __init__(self):\n",
        "    '''create an empty array'''\n",
        "    self._n = 0 # count actual elements\n",
        "    self._capacity = 1 # default array capacity\n",
        "    self._A = self._make_array(self._capacity) # low-level array\n",
        "    \n",
        "  def __len__(self):\n",
        "    '''Return number of elements stored in the array'''\n",
        "    return self._n\n",
        "  \n",
        "  def __getitem__(self, k):\n",
        "    '''Return element at index k'''\n",
        "    if not 0 <= k < self._n:\n",
        "      raise IndexError('invalid index')\n",
        "    return self._A[k] # retrieve from array\n",
        "  \n",
        "  def append(self, obj):\n",
        "    '''Add object to end of the array'''\n",
        "    if self._n == self._capacity: # not enough room\n",
        "      self._resize(2 * self._capacity) # double capacity\n",
        "    self._A[self._n] = obj\n",
        "    self._n += 1\n",
        "    \n",
        "  def _resize(self, c): # nonpublic utility\n",
        "    'Resize internal array to capacity c'\n",
        "    B = self._make_array(c) # new (bigger) array\n",
        "    for k in range(self._n): # for each existing value\n",
        "      B[k] = self._A[k]\n",
        "    self._A = B # use the bigger array\n",
        "    self._capacity = c\n",
        "    \n",
        "  def _make_array(self, c): # nonpublic utility\n",
        "    '''Return new array with capacity c'''\n",
        "    return (c * ctypes.py_object)()"
      ],
      "execution_count": 0,
      "outputs": []
    },
    {
      "metadata": {
        "id": "NJxKPJE4zqyz",
        "colab_type": "text"
      },
      "cell_type": "markdown",
      "source": [
        "Support for creating low-level arrays is provided by the `ctypes` module."
      ]
    },
    {
      "metadata": {
        "id": "xb02HSvVz-vs",
        "colab_type": "text"
      },
      "cell_type": "markdown",
      "source": [
        "##5.3.2 Amortized Analysis of Dynamic Arrays\n",
        "Using an algorithmic design pattern called **amortization**, it is proved that performing a sequence of such append operations on a dynamic array is actually quite efficient.\n",
        "\n",
        "Let $S$ be a sequence implemented by means of a dynamic array with initial capacity one, using the strategy of doubling the array size when full. The total time to perform a series of $n$ append opeartions in $S$, starting from $S$ being empty, is $O(n)$."
      ]
    },
    {
      "metadata": {
        "id": "04j7sBVt1Hqc",
        "colab_type": "text"
      },
      "cell_type": "markdown",
      "source": [
        "##5.3.3 Python's `List` Class\n",
        "Python's implementation of the `append` method exhibits amortized constant-time behavior.\n",
        "\n",
        "###Measure the amortized cost of `append` for Python's `list` class"
      ]
    },
    {
      "metadata": {
        "id": "GKKoonwR1fXC",
        "colab_type": "code",
        "colab": {}
      },
      "cell_type": "code",
      "source": [
        "from time import time # import time function from time module\n",
        "def compute_average(n):\n",
        "  '''Perform n appends to an empty list and return average time elapsed'''\n",
        "  data = []\n",
        "  start = time() # record the start time (in seconds)\n",
        "  for k in range(n):\n",
        "    data.append(None)\n",
        "  end = time() # record the end time\n",
        "  return (end - start)/n # compute average per operation"
      ],
      "execution_count": 0,
      "outputs": []
    },
    {
      "metadata": {
        "id": "heYMFiDF1W17",
        "colab_type": "code",
        "colab": {}
      },
      "cell_type": "code",
      "source": [
        "n = [10**i for i in range(2,8,1)]"
      ],
      "execution_count": 0,
      "outputs": []
    },
    {
      "metadata": {
        "id": "_VYoKgVJX64n",
        "colab_type": "code",
        "outputId": "01a497cb-f51e-40c8-94a6-bd37f75210c1",
        "colab": {
          "base_uri": "https://localhost:8080/",
          "height": 121
        }
      },
      "cell_type": "code",
      "source": [
        "for index in n:\n",
        "  print('Compututational time for n={} is {}'.format(index, compute_average(index)))"
      ],
      "execution_count": 0,
      "outputs": [
        {
          "output_type": "stream",
          "text": [
            "Compututational time for n=100 is 1.7642974853515625e-07\n",
            "Compututational time for n=1000 is 1.8215179443359375e-07\n",
            "Compututational time for n=10000 is 1.859903335571289e-07\n",
            "Compututational time for n=100000 is 1.8187046051025392e-07\n",
            "Compututational time for n=1000000 is 1.3286042213439941e-07\n",
            "Compututational time for n=10000000 is 1.3371222019195556e-07\n"
          ],
          "name": "stdout"
        }
      ]
    },
    {
      "metadata": {
        "id": "H_DUg-K4YQ2k",
        "colab_type": "text"
      },
      "cell_type": "markdown",
      "source": [
        "You can see that Python's implementation of the `append` method exhibits amortized constant-time behavior."
      ]
    },
    {
      "metadata": {
        "id": "SJq1yA1wYkKT",
        "colab_type": "text"
      },
      "cell_type": "markdown",
      "source": [
        "#5.4 Efficiency of Python's Sequence Types\n",
        "\n",
        "## 5.4.1 Python's `List` and `Tuple` Classes\n",
        "`Tuple` class is typically more memory efficient than `list` class because they are immutable; thus, there is no need for an underlying dynamic array with surplus capacity.\n",
        "\n",
        "### Adding Elements to a List\n",
        "In Section 5.3, the `append` method has been fully explored. In the worst case, it requires $\\Omega(n)$ time because the underlying array is resized, but it uses $O(1)$ time in the amortized sense. \\\\\n",
        "Another important method for `list` is the `insert` method which inserts a given value into the list at index $0\\leq k\\leq n$ while shifting all subsequent elements back one slot to make room. This method will be added in the `DynamicArray` class implemented above:"
      ]
    },
    {
      "metadata": {
        "id": "Fz08cjYvvHlQ",
        "colab_type": "code",
        "colab": {}
      },
      "cell_type": "code",
      "source": [
        "import ctypes # provide low-level arrays\n",
        " \n",
        "class DynamicArray:\n",
        "  '''A dynamic array class akin to a simplified Python list'''\n",
        "  \n",
        "  def __init__(self):\n",
        "    '''create an empty array'''\n",
        "    self._n = 0 # count actual elements\n",
        "    self._capacity = 1 # default array capacity\n",
        "    self._A = self._make_array(self._capacity) # low-level array\n",
        "    \n",
        "  def __len__(self):\n",
        "    '''Return number of elements stored in the array'''\n",
        "    return self._n\n",
        "  \n",
        "  def __getitem__(self, k):\n",
        "    '''Return element at index k'''\n",
        "    if not 0 <= k < self._n:\n",
        "      raise IndexError('invalid index')\n",
        "    return self._A[k] # retrieve from array\n",
        "  \n",
        "  def append(self, obj):\n",
        "    '''Add object to end of the array'''\n",
        "    if self._n == self._capacity: # not enough room\n",
        "      self._resize(2 * self._capacity) # double capacity\n",
        "    self._A[self._n] = obj\n",
        "    self._n += 1\n",
        "    \n",
        "  def _resize(self, c): # nonpublic utility\n",
        "    'Resize internal array to capacity c'\n",
        "    B = self._make_array(c) # new (bigger) array\n",
        "    for k in range(self._n): # for each existing value\n",
        "      B[k] = self._A[k]\n",
        "    self._A = B # use the bigger array\n",
        "    self._capacity = c\n",
        "    \n",
        "  def _make_array(self, c): # nonpublic utility\n",
        "    '''Return new array with capacity c'''\n",
        "    return (c * ctypes.py_object)()\n",
        "  \n",
        "  # add the insert method below\n",
        "  def insert(self, k, value):\n",
        "    '''insert value at index k, shifting subsequent values rightward'''\n",
        "    # for simplicity, we assume 0<=k<=n in this version\n",
        "    if self._n == self._capacity: # not enough room\n",
        "      self._resize(2 * self._capacity) # so double capacity\n",
        "    for j in range(self._n, k, -1): # shift rightmost first\n",
        "      self._A[j] = self._A[j-1]\n",
        "    self._A[k] = value # store newest element\n",
        "    self._n += 1"
      ],
      "execution_count": 0,
      "outputs": []
    },
    {
      "metadata": {
        "id": "3B_KaUnVwNOX",
        "colab_type": "text"
      },
      "cell_type": "markdown",
      "source": [
        "The addition of one element may require a resizing of the dynamic array, which requires $\\Omega(n)$ worst-case time but only $O(1)$ amortized time, as per `append`"
      ]
    },
    {
      "metadata": {
        "id": "CND2nTs4wq9S",
        "colab_type": "text"
      },
      "cell_type": "markdown",
      "source": [
        "###Removing Elements from a List\n",
        "A call to `pop()` removes the last element from a list. \n",
        "\n",
        "`pop(k)` removes the element that is at index $k<n$ of a list, shifting all subsequent elements leftward to fill the gap that results from the removal, which requires $O(n-k)$ time.\n",
        "\n",
        "The `remove` method specifies the value that should be removed (not the index at which it resides). This method is implemented in the `DynamicArray` class as an example:"
      ]
    },
    {
      "metadata": {
        "id": "qYw5PbXHx_4a",
        "colab_type": "code",
        "colab": {}
      },
      "cell_type": "code",
      "source": [
        "import ctypes # provide low-level arrays\n",
        " \n",
        "class DynamicArray:\n",
        "  '''A dynamic array class akin to a simplified Python list'''\n",
        "  \n",
        "  def __init__(self):\n",
        "    '''create an empty array'''\n",
        "    self._n = 0 # count actual elements\n",
        "    self._capacity = 1 # default array capacity\n",
        "    self._A = self._make_array(self._capacity) # low-level array\n",
        "    \n",
        "  def __len__(self):\n",
        "    '''Return number of elements stored in the array'''\n",
        "    return self._n\n",
        "  \n",
        "  def __getitem__(self, k):\n",
        "    '''Return element at index k'''\n",
        "    if not 0 <= k < self._n:\n",
        "      raise IndexError('invalid index')\n",
        "    return self._A[k] # retrieve from array\n",
        "  \n",
        "  def append(self, obj):\n",
        "    '''Add object to end of the array'''\n",
        "    if self._n == self._capacity: # not enough room\n",
        "      self._resize(2 * self._capacity) # double capacity\n",
        "    self._A[self._n] = obj\n",
        "    self._n += 1\n",
        "    \n",
        "  def _resize(self, c): # nonpublic utility\n",
        "    'Resize internal array to capacity c'\n",
        "    B = self._make_array(c) # new (bigger) array\n",
        "    for k in range(self._n): # for each existing value\n",
        "      B[k] = self._A[k]\n",
        "    self._A = B # use the bigger array\n",
        "    self._capacity = c\n",
        "    \n",
        "  def _make_array(self, c): # nonpublic utility\n",
        "    '''Return new array with capacity c'''\n",
        "    return (c * ctypes.py_object)()\n",
        "  \n",
        "  def insert(self, k, value):\n",
        "    '''insert value at index k, shifting subsequent values rightward'''\n",
        "    # for simplicity, we assume 0<=k<=n in this version\n",
        "    if self._n == self._capacity: # not enough room\n",
        "      self._resize(2 * self._capacity) # so double capacity\n",
        "    for j in range(self._n, k, -1): # shift rightmost first\n",
        "      self._A[j] = self._A[j-1]\n",
        "    self._A[k] = value # store newest element\n",
        "    self._n += 1\n",
        "    \n",
        "  # add the remove method below\n",
        "  def remove(self, value):\n",
        "    '''Remove first occurrence of value (or raise ValueError)'''\n",
        "    # do not consider shrinking the dynamic array in this version\n",
        "    for k in range(self._n):\n",
        "      if self._A[k] == value: # found a match\n",
        "        for j in range(k, self._n, -1): # shift others to fill gap\n",
        "          self._A[j] = self._A[j+1]\n",
        "        self._A[self._n - 1] = None # help garbage collection\n",
        "        self._n -= 1 # we have one less item\n",
        "        return # exit immediately\n",
        "    raise ValueError('value not found') # only reached if no match"
      ],
      "execution_count": 0,
      "outputs": []
    },
    {
      "metadata": {
        "id": "rJZ_eNn_3n78",
        "colab_type": "text"
      },
      "cell_type": "markdown",
      "source": [
        "##5.4.2 Python's `String` Class"
      ]
    },
    {
      "metadata": {
        "id": "mxxOQDdg3rLZ",
        "colab_type": "code",
        "colab": {}
      },
      "cell_type": "code",
      "source": [
        "# WARNING: do NOT od this\n",
        "letters = '' # start with empty string\n",
        "for c in document:\n",
        "  is c.isalpha():\n",
        "    letter += c # concatenate alphabetic character"
      ],
      "execution_count": 0,
      "outputs": []
    },
    {
      "metadata": {
        "id": "wGSRfnGR364c",
        "colab_type": "text"
      },
      "cell_type": "markdown",
      "source": [
        "Although this code accomplishes the goal, it may be terribly inefficient. Because strings are immutable, the command, `letter += c`, would presumably compute the contatenation, `letter + c`, as a new string instance and then reassign the identifier, `letters`, to that result. If the final result has $n$ characters, the series of concatenations would take $O(n^2)$ time. A more standard Python to guarantee linear time composition of a string is to use a temporary list to store individual pieces, and then to rely on the `join` method of the `str` class to compose the final result:"
      ]
    },
    {
      "metadata": {
        "id": "bLfP2IcH8dcW",
        "colab_type": "code",
        "colab": {}
      },
      "cell_type": "code",
      "source": [
        "temp = [] # start with empty list\n",
        "for c in document:\n",
        "  if c.isalpha():\n",
        "    temp.append(c) # append alphabetic character\n",
        "letters = ''.join(temp) # compose overall result"
      ],
      "execution_count": 0,
      "outputs": []
    },
    {
      "metadata": {
        "id": "MhdvJxba8tDs",
        "colab_type": "text"
      },
      "cell_type": "markdown",
      "source": [
        "This approach is guaranteed to run in $O(n)$ time. The series of up to $n$ append calls will require a total of $O(n)$ time, as per the definition of the amortized cost of that operation. The final call to `join` also guarantees that it takes time that is linear in the final length of the composed string."
      ]
    },
    {
      "metadata": {
        "id": "4Q2O6a369CAH",
        "colab_type": "text"
      },
      "cell_type": "markdown",
      "source": [
        "To improve the execution time, *list comprehension* syntax is recommended:"
      ]
    },
    {
      "metadata": {
        "id": "Fsn_VfBi9KKj",
        "colab_type": "code",
        "colab": {}
      },
      "cell_type": "code",
      "source": [
        "letters = ''.join([c for c in document if c.isalpha()])"
      ],
      "execution_count": 0,
      "outputs": []
    },
    {
      "metadata": {
        "id": "NejMRKUE9O9M",
        "colab_type": "text"
      },
      "cell_type": "markdown",
      "source": [
        "Better yet, use a generator comprehension to avoid the temporary list:"
      ]
    },
    {
      "metadata": {
        "id": "WR6FSAaD9Wer",
        "colab_type": "code",
        "colab": {}
      },
      "cell_type": "code",
      "source": [
        "letters = ''.join(c for c in document if c.isalphs())"
      ],
      "execution_count": 0,
      "outputs": []
    },
    {
      "metadata": {
        "id": "JeyVJkJ29yIP",
        "colab_type": "text"
      },
      "cell_type": "markdown",
      "source": [
        "#5.5 Array-Based Sequences\n",
        "\n",
        "##5.5.1 Storing High Scores for a Game\n",
        "This application is representative of many applications in which a sequence of objects must be stored. \\\\\n",
        "`_score` represents the score itself. `_name` represents the name of the person earning this score... etc\n",
        "\n",
        "\n",
        "####`GameEntry` class"
      ]
    },
    {
      "metadata": {
        "id": "eCa74CK5-ccS",
        "colab_type": "code",
        "colab": {}
      },
      "cell_type": "code",
      "source": [
        "class GameEntry:\n",
        "  '''Represents one entry of a list of high scores'''\n",
        "  \n",
        "  def __init__(self, name, score):\n",
        "    self._name = name\n",
        "    self._score = score\n",
        "    \n",
        "  def get_name(self):\n",
        "    return self._name\n",
        "  \n",
        "  def get_score(self):\n",
        "    reutrn self._score\n",
        "    \n",
        "  def __str__(self):\n",
        "    return '({0}, {1})'.format(self._name, self._score) # e.g. '(Bob, 98)'"
      ],
      "execution_count": 0,
      "outputs": []
    },
    {
      "metadata": {
        "id": "ZfZJ0SMz--hQ",
        "colab_type": "text"
      },
      "cell_type": "markdown",
      "source": [
        "###A Class for High Scores\n",
        "To maintain a sequence of high scores, a class `Scoreboard` is developed, which is limited to a certain number of high scores that can be saved; once that limit is reached, a new score only quantifies for the scoreboard if it is strictly higher that the lowest \"high score\" on the board.\n",
        "\n",
        "A Python `list` named `_board` is used to manage the `GameEntry` instances that represent the high scores. This is initially set all entries to `None`. As entries are added, the board will be maintained from highest to lowest score.\n",
        "\n",
        "####`Scoreboard` Class"
      ]
    },
    {
      "metadata": {
        "id": "9N6Rn4JG_8wM",
        "colab_type": "code",
        "colab": {}
      },
      "cell_type": "code",
      "source": [
        "class Scoreboard:\n",
        "  '''Fixed-length sequence of high scores in nondecreasing order'''\n",
        "  \n",
        "  def __init__(self, capacity=10):\n",
        "    '''\n",
        "    Initialize scoreboard with given maximum capacity\n",
        "    All entries are initially None\n",
        "    '''\n",
        "    self._board = [None] * capacity # reserve space for future scores\n",
        "    self._n = 0 # number of actual entries\n",
        "    \n",
        "  def __getitem__(self, k):\n",
        "    '''Return entry at index k'''\n",
        "    return self._board[k]\n",
        "  \n",
        "  def __str__(self):\n",
        "    '''Return string representation of the high score list'''\n",
        "    return '\\n'.join(str(self._board[j]) for j in range(self._n))\n",
        "  \n",
        "  def add(self, entry):\n",
        "    '''Consider adding entry to high scores'''\n",
        "    score = entry.get_score()\n",
        "    \n",
        "    # Does new entry qualify as a high score?\n",
        "    # yes if board not full or score is higher than last entry\n",
        "    good = self._n < len(self._board) or score > self._board[-1].get_score()\n",
        "    \n",
        "    if good:\n",
        "      if self._n < len(self._board): # no score drops from list\n",
        "        self._n += 1 # so overall number increases\n",
        "        \n",
        "        # shift lower scores rightward to make room for new entry\n",
        "        j = self._n - 1\n",
        "        while j > 0 and self._board[j-1].get_score() < score:\n",
        "          self._board[j] = self._board[j-1] # shift entry from j-1 to j\n",
        "          j -= 1 # and decrement j\n",
        "        self._board[j] = entry"
      ],
      "execution_count": 0,
      "outputs": []
    },
    {
      "metadata": {
        "id": "EBZCJRvHClrA",
        "colab_type": "text"
      },
      "cell_type": "markdown",
      "source": [
        "##5.5.2 Sorting a Sequence\n",
        "\n",
        "###Insertion-Sort Algorithm\n",
        "Start with the first element in the array. One element by itself is already sorted. For next element, if it is smaller than the first, then swap them. Then swap the third element leftward until it is in it proper order with the first two elements. Then next element... until every element in the whole array is sorted.\n",
        "\n",
        "####Algorithm: InsertionSort(A):\n",
        "Input: An array `A` of n comparable elements \\\\\n",
        "Output: The array `A` with elements rearranged in nondecreasing order \\\\\n",
        "`for k from 1 to n-1 do` \\\\\n",
        "$\\quad$ `Insert A[k] at its proper location within A[0], A[1],...,A[k]`"
      ]
    },
    {
      "metadata": {
        "id": "v5QPk_6lEgGG",
        "colab_type": "code",
        "colab": {}
      },
      "cell_type": "code",
      "source": [
        "def insertion_sort(A):\n",
        "  '''Sort list of comparable elements into nondecreasing order'''\n",
        "  for k in range(1, len(A)): # from 1 to n-1\n",
        "    cur = A[k] # current element to be inserted\n",
        "    j = k # find correct index j for current\n",
        "    while j>0 and A[j-1] > cur: # element A[j-1] must be after current\n",
        "      A[j] = A[j-1]\n",
        "      j -= 1\n",
        "    A[j] = cur # cur is now in the right place"
      ],
      "execution_count": 0,
      "outputs": []
    },
    {
      "metadata": {
        "id": "3PdVlyqiFCXF",
        "colab_type": "text"
      },
      "cell_type": "markdown",
      "source": [
        "The nested loops of insertion-sort lead to an $O(n^2)$ running time in the worst\n",
        "case. The most work is done if the array is initially in reverse order. On the other\n",
        "hand, if the initial array is nearly sorted or perfectly sorted, insertion-sort runs in\n",
        "$O(n)$ time because there are few or no iterations of the inner loop."
      ]
    },
    {
      "metadata": {
        "id": "_2FYw8DbFcWf",
        "colab_type": "text"
      },
      "cell_type": "markdown",
      "source": [
        "##5.5.3 Simple Cryptography\n",
        "\n",
        "###Converting Between `String` and `Char` Lists\n",
        "Given that strings are immutable, there is not way to directly edit an instance to encrypt it. A convenient technique for string transformations is to create an equivalent list of characters, eidt the list, and then reassemble a (new) string based on the list."
      ]
    },
    {
      "metadata": {
        "id": "gMwUPWCyRC1Z",
        "colab_type": "code",
        "outputId": "cbf9b8a3-af32-46ea-aed2-262efceae717",
        "colab": {
          "base_uri": "https://localhost:8080/",
          "height": 35
        }
      },
      "cell_type": "code",
      "source": [
        "list('bird')"
      ],
      "execution_count": 0,
      "outputs": [
        {
          "output_type": "execute_result",
          "data": {
            "text/plain": [
              "['b', 'i', 'r', 'd']"
            ]
          },
          "metadata": {
            "tags": []
          },
          "execution_count": 4
        }
      ]
    },
    {
      "metadata": {
        "id": "n2_NLJpARD4y",
        "colab_type": "code",
        "outputId": "5c9ea987-d5fe-42b4-99e1-3ef39294feaa",
        "colab": {
          "base_uri": "https://localhost:8080/",
          "height": 35
        }
      },
      "cell_type": "code",
      "source": [
        "''.join(list('bird'))"
      ],
      "execution_count": 0,
      "outputs": [
        {
          "output_type": "execute_result",
          "data": {
            "text/plain": [
              "'bird'"
            ]
          },
          "metadata": {
            "tags": []
          },
          "execution_count": 5
        }
      ]
    },
    {
      "metadata": {
        "id": "4ZIz5FCXROKG",
        "colab_type": "text"
      },
      "cell_type": "markdown",
      "source": [
        "###Using Characters as Array Indices\n",
        "Number letters like array indices: A is 0, B is 1, C is 2, etc...\n",
        "\n",
        "Thus, the Caesar cipher can be written with a rotation of $r$ as a simple formula: Replace each letter $i$ with the letter $(i+r)\\mod 26$, where mod is the **modulo** operator, whcih returns the remainder after performning an integer division. The decryption for Caesar cipher is the opposite: replace each letter with the one $r$ places before it with wrap around. Letter $i$ is replaced by letter $(i-r)\\mod 26$.\n",
        "\n",
        "Characters are represented in Unicode by integer code points, and the code points for the uppercase letters of the Latin alphabet are consecutive. The function `ord(c)` takes a one-character string as a parameter and returns the ineger code point for that character. Conversely, the function `chr(j)`  takes an integer and returns its associated one-character string.\n",
        "\n",
        "in order to find a replacement for a character in Caesar cipher, need to map the characters `'A'` to `'Z'` to the respective numbers 0 to 25 using the formula: `j = ord(c) - ord('A')`\n",
        "\n",
        "####Caesar Cipher Implementation"
      ]
    },
    {
      "metadata": {
        "id": "1U1lE3PhTUDa",
        "colab_type": "code",
        "outputId": "46bd8373-47bf-4ca7-fda3-b36ad9393870",
        "colab": {
          "base_uri": "https://localhost:8080/",
          "height": 52
        }
      },
      "cell_type": "code",
      "source": [
        "class CaesarCipher:\n",
        "  '''Class for doing encryption and decryption using a Caesar cipher'''\n",
        "  \n",
        "  def __init__(self, shift):\n",
        "    '''Consttruct Caesar cipher using given integer shift for rotation'''\n",
        "    encoder = [None] * 26 # temp array for encryption\n",
        "    decoder = [None] * 26 # temp array for decyrption\n",
        "    for k in range(26):\n",
        "      encoder[k] = chr((k + shift) % 26 + ord('A'))\n",
        "      decoder[k] = chr((k - shift) % 26 + ord('A'))\n",
        "    self._forward = ''.join(encoder) # will store as string\n",
        "    self._backward = ''.join(decoder) # since fixed\n",
        "    \n",
        "  def encrypt(self, message):\n",
        "    '''Return string representing encrpyted message'''\n",
        "    return self._transform(message, self._forward)\n",
        "  \n",
        "  def decrypt(self, secret):\n",
        "    '''Return decrypted message given encrypted secret'''\n",
        "    return self._transform(secret, self._backward)\n",
        "  \n",
        "  def _transform(self, original, code):\n",
        "    '''Utility to perform transformation based on given code string'''\n",
        "    msg = list(original)\n",
        "    for k in range(len(msg)):\n",
        "      if msg[k].isupper():\n",
        "        j = ord(msg[k]) - ord('A') # index from 0 to 25\n",
        "        msg[k] = code[j] # replace this character\n",
        "    return ''.join(msg)\n",
        "  \n",
        "  \n",
        "if __name__ == '__main__':\n",
        "    cipher = CaesarCipher(3)\n",
        "    message = 'THE EAGLE IS IN PLAY; MEET AT JOE\\'S.'\n",
        "    coded = cipher.encrypt(message)\n",
        "    print('Secret: ', coded)\n",
        "    answer = cipher.decrypt(coded)\n",
        "    print('Message: ', answer)"
      ],
      "execution_count": 0,
      "outputs": [
        {
          "output_type": "stream",
          "text": [
            "Secret:  WKH HDJOH LV LQ SODB; PHHW DW MRH'V.\n",
            "Message:  THE EAGLE IS IN PLAY; MEET AT JOE'S.\n"
          ],
          "name": "stdout"
        }
      ]
    },
    {
      "metadata": {
        "id": "v3fDwzbCW6kM",
        "colab_type": "text"
      },
      "cell_type": "markdown",
      "source": [
        "#5.6 Multidimensional Data Sets\n",
        "To properly initialize a two-dimesnional list, each cell of the primary list refers to an independent instance of a secondary list."
      ]
    },
    {
      "metadata": {
        "id": "bgaM7KgvXHxB",
        "colab_type": "code",
        "colab": {}
      },
      "cell_type": "code",
      "source": [
        "data = [ [0] * c for j in range(r)]"
      ],
      "execution_count": 0,
      "outputs": []
    },
    {
      "metadata": {
        "id": "aBklv2gAXTJh",
        "colab_type": "text"
      },
      "cell_type": "markdown",
      "source": [
        "####Two-Dimensional Arrays and Positional Games - Tic-Tac-Toe\n"
      ]
    },
    {
      "metadata": {
        "id": "AsM5DBLGXccs",
        "colab_type": "code",
        "colab": {}
      },
      "cell_type": "code",
      "source": [
        "class TicTacToe:\n",
        "  '''Management of a Tic-Tac-Toe game (does not do strategy)'''\n",
        "  \n",
        "  def __init__(self):\n",
        "    '''Start a new game'''\n",
        "    self._board = [ [' '] * 3 for j in range(3)]\n",
        "    self._player = 'X'\n",
        "    \n",
        "  def mark(self, i, j):\n",
        "    '''Put an X or O mark at position (i,j) for next player\\'s turn'''\n",
        "    if not (0 <= i <= 2 and 0 <= j <= 2):\n",
        "      raise ValueError('Invalid board position')\n",
        "    if self._board[i][j] != ' ':\n",
        "      raise ValueError('Board position occupied')\n",
        "    if self.winner() is not None:\n",
        "      raise ValueError('Game is already complete')\n",
        "    \n",
        "    self._board[i][j] = self._player\n",
        "    if self._player == 'X':\n",
        "      self._player = 'O'\n",
        "    else:\n",
        "      self._player = 'X'\n",
        "      \n",
        "  def _is_win(self, mark):\n",
        "    '''Check whether the board configuration is a win for the given player'''\n",
        "    board = self._board # local variable for shorthand\n",
        "    return (mark == board[0][0] == board[0][1] == board[0][2] or # row 0\n",
        "            mark == board[1][0] == board[1][1] == board[1][2] or # row 1\n",
        "            mark == board[2][0] == board[2][1] == board[2][2] or # row 2\n",
        "            mark == board[0][0] == board[1][0] == board[2][0] or # column 0\n",
        "            mark == board[0][1] == board[1][1] == board[2][1] or # column 1\n",
        "            mark == board[0][2] == board[1][2] == board[2][2] or # column 2\n",
        "            mark == board[0][0] == board[1][1] == board[2][2] or # diagonal\n",
        "            mark == board[0][2] == board[1][1] == board[2][0]) # rev diag\n",
        "  \n",
        "  def winner(self):\n",
        "    '''Return mark of winning player, or None to indicate a tie'''\n",
        "    for mark in 'XO':\n",
        "      if self._is_win(mark):\n",
        "        return mark\n",
        "    return None\n",
        "  \n",
        "  def __str__(self):\n",
        "    '''Return string representation of current game board'''\n",
        "    rows = ['|'.join(self._board[r]) for r in range(3)]\n",
        "    return '\\n-----\\n'.join(rows)"
      ],
      "execution_count": 0,
      "outputs": []
    },
    {
      "metadata": {
        "id": "b_x9C-4BZlut",
        "colab_type": "code",
        "colab": {}
      },
      "cell_type": "code",
      "source": [
        "game = TicTacToe( )\n",
        "# X moves: # O moves:\n",
        "game.mark(1, 1); game.mark(0, 2)\n",
        "game.mark(2, 2); game.mark(0, 0)\n",
        "game.mark(0, 1); game.mark(2, 1)\n",
        "game.mark(1, 2); game.mark(1, 0)\n",
        "game.mark(2, 0)"
      ],
      "execution_count": 0,
      "outputs": []
    },
    {
      "metadata": {
        "id": "fqFKINHqZo2k",
        "colab_type": "code",
        "outputId": "03a9cdd4-6142-4cf7-aef0-5d0a3b50e2c5",
        "colab": {
          "base_uri": "https://localhost:8080/",
          "height": 104
        }
      },
      "cell_type": "code",
      "source": [
        "print(game)"
      ],
      "execution_count": 0,
      "outputs": [
        {
          "output_type": "stream",
          "text": [
            "O|X|O\n",
            "-----\n",
            "O|X|X\n",
            "-----\n",
            "X|O|X\n"
          ],
          "name": "stdout"
        }
      ]
    },
    {
      "metadata": {
        "id": "GlYkj3pSZrKL",
        "colab_type": "code",
        "outputId": "8e7760f1-7e2e-48e0-875d-82be368013fc",
        "colab": {
          "base_uri": "https://localhost:8080/",
          "height": 35
        }
      },
      "cell_type": "code",
      "source": [
        "winner = game.winner()\n",
        "if winner is None:\n",
        "  print('Tie')\n",
        "else:\n",
        "  print(winner, 'wins')"
      ],
      "execution_count": 0,
      "outputs": [
        {
          "output_type": "stream",
          "text": [
            "Tie\n"
          ],
          "name": "stdout"
        }
      ]
    }
  ]
}