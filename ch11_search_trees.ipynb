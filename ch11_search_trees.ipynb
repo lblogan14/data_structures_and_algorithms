{
  "nbformat": 4,
  "nbformat_minor": 0,
  "metadata": {
    "colab": {
      "name": "ch11_search_trees.ipynb",
      "version": "0.3.2",
      "provenance": [],
      "collapsed_sections": [],
      "include_colab_link": true
    },
    "kernelspec": {
      "name": "python3",
      "display_name": "Python 3"
    }
  },
  "cells": [
    {
      "cell_type": "markdown",
      "metadata": {
        "id": "view-in-github",
        "colab_type": "text"
      },
      "source": [
        "<a href=\"https://colab.research.google.com/github/lblogan14/data_structures_and_algorithms/blob/master/ch11_search_trees.ipynb\" target=\"_parent\"><img src=\"https://colab.research.google.com/assets/colab-badge.svg\" alt=\"Open In Colab\"/></a>"
      ]
    },
    {
      "metadata": {
        "id": "wRFKCkG-DIbN",
        "colab_type": "text"
      },
      "cell_type": "markdown",
      "source": [
        "#11.1 Binary Search Trees\n",
        "Use a search tree structure to efficiently implement a *sorted map*. See details in Chapter 10.\n",
        "\n",
        "A **binary search tree** is a binary tree $T$ with each position $p$ storing a key-value pair $(k,v)$ such that:\n",
        "* Keys stored in the left subtree of $p$ are less than $k$\n",
        "* Keys stored in the right subtree of $p$ are greater than $k$"
      ]
    },
    {
      "metadata": {
        "id": "6H_MQmECES3R",
        "colab_type": "text"
      },
      "cell_type": "markdown",
      "source": [
        "##11.1.1 Navigating a Binary Search Tree\n",
        "*An inorder traversal of a binary search tree visits positions in increasing order of their keys.*\n",
        "\n",
        "Since an inorder traversal can be executed in linear time, a consequence of this\n",
        "proposition is that a sorted iteration of the keys of a map can be produced in linear time when represented as a binary search tree.\n",
        "\n",
        "With a binary search tree, we can provide additional navigation based on the natural order of the keys stored in the tree:\n",
        "* `first()`: Return the position containing the least key, or `None` if the tree is empty.\n",
        "* `last()`: Return the position containing the greatest key, or `None` if empty tree.\n",
        "* `before(p)`: Return the position containing the greatest key that is less than that of\n",
        "position `p` (i.e., the position that would be visited immediately before `p`\n",
        "in an inorder traversal), or `None` if `p` is the first position.\n",
        "* `after(p)`: Return the position containing the least key that is greater than that of\n",
        "position `p` (i.e., the position that would be visited immediately after `p`\n",
        "in an inorder traversal), or `None` if `p` is the last position.\n",
        "\n",
        "If `p` has a right subtree, that right subtree is recursively traversed immediately after `p` is visited, and so the\n",
        "first position to be visited after `p` is the *leftmost* position within the right subtree.\n",
        "If `p` does not have a right subtree, then the flow of control of an inorder traversal\n",
        "returns to `p`’s parent. If `p` were in the right subtree of that parent, then the parent’s\n",
        "subtree traversal is complete and the flow of control progresses to its parent and\n",
        "so on. Once an ancestor is reached in which the recursion is returning from its\n",
        "left subtree, then that ancestor becomes the next position visited by the inorder\n",
        "traversal, and thus is the successor of `p`."
      ]
    },
    {
      "metadata": {
        "id": "t4zZBCr_b4fm",
        "colab_type": "text"
      },
      "cell_type": "markdown",
      "source": [
        "##11.1.2 Searches\n",
        "The binary search tree can be treated as a decision tree. The question askes at each position `p` is whether the desired key `k` is less than, equal to, or greater than the key stored at position `p`, which is denoted as `p.key()`. If the\n",
        "answer is “less than,” then the search continues in the left subtree. If the answer\n",
        "is “equal,” then the search terminates successfully. If the answer is “greater than,”\n",
        "then the search continues in the right subtree. Finally, if an empty subtree is reached, then the search terminates unsccussfully.\n",
        "\n",
        "Since we spend $O(1)$ time per position encountered in the search, the overall search runs in $O(h)$ time, where $h$ is the height of the binary search tree $T$."
      ]
    },
    {
      "metadata": {
        "id": "W6kRHeB5d9l4",
        "colab_type": "text"
      },
      "cell_type": "markdown",
      "source": [
        "##11.1.3 Insertions and Deletions\n",
        "\n",
        "###Insertion\n",
        "The map command `M[k] = v` begins with a search for key `k`. If found, that item's existing value is reassigned. Otherwise, a node for the new item can be inserted into the underlying tree `T` in place of the empty subtree that was reached at the end of the failed search. Insertions are always enacted at the bottom of a path.\n",
        "\n",
        "###Deletion\n",
        "To delete an item with key `k`, start to find the position `p` of `T` storing an item with key equal to `k`. If the search is successful, there are two cases:\n",
        "* If `p` has at most one child, the deletion of the node at position `p` is easily implemented.\n",
        "* If position `p` has two children, there are three more subcases:\n",
        " * locating position `r` containing the item having the greatest key that is strictly less than that of position `p`, that is, `r = before(p)`. Because `p` has two children, its predecessor is the rightmost position of the left subtree of `p`.\n",
        " * Using `r`'s item as a replacement for the one being deleted at position `p`. Because `r` has the immediately preceding key in the map, any items in\n",
        "`p`’s right subtree will have keys greater than `r` and any other items in `p`’s\n",
        "left subtree will have keys less than `r`. Therefore, the binary search tree\n",
        "property is satisfied after the replacement.\n",
        "* Having used `r`'s as a replacement for `p`, delete the node at position `r` from the tree. Since `r` was located as the rightmost position in a subtree, `r` does not have a right child. Therefore, its deletion can be performed using the first approach.\n",
        "\n",
        "As with searching and insertion, this algorithm for a deletion involves the\n",
        "traversal of a single path downward from the root, possibly moving an item between\n",
        "two positions of this path, and removing a node from that path and promoting its\n",
        "child. Therefore, it executes in time $O(h)$ where h is the height of the tree."
      ]
    },
    {
      "metadata": {
        "id": "AhldIgJyiIh5",
        "colab_type": "text"
      },
      "cell_type": "markdown",
      "source": [
        "##11.1.4 Python Implementation"
      ]
    },
    {
      "metadata": {
        "id": "9O9Sr8u3iXxN",
        "colab_type": "code",
        "colab": {}
      },
      "cell_type": "code",
      "source": [
        "class TreeMap(LinkedBinaryTree, MapBase):\n",
        "  '''Sorted map implementation using a binary search tree'''\n",
        "  \n",
        "  #-------------------override Position class--------------------------\n",
        "  class Position(LinkedBinaryTree.Position):\n",
        "    def key(self):\n",
        "      '''Return key of map's key-value pair'''\n",
        "      return self.element()._key\n",
        "    \n",
        "    def value(self):\n",
        "      '''Return value of map's key-value pair'''\n",
        "      return self.element()._value\n",
        "    \n",
        "  #-------------------nonpublic utilities------------------------------\n",
        "  def _subtree_search(self, p, k):\n",
        "    '''Return Position of p's subtree having key k, or last node searched'''\n",
        "    if k == p.key(): # found match\n",
        "      return p\n",
        "    elif k < p.key(): # search left subtree\n",
        "      if self.left(p) is not None:\n",
        "        return self._subtree_search(self.left(p), k)\n",
        "    else: # search right subtree\n",
        "      if self.right(p) is not None:\n",
        "        return self._subtree_search(self.right(p), k)\n",
        "    return p # unsuccessful search\n",
        "  \n",
        "  def _subtree_first_position(self, p):\n",
        "    '''Return Position of first item in subtree rooted at p'''\n",
        "    walk = p\n",
        "    while self.left(walk) is not None: # keep walking left\n",
        "      walk = self.left(walk)\n",
        "    return walk\n",
        "  \n",
        "  def _subtree_last_position(self, p):\n",
        "    '''Return Position of last item in subtree rooted at p'''\n",
        "    walk = p\n",
        "    while self.right(walk) is not None: # keep walking right\n",
        "      walk = self.right(walk)\n",
        "    return walk\n",
        "  \n",
        "  def first(self):\n",
        "    '''Return the first Position in the tree (or None if empty)'''\n",
        "    return self._subtree_first_position(self.root()) if len(self)>0 else None\n",
        "  \n",
        "  def last(self):\n",
        "    '''Return the last Position in the tree (or None if empty)'''\n",
        "    return self._subtree_last_position(self.root()) if len(self)>0 else None\n",
        "  \n",
        "  def before(self, p):\n",
        "    '''Return the Position just before p in the natural order\n",
        "    \n",
        "    Return None if p is the first position\n",
        "    '''\n",
        "    self._validate(p) # inherited from LinkedBinaryTree\n",
        "    if self.left(p):\n",
        "      return self._subtree_last_position(self.left(p))\n",
        "    else:\n",
        "      # walk upward\n",
        "      walk = p\n",
        "      above = self.parent(walk)\n",
        "      while above is not None and walk == self.left(above):\n",
        "        walk = above\n",
        "        above = self.parent(walk)\n",
        "      return above\n",
        "    \n",
        "  def after(self, p):\n",
        "    '''Return the Position just after p in the natural order\n",
        "    \n",
        "    Return None if p is the last position\n",
        "    '''\n",
        "    # symmetric to before(p)\n",
        "    self._validate(p)\n",
        "    if self.right(p):\n",
        "      return self._subtree_first_position(self.right(p))\n",
        "    else:\n",
        "      #walk downward\n",
        "      walk = p\n",
        "      below = self.children(walk)\n",
        "      while below is not None and walk == self.right(below):\n",
        "        walk = below\n",
        "        below = self.children(walk)\n",
        "      return below\n",
        "    \n",
        "  def find_position(self, k):\n",
        "    '''Return position with key k, or else neighbor (or None if empty)'''\n",
        "    if self.is_empty():\n",
        "      return None\n",
        "    else:\n",
        "      p = self._subtree_search(self.root(), k)\n",
        "      self._rebalance_access(p) # hook for balanced tree subclasses\n",
        "      return p\n",
        "    \n",
        "  def find_min(self):\n",
        "    '''Return (key, value) pair with minimum key (or None if empty)'''\n",
        "    if self.is_empty():\n",
        "      return None\n",
        "    else:\n",
        "      p = self.first()\n",
        "      return (p.key(), p.value())\n",
        "    \n",
        "  def find_ge(self, k):\n",
        "    '''Return (key,value) pair with least key greater than or equal to k\n",
        "    \n",
        "    Return None if there does not exist such a key\n",
        "    '''\n",
        "    if self.is_empty():\n",
        "      return None\n",
        "    else:\n",
        "      p = self.find_position(k) # may not find exact match\n",
        "      if p.key() < k: # p's key is too small\n",
        "        p = self.after(p)\n",
        "      return (p.key(), p.value()) if p is not None else None\n",
        "  \n",
        "  def find_range(self, start, stop):\n",
        "    '''Iterate all (key,value) pairs such that start<=key<stop\n",
        "    \n",
        "    If start is None, iteration begins with minimum key of map\n",
        "    If stop is None, iteration continues through the maximum key of map\n",
        "    '''\n",
        "    if not self.is_empty():\n",
        "      if start is None:\n",
        "        p = self.first()\n",
        "      else:\n",
        "        # we initialize p with logic similar to find_ge\n",
        "        p = self.find_position(start)\n",
        "        if p.key() < start:\n",
        "          p = self.after(p)\n",
        "      while p is not None and (stop is None or p.key() < stop):\n",
        "        yield (p.key(), p.value())\n",
        "        p = self.after(p)\n",
        "        \n",
        "  def __getitem__(self, k):\n",
        "    '''Return value associated with key k (raise KeyError if not found)'''\n",
        "    if self.is_empty():\n",
        "      raise KeyError('Key Error: ' + repr(k))\n",
        "    else:\n",
        "      p = self._subtree_search(self.root(), k)\n",
        "      self._rebalance_access(p) # hook for balanced tree subclasses\n",
        "      if k != p.key():\n",
        "        raise KeyError('Key Error: ' + repr(k))\n",
        "      return p.value()\n",
        "    \n",
        "  def __setitem__(self, k, v):\n",
        "    '''Assign value v to key k, overwriting existing value if present'''\n",
        "    if self.is_empty():\n",
        "      leaf = self._add_root(self._Item(k,v)) # from LinkedBinaryTree\n",
        "    else:\n",
        "      p = self._subtree_search(self.root(), k)\n",
        "      if p.key() == k:\n",
        "        p.element()._value = v # replace existing item's value\n",
        "        self._rebalance_access(p) # hook for balanced tree subclasses\n",
        "        return\n",
        "      else:\n",
        "        item = self.Item(k,v)\n",
        "        if p.key() < k:\n",
        "          leaf = self._add_right(p, item) # inherited from LinkedBinaryTree\n",
        "        else:\n",
        "          leaf = self._add_left(p, item) # inherited from LInkedBinaryTree\n",
        "    self._rebalance_insert(leaf) # hook for balanced tree subclasses\n",
        "    \n",
        "  def __iter__(self):\n",
        "    '''Generate an iteration of all keys in the map in order'''\n",
        "    p = self.first()\n",
        "    while p is not None:\n",
        "      yield p.key()\n",
        "      p = self.after(p)\n",
        "      \n",
        "  def delete(self, p):\n",
        "    '''Remove the item at given Position'''\n",
        "    self._validate(p) # inherited from LinkedBinaryTree\n",
        "    if self.left(p) and self.right(p): # p has two children\n",
        "      replacement = self._subtree_last_position(self.left(p))\n",
        "      self._replace(p, replacement.element()) # from LinkedBinaryTree\n",
        "      p = replacement\n",
        "    # now p has at most one child\n",
        "    parent = self.parent(p)\n",
        "    self._delete(p) # inherited from LinkedBinaryTree\n",
        "    self._rebalance_delete(parent) # if root deleted, parent is None\n",
        "    \n",
        "  def __delitem__(self, k):\n",
        "    '''Remove item associated with key k (raise KeyError if not found)'''\n",
        "    if not self.is_empty():\n",
        "      p = self._subtree_search(self.root(), k)\n",
        "      if k == p.key():\n",
        "        self.delete(p) # rely on positional version\n",
        "        return # successful deletion complete\n",
        "      self._rebalance_acess(p) # hook for balanced tree subclasses\n",
        "    raise KeyError('Key Error: ' + repr(k))"
      ],
      "execution_count": 0,
      "outputs": []
    },
    {
      "metadata": {
        "id": "9Dj3VduetWJj",
        "colab_type": "text"
      },
      "cell_type": "markdown",
      "source": [
        "The `TreeMap` class takes advantage of **multiple inheritance** for code reuse, inheriting from the `LinkedBinaryTree` class in Chapter 8 for representation as a positional binary tree and from the `MapBase` class in Chapter 10 to provide the key-value composite item and the concrete behaviors from the `collections.MutableMapping` abstract base class.\n",
        "\n",
        "The `_subtree_search(p,k)` method returns a position, ideally one that contains the key `k` or otherwise the last position that is visited on the search path.\n",
        "\n",
        "The `TreeMap` is also implemented with calls to presumed methods named `_rebalance_insert`, `_rebalance_delete`, and `_rebalance_access`, which serve as **hooks** for future use when balancing search trees."
      ]
    },
    {
      "metadata": {
        "id": "wQaXUAh8u6Ta",
        "colab_type": "text"
      },
      "cell_type": "markdown",
      "source": [
        "Almost all operations have a worst-case running time depends on $h$, where $h$ is the height of the current tree, which is because most operations rely on a constant amount of work for each node along a particular path of the tree, and the maximum path length within a tree is proportional to the height of the tree.\n",
        "\n",
        "On average, a binary search tree with $n$ keys generated from a random seires of insertions and removals of keys has expected height $O(\\log n)$. In applications where one cannot guarantee the random nature of updates, it\n",
        "is better to rely on variations of search trees, that guarantee a worst-case height of $O(\\log n)$, and thus $O(\\log n)$ worstcase\n",
        "time for searches, insertions, and deletions."
      ]
    },
    {
      "metadata": {
        "id": "aF8j2Jfkv-Xn",
        "colab_type": "text"
      },
      "cell_type": "markdown",
      "source": [
        "#11.2 Balanced Search Trees\n",
        "The primary operation to rebalance a binary search tree is known as a **rotation**. During a rotation, a child is \"rotated\" to be above its parent. To maintain the binary search tree property through a rotation, we note that\n",
        "if position x was a left child of position y prior to a rotation (and therefore the\n",
        "key of x is less than the key of y), then y becomes the right child of x after the\n",
        "rotation, and vice versa. If there exists a subtree T representing items with keys that are greater than that of position x and less than that of position y, then after the rotation, the order still maintains.\n",
        "\n",
        "Because a single rotation modifies a constant number of parent-child relationship, it can be implemented in $O(1)$ time with a linked binary tree representation.\n",
        "\n",
        "In the context of a tree-balancing algorithm, a rotation allows the shape of a\n",
        "tree to be modified while maintaining the search tree property. If used wisely, this\n",
        "operation can be performed to avoid highly unbalanced tree configurations. One or more rotations can be combined to provide broader rebalancing within a\n",
        "tree. One such compound operation we consider is a **trinode restructuring**: \\\\\n",
        "For example: consider a position x, its parent y, and its grandparent z, \\\\\n",
        "Algorithm `resturcture(x):` \\\\\n",
        "Input: A position x of a binary search tree `T` that has both a parent `y` and a grandparent `z` \\\\\n",
        "Output: Tree `T` after a trinode restructuring (which corresponds to a single or double rotation) involving positions x, y, and z \\\\\n",
        "1. Let (a, b, c) be a left-to-right (inorder) listing of the positions x, y, and z, and\n",
        "let (T1,T2,T3,T4) be a left-to-right (inorder) listing of the four subtrees of x,\n",
        "y, and z not rooted at x, y, or z.\n",
        "2. Replace the subtree rooted at z with a new subtree rooted at b.\n",
        "3. Let a be the left child of b and let T1 and T2 be the left and right subtrees of a,\n",
        "respectively.\n",
        "4. Let c be the right child of b and let T3 and T4 be the left and right subtrees of\n",
        "c, respectively.\n",
        "\n",
        "The trinode restructuring is completed with $O(1)$ running time."
      ]
    },
    {
      "metadata": {
        "id": "K0cqyxmU32Ad",
        "colab_type": "text"
      },
      "cell_type": "markdown",
      "source": [
        "##11.2.1 Python Framework for Balancing Search Trees\n",
        "The inheritance hierarchy is shown below:\n",
        "$$(AVLTreeMap, SplayTreeMap, RedBlackTreeMap)\\rightarrow(TreeMap)\\rightarrow(LinkedBinaryTree, MapBase)$$\n",
        "\n",
        "###Hooks for Rebalancing Operations\n",
        "* A call to `_rebalance_insert(p)` is made from within the `__setitem__` method\n",
        "immediately after a new node is added to the tree at position `p`.\n",
        "* A call to `_rebalance_delete(p)` is made each time a node has been deleted\n",
        "from the tree, with position `p` identifying the parent of the node that has just\n",
        "been removed. Formally, this hook is called from within the public `delete(p)`\n",
        "method, which is indirectly invoked by the public `__delitem__(k)` behavior.\n",
        "* A call to `_rebalance_access(p)` is made when an item at\n",
        "position `p` of a tree is accessed through a public method such as `__getitem__` .\n",
        "This hook is used by the **splay tree** structure to restructure\n",
        "a tree so that more frequently accessed items are brought closer to the root."
      ]
    },
    {
      "metadata": {
        "id": "SG00I5CD5rPR",
        "colab_type": "text"
      },
      "cell_type": "markdown",
      "source": [
        "###Nonpublic Methods for Rotating and Restructuring\n",
        "Implement the `_rotate` and `_restructure` methods. There are other utilities defined to simplify the code: (attach these methods to the `TreeMap` class)"
      ]
    },
    {
      "metadata": {
        "id": "6sTDpy1r55h-",
        "colab_type": "code",
        "colab": {}
      },
      "cell_type": "code",
      "source": [
        "def _relink(self, parent, child, make_left_child):\n",
        "  '''Relink parent node with child node (allowing child to be None)'''\n",
        "  if make_left_child: # make it a left child\n",
        "    parent._left = child\n",
        "  else: # make it a right child\n",
        "    parent._right = child\n",
        "  if child is not None: # make child point to parent\n",
        "    child._parent = parent\n",
        "    \n",
        "def _rotate(self, p):\n",
        "  '''Rotate Position p above its parent'''\n",
        "  x = p.node\n",
        "  y = x._parent # assume this exists\n",
        "  z = y._parent # grandparent (possibly None)\n",
        "  if z is None:\n",
        "    self._root = x # x becomes root\n",
        "    x._parent = None\n",
        "  else:\n",
        "    self._relink(z,x,y == z._left) # x becomes a direct child of z\n",
        "  # now rotate x and y, including transfer of middle subtree\n",
        "  if x == y._left:\n",
        "    self._relink(y, x._right, True) # x._right becomes left child of y\n",
        "    self._relink(x, y, False) # y becomes right child of x\n",
        "  else:\n",
        "    self._relink(y, x._left, False) # x._left becomes right child of y\n",
        "    self._relink(x, y, True) # y becomes left child of x\n",
        "    \n",
        "def _restructure(self, x):\n",
        "  '''Perform trinode restructure of Position x with parent/grandparent'''\n",
        "  y = self.parent(x)\n",
        "  z = self.parent(y)\n",
        "  if (x == self.right(y)) == (y == self.right(z)): # matching alignments\n",
        "    self._rotate(y) # single rotation (of y)\n",
        "    return y # y is new subtree root\n",
        "  else: # opposite alignments\n",
        "    self._rotate(x) # double rotation (of x)\n",
        "    self._rotate(x)\n",
        "    return x # x is new subtree root"
      ],
      "execution_count": 0,
      "outputs": []
    },
    {
      "metadata": {
        "id": "TZnlIHcZ75kO",
        "colab_type": "text"
      },
      "cell_type": "markdown",
      "source": [
        "The `_relink` utility links parent and child nodes to each other, including the special case in which a \"child\" is a `None` reference."
      ]
    },
    {
      "metadata": {
        "id": "eqpak-w28RIG",
        "colab_type": "text"
      },
      "cell_type": "markdown",
      "source": [
        "#11.3 AVL Trees\n",
        "The `TreeMap` class so far has its worst-case performance for the various operations in linear time because of the linear height of the tree. The AVL tree in this section guarantees worst-case logarithmic running time for all map opeartions.\n",
        "\n",
        "###Definition of an AVL Tree\n",
        "Originally, the height of a subtree rooted at position $p$ of a tree is defined to be the number of *edges* on the longest path from $p$ to a leaf. \\\\\n",
        "Now, consider the height to be the number of *nodes* on such a longest path. Based on this definition, a leaf position has height 1, while the height of a \"null\" child to be 0.\n",
        "\n",
        "**Height-Balance Property**: For every position $p$ of $T$, the heights of the children of $p$ differ by at most 1.\n",
        "\n",
        "Any binary search tree $T$ that satisfies the height-balance property is an **AVL tree**.\n",
        "\n",
        "Now, a subtree of an AVL tree is itself an AVL tree.\n",
        "\n",
        "*The height of an AVL tree storing $n$ entires is $O(\\log n)$.*\n",
        "\n",
        "Now the operation `__getitem__` implemented with an AVL tree runs in time $O(\\log n)$, where $n$ is the number of items in the map."
      ]
    },
    {
      "metadata": {
        "id": "FD_bpsoX0huR",
        "colab_type": "text"
      },
      "cell_type": "markdown",
      "source": [
        "##11.3.1 Update Operations\n",
        "Given a binary search tree $T$, a position is **balanced** if the absolute\n",
        "value of the difference between the heights of its children is at most 1; otherwise, it is unbalanced. Therefore, the height-balance property characterizing AVL trees is equivalent to saying that every position is balanced.\n",
        "\n",
        "###Insertion\n",
        "An insertion of a new item in a binary search tree results in a new node at a leaf position $p$. This action may violate the height-balance property. To restructure $T$ to fix any unbalance that may have occured, start to restore the balance of the nodes in the binary search tree $T$ by a simple \"search-and-repair\" strategy.\n",
        "\n",
        "Let z be the first position encountered in going up from $p$ toward the root of $T$ such that z is unbalanced. Let y denote the child of z with higher height (and y must be an ancestor of $p$). Finally let x be the child of y with higher height (there cannot be a tie and position x must also be an ancestor of $p$, possibly $p$ itself). Now rebalance the subtree rooted at z by calling the **trinode restructuring** method, `restructure(x)`. After the trinode restructuring, each of x, y, and z has become balaanced. The node that becomes the root of the subtree after the restructuring has height $h+2$, which is precisely the height that z had before the insertion of the new item. Therefore, any ancestor of z that became temporarily unbalanced becomes balanced again, and this one restructuring restores the height-balance property *globally*.\n",
        "\n",
        "###Deletion\n",
        "A deletion from a regular binary search tree results in the structural removal of a node having either zero or one child.\n",
        "\n",
        "As with insertion, use trinode restructuring to restore balance in the tree $T$. let z be the first unbalanced position encountered going up from $p$\n",
        "toward the root of $T$. Also, let y be the child of z with larger height (note that\n",
        "position y is the child of z that is not an ancestor of $p$), and let x be the child of y\n",
        "defined as follows: If one of the children of y is taller than the other, let x be the\n",
        "taller child of y; else (both children of y have the same height), let x be the child of\n",
        "y on the same side as y (that is, if y is the left child of z, let x be the left child of\n",
        "y, else let x be the right child of y). In any case, perform a `restructure(x)`\n",
        "operation for the next step.\n",
        "\n",
        "###Performance of AVL Trees\n",
        "The height of an AVL tree with $n$ items is guaranteed to be $O(\\log n)$. Because the standard binary search tree operation had running times\n",
        "bounded by the height, and because the additional work in maintaining\n",
        "balance factors and restructuring an AVL tree can be bounded by the length\n",
        "of a path in the tree, the traditional map operations run in worst-case logarithmic\n",
        "time with an AVL tree."
      ]
    },
    {
      "metadata": {
        "id": "j1R-zsDX90VM",
        "colab_type": "text"
      },
      "cell_type": "markdown",
      "source": [
        "##11.3.2 Python Implementation\n",
        "The `AVLTreeMap` class inherits from the standard `TreeMap` class. The `AVLTreeMap` overrides the definition of the nested `_Node` class in order to provide support for storing the height of the subtree stored at a node."
      ]
    },
    {
      "metadata": {
        "id": "Z1lYlw_nDSo3",
        "colab_type": "code",
        "colab": {}
      },
      "cell_type": "code",
      "source": [
        "class AVLTreeMap(TreeMap):\n",
        "  '''Sorted map implementation using an AVL tree'''\n",
        "  \n",
        "  #---------------------nested _Node class------------------------------\n",
        "  class _Node(TreeMap._Node):\n",
        "    '''Node class for AVL maintains height value for balancing'''\n",
        "    __slots__ = '_height' # additional data member to store height\n",
        "    \n",
        "    def __init__(self, element, parent=None, left=None, right=None):\n",
        "      super().__init__(element, parent, left, right)\n",
        "      self._height = 0 # will be recomputed during balancing\n",
        "      \n",
        "    def left_height(self):\n",
        "      return self._left._height if self._left is not None else 0\n",
        "    \n",
        "    def right_height(self):\n",
        "      return self._right._height if self._right is not None else 0\n",
        "    \n",
        "  #---------------positional-based utility methods----------------------\n",
        "  def _recompute_height(self, p):\n",
        "    p._node._height = 1 + max(p._node.left_height(), p._node.right_height())\n",
        "    \n",
        "  def _isbalanced(self, p):\n",
        "    return abs(p._node.left_height - p._node.right_height()) <= 1\n",
        "  \n",
        "  def _tall_child(self, p, favorleft=False): # parameter controls tiebreaker\n",
        "    if p._node.left_height() + (1 if favorleft else 0) > p._node.right_height():\n",
        "      return self.left(p)\n",
        "    else:\n",
        "      return self.right(p)\n",
        "    \n",
        "  def _tall_grandchild(self, p):\n",
        "    child = self._tall_child(p)\n",
        "    # if child is on left, favor left grandchild, else favor right grandchild\n",
        "    alignment = (child == self.left(p))\n",
        "    return self._tall_child(child, alignment)\n",
        "  \n",
        "  def _rebalance(self, p):\n",
        "    while p is not None:\n",
        "      old_height = p._node._height # trivially 0 if new node\n",
        "      if not self._isbalanced(p): # imbalance detected\n",
        "        # perform trinode restructuring setting p to resulting root,\n",
        "        # and recompute new local heights after the restructuring\n",
        "        p = self._resturcture(self._tall_grandchild(p))\n",
        "        self._recompute_height(self.left(p))\n",
        "        self._recompute_height(self.right(p))\n",
        "      self._recompute_height(p) # adjust for recent changes\n",
        "      if p._node._height == old_height: # has height changed?\n",
        "        p = None # no further changes needed\n",
        "      else:\n",
        "        p = self.parent(p) # repeat with parent\n",
        "  \n",
        "  #---------------------override balancing hooks-------------------------\n",
        "  def _rebalance_insert(self, p):\n",
        "    self._rebalance(p)\n",
        "    \n",
        "  def _rebalance_delete(self, p):\n",
        "    self._rebalance(p)"
      ],
      "execution_count": 0,
      "outputs": []
    },
    {
      "metadata": {
        "id": "rvAKQnwmFjlR",
        "colab_type": "text"
      },
      "cell_type": "markdown",
      "source": [
        "The `_rebalance` method suffices as a hook for restoring the height-balance property after an insertion or a deletion. Although the inherited behaviors for insertion and\n",
        "deletion are quite different, the necessary post-processing for an AVL tree can be\n",
        "unified.\n",
        "\n",
        "In both cases, we trace an upward path from the position p at which the\n",
        "change took place, recalculating the height of each position based on the (updated)\n",
        "heights of its children, and using a trinode restructuring operation if an imbalanced\n",
        "position is reached. If we reach an ancestor with height that is unchanged by the\n",
        "overall map operation, or if we perform a trinode restructuring that results in the\n",
        "subtree having the same height it had before the map operation, we stop the process;\n",
        "no further ancestor’s height will change"
      ]
    },
    {
      "metadata": {
        "id": "K61H-HtOFzy0",
        "colab_type": "text"
      },
      "cell_type": "markdown",
      "source": [
        "#11.4 Splay Trees\n",
        "**Splay trees** do not strictly enforce a logarithmic upper bound on the height of the tree. There are no additional height, balance, or other auxiliary data associated with the nodes of this tree.\n",
        "\n",
        "The efficiency of splay trees is due to a certain move-to-root operation, called **splaying**, that is performed at the bottommost position $p$ reached during every insertion, deletion, or a search. A splay operation causes more frequently accessed elements to remain nearer to the root, thereby reducing the typical search times."
      ]
    },
    {
      "metadata": {
        "id": "Kt3zjnWxLteb",
        "colab_type": "text"
      },
      "cell_type": "markdown",
      "source": [
        "##11.4.1 Splaying\n",
        "Given a node $x$ of a binary search tree $T$, $x$ is splayed by moving $x$ to the root of $T$ through a sequence of restructurings. The operation to move $x$ up depends upon the relative positions of $x$, its parent $y$, and (if it exists) $x$'s grandparent $z$. The splaying step consists of repeating the restructuring at $x$"
      ]
    },
    {
      "metadata": {
        "id": "y0y-RPN_n4W2",
        "colab_type": "text"
      },
      "cell_type": "markdown",
      "source": [
        "##11.4.2 When to Splay\n",
        "Rules dictating when splaying is performed:\n",
        "* When searching for key k, if k is found at position p, p is splayed, else the leaf position is splayed at which the search terminates unsuccessfully.\n",
        "* When inserting key k, the newly created internal node is splayed where k\n",
        "gets inserted.\n",
        "* When deleting a key k, the position p that is the parent of the removed\n",
        "node is splayed; recall that by the removal algorithm for binary search trees, the\n",
        "removed node may be that originally containing k, or a descendant node with\n",
        "a replacement key."
      ]
    },
    {
      "metadata": {
        "id": "B3H05j2yob3e",
        "colab_type": "text"
      },
      "cell_type": "markdown",
      "source": [
        "##11.4.3 Python Implementation"
      ]
    },
    {
      "metadata": {
        "id": "N5akP4hwo7Lw",
        "colab_type": "code",
        "colab": {}
      },
      "cell_type": "code",
      "source": [
        "class SplayTreeMap(TreeMap):\n",
        "  '''Sorted map implementation using a splay tree'''\n",
        "  #--------------------------splay operation-----------------------------\n",
        "  def _splay(self, p):\n",
        "    while p != self.root():\n",
        "      parent = self.parent(p)\n",
        "      grand = self.parent(parent)\n",
        "      if grand is None:\n",
        "        # zig case\n",
        "        self._rotate(p)\n",
        "      elif (parent == self.left(grand)) == (p == self.left(parent)):\n",
        "        # zig-zig case\n",
        "        self._rotate(parent) # move PARENT up\n",
        "        self._rotate(p) # then move p up\n",
        "      else:\n",
        "        # zig-zag case\n",
        "        self._rotate(p) # move p up\n",
        "        self._rotate(p) # move p up again\n",
        "        \n",
        "  #------------------------override balancing hooks----------------------\n",
        "  def _rebalance_insert(self, p):\n",
        "    self._splay(p)\n",
        "    \n",
        "  def _rebalance_delete(self, p):\n",
        "    if p is not None:\n",
        "      self._splay(p)\n",
        "      \n",
        "  def _rebalance_access(self, p):\n",
        "    self._splay(p)"
      ],
      "execution_count": 0,
      "outputs": []
    },
    {
      "metadata": {
        "id": "6V1go7dGvgz3",
        "colab_type": "text"
      },
      "cell_type": "markdown",
      "source": [
        "In the worst case, the overall running time of a search, insertion, or deletion in a\n",
        "splay tree of height h is O(h), since the position we splay might be the deepest\n",
        "position in the tree"
      ]
    },
    {
      "metadata": {
        "id": "goX5-TXKvnLv",
        "colab_type": "text"
      },
      "cell_type": "markdown",
      "source": [
        "#11.5 (2,4) Trees\n",
        "**(2,4) Tree** is an example of **multiway search tree**, in which internal nodes may have more than two children.\n",
        "\n",
        "##11.5.1 Multiway Search Trees\n",
        "Map items stored in a search tree are pairs of the form $(k,v)$, where $k$ is the key and $v$ is the value associated with the key.\n",
        "\n",
        "###Definition of a Multiway Search Tree\n",
        "Let $w$ be a node of an ordered tree. $w$ is a **d-node** if $w$ has $d$ children. A multiway search tree is defined as an ordered tree $T$ that has the following properties:\n",
        "* Each internal node of $T$ has at least two children. That is, each internal node is a $d$-node such that $d\\geq 2$.\n",
        "* Each internal $d$-node $w$ of $T$ with children $c_1, ...., c_d$ stores an ordered set of $d-1$ key-value pairs $(k_1,v_1),..., (k_{d-1}, v_{d-1})$, where $k_1\\leq...\\leq k_{d-1}$.\n",
        "* Define $k_0=-\\infty$ and $k_d=+\\infty$. For each item $(k,v)$ stored at a node in the subtree of $w$ rooted at $c_i, i=1,...,d$, $k_{i-1}\\leq k \\leq k_i$.\n",
        "\n",
        "That is, if the set of keys is stored at $w$ including the special ficititous keys $k_0=-\\infty$ and $k_d=+\\infty$, then a key $k$ stored in the subtree of $T$ rooted at a child node $c_i$ must be \"in between\" two keys stored at $w$.\n",
        "\n",
        "Note that the external nodes for a multiway search do not store any data and serve only as \"placeholders\".\n",
        "\n",
        "*An $n$-item multiway search tree has $n+1$ external nodes.*"
      ]
    },
    {
      "metadata": {
        "id": "aWnqdQu60TYY",
        "colab_type": "text"
      },
      "cell_type": "markdown",
      "source": [
        "###Searching in a Multiway Tree\n",
        "Start with tracing a path in $T$ at the root. At a $d$-node $w$ during this search, the key $k$ is compared with the keys $k_1,..., k_{d-1}$ stored at $w$. If $k=k_i$ for some $i$, the search is successfully completed. Otherwise, the search is continued in the child $c_i$ of $w$ such that $k_{i-1}<k<k_i$. If an external node is reached, there is no item with key $k$ in $T$, and the serach terminates unsuccessfully."
      ]
    },
    {
      "metadata": {
        "id": "5F5D5yw11BxI",
        "colab_type": "text"
      },
      "cell_type": "markdown",
      "source": [
        "##11.5.2 (2,4)- Tree Operations\n",
        "During a search for key $k$ in a multiway search tree, the primary operation needed when navigating a node is finding the smallest key at that node that is greater than or equal to $k$. Therefore, it is natural to model the information at a node itself as a *sorted map*. This map serves as a **secondary** data structure to support the **primary** data structure represented by the entire multiway search tree.\n",
        "\n",
        "A multiway search tree that keeps the secondary data structure stored at each node small and also keeps the primary multiway tree balanced is the **(2,4) tree**. This data structure achieves these goals by maintaining:\n",
        "* **Size Property**: Every internal node has at most four children.\n",
        "* **Depth Property**: All the external nodes have the same depth.\n",
        "\n",
        "For simplicity, assume all external nodes are empty.\n",
        "\n",
        "**(2,4) tree** also implies that each internal node in the tree has 2, 3, or 4 children.\n",
        "\n",
        "*The height of a (2,4) tree storing $n$ items is $O(\\log n)$.*"
      ]
    },
    {
      "metadata": {
        "id": "OAX_AaV63uXw",
        "colab_type": "text"
      },
      "cell_type": "markdown",
      "source": [
        "#11.6 Red-Black Trees\n",
        "AVL trees may require many restructure operations (rotations) to be performed after a deletion, and (2,4) trees may require many split or fusing operations to be performed after an insertion or removal. However, the Red-Black Trees introduced here do have those drawbacks and uses $O(1)$ structural changes after an update in order to stay balanced.\n",
        "\n",
        "A **red-black tree** is a binary search tree with nodes colored red and black in a way that satisfies the following properties:\n",
        "* **Root Property**: The root is black.\n",
        "* **Red Property**: The children of a red node (if any) are black.\n",
        "* **Depth Property**: All nodes with zero or one chid have the same **black depth**, defined as the number of black ancestors. (Recall that a node is its own ancestor).\n",
        "\n",
        "More intuitively, given a red-balck tree, we can construct a corresponding (2,4) tree by merging every red node $w$ into its parent, storing the entry from $w$ at its parent, and with the children of $w$ becoming ordered children of the parent.\n",
        "* If $w$ is a 2-node, then keep the (black) children of $w$ as is.\n",
        "* If $w$ is a 3-node, then create a new red node $y$, give $w$’s last two (black)\n",
        "children to $y$, and make the first child of $w$ and $y$ be the two children of $w$.\n",
        "* If $w$ is a 4-node, then create two new red nodes $y$ and $z$, give $w$’s first two\n",
        "(black) children to $y$, give $w$’s last two (black) children to $z$, and make $y$ and\n",
        "$z$ be the two children of $w$.\n",
        "\n",
        "Note that a red node always has a black parent in this contruction.\n",
        "\n",
        "*The height of a red-black tree storing $n$ entires is $O(\\log n)$"
      ]
    },
    {
      "metadata": {
        "id": "lZmvYKq85yWI",
        "colab_type": "text"
      },
      "cell_type": "markdown",
      "source": [
        "###Python Implementation"
      ]
    },
    {
      "metadata": {
        "id": "ToQyo22O52Vh",
        "colab_type": "code",
        "colab": {}
      },
      "cell_type": "code",
      "source": [
        "class RedBlackTreeMap(TreeMap):\n",
        "  '''Sorted map implementation using a red-black tree'''\n",
        "  class _Node(TreeMap._Node):\n",
        "    '''Node class for red-black tree maintains bit that denotes color'''\n",
        "    __slots__ = '_red' # add additional data member to the Node class\n",
        "    \n",
        "    def __init__(self, element, parent=None, left=None, right=None):\n",
        "      super().__init__(element, parent, left, right)\n",
        "      self._red = True # new node red by default\n",
        "      \n",
        "  #----------------positional-based utility methods----------------------\n",
        "  # consider a nonexistent child to be trivially black\n",
        "  def _set_red(self, p):\n",
        "    p._node._red = True\n",
        "  def _set_black(self, p):\n",
        "    p._node._red = False\n",
        "  def _set_color(self, p, make_red):\n",
        "    p._node._red = make_red\n",
        "  def _is_red(self, p):\n",
        "    return p is not None and p._node._red\n",
        "  def _is_red_leaf(self, p):\n",
        "    return self._is_red(p) and self.is_leaf(p)\n",
        "  \n",
        "  def _get_red_child(self, p):\n",
        "    '''Return a red child of p (or None if no such child)'''\n",
        "    for child in (self.left(p), self.right(p)):\n",
        "      if self._is_red(child):\n",
        "        return child\n",
        "    return None\n",
        "  \n",
        "  #----------------------support for insertions--------------------------\n",
        "  def _rebalance_insert(self, p):\n",
        "    self._resolve_red(p) # new node is always red\n",
        "    \n",
        "  def _resolve_red(self, p):\n",
        "    if self.is_root(self, p):\n",
        "      self._set_black(p) # make root black\n",
        "    else:\n",
        "      parent = self.parent(p)\n",
        "      if self._is_red(parent): # double red problem\n",
        "        uncle = self.sibling(parent)\n",
        "        if not self._is_red(uncle): # Case 1: misshappen 4-node\n",
        "          middle = self._restructure(p) # do trinode restructuring\n",
        "          self._set_black(middle) # and then fix colors\n",
        "          self._set_red(self.left(middle))\n",
        "          self._set_red(self.rihgt(middle))\n",
        "        else: # Case 2: overfull 5-node\n",
        "          grand = self.parent(parent)\n",
        "          self._set_red(grand) # grandparent becomes red\n",
        "          self._set_black(self.left(grand)) # its children become black\n",
        "          self._set_black(self.right(grand))\n",
        "          self._resolve_red(grand) # recur at red grandparent\n",
        "          \n",
        "  #-----------------support for deletions--------------------------------\n",
        "  def _rebalance_delete(self, p):\n",
        "    if len(self) == 1:\n",
        "      self._set_black(self.root()) # special case: ensure that root is black\n",
        "    elif p is not None:\n",
        "      n = self.num_children(p)\n",
        "      if n == 1: # deficit exists unless child is a red leaf\n",
        "        c = next(self.children(p))\n",
        "        if not self._is_red_leaf(c):\n",
        "          self._fix_deficit(p,c)\n",
        "        elif n == 2: # removed black node with red child\n",
        "          if self._is_red_leaf(self.left(p)):\n",
        "            self._set_black(self.left(p))\n",
        "          else:\n",
        "            self._set_black(self.right(p))\n",
        "            \n",
        "  def _fix_deficit(self, z, y):\n",
        "    '''Resolve black deficit at z, where y is the root of z's heavier subtree'''\n",
        "    if not self._is_red(y): # y is black; will apply Case 1 or 2\n",
        "      x = self._get_red_child(y)\n",
        "      if x is not None: # Case 1: y is black and has red child x; do \"transfer\"\n",
        "        old_color = self._is_red(z)\n",
        "        middle = self._restructure(x)\n",
        "        self._set_color(middle, old_color) # middle gets old color of z\n",
        "        self._set_black(self.left(middle)) # children become black\n",
        "        self._set_black(self.right(middle))\n",
        "      else: # Case 2: y is black, but no red children; recolor as \"fusion\"\n",
        "        self._set_red(y)\n",
        "        if self._is_red(z):\n",
        "          self._set_black(z) # this resolves the problem\n",
        "        elif not self.is_root(z):\n",
        "          self._fix_deficit(self.parent(z), self.sibling(z)) # recur upward\n",
        "    else: # Case 3: y is red; rotate misaligned 3-node and repeat\n",
        "      self._rotate(y)\n",
        "      self._set_black(y)\n",
        "      self._set_red(z)\n",
        "      if z == self.right(y):\n",
        "        self._fix_deficit(z, self.left(z))\n",
        "      else:\n",
        "        self._fix_deficit(z, self.right(z))"
      ],
      "execution_count": 0,
      "outputs": []
    },
    {
      "metadata": {
        "id": "9_gxSPzY5882",
        "colab_type": "text"
      },
      "cell_type": "markdown",
      "source": [
        "When an element has been inserted as a leaf in the tree, the `_rebalance_insert`\n",
        "hook is called, allowing us the opportunity to modify the tree. The new node is\n",
        "red by default, so we need only look for the special case of the new node being\n",
        "the root (in which case it should be colored black), or the possibility that we have\n",
        "a double-red violation because the new node’s parent is also red"
      ]
    }
  ]
}