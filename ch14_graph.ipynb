{
  "nbformat": 4,
  "nbformat_minor": 0,
  "metadata": {
    "colab": {
      "name": "ch14_graph.ipynb",
      "version": "0.3.2",
      "provenance": [],
      "collapsed_sections": [],
      "include_colab_link": true
    },
    "kernelspec": {
      "name": "python3",
      "display_name": "Python 3"
    }
  },
  "cells": [
    {
      "cell_type": "markdown",
      "metadata": {
        "id": "view-in-github",
        "colab_type": "text"
      },
      "source": [
        "<a href=\"https://colab.research.google.com/github/lblogan14/data_structures_and_algorithms/blob/master/ch14_graph.ipynb\" target=\"_parent\"><img src=\"https://colab.research.google.com/assets/colab-badge.svg\" alt=\"Open In Colab\"/></a>"
      ]
    },
    {
      "metadata": {
        "id": "Eg81JK-iu1HU",
        "colab_type": "text"
      },
      "cell_type": "markdown",
      "source": [
        "#14.1 Graphs\n",
        "A **graph** is a set of objects, called vertices, together with a collection of pairwise connections between them, called edges.\n",
        "\n",
        "Abstractly, a *graph* $G$ is simply a set $V$ of **vertices** and a collection $E$ of pairs of vertices from $V$, called **edges**. Edges in a graph are either **directed** or **undirected**. An edge $(u,v)$ is *directed* from $u$ to $v$ if the pair $(u,v)$ is ordered, with $u$ preceding $v$. An edge $(u,v)$ is *undirected* if the pair $(u,v)$ is not ordered. Note that, for undirected case, $(u,v)=(v,u)$.\n",
        "\n",
        "If all the edges in a graph are undirected, the the graph is **undirected graph**. A **directed graph**, also called a **digraph**, is a graph whose edges are all directed. A graph that has both directed and undirected edges is often called a **mixed graph**. \n",
        "\n",
        "The two vertices joined by an edge are called the **end vertices** (or **endpoints**) of the edge. If an edge is directed, its first endpoint is its **origin** and the other is the **destination** of the edge. Two vertices $u$ and $v$ are **adjacent** if there is an edge whose end vertices are $u$ and $v$. An edge is **incident** to a vertex if the vertex is one of the edge's endpoints. The **outgoing edges** of a vertex are the directed edges whose origin is that vertex. The **incoming** edges of a vertex are the directed edges whose destination is that vertex. The **degree** of a vertex $v$, denoted as $deg(v)$, is the number of incident edges of $v$. The **in-degree** and **out-degree** of a vertex $v$ are the number of the incoming and outgoing edges of $v$, and are denoted as $indeg(v)$ and $outdeg(v)$, respectively.\n",
        "\n",
        "The definition of a graph referes to the group of edges as a **collection** not a **set**, thus allowing two undirected edges to have the same end vertices, and for two directed edges to have the same origin and the same destination. Such edges are called **parallel edges** or **multiple edges**. A edge is a **self-loop** if its two endpoints coincide.\n",
        "\n",
        "A graph which does not have parallel edges or self-loops is called **simple graph**. Thus, the edges of a simple graph are a **set** of vertex pairs (not collection).\n",
        "\n",
        "A **path** is a sequence of alternating vertices and edges that starts at a vertex and ends at a vertex such that each edge is incident to its predecessor and successor vertex. A **cycle** is a path that starts and ends at the same vertex, and that includes at least one edge. A path is **simple** if each vertex in the path is distinct, and a cycle is **simple** if each vertex in the cycle is distinct except for the first and last one. A **directed path** is a path such that all edges are directed and are traversed along their direction. A **directed cycle** is similarly defined. A directed graph may have a cycle consisting of two edges with opposite direction between the same pair of vertices. A directed graph is **acyclic** if it has no directed cycles.\n",
        "\n",
        "Given vertices $u$ and $v$ of a (directed) graph $G$, $u$ ***reaches*** $v$, and $v$ is ***reachable*** fro $u$, if $G$ has a (directed) path from $u$ to $v$. In an undirected graph, the notion of **reachability** is symmetric; $u$ reaches $v$ if and only if $v$ reaches $u$. A graph is **connected** if, for any two vertices, there is a path between them. A directed graph $\\vec{G}$ is **strongly connected** if for any two vertices $u$ and $v$ of $\\vec{G}$, $u$ reaches $v$ and $v$ reaches $u$.\n",
        "\n",
        "A **subgraph** of a graph $G$ is a graph $H$ whose vertices and edges are subsets of the vertices and edges of $G$, respectively. A **spanning subgraph** of $G$ is a subgraph of $G$ that contains all the vertices of the graph $G$. If a graph $G$ is not connected, its maximal connceted subgraphs are the **connected components** of $G$. A **forest** is a graph without cycles. A **tree** is a connected forest, that is, a connected graph without cycles. A **spanning tree** of a graph is a spanning subgraph that is a tree.\n",
        "\n",
        "Properties of graphs:\n",
        "* *If $G$ is a graph with $m$ edges and vertex set $V$, then $\\sum\\limits_{v\\in V}deg(v)=2m$.\n",
        "* If $G$ is a directed graph with $m$ edges and vertex set $V$, then $\\sum\\limits_{v\\in V}indeg(v)=\\sum\\limits_{v\\in V}outdeg(v)=m$\n",
        "* Let $G$ be a simple graph with $n$ vertices and $m$ edges. If $G$ is undirected, then $m\\leq n(n-1)/2$, and if $G$ is directed, then $m\\leq n(n-1)$.\n",
        "* Let $G$ be an undirected graph with $n$ vertices and $m$ edges.\n",
        "  * If $G$ is connected, then $m\\geq n-1$.\n",
        "  * If $G$ is a tree, then $m=n-1$.\n",
        "  * If $G$ is a forest, then $m\\leq n-1$."
      ]
    },
    {
      "metadata": {
        "id": "IlxydSEiBY1_",
        "colab_type": "text"
      },
      "cell_type": "markdown",
      "source": [
        "##14.1.1 The Graph ADT\n",
        "The graph abstraction is model as a combination of three data types: `Vertex`, `Edge`, and `Graph`. A `Vertex` is a lightweight object that stores an arbitrary element provided by the user; it supports a method, `element()`, to retrieve the stored element. An `Edge` also stores an associated object, retrieved with the `element()` method. An `Edge` also supports the following methods:\n",
        "* `endpoints()`: Return a tuple $(u,v)$ such that vertex $u$ is the origin of the edge and vertex $v$ is the destination; for an undirected graph, the orientation is arbitrary.\n",
        "* `opposite(v)`: Assuming vertex $v$ is one endpoint of the edge (either origin or destination), return the other endpoint.\n",
        "\n",
        "The primary abstraction for a graph is the `Graph` ADT, which includes the following methods:\n",
        "* `vertex_count()`: Return the number of vertices of the graph.\n",
        "* `vertices()`: Return an iteration of all the vertices of the graph.\n",
        "* `edge_count()`: Return the number of edges of the graph.\n",
        "* `edges()`: Return an iteration of all the edges of the graph.\n",
        "* `get_edge(u,v)`: Return the edge from vertex $u$ to vertex $v$, if one exists; otherwise return `None`. For an undirected graph, there is no difference between `get_edge(u,v)` and `get_edge(v,u)`.\n",
        "* `degree(v, out=True)`: For an undirected graph, return the number of edges incident to vertex $v$. For an directed graph, return the number of outgoing (resp, incoming) edges incident to vertex $v$, as designated by the optional parameter.\n",
        "* `incident_edges(v, out=True)`: Return an iteration of all edges incident to vertex $v$. In the case of a directed graph, report outgoing edges by default; report incoming edges if the optional parameter is set to `False`.\n",
        "* `insert_vertex(x=None)`: Create and return a new `Vertex` storing element x.\n",
        "* `insert_edge(u,v,x=None)`: Create and return a new `Edge` from vertex $u$ to vertex $v$, storing element x (`None` by default).\n",
        "* `remove_vertex(v)`: Remove vertex $v$ and all its incident edges from the graph.\n",
        "* `remove_edge(e)`: Remove edge $e$ from the graph"
      ]
    },
    {
      "metadata": {
        "id": "Rp-5PsM7Hsm0",
        "colab_type": "text"
      },
      "cell_type": "markdown",
      "source": [
        "#14.2 Data Structures for Graphs\n",
        "* In an **edge** list, an unordered list of all edges is maintained.\n",
        "* In an **adjacency** list, a separate list containing those edges that are incident to the vertex for each vertex is maintained. The complete set of edges can\n",
        "be determined by taking the union of the smaller sets, while the organization\n",
        "allows us to more efficiently find all edges incident to a given vertex.\n",
        "* An **adjacency map** is very similar to an adjacency list, but the secondary container of all edges incident to a vertex is organized as a map, rather than as a list, with the adjacent vertex serving as a key.\n",
        "* Ad **adjacency matrix** provides worst-case $O(1)$ access to a specific edge $(u,v)$ by maintaining an $n\\times n$ matrix, for a graph with $n$ vertices. Each entry is dedicated to storing a reference to the edge $(u,v)$ for a particular pair of verticies $u$ and $v$; if no such edge exists, the entry will be `None`."
      ]
    },
    {
      "metadata": {
        "id": "nb2bsVc-S4tt",
        "colab_type": "text"
      },
      "cell_type": "markdown",
      "source": [
        "##14.2.1 Edge List Structure\n",
        "All vertex objects are stored in an unordered list $V$, and all edge objects are stored in an unordered list $E$. Collections $V$ and $E$ are represented with doubly linked lists using the `PositionalList` class from Chapter 7.\n",
        "\n",
        "###Vertex Objects\n",
        "The vertex object for a vertex $v$ storing element $x$ has instance variables for:\n",
        "* A reference to element $x$, to support the `element()` method.\n",
        "* A reference to the position of the vertex instance in the list $V$, thereby allowing $v$ to be efficiently removed from $V$ if it were removed from the graph.\n",
        "\n",
        "###Edge Objects\n",
        "The edge object for an edge $e$ storing element $x$ has instance variables for:\n",
        "* A reference to element $x$, to support the `element()` method.\n",
        "* References to the vertex objects associated with the endpoint vertices of $e$, which allow the edge instance to provide constant-time support for methods `endpoints()` and `opposite(v)`.\n",
        "* A reference to the position of the edge instance in list $E$, thereby allowing $e$ to be efficiently removed from $E$ if it were removed from the graph.\n",
        "\n",
        "###Performance of the Edge List Structure\n",
        "The space usage is $O(n+m)$ for representing a graph with $n$ vertices and $m$ edges. Each individual vertex or edge instance uses $O(1)$ space."
      ]
    },
    {
      "metadata": {
        "id": "5JFa4FW9UrjW",
        "colab_type": "text"
      },
      "cell_type": "markdown",
      "source": [
        "##14.2.2 Adjacency List Structure\n",
        "The **adjacency list** structure groups the edges of a graph by storing them in smaller, secondary containers that are associated with each individual vertex. Specifically, for each vertex $v$, a collection $I(v)$ is maintained, called the **incidence collection** of $v$, whose entries are edges incident to $v$.\n",
        "\n",
        "In a directed graph, outgoing and incoming edges can be respectively stored in two separate collections, $I_{out}(v)$ and $I_{in}(v)$.\n",
        "\n",
        "The primary structure for an adjacency list maintain the collection $V$ of vertices in a way so that the secondary structure $I(v)$ for a given vertex $v$ in $O(1)$ time, which can be done by using a positional list to represent $V$, with each `Vertex` instance maintaining a direct reference to its $I(v)$ incidence collection. If vertices can be uniquely numbered from $0$ to $n-1$, a primary array-based structure can be used to access the appropriate secondary lists.\n",
        "\n",
        "The primary benefit of an adjacency list is that the collection $I(v)$ contains exactly those edges that should be reported by the method `incident_edges(v)`. Therefore, this method can be implemented by iterating the edges of $I(v)$ in $O(deg(v))$ time, where $deg(v)$ is the degree of vertex $v$."
      ]
    },
    {
      "metadata": {
        "id": "4nLcli-kXKSD",
        "colab_type": "text"
      },
      "cell_type": "markdown",
      "source": [
        "##14.2.3 Adjacency Map Structure\n",
        "A hash-based map is used to implement the collection $I(v)$ for each vertex $v$. The opposite endpoint of each incident edge serves as a key in the map, with the edge structure serving as the value, and such a graph representation is an **adjacency map**.\n",
        "\n",
        "The advantage of the adjacency map is that the `get_edge(u,v)` method can be implemented in **expected** $O(1)$ time by searching for vertex $u$ as a key in $I(v)$, or vice versa. This provides a likely improvement over the adjacency list, while retaining the worst-case bound of $O(min(deg(u), deg(v)))$."
      ]
    },
    {
      "metadata": {
        "id": "LTsTp7jCYbjb",
        "colab_type": "text"
      },
      "cell_type": "markdown",
      "source": [
        "##14.2.4 Adjacency Matrix Structure\n",
        "The **adjacency matrix** structure for a graph $G$ augments the edge list structure with a matrix $A$, which allows us to locate an edge between a given pair of vertices in worst-case constant time.\n",
        "\n",
        "In the adjacency matrix representation, the vertices are considered as the integers in the set $\\{0,1,...,n-1\\}$ and the edges as being pairs of such integers, which allows to store references to edges in the cells of a two-dimensional $n\\times n$ array $A$. The cell $A[i,j]$ holds a reference to the edge $(u,v)$, if it exists, where $u$ is the vertex with index $i$ and $v$ is the vertex with index $j$. If there is no such edge, then $A[i,j]=$ `None`. The array $A$ is symmetric if graph $G$ is undirected, as $A[i,j]=A[j,i]$ for all pairs $i$ and $j$.\n",
        "\n",
        "The most significant advantage of an adjacency matrix is that any edge $(u,v)$ can be accessed in worst-case $O(1)$ time.\n",
        "\n",
        "The $O(n^2)$ space usage of an adjacency matrix is typically far worse than the $O(n+m)$ space required of the other representations."
      ]
    },
    {
      "metadata": {
        "id": "PqEZg_sGanA9",
        "colab_type": "text"
      },
      "cell_type": "markdown",
      "source": [
        "##14.2.5 Python Implementation\n",
        "This implementation will support directed or undirected graphs.\n",
        "\n",
        "The following explaination is for the undirected graph:\n",
        "\n",
        "A variant of the **adjacency map** representation is used here. For each vertex $v$, a Python dictionary is used to represent the secondary incidence map $I(v)$. However, the lists $V$ and $E$ are not explicitly maintained, as described in the edge list representation originally. The list $V$ is replaced by a top-level dictionary $D$ that maps each vertex $v$ to its incidence map $I(v)$; not hat all vertices can be iterated through by generating the set of keys for dictionary $D$. By using such a dicitonary $D$ to map vertices to the secondary incidence maps, the references are not necessarily maintained to those incidence maps as part of the vertex structures. Also, a vertex does not need to explicitly maintain a reference to its position in $D$, because it can be determined in $O(1)$ expected time. This greatly simplifies the implementation. However, a consequence of the deisgn is that some of the worst-case running time bounds for the graph ADT operations. This runs in $O(n+m)$ time rather than strictly $O(m)$ time, as the dictionary $D$ has $n$ keys, even if some incidence maps are empty."
      ]
    },
    {
      "metadata": {
        "id": "5tcNRT-5Wrtd",
        "colab_type": "code",
        "colab": {}
      },
      "cell_type": "code",
      "source": [
        "#------------------------- nested Vertex class----------------------------\n",
        "class Vertex:\n",
        "  '''Lightweight vertex structure for a graph'''\n",
        "  __slots__ = '_element'\n",
        "  \n",
        "  def __init__(self, x):\n",
        "    '''Do not call constructor directly. Use Graph's insert_vertex(x) '''\n",
        "    self._element = x\n",
        "    \n",
        "  def element(self):\n",
        "    '''Return element associated with this vertex'''\n",
        "    return self._element\n",
        "  \n",
        "  def __hash__(self): # will allow vertex to be a map/set key\n",
        "    return hash(id(self))\n",
        "  \n",
        "#------------------------- nested Edge class -----------------------------\n",
        "class Edge:\n",
        "  '''Lightweight edge structure for a graph'''\n",
        "  __slots__ = '_origin', '_destination', '_element'\n",
        "  \n",
        "  def __init__(self, u, v, x):\n",
        "    '''Do not call constructor directly. Use Graph's insert_edge(u,v,x) '''\n",
        "    self._origin = u\n",
        "    self._destination = v\n",
        "    self._element = x\n",
        "    \n",
        "  def endpoints(self):\n",
        "    '''Return (u,v) tuple for vertices u and v'''\n",
        "    return (self._origin, self._destination)\n",
        "  \n",
        "  def opposite(self, v):\n",
        "    '''Return the vertex that is opposite v on the edge'''\n",
        "    return self._destination if v is self._origin else self._origin\n",
        "  \n",
        "  def element(self):\n",
        "    '''Return element associated with this edge'''\n",
        "    return self._element\n",
        "  \n",
        "  def __hash__(self): # will allow edge to be a map/set key\n",
        "    return hash((self._origin, self._destination))\n",
        "\n",
        "#------------------------------------------------------------------------\n",
        "class Graph:\n",
        "  '''Representation of a simple graph using an adjacency map'''\n",
        "  \n",
        "  def __init__(self, directed=False):\n",
        "    '''Create an empty graph (undirected, by default)\n",
        "    \n",
        "    Graph is directed if optional parameter is set to True\n",
        "    '''\n",
        "    self._outgoing = {}\n",
        "    # only create second map for directed graph; use alias for undirected\n",
        "    self._incoming = {} if directed else self._outgoing\n",
        "    \n",
        "  def is_directed(self):\n",
        "    '''Return True if this is a directed graph; False if undirected\n",
        "    \n",
        "    Property is based on the original declaration of the graph, not its contents\n",
        "    '''\n",
        "    return self._incoming is not self._outgoing # directed if maps are distinct\n",
        "  \n",
        "  def vertex_count(self):\n",
        "    '''Return the number of vertices in the graph'''\n",
        "    return len(self._outgoing)\n",
        "  \n",
        "  def vertices(self):\n",
        "    '''Return an iteration of all vertices of the graph'''\n",
        "    return self._outgoing.keys()\n",
        "  \n",
        "  def edge_count(self):\n",
        "    '''Return the number of edges in the graph'''\n",
        "    total = sum(len(self._outgoing[v]) for v in self._outgoing)\n",
        "    # for undirected grpahs, make sure not to double-count edges\n",
        "    return total if self.is_directed() else total//2\n",
        "  \n",
        "  def edges(self):\n",
        "    '''Return a set of all edges of the graph'''\n",
        "    result = set() # avoid double-reporting edges of undirected graph\n",
        "    for secondary_map in self._outgoing.values():\n",
        "      result.update(secondary_map.values()) # add edges to resulting set\n",
        "    return result\n",
        "  \n",
        "  def get_edge(self, u, v):\n",
        "    '''Return the edge from u to v, or None if not adjacent'''\n",
        "    return self._outgoing[u].get(v) # returns None if v not adjacent\n",
        "  \n",
        "  def degree(self, v, outgoing=True):\n",
        "    '''Return number of (outgoing) edges incident to vertex v in the graph\n",
        "    \n",
        "    If graph is directed, optional parameter used to count incoming edges\n",
        "    '''\n",
        "    adj = self._outgoing if outgoing else self._incoming\n",
        "    return len(adj[v])\n",
        "  \n",
        "  def incident_edges(self, v, outgoing=True):\n",
        "    '''Return all (outgoing) edges incident to vertex v in the graph\n",
        "    \n",
        "    If graph is directed, optional parameter used to request incoming edges\n",
        "    '''\n",
        "    adj = self._outgoing if outgoing else self._incoming\n",
        "    for edge in adj[v].values():\n",
        "      yield edge\n",
        "  \n",
        "  def insert_vertex(self, x=None):\n",
        "    '''Insert and return a new Vertex with element x'''\n",
        "    v = self.Vertex(x)\n",
        "    self._outgoing[v] = {}\n",
        "    if self.is_directed():\n",
        "      self._incoming[v] = {} # need distinct map for incoming edges\n",
        "    return v\n",
        "  \n",
        "  def insert_edge(self, u, v, x=None):\n",
        "    '''Insert and return a new Edge from u to v with auxiliary element x'''\n",
        "    e = self.Edge(u, v, x)\n",
        "    self._outgoing[u][v] = e\n",
        "    self._incoming[v][u] = e"
      ],
      "execution_count": 0,
      "outputs": []
    },
    {
      "metadata": {
        "id": "S8TwyQWRcBx7",
        "colab_type": "text"
      },
      "cell_type": "markdown",
      "source": [
        "The directed case is handled by having two different top-level dictionary instances, `_outgoing` and `_incoming`, such that `_outgoing[v]` maps to another dictionary representing $I_{out}(v)$, and `_incoming[v]` maps to a representation of $I_{in}(v)$. Use the `_outgoing` and `_incoming` identifiers in the undirected case to unify the treatment of directed and undirected graphs."
      ]
    },
    {
      "metadata": {
        "id": "7Y_Xc4cEcm0M",
        "colab_type": "text"
      },
      "cell_type": "markdown",
      "source": [
        "#14.3 Graph Traversals\n",
        "A **traversal** is a systematic procedure for exploring a graph by examining all of its vertices and edges.\n",
        "\n",
        "Reachability in an undirected graph $G$:\n",
        "* Computing a path from vertex $u$ to vertex $v$, or reporting that no such path\n",
        "exists.\n",
        "* Given a start vertex $s$ of $G$, computing, for every vertex $v$ of $G$, a path with\n",
        "the minimum number of edges between $s$ and $v$, or reporting that no such\n",
        "path exists.\n",
        "* Testing whether $G$ is connected.\n",
        "* Computing a spanning tree of $G$, if $G$ is connected.\n",
        "* Computing the connected components of $G$.\n",
        "* Computing a cycle in $G$, or reporting that $G$ has no cycles.\n",
        "\n",
        "Reachability in a directed graph $\\vec{G}$:\n",
        "* Computing a directed path from vertex $u$ to vertex $v$, or reporting that no such\n",
        "path exists.\n",
        "* Finding all the vertices of $\\vec{G}$ that are reachable from a given vertex $s$.\n",
        "* Determine whether $\\vec{G}$ is acyclic.\n",
        "* Determine whether $\\vec{G}$ is strongly connected."
      ]
    },
    {
      "metadata": {
        "id": "dj_xgaeMemqu",
        "colab_type": "text"
      },
      "cell_type": "markdown",
      "source": [
        "##14.3.1 Depth-First Search (DFS)\n",
        "Depth-first search in a graph $G$ begins at a specific starting vertex $s$ in $G$, which is initialized by fixing one end of the string to $s$ and painting $s$ as \"visited\". The vertex $s$ is now the \"current\" vertex, called $u$. Then, the graph $G$ is tranversed by considering an (arbitrary) edge $(u,v)$ incident to the current vertex $u$. If the edge $(u,v)$ leads to a vertex $v$ that is already visited, that edge is ignored. If, on the other hand, $(u,v)$ leads to an unvisited vertex $v$, then the string $s$ is unrolled and goes to $v$. Then, vertex $v$ is painted as \"visited\", and made as the current vertex, repeating the computation above. Eventually, a \"dead end\" is reached, that is, a current vertex $v$ such that all the edges incident to $v$ lead to vertices already visited. To get out of this impasse, the string $s$ is rolled back up, bakctracking along the edge that brought to $v$, going back to a previously visited vertex $u$. Then make $u$ as the current vertex and repeat the computation above for any edges incident to $u$ that have not been considered yet. If all of $u$'s incident edges lead to visited vertices, then the string is rolled up again with backtracking to the vertex where it reaches to $u$ and then repeat the procedure at that vertex. Thus, the path continues to be backtracked along until a vertex is found that has yet unexplored edges, then one such edge is taken and the traversal is continued. The process terminates when the backtracking leads back to the start vertex $s$, and there are no more unexplored edges incident to $s$."
      ]
    },
    {
      "metadata": {
        "id": "Asl86cmEikc9",
        "colab_type": "code",
        "colab": {}
      },
      "cell_type": "code",
      "source": [
        "#Pseudo-code for Depth-first search traversal\n",
        "'''\n",
        "Algorithm DFS(G,u): {assume u has already been marked as visited}\n",
        "  Input: A graph G and a vertex u of G\n",
        "  Output: A collection of vertices reachable from u, with their discovery edges\n",
        "  \n",
        "  for each outgoing edge e = (u,v) of u do\n",
        "    if vertex v has not been visited then\n",
        "    Mark vertex v as visited (via edge e)\n",
        "    Recursively call DFS(G,v)\n",
        "'''"
      ],
      "execution_count": 0,
      "outputs": []
    },
    {
      "metadata": {
        "id": "6YZlOmfMjVut",
        "colab_type": "text"
      },
      "cell_type": "markdown",
      "source": [
        "###Classifying Graph Edges with DFS\n",
        "The DFS process identifies the **depth-first search tree** rooted at a starting vertex $s$. Whenever an edge $e=(u,v)$ is used to discover a new vertex $v$ during the DFS algorithm, that edge is known as a **discovery edge** or **tree edge**. as oriented from $u$ to $v$. All other edges that are considered during the execution of DFS are **nontree edges**, which take to a previously visited vertex. In the case of an undirected graph, all nontree edges that are explored connect the current vertex to one that is an ancestor of it in the DFS tree. Such an edge is called a **back** edge.\n",
        "\n",
        "When performing a DFS on a directed graph, there are possible kinds of nontree edges:\n",
        "* **back edges**, which connect a vertex to an ancestor in the DFS tree\n",
        "* **forward edges**, which connect a vertex to a descendant in the DFS tree\n",
        "* **cross edges**, which connect a vertex to a vertex that is neither its ancestor nor\n",
        "its descendant\n",
        "\n",
        "###Properties of a Depth-First Search\n",
        "*Let $G$ be an undirected graph on which a DFS traversal starting at a vertex $s$ has been performed. Then the traversal visits all vertices in the connected component of $s$, and the discovery edges form a spanning tree of the connected component of $s$.*\n",
        "\n",
        "*Let $\\vec{G}$ be a directed graph. Depth-first search on $\\vec{G}$ starting at a vertex $s$ visits all the vertices of $\\vec{G}$ that are reachable from $s$. Also, the DFS tree contains directed paths from $s$ to every vertex reachable from $s$.*\n",
        "\n",
        "###Running Time of Depth-First Search\n",
        "Let $G$ be an undirected graph with $n$ vertices and $m$ edges. A\n",
        "DFS traversal of $G$ can be performed in $O(n+m)$ time, and can be used to solve\n",
        "the following problems in $O(n+m)$ time:\n",
        "* Computing a path between two given vertices of $G$, if one exists.\n",
        "* Testing whether $G$ is connected.\n",
        "* Computing a spanning tree of $G$, if $G$ is connected.\n",
        "* Computing the connected components of $G$.\n",
        "* Computing a cycle in $G$, or reporting that $G$ has no cycles.\n",
        "\n",
        "Let $\\vec{G}$ be a directed graph with $n$ vertices and $m$ edges. A\n",
        "DFS traversal of $\\vec{G}$ can be performed in $O(n+m)$ time, and can be used to solve\n",
        "the following problems in $O(n+m)$ time:\n",
        "* Computing a directed path between two given vertices of $\\vec{G}$, if one exists.\n",
        "* Computing the set of vertices of $\\vec{G}$ that are reachable from a given vertex $s$.\n",
        "* Testing whether $\\vec{G}$ is strongly connected.\n",
        "* Computing a directed cycle in $\\vec{G}$, or reporting that $\\vec{G}$ is acyclic.\n",
        "* Computing the **transitive closure** of $\\vec{G}$"
      ]
    },
    {
      "metadata": {
        "id": "_LYxnXVPt2Fj",
        "colab_type": "text"
      },
      "cell_type": "markdown",
      "source": [
        "##14.3.2 DFS Implementation and Extensions"
      ]
    },
    {
      "metadata": {
        "id": "xiX4Mhekt8Q5",
        "colab_type": "code",
        "colab": {}
      },
      "cell_type": "code",
      "source": [
        "def DFS(g, u, discovered):\n",
        "  '''Perform DFS of the undiscovered portion of Graph g starting at Vertex u\n",
        "  \n",
        "  discovered is a dictionary mapping each vertex to the edge that was used to\n",
        "  discover it during the DFS. (u should be \"discovered\" prior to the call)\n",
        "  Newly discovered vertices will be added to the dictionary as a result\n",
        "  '''\n",
        "  for e in g.incident_edges(u): # for every outgoing edge from u\n",
        "    v = e.opposite(u)\n",
        "    if v not in discovered: # v is an unvisited vertex\n",
        "      discovered[v] = e # e is the tree edge that discovered v\n",
        "      DFS(g, v, discovered) # recursively explore from v"
      ],
      "execution_count": 0,
      "outputs": []
    },
    {
      "metadata": {
        "id": "idp0rYLFuiFh",
        "colab_type": "text"
      },
      "cell_type": "markdown",
      "source": [
        "The thrid parameter `discovered` is used to track which vertices have been visited. Assume that the source vertex $u$ occurs as a key of the dictionary, with `None` as its value: \\\\\n",
        "`result = {u: None} # a new dictionary, with u trivially discovered` \\\\\n",
        "`DFS(g,u,result)`"
      ]
    },
    {
      "metadata": {
        "id": "5NcWJrzVvh-O",
        "colab_type": "text"
      },
      "cell_type": "markdown",
      "source": [
        "The dictionary serves two purposes. Internally, the dictionary provides a mechanism for recognizing visited vertices, as they will appear as keys in the dictionary. Externally, the `DFS` function augments this dictionary as it proceeds, and thus the values within the dictionary are the DFS tree edges at the conclusion of the process."
      ]
    },
    {
      "metadata": {
        "id": "Esb6ZIvgv44u",
        "colab_type": "text"
      },
      "cell_type": "markdown",
      "source": [
        "###Reconstructing a Path from $u$ to $v$"
      ]
    },
    {
      "metadata": {
        "id": "NZ2vlxoXwTDt",
        "colab_type": "code",
        "colab": {}
      },
      "cell_type": "code",
      "source": [
        "def construct_path(u,v,discovered):\n",
        "  path = [] # empty path by default\n",
        "  if v in discovered:\n",
        "    # build list from v to u and then reverse it at the end\n",
        "    path.append(v)\n",
        "    walk = v\n",
        "    while walk is not u:\n",
        "      e = discovered[walk] # find edge leading to walk\n",
        "      parent = e.opposite(walk)\n",
        "      path.append(parent)\n",
        "      walk = parent\n",
        "    path.reverse() # reorient path from u to v\n",
        "  return path"
      ],
      "execution_count": 0,
      "outputs": []
    },
    {
      "metadata": {
        "id": "F-8AoSTTw0_j",
        "colab_type": "text"
      },
      "cell_type": "markdown",
      "source": [
        "To reconstruct the path, we begin at the end of the path, examining the discovery\n",
        "dictionary to determine what edge was used to reach vertex $v$, and then what the\n",
        "other endpoint of that edge is. We add that vertex to a list, and then repeat the\n",
        "process to determine what edge was used to discover it. Once we have traced the\n",
        "path all the way back to the starting vertex $u$, we can reverse the list so that it is\n",
        "properly oriented from $u$ to $v$, and return it to the caller."
      ]
    },
    {
      "metadata": {
        "id": "V8aJLnOdxIq4",
        "colab_type": "text"
      },
      "cell_type": "markdown",
      "source": [
        "###Computing all Connected Components\n",
        "When a graph is not connected, the goal is to identify all of the **connected components** of an undirected graph, or the **strongly connected components** of a directed graph.\n",
        "\n",
        "If an initial call to `DFS` fails to reach all vertices of a graph, a new call to `DFS` can be restarted at one of those unvisited vertices: "
      ]
    },
    {
      "metadata": {
        "id": "P9ltjzgbxiO8",
        "colab_type": "code",
        "colab": {}
      },
      "cell_type": "code",
      "source": [
        "def DFS_complete(g):\n",
        "  '''Perform DFS for entire graph and return forest as a dictionary\n",
        "  \n",
        "  Result maps each vertex v to the edge that was used to discover it\n",
        "  (Vertices that are roots of a DFS tree are mapped to None)\n",
        "  '''\n",
        "  forest = {}\n",
        "  for u in g.vertices():\n",
        "    if u not in forest:\n",
        "      forest[u] = None # u will be the root of a tree\n",
        "      DFS(g, u, forest)\n",
        "  return forest"
      ],
      "execution_count": 0,
      "outputs": []
    },
    {
      "metadata": {
        "id": "5svu9LIux8RM",
        "colab_type": "text"
      },
      "cell_type": "markdown",
      "source": [
        "The `DFS_complete` function can be used to analyze the connected components\n",
        "of an undirected graph. The discovery dictionary it returns represents a **DFS forest**\n",
        "for the entire graph."
      ]
    },
    {
      "metadata": {
        "id": "-2LbpFM_rQO3",
        "colab_type": "text"
      },
      "cell_type": "markdown",
      "source": [
        "##14.3.3 Breath-First Search\n",
        "The **breath-first search (BFS)** algorithm is more akin to sending out, in all directions, many explorers who collectively traverse a graph in coordinated fashion.\n",
        "\n",
        "A BFS proceeds in rounds and subdivides the vertices into **levels**. BFS starts at vertex $s$, which is at level 0. In the first round, all vertices adjacent to the start vertex $s$ are painted as \"visited\" -- these vertices are one step away from the beginning and are placed into level 1. In the second round, all explorers are allowed to go two steps away from the starting vertex. These new vertices, which are adjacent to level 1 vertices and not previously assigned to a level, are placed into level 2 and marked as \"visited\". The process continues in silimar fashion, terminating when no new vertices are found in a level.\n",
        "\n",
        "####Python Implementation"
      ]
    },
    {
      "metadata": {
        "id": "yqhn3iVSvfa1",
        "colab_type": "code",
        "colab": {}
      },
      "cell_type": "code",
      "source": [
        "def BFS(g, s, discovered):\n",
        "  '''Perform BFS of the undiscovered portion of Graph g starting at Vertex s\n",
        "  \n",
        "  discovered is a dictionary mapping each vertex to the edge that was used to\n",
        "  discover it during the BFS (s should be mapped to None prior to the call)\n",
        "  Newly discovered vertices will be added to the dictionary as a result\n",
        "  '''\n",
        "  level = [s] # first level includes only s\n",
        "  while len(level) > 0:\n",
        "    next_level = [] # prepare to gather newly found vertices\n",
        "    for u in level:\n",
        "      for e in g.incident_edges(u): # for every outgoing edge from u\n",
        "        v = e.opposite(u)\n",
        "        if v not in discovered: # v is an unvisited vertex\n",
        "          discovered[v] = e # e is the tree edge that discovered v\n",
        "          next_level.append(v) # v will be further considered in next pass\n",
        "    level = next_level # relabel 'next' level to become current"
      ],
      "execution_count": 0,
      "outputs": []
    },
    {
      "metadata": {
        "id": "-qfzr4iJw3JH",
        "colab_type": "text"
      },
      "cell_type": "markdown",
      "source": [
        "The classification of nontree edges can be either **back edges**, which connect a vertex to one of its ancestors, **forward edges**, which connect a vertex to one of its descendants, or **cross edges**, which connect a vertex to another vertex that is neither its ancestor nor its descendant.\n",
        "\n",
        "For BFS on an undirected graph, all nontree edges are cross edges, and for BFS on a directed graph, all nontree edges are either back edges or cross edges.\n",
        "\n",
        "*A path in a breath-first search tree rooted at vertex $s$ to any other vertex $v$ is guaranteed to be the shorest such path from $s$ to $v$ in terms of the number of edges.*\n",
        "\n",
        "*Let $G$ be an undirected or directed graph on which a BFS traversal starting at vertex $s$ has been performed. Then*\n",
        "* *The traversal visits all vertices of $G$ that are reachable from $s$*\n",
        "* *For each vertex $v$ at level $i$, the path of the BFS tree $T$ between $s$ and $v$ has $i$ edges, and any other paths of $G$ from $s$ to $v$ has at least $i$ edges*\n",
        "* *If $(u,v)$ is an edge that is not in the BFS tree, then the level number of $v$ can be at most 1 greater than the level number of $u$\n",
        "\n",
        "*Let $G$ be a graph with $n$ vertices and $m$ edges represented with the adjacency list structure. A BFS traversal of $G$ takes $O(n+m)$ time.*"
      ]
    },
    {
      "metadata": {
        "id": "TUOpXialB9Th",
        "colab_type": "text"
      },
      "cell_type": "markdown",
      "source": [
        "#14.4 Transitive Closure\n",
        "The **transitive closure** of a directed graph $\\vec{G}$ is itself a directed graph $\\vec{G}^*$ such that the vertices of $\\vec{G}^*$ are the same as the vertices of $\\vec{G}$, and $\\vec{G}^*$ has an edge $(u,v)$, whenever $\\vec{G}$ has a directed path from $u$ to $v$ (including the case where $(u,v)$ is an edge of the original $\\vec{G}$).\n",
        "\n",
        "Let $\\vec{G}$ be a directed graph with $n$ vertices and $m$ edges. The transitive closure of $\\vec{G}$ is computed in a series of rounds. $\\vec{G}_0=\\vec{G}$ is initialized. In addition, the vertices of $\\vec{G}$ are numbered arbitrarily as $v_1,v_2,...,v_n$. Then the computation of the rounds begins with round 1. In a generic round $k$, a directed graph $\\vec{G}_k$ is constructed starting with$\\vec{G}_k=\\vec{G}_{k-1}$ and adding to $\\vec{G}_k$ the directed edge $(v_i,v_j)$ if directed graph $\\vec{G}_{k-1}$ contains both the edges $(v_i, v_k)$ and (v_k,v_j)$.\n",
        "\n",
        "*For $i=1,...,n$, directed graph $\\vec{G}_k$ has an edge $(v_i, v_j)$ if and only if directed graph $\\vec{G}$ has a directed path from $v_i$ to $v_j$, whose intermediate vertices (if any) are in the set ${v_1,...,v_k}$. In particular, $\\vec{G}_n$ is equal to $\\vec{G}^*$, the transitive closure of $\\vec{G}$.* \\\\\n",
        "This introduces a simple algorithm for computing the transitive closure of $\\vec{G}$ that is based on the series of rounds to compute each $\\vec{G}_k$. This algorithm is known as the ***Floyd-Warshall algorithm**:"
      ]
    },
    {
      "metadata": {
        "id": "lgRjefFNFC7h",
        "colab_type": "code",
        "colab": {}
      },
      "cell_type": "code",
      "source": [
        "'''\n",
        "Algorithm FloydWarshall(G):\n",
        "  Input: A directed graph G with n vertices\n",
        "  Output: The transitive closure G* of G\n",
        "  \n",
        "  let v_1,v_2,...,v_n be an arbitrary numbering of the vertices of G\n",
        "  G_{0} = G\n",
        "  for k=1 to n do\n",
        "    G_{k} = G_{k-1}\n",
        "    for all i,j in {1,...,n} with i!=j and i,j!=k do\n",
        "      if both edges (v_i,v_k) and (v_k,v_j) are in G_{k-1} then\n",
        "        add edge (v_i,v_j) to G_{k} (if it is not already present)\n",
        "  return G_{n}\n",
        "'''"
      ],
      "execution_count": 0,
      "outputs": []
    },
    {
      "metadata": {
        "id": "Rqo6LC1eF2OB",
        "colab_type": "text"
      },
      "cell_type": "markdown",
      "source": [
        "The total running of the Floyd-Warshall algorithm is $O(n^3)$.\n",
        "\n",
        "Let $\\vec{G}$ be a directed graph with $n$ vertices, and let $\\vec{G}$ be represented by a data structure that supports lookup and update of adjacency information in $O(1)$ time. Then the Floyd-Warshall algorithm computes the transitive closure $\\vec{G}^*$ of $\\vec{G}$ in $O(n^3)$ time."
      ]
    },
    {
      "metadata": {
        "id": "x22fDBZWGPJO",
        "colab_type": "text"
      },
      "cell_type": "markdown",
      "source": [
        "###Python Implementation"
      ]
    },
    {
      "metadata": {
        "id": "3fad7uvCGUlY",
        "colab_type": "code",
        "colab": {}
      },
      "cell_type": "code",
      "source": [
        "def floyd_warshall(g):\n",
        "  '''Return a new graph that is the transitive closure of g'''\n",
        "  closure = deepcopy(g) # imported from copy module\n",
        "  verts = list(closure.vertices()) # make indexable list\n",
        "  n = len(verrts)\n",
        "  for k in range(n):\n",
        "    for i in range(n):\n",
        "      # verify that edge (i,k) exists in the partial closure\n",
        "      if i != k and closure.get_edge(verts[i], verts[k]) is not None:\n",
        "        for j in range(n):\n",
        "          # verify that edge (k,j) exists in the partial closure\n",
        "          if i !=j !=k and closure.get_edge(verts[k], verts[j]) is not None:\n",
        "            # if (i,j) not yet included, add it to the closure\n",
        "            if closure.get_edge(verts[i], verts[j]) is None:\n",
        "              closure.insert_edge(verts[i], verts[j])\n",
        "  return closure"
      ],
      "execution_count": 0,
      "outputs": []
    },
    {
      "metadata": {
        "id": "X7bJyx0rG-nx",
        "colab_type": "text"
      },
      "cell_type": "markdown",
      "source": [
        "The original algorithm uses a series of directed graphs $\\vec{G}_0, \\vec{G}_1,...,\\vec{G}_n$, but the implementation creates a single copy of the original graph and then repeatedly add new edges to the closure as the rounds of the Floyd-Warshall algorithm are progressed through.\n",
        "\n",
        "The algorithm requires a canonical numbering of the graph's vertices; a list of the vertices is created in the closure graph in the implementation, and the list is indexed for this order. Within the outermost loop, all pairs $i$ and $j$ are considered."
      ]
    },
    {
      "metadata": {
        "id": "hfN-fcrqIhs2",
        "colab_type": "text"
      },
      "cell_type": "markdown",
      "source": [
        "#14.5 Directed Acyclic Graphs\n",
        "Directed graphs without directed cycles are referred to as **directed acyclic graphs**, or $\\textbf{DAG}$."
      ]
    },
    {
      "metadata": {
        "id": "DtpYutGdJUSX",
        "colab_type": "text"
      },
      "cell_type": "markdown",
      "source": [
        "##14.5.1 Topological Ordering\n",
        "Let $\\vec{G}$ be a directed graph with $n$ vertices. A **topological ordering** of $\\vec{G}$ is an ordering $v_1,...,v_n$ of the vertices of $\\vec{G}$ such that for every edge $(v_i,v_j)$ of $\\vec{G}$, it is the case that $i<j$. That is, a topological ordering is an ordering such that any directed path in $\\vec{G}$ traverses vertices in increasing order. Note that a directed graph may have more than one topological ordering.\n",
        "\n",
        "*$\\vec{G}$ has a topological ordering if and only if it is acyclic.*\n",
        "\n",
        "The **topological sorting** is used to compute a topological ordering of a directed graph:"
      ]
    },
    {
      "metadata": {
        "id": "QezyjLvHKIMf",
        "colab_type": "code",
        "colab": {}
      },
      "cell_type": "code",
      "source": [
        "def topological_sort(g):\n",
        "  '''Return a list of vertices of directed acyclic graph g in topological order\n",
        "  \n",
        "  If graph g has a cycle, the result will be incomplete\n",
        "  '''\n",
        "  topo = [] # a list of vertices placed in topological order\n",
        "  ready = [] # list of vertices that have no remaining constraints\n",
        "  incount = {} # keep track of in-degree for each vertex\n",
        "  for u in g.vertices():\n",
        "    incount[u] = g.degree(u, False) # parameter requests incoming degree\n",
        "    if incount[u] == 0: # if u has no incoming edges,\n",
        "      ready.append(u) # it is free of constraints\n",
        "  while len(ready) > 0:\n",
        "    u = ready.pop() # u is free of constrains\n",
        "    topo.append(u) # add u to the topological order\n",
        "    for e in g.incident_edges(u): # consider all outgoing neighbors of u\n",
        "      v = e.opposite(u)\n",
        "      incount[v] -= 1 # v has one less constraint without u\n",
        "      if incount[v] == 0:\n",
        "        ready.append(v)\n",
        "  return topo"
      ],
      "execution_count": 0,
      "outputs": []
    },
    {
      "metadata": {
        "id": "HW1tNdwvMQy6",
        "colab_type": "text"
      },
      "cell_type": "markdown",
      "source": [
        "*Let $\\vec{G}$ be a directed graph with $n$ vertices and $m$ edges, using\n",
        "an adjacency list representation. The topological sorting algorithm runs in $O(n+m)$\n",
        "time using $O(n)$ auxiliary space, and either computes a topological ordering of $\\vec{G}$\n",
        "or fails to include some vertices, which indicates that $\\vec{G}$ has a directed cycle.*"
      ]
    },
    {
      "metadata": {
        "id": "Hu-2vcYVMiXu",
        "colab_type": "text"
      },
      "cell_type": "markdown",
      "source": [
        "#14.6 Shorest Paths\n",
        "The breadth-first search introduced in the previous section can be used to find a shortest path from some starting vertex to every other vertex in a connected graph."
      ]
    },
    {
      "metadata": {
        "id": "WH5lP8qTMzMI",
        "colab_type": "text"
      },
      "cell_type": "markdown",
      "source": [
        "##14.6.1 Weighted Graphs\n",
        "A **weighted graph** is a graph that has a numeric label $w(e)$ associated with each edge $e$, called the **weight** of edge $e$. For $e=(u,v)$, $w(u,v)=w(e)$.\n",
        "\n",
        "###Defining Shortest Paths in a Weighted Graph\n",
        "Let $G$ be a weighted graph. The **length** (or weight) of a path is the sum of the weights of the edges of $P$. If $P=((v_0,v_1), (v_1,v_2),...,(v_{k-1}, v_k))$, then the length of $P$, dentoed as $w(P)$, is defined as \n",
        "$$w(P)=\\sum\\limits_{i=0}^{k-1}w(v_i,v_{i+1})$$\n",
        "The **distance** from a vertex $u$ to a vertex $v$ in $G$, dentoed $d(u,v)$, is the length of a minimum-length path (also called **shortest path**) from $u$ to $v$, if such a path exists.\n",
        "\n",
        "If there is no path at all from $u$ to $v$ in $G$, $d(u,v)=\\infty$. Even if there is a path from $u$ to $v$ in $G$, if there is a cycle in $G$ whose total weight is negative, the distance from $u$ to $v$ may not be defined."
      ]
    },
    {
      "metadata": {
        "id": "WVkVf9y-OtVB",
        "colab_type": "text"
      },
      "cell_type": "markdown",
      "source": [
        "##14.6.2 Dijkstra's Algorithm\n",
        "The main idea in applying the *greedy method* pattern to the single-source shortest-path problem is to perform a \"weighted\" breadth-first search starting at the source vertex $s$. The algorithm is developed using the greedy method that iteratively grows a \"cloud\" of vertices out of $s$, with the vertices entering the cloud in order of their distances from $s$. In each iteration, the next vertex chosen is the vertex outside the cloud that is closest to $s$. The algorithm terminates when no more vetices are outside the cloud (or when those outside the cloud are not connected to those within the cloud), at which point a shorest path from $s$ to every vertex of $G$ that is reachable from $s$ is obtained.\n",
        "\n",
        "###Edge Relaxation\n",
        "Define a label $D[v]$ for each vertex $v$ in $V$, which is used to approximate the distance in $G$ from $s$ to $v$. The meaning of these labels is that $D[v]$ will always store the length of the best path found so far from $s$ to $v$. Initially, $D[s]=0$ and $D[v]=\\infty$ for each $v\\neq s$, and a set $C$ is defined, which is the \"**cloud**\" of vertices, to intially be the empty set.\n",
        "\n",
        "At each iteration of the algorithm, a vertex $u$ not in $C$ is selected with smallest $D[u]$ label, and this $u$ is pulled into $C$. In the very first iteration, $s$ is pulled into $C$. Once a new vertex $u$ is pulled into $C$, and then the label $D[v]$ of each vertex $v$, which is adjacent to $u$ and is outside of $C$, is updated, to reflect the fact that there may be a new and better way to get to $v$ via $u$. This update operation is known as a **relaxation** procedure, for it takes an old estimate and checks if it can be improved to get closer to its true value."
      ]
    },
    {
      "metadata": {
        "id": "9t7Zb0Wb3sjx",
        "colab_type": "code",
        "colab": {}
      },
      "cell_type": "code",
      "source": [
        "'''Pseduo-code\n",
        "Edge Relaxation:\n",
        "  if D[u] + w(u,v) < D[v] then\n",
        "    D[v] = D[u] + w(u,v)\n",
        "'''\n"
      ],
      "execution_count": 0,
      "outputs": []
    },
    {
      "metadata": {
        "id": "YQBIC8Mk4Cxf",
        "colab_type": "text"
      },
      "cell_type": "markdown",
      "source": [
        "###Algorithm Description"
      ]
    },
    {
      "metadata": {
        "id": "U383Qr5u4GUl",
        "colab_type": "code",
        "colab": {}
      },
      "cell_type": "code",
      "source": [
        "'''\n",
        "Algorithm ShortestPath(G, s):\n",
        "  Input: A weighted graph G with nonnegative edge weights, and a distinguished \n",
        "         vertex s of G\n",
        "  Output: The length of a shortest path from s to v for each vertex v of G\n",
        "  \n",
        "  Initialize D[s] = 0 and D[v]= inf for each vertex v!=s\n",
        "  Let a priority queue Q contain all the vertices of G using the D labels as keys\n",
        "  while Q is not empty do\n",
        "    {pull a new vertex u into the cloud}\n",
        "    u = value returned by Q.remove_min()\n",
        "    for each vertex v adjacent to u such that v is in Q do\n",
        "      {perform the relaxation procedure on edge (u,v)}\n",
        "      if D[u] + w(u,v) < D[v] then\n",
        "        D[v] = D[u] + w(u,v)\n",
        "        Change to D[v] the key of vertex v in Q\n",
        "  return the label D[v] of each vertex v\n",
        "  '''"
      ],
      "execution_count": 0,
      "outputs": []
    },
    {
      "metadata": {
        "id": "0nENUuld4-VQ",
        "colab_type": "text"
      },
      "cell_type": "markdown",
      "source": [
        "At the moment a vertex $u$ is pulled into $C$, its label $D[u]$ stores the correct length of a shortest path from $v$ to $u$. Thus, when the algorithm terminates, it will have computed the shortest-path distance from $s$ to every vertex of $G$.\n",
        "\n",
        "*In Dijkstra's algorithm, whenever a verrtex $v$ is pulled into the cloud, the label $D[v]$ is equal to $d(s,v)$, the length of a shortest path from $s$ to $v$.*\n",
        "\n",
        "*Given a weighted graph $G$ with $n$ vertices and $m$ edges, such\n",
        "that the weight of each edge is nonnegative, and a vertex $s$ of $G$, Dijkstra’s algorithm\n",
        "can compute the distance from $s$ to all other vertices of $G$ in the better of $O(n^2)$ or\n",
        "$O((n+m) \\log n)$ time.*"
      ]
    },
    {
      "metadata": {
        "id": "i_yrz-CL6CWK",
        "colab_type": "text"
      },
      "cell_type": "markdown",
      "source": [
        "###Python Implementation\n",
        "This implementation takes a graph and a designated source vertex as parameters. It returns a dictionary, named `cloud`, mapping each vertex $v$ that is reachable from the source to its shortest-path distance $d(s,v)$. This `shortest_path_lengths` functions relies on the `AdaptableHeapPriorityQueue` class developed in Chapter 2 as an adaptable priority queue."
      ]
    },
    {
      "metadata": {
        "id": "GnzPC5LN6kfN",
        "colab_type": "code",
        "colab": {}
      },
      "cell_type": "code",
      "source": [
        "def shortest_path_lengths(g, src):\n",
        "  '''Compute shortest-path distances from src to reachable vertices of g\n",
        "  \n",
        "  Graph g can be undirected or directed, but must be weighted such that\n",
        "  e.element() returns a numeric weight for each edge e\n",
        "  \n",
        "  Return dictionary mapping each reachable vertex to its distance from src\n",
        "  '''\n",
        "  d = {} # d[v] is upper bound from s to v\n",
        "  cloud = {} # map reachable v to its d[v] value\n",
        "  pq = AdaptableHeapPriorityQueue() # vertex v will have key d[v]\n",
        "  pqlocator = {} # map from vertex to its pq locator\n",
        "  \n",
        "  # for each vertex v of the graph, add an entry to the priority queue, with\n",
        "  # the source having distance 0 and all others having infinite distance\n",
        "  for v in g.vertices():\n",
        "    if v is src:\n",
        "      d[v] = 0\n",
        "    else:\n",
        "      d[v] = float('inf') # syntax for positive infinity\n",
        "    pqlocator[v] = pq.add(d[v], v) # save locator for future updates\n",
        "    \n",
        "  while not pq.is_empty():\n",
        "    key, u = pq.remove_min()\n",
        "    cloud[u] = key # its correct d[u] value\n",
        "    del pqlocator[u] # u is no longer in pq\n",
        "    for e in g.incident_edges(u): # outgoing edges (u,v)\n",
        "      v = e.opposite(u)\n",
        "      if v not in cloud:\n",
        "        # perform relaxation step on edge (u,v)\n",
        "        wgt = e.element()\n",
        "        if d[u] + wgt < d[v]: # better path to v?\n",
        "          d[v] = d[u] + wgt # update the distance\n",
        "          pq.update(pqlocator[v], d[v], v) # update the pq entry\n",
        "          \n",
        "  return cloud # only includes reachable vertices"
      ],
      "execution_count": 0,
      "outputs": []
    },
    {
      "metadata": {
        "id": "4WWWIwMv9F7R",
        "colab_type": "text"
      },
      "cell_type": "markdown",
      "source": [
        "###Reconstructing the Shortest-Path Tree\n",
        "The implementation above computes the value $d[v]$, for each vertex $v$, that is the length of the shortest path from the source vertex $s$ to $v$. However, those forms of the algorithm do not explicitly compute the actual paths that achieve those distances. The collection of all shortest paths emanating from source $s$ can be compactly represented by the **shortest-path tree**. The paths form a rooted tree because if a shortest path from $s$ to $v$ passes through an intermediate vertex $u$, it must begin with a shortest path from $s$ to $u$."
      ]
    },
    {
      "metadata": {
        "id": "VG6CCQIt-NXE",
        "colab_type": "code",
        "colab": {}
      },
      "cell_type": "code",
      "source": [
        "def shortest_path_tree(g, s, d):\n",
        "  '''Reconstruct shortest-path tree rooted at vertex s, given distance map d\n",
        "  \n",
        "  Return tree as a map from each reachable vertex v (other than s) to the\n",
        "  edge e=(u,v) that is used to reach v from its parent u in the tree\n",
        "  '''\n",
        "  tree = {}\n",
        "  for v in d:\n",
        "    if v is not s:\n",
        "      for e in g.incident_edges(v, False): # consider INCOMING edges\n",
        "        u = e.opposite(v)\n",
        "        wgt = e.element()\n",
        "        if d[v] == d[u] + wgt:\n",
        "          tree[v] = e # edge e is used to reach v\n",
        "  return tree"
      ],
      "execution_count": 0,
      "outputs": []
    },
    {
      "metadata": {
        "id": "QxnKLGbX-r5s",
        "colab_type": "text"
      },
      "cell_type": "markdown",
      "source": [
        "The running time is $O(n+m)$ as each vertex is considered and all incoming edges to those vertices"
      ]
    },
    {
      "metadata": {
        "id": "3RtS3kBH_aUc",
        "colab_type": "text"
      },
      "cell_type": "markdown",
      "source": [
        "#14.7 Minimum Spanning Trees\n",
        "Given an undirected, weighted graph $G$, the problem is to find a tree $T$ that contains all the vertices in $G$ and minimizes the sum\n",
        "$$w(T)=\\sum\\limits_{(u,v)in\\,T}w(u,v)$$\n",
        "The **spanning tree** is defined as a tree that contains every vertex of a connected graph $G$, and the problem of computing a spanning tree $T$ with smallest total weight is the **minimum spanning tree** (MST) problem.\n",
        "\n",
        "*Let $G$ be a weighted connected graph, and let $V_1$ and $V_2$ be a partition of the vertices of $G$ into two disjoint nonempty sets. Furthermore, let $e$ be an edge in $G$ with minimum weight from among those with one endpoint in $V_1$ and the other in $V_2$. There is a minimum spanning tree $T$ that has $e$ as one of its edges. This reminas valid even if the graph $G$ contains negative-weight edges or negative-weight cycles.*\n",
        "\n",
        "If the weights in $G$ are distinct, then the minimum spanning tree is unique."
      ]
    },
    {
      "metadata": {
        "id": "oojP6MMxl-IR",
        "colab_type": "text"
      },
      "cell_type": "markdown",
      "source": [
        "##14.7.1 Prim-Jarnik Algorithm\n",
        "In the Prim-Jarnik algorithm, a minimum spanning tree is grown from a single cluster starting from some \"root\" vertex $s$.\n",
        "\n",
        "The algorithm begins with some vertex $s$, defining the initial \"cloud\" of vertices $C$. Then, in each iteration, a minimum-weight edge $e=(u,,v)$ is chosen, connecting a vertex $u$ in the cloud $C$ to a vertex $v$ outside of $C$. The vertex $v$ is then brought into the cloud $C$ and the process is repeated until a spanning tree is formed. "
      ]
    },
    {
      "metadata": {
        "id": "pzQ0uNm3m7T1",
        "colab_type": "code",
        "colab": {}
      },
      "cell_type": "code",
      "source": [
        "''' Pseudo-code\n",
        "Algorithm PrimJarnik(G):\n",
        "  Input: An undirected, weighted, connected graph G with n vertices and m edges\n",
        "  Output: A minimum spanning tree T for G\n",
        "  \n",
        "  Pick any vertex s of G\n",
        "  D[s] = 0\n",
        "  for each vertex v!= s do\n",
        "    D[v] = inf\n",
        "  Initialize T = null\n",
        "  Initialize a priority queue Q with an entry (D[v], (v, None)) for each vertex v,\n",
        "  where D[v] is the key in the priority queue, and (v, None) is the associated value.\n",
        "  \n",
        "  while Q is not empty do\n",
        "    (u,e) = value returned by Q.remove_min()\n",
        "    Connect vertex u to T using edge e\n",
        "    for each edge e' = (u,v) such that v is in Q do\n",
        "      {check if edge (u,v) better connects v to T}\n",
        "      if w(u,v) < D[v] then\n",
        "        D[v] = w(u,v)\n",
        "        Change the key of vertex v in Q to D[v]\n",
        "        Change the value of vertex v in Q to (v,e')\n",
        "  return the tree T\n",
        "'''"
      ],
      "execution_count": 0,
      "outputs": []
    },
    {
      "metadata": {
        "id": "-_gfdC7IoPyY",
        "colab_type": "text"
      },
      "cell_type": "markdown",
      "source": [
        "###Python Implementation\n",
        "The MST is returned as an unordered list of edges"
      ]
    },
    {
      "metadata": {
        "id": "j2Goz0MtoWBh",
        "colab_type": "code",
        "colab": {}
      },
      "cell_type": "code",
      "source": [
        "def MST_PrimJarnik(g):\n",
        "  '''Compute a minimum spanning tree of weighted graph g\n",
        "  \n",
        "  Return a list of edges that comprise the MST (in arbitrary order)\n",
        "  '''\n",
        "  d = {} # d[v] is bound on distance to tree\n",
        "  tree = [] # list of edges in spanning tree\n",
        "  pq = AdaptableHeapPriorityQueue() # d[v] maps to value (v, e=(u,v))\n",
        "  pqlocator = {} # map from vertex to its pq locator\n",
        "  \n",
        "  # for each vertex v of the graph, add an entry to the priority queue, with\n",
        "  # the source having distance 0 and all others having infinite distance\n",
        "  for v in g.vertices():\n",
        "    if len(d) == 0: # this is the first node\n",
        "      d[v] = 0 # make it the root\n",
        "    else:\n",
        "      d[v] = float('inf') # positive infinity\n",
        "    pqlocator[v] = pq.add(d[v], (v, None))\n",
        "    \n",
        "  while not pq.is_empty():\n",
        "    key, value = pq.remove_min()\n",
        "    u, edge = value # unpack tuple from pq\n",
        "    del pqlocator[u] # u is no longer in pq\n",
        "    if edge is not None:\n",
        "      tree.append(edge) # add edge to tree\n",
        "    for link in g.incident_edges(u):\n",
        "      v = link.opposite(u)\n",
        "      if v in pqlocator: # thus v not yet in tree\n",
        "        # see if edge (u,v) better connects v to the growing tree\n",
        "        wgt = link.element()\n",
        "        if wgt < d[v]: # better edge to v?\n",
        "          d[v] = wgt # update the distance\n",
        "          pq.update(pqlocator[v], d[v], (v, link)) # update the pq entry\n",
        "  return tree"
      ],
      "execution_count": 0,
      "outputs": []
    },
    {
      "metadata": {
        "id": "KWugZ_ASp0xO",
        "colab_type": "text"
      },
      "cell_type": "markdown",
      "source": [
        "##14.7.2 Kruskal's Algorithm\n",
        "**Kruskal's algorithm** is used to construct a minimum spanning tree. While the Prim-Jarnik algorithm builds the MST by growing a single tree until it spans the graph, Kruskal's algorithm maintains a **forest** of clusters, repeatedly merging pairs of clusters until a single cluster spans the graph."
      ]
    },
    {
      "metadata": {
        "id": "QjtuGbx5NU7s",
        "colab_type": "code",
        "colab": {}
      },
      "cell_type": "code",
      "source": [
        "'''Pseudo-code\n",
        "Algorithm Kruskal(G):\n",
        "  Input: A simple connected weighted graph G with n vertices and m edges\n",
        "  Output: A minimum spanning tree T for G\n",
        "  \n",
        "  for each vertex v in G do\n",
        "    Define an elementary cluster C(v) = {v}\n",
        "  Initialize a priority queue Q to contain all edges in G, using the weights as keys\n",
        "  T = null {T will ultimately contain the edges of the MST}\n",
        "  while T has fewer than n-1 edges do\n",
        "    (u,v) = value returned by Q.remove_min()\n",
        "    Let C(u) be the cluster containing u, and let C(v) be the cluster containing v.\n",
        "    if C(u) != C(v) then\n",
        "      Add edge (u,v) to T\n",
        "      Merge C(u) and C(v) into one cluster\n",
        "  return tree T\n",
        "'''"
      ],
      "execution_count": 0,
      "outputs": []
    },
    {
      "metadata": {
        "id": "lzjiBkpsOcCo",
        "colab_type": "text"
      },
      "cell_type": "markdown",
      "source": [
        "The running time due to the ordering of edges is $O(m\\log n)$."
      ]
    },
    {
      "metadata": {
        "id": "XruZC19bOtkk",
        "colab_type": "text"
      },
      "cell_type": "markdown",
      "source": [
        "###Python Implementation\n",
        "The minimum spanning tree is returned in the form of a list of edges. Those edges are reported in nondecreasing order of their weights as a consequence of Kruskal's algorithm.\n",
        "\n",
        "The implementaion assumes use of a `Partition` class for managing the cluster partition. The `Partition` class is implemented in next section."
      ]
    },
    {
      "metadata": {
        "id": "k_HL83ljSO8L",
        "colab_type": "code",
        "colab": {}
      },
      "cell_type": "code",
      "source": [
        "def MST_Kruskal(g):\n",
        "  '''Compute a minimum spanning tree of a graph using Kruskal's algorithm\n",
        "  \n",
        "  Return a list of edges that comprise the MST\n",
        "  \n",
        "  The elements of the graph's edges are assumed to be weghts \n",
        "  '''\n",
        "  tree = [] # list of edges in spanning tree\n",
        "  pq = HeapPriorityQueue() # entries are edges in G, with weights as key\n",
        "  forest = Partition() # keeps track of forest clusters\n",
        "  position = {} # map each node to its Partition entry\n",
        "  \n",
        "  for v in g.vertices():\n",
        "    position[v] = forest.make_group(v)\n",
        "    \n",
        "  for e in g.edges():\n",
        "    pq.add(e.element(), e) # edge's element is assumed to be its weight\n",
        "    \n",
        "  size = g.vertex_count()\n",
        "  while len(tree) != size-1 and not pq.is_empty():\n",
        "    # tree not spanning and unprocessed edges remain\n",
        "    weight, edge = pq.remove_min()\n",
        "    u,v = edge.endpoints()\n",
        "    a = forest.find(position[u])\n",
        "    b = forest.find(position[v])\n",
        "    if a != b:\n",
        "      tree.append(edge)\n",
        "      forest.union(a,b)\n",
        "      \n",
        "  return tree"
      ],
      "execution_count": 0,
      "outputs": []
    },
    {
      "metadata": {
        "id": "4fp7EHIoZltT",
        "colab_type": "text"
      },
      "cell_type": "markdown",
      "source": [
        "##14.7.3 Disjoint Partitions and Union-Find Structures\n",
        "A partition data structure manages a universe of elements that are organized into disjoint sets (an element belongs to one and only one of these sets), which is unlike with the Set ADT or Python's `set` class. To avoid confusion with this notions of a set, the cluster of the partition is referred to as **groups**. To differentiate between one group and another, each group at any point in time has a designated entry that is referred to as the **leader** of the group.\n",
        "\n",
        "The **partition ADT** is defined using position objects, each of which stores an element $x$.\n",
        "\n",
        "The partition ADT supports the following methods:\n",
        "* `make group(x)`: Create a singleton group containing new element `x` and\n",
        "return the position storing `x`.\n",
        "* `union(p, q)`: Merge the groups containing positions `p` and `q`.\n",
        "* `find(p)`: Return the position of the leader of the group containing\n",
        "position `p`."
      ]
    },
    {
      "metadata": {
        "id": "DSKXcmiJbqIo",
        "colab_type": "text"
      },
      "cell_type": "markdown",
      "source": [
        "###Sequence Implementation\n",
        "A simple implementation of a partition with a total of $n$ elements uses a collection\n",
        "of sequences, one for each group, where the sequence for a group $A$ stores element\n",
        "positions. Each position object stores a variable, element, which references its\n",
        "associated element $x$ and allows the execution of an `element()` method in $O(1)$ time.\n",
        "In addition, each position stores a variable, group, that references the sequence\n",
        "storing $p$, since this sequence is representing the group containing $p$’s element.\n",
        "\n",
        "*When using the sequence-based partition implementation, performing a series of $k$ `make_group`, `union`, and `find` operations on an initially empty partition involving at most $n$ elements takes $O(k+n\\log n)$ time.*"
      ]
    },
    {
      "metadata": {
        "id": "hDZaapFJcULD",
        "colab_type": "text"
      },
      "cell_type": "markdown",
      "source": [
        "###A Tree-Based Partition Implementation\n",
        "An alternative data structure for representing a partition uses a collection of\n",
        "trees to store the $n$ elements, where each tree is associated with a different group. Each tree is implemented with a linked data structure whose nodes are themselves the group position objects.\n",
        "\n",
        "Each position $p$ is a node having an instance variable, `element`, referring to its element $x$, and an instance variable, `parent`, referring to its parent node. By convention, if $p$ is the **root** of its tree, $p$'s parent refers to itself.\n",
        "\n",
        "The following two heuristics can make this implementation run faster than the sequence-based data structure:\n",
        "* **Union-by-Size**: With each position $p$, store the number of elements in the subtree\n",
        "rooted at $p$. In a `union` operation, make the root of the smaller group become\n",
        "a child of the other root, and update the size field of the larger root.\n",
        "* **Path Compression**: In a find operation, for each position $q$ that the `find` visits,\n",
        "reset the parent of $q$ to the root.\n",
        "\n",
        "*When using the tree-based partition representation with both union-by-size and path compression, performing a series of $k$ `make_group`, `union`, and `find` operations on an initially empty partition involving at most $n$ elements takes $O(k\\log^*n)$ time*, where $\\log^*n$ is the **log-star** function, which is the inverse of the **tower-of-twos** function.c"
      ]
    },
    {
      "metadata": {
        "id": "xbOHrNuOeWHp",
        "colab_type": "code",
        "colab": {}
      },
      "cell_type": "code",
      "source": [
        "class Partition:\n",
        "  '''Union-find structure for maintaining disjoin sets'''\n",
        "  \n",
        "  #----------------------- nested Position class------------------------\n",
        "  class Position:\n",
        "    __slots__ = '_container', '_element', '_size', '_parent'\n",
        "    \n",
        "    def __init__(self, container, e):\n",
        "      '''Create a new position that is the leader of its own group'''\n",
        "      self._container = container # reference to Partition instance\n",
        "      self._element = e\n",
        "      self._size = 1\n",
        "      self._parent = self # convention for a group leader\n",
        "      \n",
        "    def element(self):\n",
        "      '''Return element stored at this position'''\n",
        "      return self._element\n",
        "    \n",
        "  #-------------------- public Partition methods ------------------------\n",
        "  def make_group(self, e):\n",
        "    '''Makes a new group containing element e, and returns its Position'''\n",
        "    return self.Position(self, e)\n",
        "  \n",
        "  def find(self, p):\n",
        "    '''Finds the group containing p and return the position of its leader'''\n",
        "    if p._parent != p:\n",
        "      p._parent = self.find(p_parent) # overwrite p._parent after recursion\n",
        "    return p._parent\n",
        "  \n",
        "  def union(self, p, q):\n",
        "    '''Merges the groups containing elements p and q (if distinct)'''\n",
        "    a = self.find(p)\n",
        "    b = self.find(q)\n",
        "    if a is not b: # only merge if different groups\n",
        "      if a._size > b._size:\n",
        "        b._parent = a\n",
        "        a._size += b._size\n",
        "      else:\n",
        "        a._parent = b\n",
        "        b._size += a._size"
      ],
      "execution_count": 0,
      "outputs": []
    }
  ]
}