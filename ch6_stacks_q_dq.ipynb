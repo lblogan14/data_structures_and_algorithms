{
  "nbformat": 4,
  "nbformat_minor": 0,
  "metadata": {
    "colab": {
      "name": "ch6_stacks_q_dq.ipynb",
      "version": "0.3.2",
      "provenance": [],
      "collapsed_sections": [],
      "include_colab_link": true
    },
    "kernelspec": {
      "name": "python3",
      "display_name": "Python 3"
    }
  },
  "cells": [
    {
      "cell_type": "markdown",
      "metadata": {
        "id": "view-in-github",
        "colab_type": "text"
      },
      "source": [
        "<a href=\"https://colab.research.google.com/github/lblogan14/data_structures_and_algorithms/blob/master/ch6_stacks_q_dq.ipynb\" target=\"_parent\"><img src=\"https://colab.research.google.com/assets/colab-badge.svg\" alt=\"Open In Colab\"/></a>"
      ]
    },
    {
      "metadata": {
        "id": "vW5luKLO-AjP",
        "colab_type": "text"
      },
      "cell_type": "markdown",
      "source": [
        "#6.1 Stacks\n",
        "A **stack** is a collection of objects that are inserted and removed according to the *last-in, first-out (LIFO)* principle."
      ]
    },
    {
      "metadata": {
        "id": "LMCX5B9n-aar",
        "colab_type": "text"
      },
      "cell_type": "markdown",
      "source": [
        "##6.1.1 The Stack Abstract Data Type\n",
        "A stack is an abstract data type (ADT) such that an instance `S` supports the following two methods:\n",
        "* `S.push(e)`: Add element `e` to the top of stack `S`\n",
        "* `S.pop()`: Remove and return the top element from the stack `S`; an error occurs if the stack is empty\n",
        "\n",
        "for convenience, the following accessor methods are also defined:\n",
        "* `S.top()`: Return a reference to the top element of stack `S`, without removing it; an error occurs if the stack is empty\n",
        "* `S.is_empty()`: Return `True` if stack `S` does not contain any elements\n",
        "* `len(S)`: Return the number of elements in stack `S`; in Python, this is implemented with the special method `__len__`"
      ]
    },
    {
      "metadata": {
        "id": "0EPTVUjcAEAr",
        "colab_type": "text"
      },
      "cell_type": "markdown",
      "source": [
        "##6.1.2 Simple Array-Based Stack Implementation"
      ]
    },
    {
      "metadata": {
        "id": "fpiGkiPNAYY7",
        "colab_type": "code",
        "colab": {}
      },
      "cell_type": "code",
      "source": [
        "class ArrayStack:\n",
        "  '''LIFO Stack implementation using a Python list as underlying storage'''\n",
        "  \n",
        "  def __init__(self):\n",
        "    '''Create an empty stack'''\n",
        "    self._data = [] # nonpublic list instance\n",
        "    \n",
        "  def __len__(self):\n",
        "    '''Return the number of elements in the stack'''\n",
        "    return len(self._data)\n",
        "  \n",
        "  def is_empty(self):\n",
        "    '''Return True if the stack is empty'''\n",
        "    return len(self._data) == 0\n",
        "  \n",
        "  def push(self, e):\n",
        "    '''Add element e to the top of the stack'''\n",
        "    self._data.append(e) # new item stored at end of list\n",
        "    \n",
        "  def top(self):\n",
        "    '''Return (but do not remove) the element at the top of the stack\n",
        "    Raise Empty exception if the stack is empty'''\n",
        "    if self.is_empty():\n",
        "      raise Empty('Stack is empty')\n",
        "    return self._data[-1] # the last item in the list\n",
        "  \n",
        "  def pop(self):\n",
        "    '''Remove and return the element from the top of the stack (i.e. LIFO)\n",
        "    Raise Empty exception if the stack is empty'''\n",
        "    if self.is_empty():\n",
        "      raise Empty('Stack is empty')\n",
        "    return self._data.pop() # remove last item from list"
      ],
      "execution_count": 0,
      "outputs": []
    },
    {
      "metadata": {
        "id": "mSPBXDWuBqUV",
        "colab_type": "code",
        "colab": {}
      },
      "cell_type": "code",
      "source": [
        "class Empty(Exception):\n",
        "  '''Error attempting to access an element from an empty container'''\n",
        "  pass"
      ],
      "execution_count": 0,
      "outputs": []
    },
    {
      "metadata": {
        "id": "GZ9NWFZ9B0pE",
        "colab_type": "text"
      },
      "cell_type": "markdown",
      "source": [
        "##6.1.3 Reversing Data Using a Stack\n",
        "A stack can be used as a general tool to reverse a data sequence.\n",
        "\n",
        "To reverse the order of lines in a file:"
      ]
    },
    {
      "metadata": {
        "id": "J13rpNdECIP3",
        "colab_type": "code",
        "colab": {}
      },
      "cell_type": "code",
      "source": [
        "def reverse_file(filename):\n",
        "  '''Overwrite given file with its contents line-by-line reversed'''\n",
        "  S = ArrayStack()\n",
        "  original = open(filename)\n",
        "  for line in original:\n",
        "    S.push(line.rstrip('\\n')) # re-insert newlines when writing\n",
        "  original.close()\n",
        "  \n",
        "  # now overwrite with contents in LIFO order\n",
        "  output = open(filename, 'w') # reopen file and overwrite original\n",
        "  while not S.is_empty():\n",
        "    output.write(S.pop() + '\\n') # re-insert newline characters\n",
        "  output.close()"
      ],
      "execution_count": 0,
      "outputs": []
    },
    {
      "metadata": {
        "id": "g7I8DG7KDCKh",
        "colab_type": "text"
      },
      "cell_type": "markdown",
      "source": [
        "##6.1.4 Matching Parentheses and HTML Tags\n",
        "\n",
        "###Matching Delimiters"
      ]
    },
    {
      "metadata": {
        "id": "kQR1_in8DWcJ",
        "colab_type": "code",
        "colab": {}
      },
      "cell_type": "code",
      "source": [
        "def is_matched(expr):\n",
        "  '''Return True if all delimiters are properly match; False otherwise'''\n",
        "  lefty = '({[' # opening delimiters\n",
        "  righty = ')}]' # respective closing delimiters\n",
        "  S = ArrayStack()\n",
        "  for c in expr:\n",
        "    if c in lefty:\n",
        "      S.push(c) # push left delimiter on stack\n",
        "    elif c in righty:\n",
        "      if S.is_empty():\n",
        "        return False # nothing to match with\n",
        "      if righty.index(c) != lefty.index(S.pop()):\n",
        "        return False # mismatched\n",
        "  return S.is_empty() "
      ],
      "execution_count": 0,
      "outputs": []
    },
    {
      "metadata": {
        "id": "HHVVAu01EQHp",
        "colab_type": "text"
      },
      "cell_type": "markdown",
      "source": [
        "If the length of the original expression is $n$, the algorithm will make at most\n",
        "$n$ calls to push and $n$ calls to pop. Those calls run in a total of $O(n)$ time, even considering\n",
        "the amortized nature of the $O(1)$ time bound for those methods"
      ]
    },
    {
      "metadata": {
        "id": "6UH_e4ZiEcpM",
        "colab_type": "text"
      },
      "cell_type": "markdown",
      "source": [
        "###Matching Tags in a Markup Language"
      ]
    },
    {
      "metadata": {
        "id": "CFtUvPawEprV",
        "colab_type": "code",
        "colab": {}
      },
      "cell_type": "code",
      "source": [
        "def is_matched_html(raw):\n",
        "  '''Return True if all HTML tags are properly match; False otherwise'''\n",
        "  S = ArrayStack()\n",
        "  j = raw.find('<') # find first '<' character (if any)\n",
        "  while j != -1:\n",
        "    k = raw.find('>', j+1) # find next '>' character\n",
        "    if k == -1:\n",
        "      return False # invalid tag\n",
        "    tag = raw[j+1:k] # strip away < >\n",
        "    if not tag.startwith('/'): # this is opening tag\n",
        "      S.push(tag)\n",
        "    else: # this is closing tag\n",
        "      if S.is_empty():\n",
        "        return False # nothing to match with\n",
        "      if tag[1:] != S.pop():\n",
        "        return False # mismatched delimiter\n",
        "    j = raw.find('<', k+1) # find next '<' character (if any)\n",
        "  return S.is_empty()"
      ],
      "execution_count": 0,
      "outputs": []
    },
    {
      "metadata": {
        "id": "oPodW_PcFtYC",
        "colab_type": "text"
      },
      "cell_type": "markdown",
      "source": [
        "#6.2 Queues\n",
        "A **queue** is a collection of objects that are inserted and remove according to the *first-in, first-out (FIFO)* principle."
      ]
    },
    {
      "metadata": {
        "id": "_Eg0QwG6GFCQ",
        "colab_type": "text"
      },
      "cell_type": "markdown",
      "source": [
        "## 6.2.1 The Queue Abstract Data Type\n",
        "The queue abstract data type (ADT) supports the following two fundamental methods for a queue `Q`:\n",
        "* `Q.enqueue(e)`: Add element `e` to the back of queue `Q`\n",
        "* `Q.dequeue()`: Remove and return the first element from queue `Q`; an error occurs if the queue is empty\n",
        "\n",
        "Other supporting methods:\n",
        "* `Q.first()`: Return a reference to the element at the front of queue `Q`,\n",
        "without removing it; an error occurs if the queue is empty.\n",
        "* `Q.is_empty()`: Return `True` if queue `Q` does not contain any elements\n",
        "* `len(Q)`: Return the number of elements in queue `Q`; in Python, `__len__`"
      ]
    },
    {
      "metadata": {
        "id": "3RPV1hByG1iS",
        "colab_type": "text"
      },
      "cell_type": "markdown",
      "source": [
        "##6.2.2 Array-Based Queue Implementation\n",
        "####A Python Queue Implementation\n",
        "* `_data`: a reference to a list instance with a fixed capacity\n",
        "* `_size`: an integer representing the current number of elements stored in the queue (as poopsed to the length of the `_data` list)\n",
        "* `_front`: an integer that represents the index within `_data` of the first element of the queue (assuming the queue is not empty)"
      ]
    },
    {
      "metadata": {
        "id": "Osiy-1W_IHl0",
        "colab_type": "code",
        "colab": {}
      },
      "cell_type": "code",
      "source": [
        "class ArrayQueue:\n",
        "  '''FIFO queue implementation using a Python list as underlying storage'''\n",
        "  DEFAULT_CAPACITY = 10 # moderate capacity for all new queues\n",
        "  \n",
        "  def __init__(self):\n",
        "    '''Create an empty queue'''\n",
        "    self._data = [None] * ArrayQueue.DEFAULT_CAPACITY\n",
        "    self._size = 0\n",
        "    self._front = 0\n",
        "    \n",
        "  def __len__(self):\n",
        "    '''Return the number of elements in the queue'''\n",
        "    return self._size\n",
        "  \n",
        "  def is_empty(self):\n",
        "    '''Return True if the queue is empty'''\n",
        "    return self._size == 0\n",
        "  \n",
        "  def first(self):\n",
        "    '''Return (but do not remove) the element at the front of the queue\n",
        "    Raise Empty exception if the queue is empty\n",
        "    '''\n",
        "    if self.is_empty():\n",
        "      raise Empty('Queue is empty')\n",
        "    return self._data[self._front]\n",
        "  \n",
        "  def dequeue(self):\n",
        "    '''Remove and return the first element of the queue (i.e. FIFO)\n",
        "    Raise Empty exception if the queue is empty\n",
        "    '''\n",
        "    if self.is_empty():\n",
        "      raise Empty('Queue is empty')\n",
        "    answer = self._data[self._front]\n",
        "    self._data[self._front] = None # help garbage collection\n",
        "    self._front = (self._front + 1)%len(self._data)\n",
        "    self._size -= 1\n",
        "    return answer\n",
        "  \n",
        "  def enqueue(self, e):\n",
        "    '''Add an element to the back of queue'''\n",
        "    if self._size == len(self._data):\n",
        "      self.resize(2 * len(self._data)) # double the array size\n",
        "    avail = (self._front + self._size) % len(self._data)\n",
        "    self._data[avail] = e\n",
        "    self._size += 1\n",
        "    \n",
        "  def _resize(self, cap): # assume cap >= len(self)\n",
        "    '''Resize to a new list of capacity >= len(self)'''\n",
        "    old = self._data # keep track of existing list\n",
        "    self._data = [None] * cap # allocate list with new capacity\n",
        "    walk = self._front\n",
        "    for k in range(self._size): # only consider existing elements\n",
        "      self._data[k] = old[walk] # intentionally shift indices\n",
        "      walk = (1 + walk) % len(old) # use old size as modulus\n",
        "    self._front = 0 # front has been realigned"
      ],
      "execution_count": 0,
      "outputs": []
    },
    {
      "metadata": {
        "id": "T9AckF5WLP3l",
        "colab_type": "text"
      },
      "cell_type": "markdown",
      "source": [
        "####Adding and Removing Elements\n",
        "`enqueue` is to add a new element to the back of the queue. Although an instance variable is not maintained for the back of the queue, the location of the next opening is computed based on the formula: \\\\\n",
        "`avail = (self._front + self._size) % len(self._data)` \\\\\n",
        "The size of the queue is used as it exists prior to the addition of the new element. For example, consider a queue with capacity 10, current size 3, and\n",
        "first element at index 5. The three elements of such a queue are stored at indices 5,\n",
        "6, and 7. The new element should be placed at index (front+size) = 8. In a case\n",
        "with wrap-around, the use of the modular arithmetic achieves the desired circular\n",
        "semantics. For example, if our hypothetical queue had 3 elements with the first at\n",
        "index 8, our computation of (8+3) % 10 evaluates to 1, which is perfect since the\n",
        "three existing elements occupy indices 8, 9, and 0"
      ]
    },
    {
      "metadata": {
        "id": "bY9E2kJD6mHJ",
        "colab_type": "text"
      },
      "cell_type": "markdown",
      "source": [
        "#6.3 Double-Ended Queues (Deque)\n",
        "support insertion and deletion at both the front and the back of the queue."
      ]
    },
    {
      "metadata": {
        "id": "FZvn0IFL6zkd",
        "colab_type": "text"
      },
      "cell_type": "markdown",
      "source": [
        "##6.3.1 The Deque Abstract Data\n",
        "To provide a symmetrical abstraction, the deque ADT is defined so that deque `D` supports:\n",
        "* `D.add_first(e)`: Add element `e` to the front of deque `D`\n",
        "* `D.add_last(e)`: Add element `e` to the back of deque `D`\n",
        "* `D.deleta_first()`: Remove and return the first element from deque `D`; an error occurs if the deque is empty.\n",
        "* `D.delete_last()`: Remove and return the last element from deque `D`; an error occurs if the deque is empty.\n",
        "\n",
        "Also,\n",
        "* `D.first()`: Return (but do not remove) the first element of deque `D`;\n",
        "an error occurs if the deque is empty.\n",
        "* `D.last()`: Return (but do not remove) the last element of deque `D`;\n",
        "an error occurs if the deque is empty.\n",
        "* `D.is empty()`: Return True if deque `D` does not contain any elements.\n",
        "* `len(D)`: Return the number of elements in deque `D`; in Python,`__len__` ."
      ]
    },
    {
      "metadata": {
        "id": "utvIBkDl-JFg",
        "colab_type": "text"
      },
      "cell_type": "markdown",
      "source": [
        "##6.3.2 Implementing a Deque with a Circular Array\n",
        "basically in the same way as the `ArrayQueue` class above.\n",
        "\n",
        "Whenever\n",
        "we need to know the index of the back of the deque, or the first available slot\n",
        "beyond the back of the deque, we use modular arithmetic for the computation. For example, the implementation of the `last()` method uses the index: \\\\\n",
        "`back = (self._front + self._size - 1) % len(self._data)` \n",
        "\n",
        "One subtlety is that a call to `add_first` method may need to wrap around the\n",
        "beginning of the array, so we rely on modular arithmetic to circularly *decrement*\n",
        "the index, as \\\\\n",
        "`self._front = (self._front - 1) % len(self._data)  # cyclic shift` "
      ]
    }
  ]
}