{
  "nbformat": 4,
  "nbformat_minor": 0,
  "metadata": {
    "colab": {
      "name": "ch4_recursion.ipynb",
      "version": "0.3.2",
      "provenance": [],
      "collapsed_sections": [],
      "include_colab_link": true
    },
    "kernelspec": {
      "name": "python3",
      "display_name": "Python 3"
    }
  },
  "cells": [
    {
      "cell_type": "markdown",
      "metadata": {
        "id": "view-in-github",
        "colab_type": "text"
      },
      "source": [
        "<a href=\"https://colab.research.google.com/github/lblogan14/data_structures_and_algorithms/blob/master/ch4_recursion.ipynb\" target=\"_parent\"><img src=\"https://colab.research.google.com/assets/colab-badge.svg\" alt=\"Open In Colab\"/></a>"
      ]
    },
    {
      "metadata": {
        "id": "QlXbrOOf5zmq",
        "colab_type": "text"
      },
      "cell_type": "markdown",
      "source": [
        "#4.1 Illustrative Examples"
      ]
    },
    {
      "metadata": {
        "id": "OYfKm07hQ2Ob",
        "colab_type": "text"
      },
      "cell_type": "markdown",
      "source": [
        "##4.1.1 The Factorial Function\n",
        "The **factorial function** is important because it is known to equal *the number of ways in which $n$ distinct items can be arranged into a sequence, that is, the number of **permutations** of $n$ items*.\n",
        "\n",
        "###A Recursive Implementation of the Factorial Function"
      ]
    },
    {
      "metadata": {
        "id": "N3k4EbqsReCg",
        "colab_type": "code",
        "colab": {}
      },
      "cell_type": "code",
      "source": [
        "def factorial(n):\n",
        "  if n == 0:\n",
        "    return 1\n",
        "  else:\n",
        "    return n* factorial(n-1)"
      ],
      "execution_count": 0,
      "outputs": []
    },
    {
      "metadata": {
        "id": "4WfnEbqyRnoO",
        "colab_type": "text"
      },
      "cell_type": "markdown",
      "source": [
        "This function does not use any explicit loops. Repetition is provided by the repeated recursive invocations of the function. \n",
        "\n",
        "In Python, each time a function (recursive or otherwise) is called, a structure\n",
        "known as an *activation record or frame*  is created to store information about\n",
        "the progress of that invocation of the function. There is a different activation record for each active call."
      ]
    },
    {
      "metadata": {
        "id": "tMbk7wHYXoyn",
        "colab_type": "text"
      },
      "cell_type": "markdown",
      "source": [
        "##4.1.2 Drawing a English Ruler\n",
        "For each inch, a tick is placed with a numeric label. The length of the tick designating a whole inch is denoted as the **major tick length**. Between the marks for whole inches, the ruler contains a series of **minor ticks**, placed at intervals of 1/2 inch, 1/4 inch, and so on. As the size of the interval decreases by half, the tick length decreases by one.\n",
        "\n",
        "The English ruler pattern is simple example of a **fractal**, a shape that has a self-recursive structure at various levels of magnification.\n",
        "\n",
        "In general, an interval with a central tick length $L\\geq1$ is composed of:\n",
        "* an interval with a central tick length $L-1$\n",
        "* a single tick of length $L$\n",
        "* an interval with a central tick length $L-1$\n",
        "\n",
        "###A Recursive Approach to Ruler Drawing"
      ]
    },
    {
      "metadata": {
        "id": "hoOP6RmqY6-7",
        "colab_type": "code",
        "colab": {}
      },
      "cell_type": "code",
      "source": [
        "def draw_line(tick_length, tick_label=''):\n",
        "  '''Draw one line with given tick length (followed by optional label)'''\n",
        "  line = '-' * tick_length\n",
        "  if tick_label:\n",
        "    line += ' ' + tick_label\n",
        "  print(line)\n",
        "  \n",
        "def draw_interval(center_length):\n",
        "  '''Draw tick interval based upon a central tick length'''\n",
        "  if center_length > 0: # stop when length drops to 0\n",
        "    draw_interval(center_length - 1) # recursively sraw top ticks\n",
        "    draw_line(center_length) # draw center tick\n",
        "    draw_interval(center_length - 1) # recursively draw bottom ticks\n",
        "    \n",
        "def draw_ruler(num_inches, major_length):\n",
        "  '''Draw English ruler with given number of inches, major tick length'''\n",
        "  draw_line(major_length, '0') # draw inch 0 line\n",
        "  for j in range(1, 1 + num_inches):\n",
        "    draw_interval(major_length - 1) # draw interior ticks for inch\n",
        "    draw_line(major_length, str(j)) # draw inch j line and label"
      ],
      "execution_count": 0,
      "outputs": []
    },
    {
      "metadata": {
        "id": "ab4ks3csaNXQ",
        "colab_type": "code",
        "outputId": "e4d6ddd0-a0a1-4edb-819c-e258dd76c9ee",
        "colab": {
          "base_uri": "https://localhost:8080/",
          "height": 381
        }
      },
      "cell_type": "code",
      "source": [
        "draw_ruler(5, 3)"
      ],
      "execution_count": 0,
      "outputs": [
        {
          "output_type": "stream",
          "text": [
            "--- 0\n",
            "-\n",
            "--\n",
            "-\n",
            "--- 1\n",
            "-\n",
            "--\n",
            "-\n",
            "--- 2\n",
            "-\n",
            "--\n",
            "-\n",
            "--- 3\n",
            "-\n",
            "--\n",
            "-\n",
            "--- 4\n",
            "-\n",
            "--\n",
            "-\n",
            "--- 5\n"
          ],
          "name": "stdout"
        }
      ]
    },
    {
      "metadata": {
        "id": "qwu85ijKaWWt",
        "colab_type": "text"
      },
      "cell_type": "markdown",
      "source": [
        "The `draw_interval` function draws the sequence of minor ticks within some interval, based upon the length of the interval's central tick."
      ]
    },
    {
      "metadata": {
        "id": "9nJebW9Fahd0",
        "colab_type": "text"
      },
      "cell_type": "markdown",
      "source": [
        "##4.1.3 Binary Search\n",
        "is used to efficiently locate a target value within a sorted sequence of $n$ elements.\n",
        "\n",
        "**Sequential search algorithm**: When the sequence is *unsorted*, the standard approach to search for a target value is to use a loop to examine every element, until either finding the target or exhausting the data set. This algorithm runs in $O(n)$ time since every element is inspected in the worst case.\n",
        "\n",
        "When the sequence is *sorted* and *indexable*, for any index $j$, all the values stored at indices $0, ..., j-1$ are less than or equal to the value at index $j$, and all the values stored at indices $j+1, ..., n-1$ are greater than or equal to that at index $j$. An element of the sequence is called a *candidate* at the current stage of the search if this item matches the target.\n",
        "\n",
        "**Binary search**: \\\\\n",
        "The algorithm maintains two parameters, `low` and `high`, such that all the candidate entries have index at least `low` and at most `high`. Initially, `low = 0` and `high = n-1`. Then the target value is compared to the median candidate, the item `data[mid]` with index: `mid = ((low + high)/2)`. \\\\\n",
        "If:\n",
        "* the target equals `data[mid]`, the item is found and the search terminates successfully\n",
        "* the `target < data[mid]`, the first half of the sequence is recurred on, that is, on the interval of indices from `low` to `mid - 1`.\n",
        "* the `target > data[mid]`, the second half of the sequence is recurred, that is, on the interval of indices from `mid + 1` to high.\n",
        "\n",
        "An unsuccessful search occurs if `low > high`."
      ]
    },
    {
      "metadata": {
        "id": "i5v-J-SGeCX2",
        "colab_type": "code",
        "colab": {}
      },
      "cell_type": "code",
      "source": [
        "def binary_search(data, target, low, high):\n",
        "  '''\n",
        "  Return True if target is found in indicated portion of a Python list\n",
        "  \n",
        "  The search only considers the portion from data[low] to data[high] inclusive\n",
        "  '''\n",
        "  if low > high:\n",
        "    return False # interval is empty, no match\n",
        "  else:\n",
        "    mid = (low + high) // 2\n",
        "    if target == data[mid]: # found a match\n",
        "      return True\n",
        "    elif target < data[mid]:\n",
        "      # recur on the portion left of the middle\n",
        "      return binary_search(data, target, low, mid - 1)\n",
        "    else:\n",
        "      # recur on the portion right of the middle\n",
        "      return binary_search(data, target, mid + 1, high)"
      ],
      "execution_count": 0,
      "outputs": []
    },
    {
      "metadata": {
        "id": "AVydxlhYgLJ8",
        "colab_type": "text"
      },
      "cell_type": "markdown",
      "source": [
        "#4.2 Analyzing Recursive Algorithms\n",
        "With a recursive algorithm, each operation that is performed is accounted for based upon the particular *activation* of the function that manages the flow of control at the time it is executed. \n",
        "\n",
        "###Computing Factorials\n",
        "To compute `factorial(n)`, there are a total of $n+1$ activations, as the parameter decreases from $n$ in the first call, to $n-1$ in the second call, and so on, until reaching the base case with parameter 0. \\\\\n",
        "Each individual activation of `factorial` executes a constant number of operations. Thus, the overall number of operations for computing `factorial(n)` is $O(n)$, as there are $n+1$ activations, each of which accounts for $O(1)$ operations\n",
        "\n",
        "###Drawing an English Ruler\n",
        "A call to `draw_interval(c)` for $c>0$ spawns two calls to `draw_interval(c-1)` and a single call to `draw_line`. \\\\\n",
        "For $c\\geq0$, a call to `draw_interval(c)` results in precisely $2^c-1$ lines of output.\n",
        "\n",
        "###Performing a Binary Search\n",
        "A constant number of primitive operations are executed at each recursive call of method of a binary search. Thus, the running time is proportional to the number of recursive calls performed. \\\\\n",
        "The binary search algorithm runs in $O(\\log n) time for a sorted sequence with $n$ elements"
      ]
    },
    {
      "metadata": {
        "id": "wE-G-plxideo",
        "colab_type": "text"
      },
      "cell_type": "markdown",
      "source": [
        "#4.3 Recursion Run Amok\n",
        "See how recurison is misued with a poor implementation.\n",
        "\n",
        "###Element Uniqueness Problem"
      ]
    },
    {
      "metadata": {
        "id": "O3apRwd0jA4L",
        "colab_type": "code",
        "colab": {}
      },
      "cell_type": "code",
      "source": [
        "def unique(S, start, stop):\n",
        "  '''Return True if there are no duplicate elements in slice S[start:stop]'''\n",
        "  if stop - start <= 1:\n",
        "    return True # #at most one item\n",
        "  elif not unique(S, start, stop-1):\n",
        "    return False # first part has duplicate\n",
        "  elif not unique(S, start+1, stop):\n",
        "    return False # second part has duplicate\n",
        "  else:\n",
        "    return S[start] != S[stop-1]"
      ],
      "execution_count": 0,
      "outputs": []
    },
    {
      "metadata": {
        "id": "yVdyuSAUjgSM",
        "colab_type": "text"
      },
      "cell_type": "markdown",
      "source": [
        "The nonrecursive part of each call uses $O(1)$ time. The running time of this function with size $n$ may result in two recursive calls on problems of size $n-1$. Those two calls with size $n-1$ could in turn result in four calls (two each) with a range of size $n-2$, and thus eight calls with size $n-3$ and so on. Thus, in the worst case, the total number of function calls is given by the geometric summation $1+2+4+...+2^{n-1}$. \\\\\n",
        "Thus, the running time of this function is $O(n^2)$"
      ]
    },
    {
      "metadata": {
        "id": "lW2BEtiplCyf",
        "colab_type": "text"
      },
      "cell_type": "markdown",
      "source": [
        "###Computing Fibonacci Numbers with inefficient recursion\n",
        "A bad example computes the sequence of Fibonacci numbers by making two recursive calls in each non-base case:"
      ]
    },
    {
      "metadata": {
        "id": "K3J55Y3xlQ-c",
        "colab_type": "code",
        "colab": {}
      },
      "cell_type": "code",
      "source": [
        "def bad_fibonacci(n):\n",
        "  '''Return the nth Fibonacci number'''\n",
        "  if n <= 1:\n",
        "    return n\n",
        "  else:\n",
        "    return bad_fibonacci(n-2) + bad_fibonacci(n-1)"
      ],
      "execution_count": 0,
      "outputs": []
    },
    {
      "metadata": {
        "id": "yL9fxjzhlefm",
        "colab_type": "text"
      },
      "cell_type": "markdown",
      "source": [
        "This requires an exponential number of calls to the function."
      ]
    },
    {
      "metadata": {
        "id": "CbUwnal6lnup",
        "colab_type": "text"
      },
      "cell_type": "markdown",
      "source": [
        "###Computing Fibonacci Numbers with Efficient Recursion\n",
        "A more efficient way to use a recursion which each invocation makes only one recursive call is to redefine the expectations of the function. \\\\\n",
        "Rather than having the function return a single value, which is the $n^{th}$ Fibonacci number, a recursive function is defined to return a pair of consecutive Fibonacci numbers $(F_n, F_{n-1})$, using the convention $F_{-1}=0$"
      ]
    },
    {
      "metadata": {
        "id": "ap0WbYGtnBIh",
        "colab_type": "code",
        "colab": {}
      },
      "cell_type": "code",
      "source": [
        "def good_fibonacci(n):\n",
        "  '''Return pair of Fibonacci number, F(n) and F(n-1)'''\n",
        "  if n<= 1:\n",
        "    return (n, 0)\n",
        "  else:\n",
        "    (a, b) = good_fibonacci(n-1)\n",
        "    return (a+b, a)"
      ],
      "execution_count": 0,
      "outputs": []
    },
    {
      "metadata": {
        "id": "HlSK36BknN9z",
        "colab_type": "text"
      },
      "cell_type": "markdown",
      "source": [
        "The `bad_fibonacci` function uses exponential time. The `good_fibonacci` function takes $O(n)$ time: each recursive call to `good_fibonacci` decreases the argument $n$ by 1; a recursion trace includes a series of $n$ function calls. Because the nonrecursive work for each call uses constant time, the overall computation executes in $O(n)$ time."
      ]
    },
    {
      "metadata": {
        "id": "Nqbq4-ufnspC",
        "colab_type": "text"
      },
      "cell_type": "markdown",
      "source": [
        "#4.4 Further Examples of Recursion"
      ]
    },
    {
      "metadata": {
        "id": "8bjKS937nvZa",
        "colab_type": "text"
      },
      "cell_type": "markdown",
      "source": [
        "##4.4.1 Linear Recursion\n",
        "is introduced if a recursive function is designed so that each invoation of the body makes at most one new recursive call. \\\\\n",
        "Examples: `good_fibonacci` function, `factorial` function, and the binary search algorithm\n",
        "\n",
        "The definition of linear recursion is that any recursion trace will appear as a single sequence of calls. The *linear recursion* relfects the structure of the recursion trace, not the asymptotic analysis of the running time: the binary search runs in $O(\\log n)$ time.\n",
        "\n",
        "###Summing the elements of a sequence recursively"
      ]
    },
    {
      "metadata": {
        "id": "Mq_IgagdosnI",
        "colab_type": "code",
        "colab": {}
      },
      "cell_type": "code",
      "source": [
        "def linear_sum(S, n):\n",
        "  '''Return the sum of the first n numbers of sequence S'''\n",
        "  if n == 0:\n",
        "    return 0\n",
        "  else:\n",
        "    return linear_sum(S, n-1) + S[n-1]"
      ],
      "execution_count": 0,
      "outputs": []
    },
    {
      "metadata": {
        "id": "mAzTGapao5HL",
        "colab_type": "text"
      },
      "cell_type": "markdown",
      "source": [
        "For an input of size $n$, the `linear_sum` algorithm makes $n+1$ function calls, thus it will take $O(n)$ time because it spends a constant amount of time performing the nonrecursive part of each call."
      ]
    },
    {
      "metadata": {
        "id": "ocViJAk8pIU2",
        "colab_type": "text"
      },
      "cell_type": "markdown",
      "source": [
        "###Reversing a sequence with recursion"
      ]
    },
    {
      "metadata": {
        "id": "V0KsC2ippcpp",
        "colab_type": "code",
        "colab": {}
      },
      "cell_type": "code",
      "source": [
        "def reverse(S, start, stop):\n",
        "  '''Reverse elements in implicit slice S[start:stop]'''\n",
        "  if start < stop-1: # if at least 2 elements\n",
        "    S[start], S[stop-1] = S[stop-1], S[start] # swap first and last\n",
        "    reverse(S, start+1, stop-1) # recur on rest"
      ],
      "execution_count": 0,
      "outputs": []
    },
    {
      "metadata": {
        "id": "ZB8N_RKup6Zz",
        "colab_type": "text"
      },
      "cell_type": "markdown",
      "source": [
        "This function is guaranteed to terminate after a total of $1+\\lfloor\\frac{n}{2}\\rfloor$ recursive calls. Since each call involves a constant amount of work, the entire process runs in $O(n)$ time."
      ]
    },
    {
      "metadata": {
        "id": "ntBjM219qYb0",
        "colab_type": "text"
      },
      "cell_type": "markdown",
      "source": [
        "###Recursive Algorithms for Computnig Powers\n",
        "Raising a number $x$ to an arbitrary nonnegative interger $n$. $\\rightarrow power(x,n)=x^n$"
      ]
    },
    {
      "metadata": {
        "id": "rX898IDGqr6d",
        "colab_type": "code",
        "colab": {}
      },
      "cell_type": "code",
      "source": [
        "def power(x, n):\n",
        "  '''Compute the value x**n for integer n'''\n",
        "  if n == 0:\n",
        "    return 1\n",
        "  else:\n",
        "    return x * power(x, n-1)"
      ],
      "execution_count": 0,
      "outputs": []
    },
    {
      "metadata": {
        "id": "sXnpanSYq7Ex",
        "colab_type": "text"
      },
      "cell_type": "markdown",
      "source": [
        "This recursive call `power(x, n)` runs in $O(n)$ time."
      ]
    },
    {
      "metadata": {
        "id": "gLVCKlhKrGGO",
        "colab_type": "text"
      },
      "cell_type": "markdown",
      "source": [
        "A much faster way to compute the power function is to employ a squaring technique: \\\\\n",
        "Let $k=\\lfloor\\frac{n}{2}\\rfloor$ denote the floor of the division. Consider $(x^k)^2$. When $n$ is even, $\\lfloor\\frac{n}{2}\\rfloor=\\frac{n}{2}$ and thus $(x^k)^2=(x^{\\frac{n}{2}})^2=x^n$. When $n$ is odd, $\\lfloor\\frac{n}{2}\\rfloor=\\frac{n-1}{2}$ and $(x^k)^2=x^{n-1}$, and thus $x^n=x\\cdot(x^k)^2$ \\\\\n",
        "This analysis gives the following recursive definition:\n",
        "$$power(x,n)=\\left\\{\n",
        "        \\begin{array}{ll}\n",
        "            1 & \\quad if\\, n=0 \\\\\n",
        "            x\\cdot(power(x, \\lfloor\\frac{n}{2}\\rfloor))^2 & \\quad if\\,n>0\\,is\\,odd \\\\\n",
        "            (power(x, \\lfloor\\frac{n}{2}\\rfloor))^2 & \\quad if\\, n>0\\, is\\,even\n",
        "        \\end{array}\n",
        "    \\right.\n",
        "    $$"
      ]
    },
    {
      "metadata": {
        "id": "FEW4uI5js6P2",
        "colab_type": "code",
        "colab": {}
      },
      "cell_type": "code",
      "source": [
        "def power(x, n):\n",
        "  '''Compute the value x**n for integer n'''\n",
        "  if n == 0:\n",
        "    return 1\n",
        "  else:\n",
        "    partial = power(x, n//2) # rely on truncated division\n",
        "    result = partial * partial\n",
        "    if n % 2 == 1: # if n is odd, include extra factor of x\n",
        "      result *= x\n",
        "    return result"
      ],
      "execution_count": 0,
      "outputs": []
    },
    {
      "metadata": {
        "id": "UAj_7OImtY9F",
        "colab_type": "text"
      },
      "cell_type": "markdown",
      "source": [
        "The exponent in each recursive call of function `power(x,n)` is at most half of the preceding exponent. The number of times that $n$ is divided in half before getting to one or less is $O(\\log n)$. Thus, this new `power` function results in $O(\\log n)$ recursive calls. Each individual activation of the function uses $O(1)$ operations (excluding the recursive calls), and so the total number of operations for computing `power(x,n)` is $O(\\log n)$, which is a significant improvement over the original $O(n)$-time algorithm."
      ]
    },
    {
      "metadata": {
        "id": "HlrUErZIuBHn",
        "colab_type": "text"
      },
      "cell_type": "markdown",
      "source": [
        "##4.4.2 Binary Recursion\n",
        "is introduced when a funtion makes two recursive calls.\n",
        "\n",
        "Revisit the summing $n$ elements of a sequence $S$ of numbers: \\\\\n",
        "With two or more elements, the computation task is divided to recursively compute the sum of the first half, and the sum of the second half, and then add these sums together."
      ]
    },
    {
      "metadata": {
        "id": "p36k6qxMveZL",
        "colab_type": "code",
        "colab": {}
      },
      "cell_type": "code",
      "source": [
        "def binary_sum(S, start, stop):\n",
        "  '''Return the sum of the numbers in implicit slice S[start:stop]'''\n",
        "  if start >= stop: # zero elements in slice\n",
        "    return 0\n",
        "  elif start == stop-1: # one element in slice\n",
        "    return S[start]\n",
        "  else: # two or more elements in slice\n",
        "    mid = (start + stop) // 2\n",
        "    return binary_sum(S, start, mid) + binary_sum(s, mid, stop)"
      ],
      "execution_count": 0,
      "outputs": []
    },
    {
      "metadata": {
        "id": "ME-X1emzv5G2",
        "colab_type": "text"
      },
      "cell_type": "markdown",
      "source": [
        "The `binary_sum` function uses $O(\\log n)$ space, which is a big improvement over the original $O(n)$ space used in the `linear_sum` function, but the running time of `binary_sum` is $O(n)$, since there are $wn-1$ function calls and each requires constant time."
      ]
    },
    {
      "metadata": {
        "id": "ahngcp1owhjo",
        "colab_type": "text"
      },
      "cell_type": "markdown",
      "source": [
        "##4.4.3 Multiple Recursion\n",
        "is a process in which a function may make mroe than two recursive calls.\n",
        "\n",
        "Multiple recursion is applied when solving a combinatorial puzzle problem. For example, *summation puzzle*: \\\\\n",
        "pot + pan = bib \\\\\n",
        "dog + cat = pig \\\\\n",
        "boy + girl = baby \\\\"
      ]
    },
    {
      "metadata": {
        "id": "Y2dtxWcWxHOZ",
        "colab_type": "text"
      },
      "cell_type": "markdown",
      "source": [
        "#4.6 Eliminating Tail Recursion\n",
        "**Tail recursion**: a recursive call that is made from one context is the very last operation in that context, with the return value of the recursive call immediately returned by the enclosing recursion. Example: `binary_search` function and `reverse` function\n",
        "\n",
        "Any tail recursion can be reimplemented nonrecursively by enclosing the body\n",
        "in a loop for repetition, and replacing a recursive call with new parameters by a\n",
        "reassignment of the existing parameters to those values. \\\\\n",
        "Example: \\\\\n",
        "###`binary_search` reimplementation:"
      ]
    },
    {
      "metadata": {
        "id": "fxPb3SxPm7Y0",
        "colab_type": "code",
        "colab": {}
      },
      "cell_type": "code",
      "source": [
        "def binary_search_iterative(data, target):\n",
        "  '''Return True if target is found in the given Python list'''\n",
        "  low = 0\n",
        "  high = len(data) - 1\n",
        "  while low <= high:\n",
        "    mid = (low + high)//2\n",
        "    if target == data[mid]: #found a match\n",
        "      return True\n",
        "    elif target < data[mid]:\n",
        "      high = mid - 1 # only consider values left of mid\n",
        "    else:\n",
        "      low = mid + 1 # only consider values right of mid\n",
        "  return False # loop ended without success"
      ],
      "execution_count": 0,
      "outputs": []
    },
    {
      "metadata": {
        "id": "dfHThEbOotiM",
        "colab_type": "text"
      },
      "cell_type": "markdown",
      "source": [
        "###`reverse` implementation"
      ]
    },
    {
      "metadata": {
        "id": "tVmElG9Lowh2",
        "colab_type": "code",
        "colab": {}
      },
      "cell_type": "code",
      "source": [
        "def reverse_iterative(S):\n",
        "  '''Reverse elements in sequence S.'''\n",
        "  start, stop = 0, len(s)\n",
        "  while start < stop-1:\n",
        "    S[start], S[stop-1] = S[stop-1], S[start] # swap first and last\n",
        "    start, stop = start+1, stop-1 # narrow the range"
      ],
      "execution_count": 0,
      "outputs": []
    }
  ]
}