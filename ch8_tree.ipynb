{
  "nbformat": 4,
  "nbformat_minor": 0,
  "metadata": {
    "colab": {
      "name": "ch8_tree.ipynb",
      "version": "0.3.2",
      "provenance": [],
      "collapsed_sections": [],
      "include_colab_link": true
    },
    "kernelspec": {
      "name": "python3",
      "display_name": "Python 3"
    }
  },
  "cells": [
    {
      "cell_type": "markdown",
      "metadata": {
        "id": "view-in-github",
        "colab_type": "text"
      },
      "source": [
        "<a href=\"https://colab.research.google.com/github/lblogan14/data_structures_and_algorithms/blob/master/ch8_tree.ipynb\" target=\"_parent\"><img src=\"https://colab.research.google.com/assets/colab-badge.svg\" alt=\"Open In Colab\"/></a>"
      ]
    },
    {
      "metadata": {
        "id": "boZm4du4iiAu",
        "colab_type": "text"
      },
      "cell_type": "markdown",
      "source": [
        "#8.1 General Trees\n",
        "Array-based lists or linked lists are linear data structures; trees are nonlinear data structures. \\\\\n",
        "Linear relationship is \"before\" and \"after\" relationship between objects in sequences; nonlinear relationship is more complicated. \\\\\n",
        "The relationships in a tree are **hierarchical**, with some objects being \"parent\" and some \"child\" others."
      ]
    },
    {
      "metadata": {
        "id": "yjXlIsrYjaKO",
        "colab_type": "text"
      },
      "cell_type": "markdown",
      "source": [
        "##8.1.1 Tree Definitions and Properties\n",
        "A **tree** is an abstract data type that stores elements hierachically. With the exception of the top element, each element in a tree has a *parent* element and zero or more *children* elements. The top element is called the *root* of the tree.\n",
        "\n",
        "###Formal Tree Definition\n",
        "A **tree** $T$ is defined as a set of *nodes* storing elements such that the nodes have a *parent-child* relationship that satisfies the following properties:\n",
        "* If $T$ is nonempty, it has a special node, called the *root* of $T$, that has no parent.\n",
        "* Each node $v$ of $T$ different from the root has a unique *parent* node $w$; every node with parent $w$ is a *child* of $w$.\n",
        "\n",
        "###Node Relationships\n",
        "Two nodes that are children of the same parent are *siblings*. A node $v$ is *external*\n",
        "if $v$ has no children. A node $v$ is *internal* if it has one or more children. External\n",
        "nodes are also known as *leaves*.\n",
        "\n",
        "A node $u$ is an *ancestor* of a node $v$ if $u$ = $v$ or $u$ is an ancestor of the parent\n",
        "of $v$. Conversely, we say that a node $v$ is a *descendant* of a node $u$ if $u$ is an ancestor\n",
        "of $v$.\n",
        "\n",
        "The *subtree* of $T$ *rooted* at a node $v$ is the tree consisting of\n",
        "all the descendants of $v$ in $T$.\n",
        "\n",
        "###Edges and Paths in Trees\n",
        "An *edge* of tree $T$ is a pair of nodes $(u,v)$ such that $u$ is the parent of $v$, or vice\n",
        "versa. A *path* of $T$ is a sequence of nodes such that any two consecutive nodes in\n",
        "the sequence form an edge.\n",
        "\n",
        "###Ordered Trees\n",
        "A tree is *ordered* if there is a meaningful linear order among the children of each\n",
        "node; that is, we purposefully identify the children of a node as being the first,\n",
        "second, third, and so on. \\\\\n",
        "Such an order is usually visualized by arranging siblings\n",
        "left to right, according to their order."
      ]
    },
    {
      "metadata": {
        "id": "B0q7GCj6mZOA",
        "colab_type": "text"
      },
      "cell_type": "markdown",
      "source": [
        "##8.1.2 Tree Abstract Data Type\n",
        "A tree ADT is defined using the concept of a *position* as an abstraction for a node of a tree. An element is stored at each position, and positions satisfy parent-child relationships that define the tree structure. \\\\\n",
        "A position object for a tree supports the method:\n",
        "* `p.element()`: Return the element stored at position `p`\n",
        "\n",
        "Tree ADT also supports the following accessor methods:\n",
        "* `T.root()`: Return the position of the root of tree `T`,\n",
        "or `None` if `T` is empty.\n",
        "* `T.is_root(p)`: Return `True` if position `p` is the root of Tree `T`.\n",
        "* `T.parent(p)`: Return the position of the parent of position `p`,\n",
        "or `None` if `p` is the root of `T`.\n",
        "* `T.num_children(p)`: Return the number of children of position `p`.\n",
        "* `T.children(p)`: Generate an iteration of the children of position `p`.\n",
        "* `T.is_leaf(p)`: Return `True` if position `p` does not have any children.\n",
        "* `len(T)`: Return the number of positions (and hence elements) that\n",
        "are contained in tree `T`.\n",
        "* `T.is_empty()`: Return `True` if tree `T` does not contain any positions.\n",
        "* `T.positions()`: Generate an iteration of all *positions* of tree `T`.\n",
        "* `iter(T)`: Generate an iteration of all *elements* stored within tree `T`.\n",
        "\n",
        "If a tree `T` is ordered, then `T.children(p)` reports the children of `p` in the natrual order. If `p` is a leaf, then `T.children(p)` generates an empty iteration. \\\\\n",
        "If tree `T` is empty, both `T.positions()` and `iter(T)` generate empty iterations.\n",
        "\n",
        "##A Tree Abstract Base Class in Python\n",
        "A `Tree` class is defined to be served as an abstract base class corresponding to the tree ADT. The `Tree` class provides a definition of a nested `Position` class (which is also abstract),\n",
        "and declarations of many of the accessor methods included in the tree ADT.\n",
        "\n",
        "The `Tree` class does not define any internal representation for storing\n",
        "a tree, and five of the methods given in that code fragment remain *abstract*\n",
        "(`root`, `parent`, `num_children`, `children`, and `len` ); each of these methods raises a\n",
        "`NotImplementedError`.\n",
        "\n",
        "With the `Tree` class being abstract, there is no reason to create a direct instance of it, nor would such an instance be useful. The class exists to serve as a base for inheritance, and users will create instances of concrete subclasses."
      ]
    },
    {
      "metadata": {
        "id": "fQbotGpQqzNp",
        "colab_type": "code",
        "colab": {}
      },
      "cell_type": "code",
      "source": [
        "class Tree:\n",
        "  '''Abstract base class representing a tree structure'''\n",
        "  \n",
        "  #--------------------------nested Position class----------------------\n",
        "  class Position:\n",
        "    '''An abstraction representing the location of a single element'''\n",
        "    \n",
        "    def element(self):\n",
        "      '''Return the element stored at this Position'''\n",
        "      raise NotImplementedError('must be implemented by subclass')\n",
        "      \n",
        "    def __eq__(self, other):\n",
        "      '''Return True if other Position represents the same location'''\n",
        "      raise NotImplementedError('must be implemented by subclass')\n",
        "      \n",
        "    def __ne__(self, other):\n",
        "      '''Return True if other does not represent the same location'''\n",
        "      return not (self == other)  # opposite of __eq__\n",
        "    \n",
        "  #------------abstract methods that concrete subclass must support-----\n",
        "  def root(self):\n",
        "    '''Return Position representing the tree's root (or None if empty)'''\n",
        "    raise NotImplementedError('must be implemented by subclass')\n",
        "    \n",
        "  def parent(self, p):\n",
        "    '''Return Position representing p s parent (or None if p is root).'''\n",
        "    raise NotImplementedError( must be implemented by subclass )\n",
        "\n",
        "  def num children(self, p):\n",
        "    '''Return the number of children that Position p has'''\n",
        "    raise NotImplementedError( must be implemented by subclass )\n",
        "\n",
        "  def children(self, p):\n",
        "    '''Generate an iteration of Positions representing p s children'''\n",
        "    raise NotImplementedError( must be implemented by subclass )\n",
        "\n",
        "  def len (self):\n",
        "    '''Return the total number of elements in the tree'''\n",
        "    raise NotImplementedError( must be implemented by subclass )\n",
        "    \n",
        "  #-----------concrete methods implemented in this class----------------\n",
        "  def is_root(self, p):\n",
        "    '''Return True if Position p represents the root of the tree'''\n",
        "    return self.root() == p\n",
        "  \n",
        "  def is_leaf(self, p):\n",
        "    '''Return True if Position p does not have any children'''\n",
        "    return self.num_children(p) == 0\n",
        "  \n",
        "  def is_empty(self):\n",
        "    '''Return True if the tree is empty'''\n",
        "    return len(self) == 0"
      ],
      "execution_count": 0,
      "outputs": []
    },
    {
      "metadata": {
        "id": "_ABdJ-73snKN",
        "colab_type": "text"
      },
      "cell_type": "markdown",
      "source": [
        "##8.1.3 Computing Depth and Height\n",
        "Let $p$ be the position of a node of a tree $T$. The **depth** of $p$ is the number of ancestors of $p$, excluding $p$ itself. The depth of $p$ can also be recursively defined as:\n",
        "* If $p$ is the root, then the depth of $p$ is 0\n",
        "* Otherwise, the depth of $p$ is one plus the depth of the parent of $p$"
      ]
    },
    {
      "metadata": {
        "id": "H-DH39j_tHdS",
        "colab_type": "code",
        "colab": {}
      },
      "cell_type": "code",
      "source": [
        "def depth(self, p):\n",
        "  '''Return the number of levels separating Position p from the root'''\n",
        "  if self.is_root(p):\n",
        "    return 0\n",
        "  else:\n",
        "    return 1 + self.depth(self.parent(p))"
      ],
      "execution_count": 0,
      "outputs": []
    },
    {
      "metadata": {
        "id": "pXwNDXZctRLV",
        "colab_type": "text"
      },
      "cell_type": "markdown",
      "source": [
        "The **height** of a position $p$ in a tree $T$ is also defined as:\n",
        "* If $p$ is a leaf, then the height of $p$ is 0\n",
        "* Otherwise, the height of $p$ is one more than the maximum of the heights of $p$'s children.\n",
        "\n",
        "The **height** of a nonempty tree $T$ is the height of the root of $T$\n",
        "\n",
        "*The height of an nonempty tree $T$ is equal to the maximum of the depths of its leaf positions."
      ]
    },
    {
      "metadata": {
        "id": "Ow_Gg1pqt8my",
        "colab_type": "code",
        "colab": {}
      },
      "cell_type": "code",
      "source": [
        "def _height1(self): # works, but O(n^2) worst-case time\n",
        "  '''Return the height of the tree'''\n",
        "  return max(self.depth(p) for p in self.positions() if self.is_lead(p))"
      ],
      "execution_count": 0,
      "outputs": []
    },
    {
      "metadata": {
        "id": "WVzPsA17uNiD",
        "colab_type": "text"
      },
      "cell_type": "markdown",
      "source": [
        "To compute the height of a tree more efficiently, rely on the original recursive definition. Parameterize a function based on a position within the tree, and calculate the height of the subtree rooted at that position."
      ]
    },
    {
      "metadata": {
        "id": "wXtyOCd1uoFY",
        "colab_type": "code",
        "colab": {}
      },
      "cell_type": "code",
      "source": [
        "def _height2(self, p): # time is linear in size of subtree\n",
        "  '''Return the height of the subtree rooted at Position p'''\n",
        "  if self.is_leaf(p):\n",
        "    return 0\n",
        "  else:\n",
        "    return 1 + max(self._height2(c) for c in self.children(p))"
      ],
      "execution_count": 0,
      "outputs": []
    },
    {
      "metadata": {
        "id": "S16Vuuvbu21c",
        "colab_type": "text"
      },
      "cell_type": "markdown",
      "source": [
        "Why is it more efficient?\n",
        "\n",
        "The algorithm is recursive, and it progresses in a top-down fashion. If\n",
        "the method is initially called on the root of `T`, it will eventually be called once for\n",
        "each position of `T`. This is because the root eventually invokes the recursion on\n",
        "each of its children, which in turn invokes the recursion on each of their children,\n",
        "and so on.\n",
        "\n",
        "*Let $T$ be a tree with $n$ positions, and let $c_p$ denote the number of children of a position $p$ of $T$. Then, summing over the positions of $T$, $\\sum_p c_p=n-1$.*"
      ]
    },
    {
      "metadata": {
        "id": "EhGVbfKwvgkP",
        "colab_type": "text"
      },
      "cell_type": "markdown",
      "source": [
        "####Complete `Tree` base class implementation"
      ]
    },
    {
      "metadata": {
        "id": "D9vUBQqavk5E",
        "colab_type": "code",
        "colab": {}
      },
      "cell_type": "code",
      "source": [
        "class Tree:\n",
        "  '''Abstract base class representing a tree structure'''\n",
        "  \n",
        "  #--------------------------nested Position class----------------------\n",
        "  class Position:\n",
        "    '''An abstraction representing the location of a single element'''\n",
        "    \n",
        "    def element(self):\n",
        "      '''Return the element stored at this Position'''\n",
        "      raise NotImplementedError('must be implemented by subclass')\n",
        "      \n",
        "    def __eq__(self, other):\n",
        "      '''Return True if other Position represents the same location'''\n",
        "      raise NotImplementedError('must be implemented by subclass')\n",
        "      \n",
        "    def __ne__(self, other):\n",
        "      '''Return True if other does not represent the same location'''\n",
        "      return not (self == other)  # opposite of __eq__\n",
        "    \n",
        "  #------------abstract methods that concrete subclass must support-----\n",
        "  def root(self):\n",
        "    '''Return Position representing the tree's root (or None if empty)'''\n",
        "    raise NotImplementedError('must be implemented by subclass')\n",
        "    \n",
        "  def parent(self, p):\n",
        "    '''Return Position representing p s parent (or None if p is root).'''\n",
        "    raise NotImplementedError( must be implemented by subclass )\n",
        "\n",
        "  def num children(self, p):\n",
        "    '''Return the number of children that Position p has'''\n",
        "    raise NotImplementedError( must be implemented by subclass )\n",
        "\n",
        "  def children(self, p):\n",
        "    '''Generate an iteration of Positions representing p s children'''\n",
        "    raise NotImplementedError( must be implemented by subclass )\n",
        "\n",
        "  def len (self):\n",
        "    '''Return the total number of elements in the tree'''\n",
        "    raise NotImplementedError( must be implemented by subclass )\n",
        "    \n",
        "  #-----------concrete methods implemented in this class----------------\n",
        "  def is_root(self, p):\n",
        "    '''Return True if Position p represents the root of the tree'''\n",
        "    return self.root() == p\n",
        "  \n",
        "  def is_leaf(self, p):\n",
        "    '''Return True if Position p does not have any children'''\n",
        "    return self.num_children(p) == 0\n",
        "  \n",
        "  def is_empty(self):\n",
        "    '''Return True if the tree is empty'''\n",
        "    return len(self) == 0\n",
        "  \n",
        "  def depth(self, p):\n",
        "  '''Return the number of levels separating Position p from the root'''\n",
        "    if self.is_root(p):\n",
        "      return 0\n",
        "    else:\n",
        "      return 1 + self.depth(self.parent(p))\n",
        "    \n",
        "  def _height1(self): # works, but O(n^2) worst-case time\n",
        "    '''Return the height of the tree'''\n",
        "    return max(self.depth(p) for p in self.positions() if self.is_lead(p))\n",
        "  \n",
        "  def _height2(self, p): # time is linear in size of subtree\n",
        "    '''Return the height of the subtree rooted at Position p'''\n",
        "    if self.is_leaf(p):\n",
        "      return 0\n",
        "    else:\n",
        "      return 1 + max(self._height2(c) for c in self.children(p))\n",
        "  \n",
        "  def height(self, p=None):\n",
        "    '''Return the height of the subtree rooted at Position p.\n",
        "    \n",
        "    If p is None, return the height of the entire tree\n",
        "    '''\n",
        "    if p is None:\n",
        "      p = self.root()\n",
        "    return self._height2(p) # start _height2 recursion"
      ],
      "execution_count": 0,
      "outputs": []
    },
    {
      "metadata": {
        "id": "6pPNbz1PwJJD",
        "colab_type": "text"
      },
      "cell_type": "markdown",
      "source": [
        "#8.2 Binary Trees\n",
        "A **binary tree** is an ordered tree with the following properties:\n",
        "* Every node has at most two children\n",
        "* Each child node is labeled as being either a *left child* or a *right child*\n",
        "* A left child precedes a right child in the order of children of a node\n",
        "\n",
        "The subtree rooted at a left or right child of an internal node $v$ is called a *left subtree*\n",
        "or *right subtree*, respectively, of $v$. A binary tree is *proper* if each node has either\n",
        "zero or two children. Some people also refer to such trees as being *full binary\n",
        "trees*. Thus, in a proper binary tree, every internal node has exactly two children.\n",
        "A binary tree that is not proper is improper.\n",
        "\n",
        "###Recursive Binary Tree Definition\n",
        "A binary tree is either empty or consists of:\n",
        "* A node $r$, called the root of $T$, that stores an element\n",
        "* A binary tree (possibly empty), called the left subtree of $T$\n",
        "* A binary tree (possibly empty), called the right subtree of $T$"
      ]
    },
    {
      "metadata": {
        "id": "Ke-FbpppxW1p",
        "colab_type": "text"
      },
      "cell_type": "markdown",
      "source": [
        "##8.2.1 The Binary Tree Abstract Data Type\n",
        "a binary tree supports:\n",
        "* `T.left(p)`: Return the position that represents the left child of `p`,\n",
        "or `None` if `p` has no left child.\n",
        "* `T.right(p)`: Return the position that represents the right child of `p`,\n",
        "or `None` if `p` has no right child.\n",
        "* `T.sibling(p)`: Return the position that represents the sibling of `p`,\n",
        "or `None` if `p` has no sibling.\n",
        "\n",
        "###`BinaryTree` Abstract Base Class in Python\n",
        "The `BinaryTree` class is defined by relying on inheritance of the existing `Tree` class. Still, the `BinaryTree` class remains *abstract."
      ]
    },
    {
      "metadata": {
        "id": "3CAyOhCYyWc5",
        "colab_type": "code",
        "colab": {}
      },
      "cell_type": "code",
      "source": [
        "class BinaryTree(Tree):\n",
        "  '''Abstract base class representing a binary tree structure'''\n",
        "  \n",
        "  #---------------------additional abstract methods----------------------\n",
        "  def left(self, p):\n",
        "    '''Return a Position representing p's left child \n",
        "    \n",
        "    Return None if p does not have a left child\n",
        "    '''\n",
        "    raise NotImplementedError( must be implemented by subclass )\n",
        "\n",
        "  def right(self, p):\n",
        "    '''Return a Position representing p s right child.\n",
        "\n",
        "    Return None if p does not have a right child.\n",
        "    '''\n",
        "    raise NotImplementedError( must be implemented by subclass )\n",
        "    \n",
        "  #------------concrete methods implemented in this class---------------\n",
        "  def sibling(self, p):\n",
        "    '''Return a Position representing p's sibling (or None if no sibling)'''\n",
        "    parent = self.parent(p)\n",
        "    if parent is None: # p must be the root\n",
        "      return None # root has no sibling\n",
        "    else:\n",
        "      if p == self.left(parent):\n",
        "        return self.right(parent) # possibly None\n",
        "      else:\n",
        "        return self.left(parent) # possibly None\n",
        "      \n",
        "  def children(self, p):\n",
        "    '''Generate an iteration of Positions representing p's children '''\n",
        "    if self.left(p) is not None:\n",
        "      yield self.left(p)\n",
        "    if self.right(p) is not None:\n",
        "      yield self.right(p)"
      ],
      "execution_count": 0,
      "outputs": []
    },
    {
      "metadata": {
        "id": "E8U-dFSLzjZ7",
        "colab_type": "text"
      },
      "cell_type": "markdown",
      "source": [
        "##8.2.2 Properties of Binary Trees\n",
        "The set of all nodes of a tree $T$ at the same depth $d$ is denoted as **level** $d$ of $T$. Level $d$ has at most $2^d$ nodes.\n",
        "\n",
        "Let $T$ be a nonempty binary tree, and let $n, n_E, n_I $ and $h$ denote\n",
        "the number of nodes, number of external nodes, number of internal nodes, and\n",
        "height of $T$, respectively. Then $T$ has the following properties:\n",
        "1. $h+1 ≤ n ≤ 2^{h+1}−1$\n",
        "2. $1 ≤ n_E ≤ 2^h$\n",
        "3. $h ≤ n_I ≤ 2^h−1$\n",
        "4. $\\log(n+1)−1 ≤ h ≤ n−1$ \n",
        "\n",
        "Also, if $T$ is proper, then $T$ has the following properties:\n",
        "1. $2h+1 ≤ n ≤ 2^{h+1}−1$\n",
        "2. $h+1 ≤ n_E ≤ 2^h$\n",
        "3. $h ≤ n_I ≤ 2^h−1$\n",
        "4. $\\log(n+1)−1 ≤ h ≤ (n−1)/2$\n",
        "\n",
        "*In a nonempty proper binary tree $T$, with $n_E$ external nodes and $n_I$ internal nodes, $n_E=n_I+1$"
      ]
    },
    {
      "metadata": {
        "id": "M0-b0M9q25fS",
        "colab_type": "text"
      },
      "cell_type": "markdown",
      "source": [
        "#8.3 Implementing Trees"
      ]
    },
    {
      "metadata": {
        "id": "ydF2CVzy3IkD",
        "colab_type": "text"
      },
      "cell_type": "markdown",
      "source": [
        "##8.3.1 Linked Structure for Binary Trees\n",
        "A **linked structure** is used to realize a binary tree $T$ with a node that maintains references to the element stored at a position $p$ and to the nodes associated with the children and parent of $p$. If $p$ is the root of $T$, then the `parent` field of $p$ is `None`. Likewise, if $p$ does not have a left child\n",
        "(respectively, right child), the associated field is `None`. The tree itself maintains an\n",
        "instance variable storing a reference to the root node (if any), and a variable, called\n",
        "`size`, that represents the overall number of nodes of T.\n",
        "\n",
        "The linked binary trees support the following update methods:\n",
        "* `T.add_root(e)`: Create a root for an empty tree, storing `e` as the element,\n",
        "and return the position of that root; an error occurs if the\n",
        "tree is not empty.\n",
        "* `T.add_left(p, e)`: Create a new node storing element `e`, link the node as the\n",
        "left child of position `p`, and return the resulting position;\n",
        "an error occurs if `p` already has a left child.\n",
        "* `T.add_right(p, e)`: Create a new node storing element `e`, link the node as the\n",
        "right child of position `p`, and return the resulting position;\n",
        "an error occurs if `p` already has a right child.\n",
        "* `T.replace(p, e)`: Replace the element stored at position `p` with element `e`,\n",
        "and return the previously stored element.\n",
        "* `T.delete(p)`: Remove the node at position `p`, replacing it with its child,\n",
        "if any, and return the element that had been stored at `p`;\n",
        "an error occurs if `p` has two children.\n",
        "* `T.attach(p, T1, T2)`: Attach the internal structure of trees `T1` and `T2`, respectively,\n",
        "as the left and right subtrees of leaf position `p` of\n",
        "`T`, and reset `T1` and `T2` to empty trees; an error condition\n",
        "occurs if `p` is not a leaf.\n",
        "\n",
        "###Implementation of `LinkedBinaryTree` class"
      ]
    },
    {
      "metadata": {
        "id": "rNnfIzSb5Nug",
        "colab_type": "code",
        "colab": {}
      },
      "cell_type": "code",
      "source": [
        "class LinkedBinaryTree(BinaryTree):\n",
        "  '''Linked representation of a binary tree structure'''\n",
        "  \n",
        "  class _Node: # Lightweight, nonpublic class for storing a node\n",
        "    __slots__ = '_element', '_parent', '_left', '_right'\n",
        "    \n",
        "    def __init__(self, element, parent=None, left=None, right=None):\n",
        "      self._element = element\n",
        "      self._parent = parent\n",
        "      self._left = left\n",
        "      self._right = right\n",
        "      \n",
        "  class Position(BinaryTree.Position):\n",
        "    '''An abstraction representing the location of a single element'''\n",
        "    \n",
        "    def __init__(self, container, node):\n",
        "      '''Constructor should not be invoked by user'''\n",
        "      self._container = container\n",
        "      self._node = node\n",
        "      \n",
        "    def element(self):\n",
        "      '''Return the element stored at this Position'''\n",
        "      return self._node._element\n",
        "    \n",
        "    def __eq__(self, other):\n",
        "      '''Return True if other is a Position representing the same location'''\n",
        "      return type(other) is type(self) and other._node is self._node\n",
        "  \n",
        "  \n",
        "  def _validate(self, p):\n",
        "    '''Return associated node, if position is valid'''\n",
        "    if not isinstance(p, self.Position):\n",
        "      raise TypeError('p must be proper Position type')\n",
        "    if p._container is not self:\n",
        "      raise ValueError('p does not belong to this container')\n",
        "    if p._node._parent is p._node: # convention for deprecated nodes\n",
        "      raise ValueError('p is no longer valid')\n",
        "    return p._node\n",
        "  \n",
        "  def _make_position(self, node):\n",
        "    '''return Position instance for given node (or None if no node)'''\n",
        "    return self.Position(self, node) if node is not None else None\n",
        "  \n",
        "  #---------------binary tree constructor---------------------------\n",
        "  def __init__(self):\n",
        "    '''Create an initially empty binary tree'''\n",
        "    self._root = None\n",
        "    self._size = 0\n",
        "    \n",
        "  #------------------public accessors-------------------------------\n",
        "  def __len__(self):\n",
        "    '''Return the total number of elements in the tree'''\n",
        "    return self._size\n",
        "  \n",
        "  def root(self):\n",
        "    '''Return the root Position of the tree (or None if tree is empty)'''\n",
        "    return self._make_position(self._root)\n",
        "  \n",
        "  def parent(self, p):\n",
        "    '''Return the Position of p's parent (or None if p is root)'''\n",
        "    node = self._validate(p)\n",
        "    return self._make_position(node._parent)\n",
        "  \n",
        "  def left(self, p):\n",
        "    '''Return the Position of p's left child (or None if no left child)'''\n",
        "    node = self._validate(p)\n",
        "    return self._make_position(node._left)\n",
        "  \n",
        "  def right(self, p):\n",
        "    '''Return the Position of p's right child (or None if no right child) '''\n",
        "    node = self._validate(p)\n",
        "    return self._make_position(node._right)\n",
        "  \n",
        "  def num_children(self, p):\n",
        "    '''Return the number of children of Position p'''\n",
        "    node = self._validate(p)\n",
        "    count = 0\n",
        "    if node._left is not None: # left child exists\n",
        "      count += 1\n",
        "    if node._right is not None: # right child exists\n",
        "      count += 1\n",
        "    return count\n",
        "  \n",
        "  def _add_root(self, e):\n",
        "    '''Place element e at the root of an empty tree and return new Position\n",
        "    \n",
        "    Raise ValueError if tree nonempty\n",
        "    '''\n",
        "    if self._root is not None:\n",
        "      raise ValueError('Root exists')\n",
        "    self._size = 1\n",
        "    self._root = self._Node(e)\n",
        "    return self._make_position(self._root)\n",
        "  \n",
        "  def _add_left(self, p, e):\n",
        "    '''Create a new left child for Position p, storing element e\n",
        "    \n",
        "    Return the Position of new node\n",
        "    Raise ValueError if Position p is invalid or p already has a left child\n",
        "    '''\n",
        "    node = self._validate(p)\n",
        "    if node._left is not None:\n",
        "      raise ValueError('Left child exists')\n",
        "    self._size += 1\n",
        "    node._left = self._Node(e, node) # node is its parent\n",
        "    return self._make_position(node._left)\n",
        "  \n",
        "  def _add_right(self, p, e):\n",
        "    '''Create a new right child for Position p, storing element e.\n",
        "\n",
        "    Return the Position of new node.\n",
        "    Raise ValueError if Position p is invalid or p already has a right child.\n",
        "    '''\n",
        "    node = self._validate(p)\n",
        "    if node._right is not None: \n",
        "      raise ValueError('Right child exists')\n",
        "    self._size += 1\n",
        "    node._right = self._Node(e, node) # node is its parent\n",
        "    return self._make_position(node._right)\n",
        "  \n",
        "  def _replace(self, p, e):\n",
        "    '''Replace the element at position p with e, and return old element'''\n",
        "    node = self._validate(p)\n",
        "    old = node._element\n",
        "    node._element = e\n",
        "    return old\n",
        "  \n",
        "  def _delete(self, p):\n",
        "    '''Deleta the node at Position p, and replace it with its child, if any\n",
        "    \n",
        "    Return the element that had been stored at Position p\n",
        "    Raise ValueError if Position p is invalid or p has two children\n",
        "    '''\n",
        "    node = self._validate(p)\n",
        "    if self.num_children(p) == 2:\n",
        "      raise ValueError('p has two children')\n",
        "    child = node._left if node._left else node._right # might be None\n",
        "    if child is not None:\n",
        "      child._parent = node._parent # child's grandparent becomes parent\n",
        "    if node is self._root:\n",
        "      self._root = child # child becomes root\n",
        "    else:\n",
        "      parent = node._parent\n",
        "      if node is parent._left:\n",
        "        parent._left = child\n",
        "      else:\n",
        "        parent._right = child\n",
        "    self._size -= 1\n",
        "    node._parent = node # convention for deprecated node\n",
        "    return node._element\n",
        "  \n",
        "  def _attach(self, p, t1, t2):\n",
        "    '''Attach trees t1 and t2 as left and right subtrees of externel p'''\n",
        "    node = self._validate(p)\n",
        "    if not self.is_leaf(p):\n",
        "      raise ValueError('position must be leaf')\n",
        "    if not type(self) is type(t1) is type(t2): # all 3 trees must be same type\n",
        "      raise TypeError('Tree types must match')\n",
        "    self._size += len(t1) + len(t2)\n",
        "    if not t1.is_empty(): # attached t1 as left subtree of node\n",
        "      t1._root._parent = node\n",
        "      node._left = t1._root\n",
        "      t1._root = None # set t1 instance to empty\n",
        "      t1._size = 0\n",
        "    if not t2.is_empty(): # attached t2 as right subtree of node\n",
        "      t2._root._parent = node\n",
        "      node._right = t2._root\n",
        "      t2._root = None # set t2 instance to empty\n",
        "      t2._size = 0"
      ],
      "execution_count": 0,
      "outputs": []
    },
    {
      "metadata": {
        "id": "uF9cAhFnx8VB",
        "colab_type": "text"
      },
      "cell_type": "markdown",
      "source": [
        "##8.3.2 Array-Based Representation of a Binary Tree\n",
        "For every position $p$ of $T$, let $f(p)$ be the integer defined as:\n",
        "* If $p$ is the root of $T$, then $f(p)=0$\n",
        "* If $p$ is the left child of position $q$, then $f(p)=2f(q)+1$\n",
        "* If $p$ is the right child of position $q$, then $f(p)=2f(q)+2$\n",
        "\n",
        "The numbering function $f$ is known as a **level numbering** of the positions in a binary tree $T$, for it numbers the positions on each level of $T$ in increasing order from left to right.\n",
        "\n",
        "Note that the level numbering is based\n",
        "on potential positions within the tree, not actual positions of a given tree, so they\n",
        "are not necessarily consecutive.\n",
        "\n",
        "Advantage of array-based representation of binary tree: a position $p$ can be represented by the single integer $f(p)$, so the position-based methods such as `root`, `parent`, `left`, `right` can be implemented using simple arithmetic operations on the number $f(p)$.\n",
        "\n",
        "Disadvantages:\n",
        "1. Space usage depends greatly on the shape of the tree.\n",
        "2. some update operations for trees cannot be efficiently supported. For example, deleting a node."
      ]
    },
    {
      "metadata": {
        "id": "OfR6IuUFz3Hj",
        "colab_type": "text"
      },
      "cell_type": "markdown",
      "source": [
        "#8.4 Tree Traversal Algorithm\n",
        "A **traversal** of a tree $T$ is a systematic way of accessing all the positions of $T$."
      ]
    },
    {
      "metadata": {
        "id": "AOXOg2FG0Iq-",
        "colab_type": "text"
      },
      "cell_type": "markdown",
      "source": [
        "##8.4.1 Preorder and Postorder Traversals of General Trees\n",
        "\n",
        "###Preorder Traversal\n",
        "In a **preorder traversal** of a tree $T$, the root of $T$ is visited first and then the subtrees rooted at its children are traversed recursively. \\\\\n",
        "If the tree is ordered, the subtrees are traversed according to the order of the children. \\\\\n",
        "Algorithm `preorder(T, p):` \\\\\n",
        "`perform the \"visit\" action for position p` \\\\\n",
        "`for each child c in T.children(p) do` \\\\\n",
        "$\\quad$ `preorder(T, c) {recursively traverse the subtree rooted at c}`\n",
        "\n",
        "###Postorder Traversal\n",
        "The **postorder traversal** recursively traverses the subtrees rooted at the children or the root first, and then visits the root. \\\\\n",
        "Algorithm `postorder(T, p):` \\\\\n",
        "`for each child c in T.children(p) do` \\\\\n",
        "$\\quad$ `postorder(T, c) {recursively traverse the subtree rooted at c}` \\\\\n",
        "`perform the \"visit\" action for position p`"
      ]
    },
    {
      "metadata": {
        "id": "w3Oaa3wL2C1b",
        "colab_type": "text"
      },
      "cell_type": "markdown",
      "source": [
        "##8.4.2 Breadth-First Tree Traversal\n",
        "visit all the positions at depth $d$ before visiting the positions at depth $d+1$.\n",
        "\n",
        "A breadth-first traversal is a common approach used in software for playing\n",
        "games. A **game tree** represents the possible choices of moves that might be made\n",
        "by a player (or computer) during a game, with the root of the tree being the initial\n",
        "configuration for the game.\n",
        "\n",
        "Algorithm `breadthfirst(T):` \\\\\n",
        "`Initailize queue Q to contain T.root()` \\\\\n",
        "`while Q not empty do` \\\\\n",
        "$\\quad$ `p = Q.dequeue() {p is the oldest entry in the queue}` \\\\\n",
        "$\\quad$ `perform the \"visit\" action for position p` \\\\\n",
        "$\\quad$ `for each child c in T.children(p) do` \\\\\n",
        "$\\quad\\quad$ `Q.enqueue(c) {add p's children to the end of the queue for later visits}`"
      ]
    },
    {
      "metadata": {
        "id": "qiIu8vou3Jz9",
        "colab_type": "text"
      },
      "cell_type": "markdown",
      "source": [
        "##8.4.3 Inorder Traversal of a Binary Tree\n",
        "visit a position between the recursive traversals of its left and right subtrees.\n",
        "\n",
        "For every position $p$, the inorder traversal visits $p$ after all the positions in the left subtree of $p$ and before all the positions in the right subtree of $p$.\n",
        "\n",
        "Algorithm `inorder(p):` \\\\\n",
        "`if p has a left child lc then` \\\\\n",
        "$\\quad$ `inorder(lc) {recursively traverse the left subtree of p}` \\\\\n",
        "`perform the \"visit\" action for position p` \\\\\n",
        "`if p has a right child rc then` \\\\\n",
        "$\\quad$ `inorder(rc) {recursively traverse the right subtree of p}`\n",
        "\n",
        "###Application: Binary Search Trees\n",
        "Let $S$ be a set whose unique elements have an order relation. For example, $S$ could be a set of integers. A binary search tree for $S$ is a binary tree $T$ such that, for each position $p$ of $T$:\n",
        "* Position $p$ stores an element of $S$, denoted as $e(p)$\n",
        "* Elements stored in the left subtree of $p$ (if any) are less than $e(p)$\n",
        "* Elements stored in the right subtree of $p$ (if any) are greater than $e(p)$\n",
        "\n",
        "A binary search tree $T$ can be used for set $S$ to find whether a given search value $v$ is in $S$, by traversing a path down the tree $T$, starting at the root. At each\n",
        "internal position $p$ encountered, we compare our search value $v$ with the element\n",
        "$e(p)$ stored at $p$. If $v < e(p)$, then the search continues in the left subtree of $p$.\n",
        "If $v = e(p)$, then the search terminates successfully. If $v > e(p)$, then the search\n",
        "continues in the right subtree of $p$. Finally, if we reach an empty subtree, the search\n",
        "terminates unsuccessfully."
      ]
    },
    {
      "metadata": {
        "id": "FGWbPFsP6Y9q",
        "colab_type": "text"
      },
      "cell_type": "markdown",
      "source": [
        "##8.4.4 Implementing Tree Traversals in Python\n",
        "The tree `T` supports:\n",
        "* `T.positions()`: Generate an iteration of all *positions* of tree `T`\n",
        "* `iter(T)`: Generate an iteration of all *elements* stored within tree `T`\n",
        "\n",
        "The `iter(T)` method is provided by a concrete implementation of the special method `__iter__` within the abstract base class `Tree`:"
      ]
    },
    {
      "metadata": {
        "id": "jkbx5Sl47BeU",
        "colab_type": "code",
        "colab": {}
      },
      "cell_type": "code",
      "source": [
        "def __iter__(self):\n",
        "  '''Generate an iteration of the elements of the tree'''\n",
        "  for p in self.positions(): # use same order as positions()\n",
        "    yield p.element() # but yield each element"
      ],
      "execution_count": 0,
      "outputs": []
    },
    {
      "metadata": {
        "id": "2L_SfNhr7WO0",
        "colab_type": "text"
      },
      "cell_type": "markdown",
      "source": [
        "To implement the `positions` method, consider different tree traversal algorithms"
      ]
    },
    {
      "metadata": {
        "id": "PSb24JfG7cp1",
        "colab_type": "text"
      },
      "cell_type": "markdown",
      "source": [
        "###Preorder Traversal"
      ]
    },
    {
      "metadata": {
        "id": "ZI14-86Q7qZj",
        "colab_type": "code",
        "colab": {}
      },
      "cell_type": "code",
      "source": [
        "def preorder(self):\n",
        "  '''Generate a preorder iteration of positions in the tree'''\n",
        "  if not self.is_empty():\n",
        "    for p in self._subtree_preorder(self.root()): # start recursion\n",
        "      yield p\n",
        "      \n",
        "def _subtree_preorder(self, p):\n",
        "  '''Generate a preorder iteration of positions in subtree rooted at p'''\n",
        "  yield p # visit p before its subtrees\n",
        "  for c in self.children(p): # for each child c\n",
        "    for other in self._subtree_preorder(c): # do preorder of c's subtree\n",
        "      yield other # yielding each to caller"
      ],
      "execution_count": 0,
      "outputs": []
    },
    {
      "metadata": {
        "id": "8f4g5oBg8n_s",
        "colab_type": "text"
      },
      "cell_type": "markdown",
      "source": [
        "Now as the full support for the `preorder` generator has been provided, a user of the class can write: \\\\\n",
        "`for p in T.preorder(): \\\n",
        "\\#\"visit\" position p `\n"
      ]
    },
    {
      "metadata": {
        "id": "4I-QeXnE87IS",
        "colab_type": "text"
      },
      "cell_type": "markdown",
      "source": [
        "To use a preorder traversal as the default order of iteration, we include the definition within the `Tree` class for the `positions` method:"
      ]
    },
    {
      "metadata": {
        "id": "JSyAlvh_9IEM",
        "colab_type": "code",
        "colab": {}
      },
      "cell_type": "code",
      "source": [
        "def positions(self):\n",
        "  '''Generate an iteration of the tree's positions '''\n",
        "  return self.preorder() # return entire preorder iteration"
      ],
      "execution_count": 0,
      "outputs": []
    },
    {
      "metadata": {
        "id": "3Dik_KbZ9R3f",
        "colab_type": "text"
      },
      "cell_type": "markdown",
      "source": [
        "###Postorder Traversald"
      ]
    },
    {
      "metadata": {
        "id": "ZHGkNtJq9WZW",
        "colab_type": "code",
        "colab": {}
      },
      "cell_type": "code",
      "source": [
        "def postorder(self):\n",
        "  '''Generate a postorder iteration of positions in the tree'''\n",
        "  if not self.is_empty():\n",
        "    for p in self._subtree_postorder(self.root()): # start recursion\n",
        "      yield p\n",
        "      \n",
        "def _subtree_postorder(self, p):\n",
        "  '''Generate a postorder iteration of positions in the subtree rooted at p'''\n",
        "  for c in self.children(p): # for each child c\n",
        "    for other in self._subtree_postorder(c): # do postorder of c's subtree\n",
        "      yield other # yielding each to our caller\n",
        "  yield p # visit p after its subtrees"
      ],
      "execution_count": 0,
      "outputs": []
    },
    {
      "metadata": {
        "id": "7pkZV94g95YI",
        "colab_type": "text"
      },
      "cell_type": "markdown",
      "source": [
        "The only difference is that, within the recursive utility for a postorder, \n",
        "need to wait to yield position $p$ until after recursively yielding the positions\n",
        "in its subtrees."
      ]
    },
    {
      "metadata": {
        "id": "aifg4KwH-Oqo",
        "colab_type": "text"
      },
      "cell_type": "markdown",
      "source": [
        "###Breath-First Traversal\n",
        "The breadth-first traversal is not recursive; it relies on a queue of positions to manage the traversal process. The implementation uses the `LinkedQueue` class from Section 7.1.2"
      ]
    },
    {
      "metadata": {
        "id": "2eUrpCzX-eNI",
        "colab_type": "code",
        "colab": {}
      },
      "cell_type": "code",
      "source": [
        "def breadthfirst(self):\n",
        "  '''Generate a breath-first iteration of the positions of the tree'''\n",
        "  if not self.is_empty():\n",
        "    fringe = LinkedQueue() # known positions not yet yielded\n",
        "    frintge.enqueue(self.root()) # starting with the root\n",
        "    while not fringe.is_empty():\n",
        "      p = fringe.dequeue() # remove from front of the queue\n",
        "      yield p # report this position\n",
        "      for c in self.children(p):\n",
        "        fringe.enqueue(c) # add children to back of queue"
      ],
      "execution_count": 0,
      "outputs": []
    },
    {
      "metadata": {
        "id": "0PQpgko4-5p4",
        "colab_type": "text"
      },
      "cell_type": "markdown",
      "source": [
        "###Inorder Traversal for Binary Trees\n",
        "The inorder traversal definition is only included within the body of the `BinaryTree` class because it explicitly relies on the notion of a left an right child of a node, and only applies to binary trees."
      ]
    },
    {
      "metadata": {
        "id": "BVP7kzxM_XM_",
        "colab_type": "code",
        "colab": {}
      },
      "cell_type": "code",
      "source": [
        "def inorder(self):\n",
        "  '''Generate an inorder iteration of positions in the tree'''\n",
        "  if not self.is_empty():\n",
        "    for p in self._subtree_inorder(self.root()):\n",
        "      yield p\n",
        "      \n",
        "def _subtree_inorder(self, p):\n",
        "  '''Generate an inorder iteration of positions in subtree rooted at p'''\n",
        "  if self.left(p) is not None: # if left child exists, traverse it subtree\n",
        "    for other in self._subtree_inorder(self.left(p)):\n",
        "      yield other\n",
        "  yield p # visit p between its subtrees\n",
        "  if self.right(p) is not None: # if right child exists, traverse its subtree\n",
        "    for other in self._subtree_inorder(self.right(p)):\n",
        "      yield other"
      ],
      "execution_count": 0,
      "outputs": []
    },
    {
      "metadata": {
        "id": "lQOMTvdwAAXr",
        "colab_type": "text"
      },
      "cell_type": "markdown",
      "source": [
        "Make the inorder traversal the default for the `BinaryTree` class by overriding the `positions` method that was inherited from the `Tree` class:"
      ]
    },
    {
      "metadata": {
        "id": "65sVw3a0AK_q",
        "colab_type": "code",
        "colab": {}
      },
      "cell_type": "code",
      "source": [
        "# override inherited version to make inorder the default\n",
        "def positions(self):\n",
        "  '''Generate an iteration of the tree's positions'''\n",
        "  return self.inorder() # make inorder the default"
      ],
      "execution_count": 0,
      "outputs": []
    },
    {
      "metadata": {
        "id": "WtusKTR9AiPT",
        "colab_type": "text"
      },
      "cell_type": "markdown",
      "source": [
        "###The complete `Tree` class:"
      ]
    },
    {
      "metadata": {
        "id": "QD6ivSygAmBx",
        "colab_type": "code",
        "colab": {}
      },
      "cell_type": "code",
      "source": [
        "class Tree:\n",
        "  '''Abstract base class representing a tree structure'''\n",
        "  \n",
        "  #--------------------------nested Position class----------------------\n",
        "  class Position:\n",
        "    '''An abstraction representing the location of a single element'''\n",
        "    \n",
        "    def element(self):\n",
        "      '''Return the element stored at this Position'''\n",
        "      raise NotImplementedError('must be implemented by subclass')\n",
        "      \n",
        "    def __eq__(self, other):\n",
        "      '''Return True if other Position represents the same location'''\n",
        "      raise NotImplementedError('must be implemented by subclass')\n",
        "      \n",
        "    def __ne__(self, other):\n",
        "      '''Return True if other does not represent the same location'''\n",
        "      return not (self == other)  # opposite of __eq__\n",
        "    \n",
        "  #------------abstract methods that concrete subclass must support-----\n",
        "  def root(self):\n",
        "    '''Return Position representing the tree's root (or None if empty)'''\n",
        "    raise NotImplementedError('must be implemented by subclass')\n",
        "    \n",
        "  def parent(self, p):\n",
        "    '''Return Position representing p s parent (or None if p is root).'''\n",
        "    raise NotImplementedError( must be implemented by subclass )\n",
        "\n",
        "  def num children(self, p):\n",
        "    '''Return the number of children that Position p has'''\n",
        "    raise NotImplementedError( must be implemented by subclass )\n",
        "\n",
        "  def children(self, p):\n",
        "    '''Generate an iteration of Positions representing p s children'''\n",
        "    raise NotImplementedError( must be implemented by subclass )\n",
        "\n",
        "  def len (self):\n",
        "    '''Return the total number of elements in the tree'''\n",
        "    raise NotImplementedError( must be implemented by subclass )\n",
        "    \n",
        "  #-----------concrete methods implemented in this class----------------\n",
        "  def is_root(self, p):\n",
        "    '''Return True if Position p represents the root of the tree'''\n",
        "    return self.root() == p\n",
        "  \n",
        "  def is_leaf(self, p):\n",
        "    '''Return True if Position p does not have any children'''\n",
        "    return self.num_children(p) == 0\n",
        "  \n",
        "  def is_empty(self):\n",
        "    '''Return True if the tree is empty'''\n",
        "    return len(self) == 0\n",
        "  \n",
        "  def depth(self, p):\n",
        "  '''Return the number of levels separating Position p from the root'''\n",
        "    if self.is_root(p):\n",
        "      return 0\n",
        "    else:\n",
        "      return 1 + self.depth(self.parent(p))\n",
        "    \n",
        "  def _height1(self): # works, but O(n^2) worst-case time\n",
        "    '''Return the height of the tree'''\n",
        "    return max(self.depth(p) for p in self.positions() if self.is_lead(p))\n",
        "  \n",
        "  def _height2(self, p): # time is linear in size of subtree\n",
        "    '''Return the height of the subtree rooted at Position p'''\n",
        "    if self.is_leaf(p):\n",
        "      return 0\n",
        "    else:\n",
        "      return 1 + max(self._height2(c) for c in self.children(p))\n",
        "  \n",
        "  def height(self, p=None):\n",
        "    '''Return the height of the subtree rooted at Position p.\n",
        "    \n",
        "    If p is None, return the height of the entire tree\n",
        "    '''\n",
        "    if p is None:\n",
        "      p = self.root()\n",
        "    return self._height2(p) # start _height2 recursion\n",
        "  \n",
        "  def preorder(self):\n",
        "    '''Generate a preorder iteration of positions in the tree'''\n",
        "    if not self.is_empty():\n",
        "      for p in self._subtree_preorder(self.root()): # start recursion\n",
        "        yield p\n",
        "      \n",
        "  def _subtree_preorder(self, p):\n",
        "    '''Generate a preorder iteration of positions in subtree rooted at p'''\n",
        "    yield p # visit p before its subtrees\n",
        "    for c in self.children(p): # for each child c\n",
        "      for other in self._subtree_preorder(c): # do preorder of c's subtree\n",
        "        yield other # yielding each to caller\n",
        "        \n",
        "  def postorder(self):\n",
        "    '''Generate a postorder iteration of positions in the tree'''\n",
        "    if not self.is_empty():\n",
        "      for p in self._subtree_postorder(self.root()): # start recursion\n",
        "        yield p\n",
        "      \n",
        "  def _subtree_postorder(self, p):\n",
        "    '''Generate a postorder iteration of positions in the subtree rooted at p'''\n",
        "    for c in self.children(p): # for each child c\n",
        "      for other in self._subtree_postorder(c): # do postorder of c's subtree\n",
        "        yield other # yielding each to our caller\n",
        "    yield p # visit p after its subtrees\n",
        "    \n",
        "  def positions(self):\n",
        "    '''Generate an iteration of the tree's positions '''\n",
        "    return self.preorder() # return entire preorder iteration"
      ],
      "execution_count": 0,
      "outputs": []
    },
    {
      "metadata": {
        "id": "0sYTWr4XBA1b",
        "colab_type": "text"
      },
      "cell_type": "markdown",
      "source": [
        "###The complete `BinaryTree` class:"
      ]
    },
    {
      "metadata": {
        "id": "foKR7MqZBFLK",
        "colab_type": "code",
        "colab": {}
      },
      "cell_type": "code",
      "source": [
        "class BinaryTree(Tree):\n",
        "  '''Abstract base class representing a binary tree structure'''\n",
        "  \n",
        "  #---------------------additional abstract methods----------------------\n",
        "  def left(self, p):\n",
        "    '''Return a Position representing p's left child \n",
        "    \n",
        "    Return None if p does not have a left child\n",
        "    '''\n",
        "    raise NotImplementedError( must be implemented by subclass )\n",
        "\n",
        "  def right(self, p):\n",
        "    '''Return a Position representing p s right child.\n",
        "\n",
        "    Return None if p does not have a right child.\n",
        "    '''\n",
        "    raise NotImplementedError( must be implemented by subclass )\n",
        "    \n",
        "  #------------concrete methods implemented in this class---------------\n",
        "  def sibling(self, p):\n",
        "    '''Return a Position representing p's sibling (or None if no sibling)'''\n",
        "    parent = self.parent(p)\n",
        "    if parent is None: # p must be the root\n",
        "      return None # root has no sibling\n",
        "    else:\n",
        "      if p == self.left(parent):\n",
        "        return self.right(parent) # possibly None\n",
        "      else:\n",
        "        return self.left(parent) # possibly None\n",
        "      \n",
        "  def children(self, p):\n",
        "    '''Generate an iteration of Positions representing p's children '''\n",
        "    if self.left(p) is not None:\n",
        "      yield self.left(p)\n",
        "    if self.right(p) is not None:\n",
        "      yield self.right(p)\n",
        "      \n",
        "  def inorder(self):\n",
        "    '''Generate an inorder iteration of positions in the tree'''\n",
        "    if not self.is_empty():\n",
        "      for p in self._subtree_inorder(self.root()):\n",
        "        yield p\n",
        "      \n",
        "  def _subtree_inorder(self, p):\n",
        "    '''Generate an inorder iteration of positions in subtree rooted at p'''\n",
        "    if self.left(p) is not None: # if left child exists, traverse it subtree\n",
        "      for other in self._subtree_inorder(self.left(p)):\n",
        "        yield other\n",
        "    yield p # visit p between its subtrees\n",
        "    if self.right(p) is not None: # if right child exists, traverse its subtree\n",
        "      for other in self._subtree_inorder(self.right(p)):\n",
        "        yield other\n",
        "        \n",
        "  # override inherited version to make inorder the default\n",
        "  def positions(self):\n",
        "    '''Generate an iteration of the tree's positions'''\n",
        "    return self.inorder() # make inorder the default"
      ],
      "execution_count": 0,
      "outputs": []
    },
    {
      "metadata": {
        "id": "CbXWKCRgB1Gj",
        "colab_type": "text"
      },
      "cell_type": "markdown",
      "source": [
        "##8.4.6 Euler Tours and the Template Method Pattern\n",
        "The **Euler tour traversal** of a general tree $T$ can be informally defined as a \"walk\" around $T$, where it is started by oing from the root toward its leftmost child, viewing the edges of $T$ as being \"walls\".\n",
        "\n",
        "The complexity of the walk is $O(n)$, because it progresses exactly two times\n",
        "along each of the $n−1$ edges of the tree—once going downward along the edge, and\n",
        "later going upward along the edge.\n",
        "\n",
        "There are two notable \"visits\" to each position $p$:\n",
        "* A \"pre visit\" occurs when first reaching the position, that is, when the walk passes immediately left of the node in the visualization\n",
        "* A \"post visit\" occurs when the walk later proceeds upward from that position, that is, when the walk passes to the right of the node in the visualization\n",
        "\n",
        "The process of an Euler tour can easily be viewed recursively. In between the\n",
        "“pre visit” and “post visit” of a given position will be a recursive tour of each of\n",
        "its subtrees.\n",
        "\n",
        "Algorithm `eulertour(T, p):` \\\\\n",
        "`perform the \"pre visit\" action for position p` \\\\\n",
        "`for each child c in T.children(p) do` \\\\\n",
        "$\\quad$ `eulertour(T, c) {recursively tour the subtree rooted at c}` \\\\\n",
        "`perform the \"post visit\" action for position p`\n",
        "\n",
        "###Python Implementation"
      ]
    },
    {
      "metadata": {
        "id": "SI2G75TrOYCC",
        "colab_type": "code",
        "colab": {}
      },
      "cell_type": "code",
      "source": [
        "class EulerTour:\n",
        "  '''Abstract base class for performing Euler tour of a tree\n",
        "  \n",
        "  _hook_previsit and _hook_postvisit may be overridden by subclasses\n",
        "  '''\n",
        "  def __init__(self, tree):\n",
        "    '''Prepare an Euler tour template for given tree'''\n",
        "    self._tree = tree\n",
        "    \n",
        "  def tree(self):\n",
        "    '''Return reference to the tree being traversed'''\n",
        "    return self._tree\n",
        "  \n",
        "  def execute(self):\n",
        "    '''Perform the tour and return any result from post visit of root'''\n",
        "    if len(self._tree) > 0:\n",
        "      return self._tour(self._tree.root(), 0, []) # start the recursion\n",
        "    \n",
        "  def _tour(self, p, d, path):\n",
        "    '''Perform tour of subtree rooted at Position p\n",
        "    \n",
        "    p       Position of current node being visited\n",
        "    d       depth of p in the tree\n",
        "    path    list of indices of children on path from root to p\n",
        "    '''\n",
        "    self._hook_previsit(p, d, path) # \"pre visit\" p\n",
        "    results = []\n",
        "    path.append(0) # add new index to end of path before recursion\n",
        "    for c in self._tree.children(p):\n",
        "      results.append(self._tour(c, d+1, path)) # recur on child's subtree\n",
        "      path[-1] += 1 # increment index\n",
        "    path.pop() # remove extraneous index from pend of path\n",
        "    answer = self._hook_postvisit(p, d, path, results) # \"post visit\" p\n",
        "    return answer\n",
        "  \n",
        "  def _hook_previsit(self, p, d, path): # can be overridden\n",
        "    pass\n",
        "  \n",
        "  def _hook_postvisit(self, p, d, path, results): # can be overridden\n",
        "    pass"
      ],
      "execution_count": 0,
      "outputs": []
    },
    {
      "metadata": {
        "id": "ivtKm7_hJW-7",
        "colab_type": "text"
      },
      "cell_type": "markdown",
      "source": [
        "* `_hook_previsit(p, d, path)` method: \\\\\n",
        "This function is called once for each position, immediately before its subtrees\n",
        "(if any) are traversed. Parameter `p` is a position in the tree, `d` is the depth of\n",
        "that position, and `path` is a list of indices. No return value is expected from this function\n",
        "* `_hook_postvisit(p, d, path, results)` method: \\\\\n",
        "This function is called once for each position, immediately after its subtrees\n",
        "(if any) are traversed. The first three parameters use the same convention as\n",
        "did hook previsit. The final parameter is a list of objects that were provided\n",
        "as return values from the post visits of the respective subtrees of `p`. Any value\n",
        "returned by this call will be available to the parent of `p` during its postvisit,"
      ]
    },
    {
      "metadata": {
        "id": "NmG7UtooKRXw",
        "colab_type": "text"
      },
      "cell_type": "markdown",
      "source": [
        "##The Euler Tour Traversal of a Binary Tree\n",
        "The implementation of `BinaryEulerTour` replaces the original `_tour` utility to specialize to the case in which a node has at most two children. If a node has only\n",
        "one child, a tour differentiates between whether that is a left child or a right child,\n",
        "with the “in visit” taking place after the visit of a sole left child, but before the visit\n",
        "of a sole right child. In the case of a leaf, the three hooks are called in succession."
      ]
    },
    {
      "metadata": {
        "id": "rMgewzE7KrxX",
        "colab_type": "code",
        "colab": {}
      },
      "cell_type": "code",
      "source": [
        "class BinaryEulerTour(EulerTour):\n",
        "  '''Abstract base class for performing Euler tour of a binary tree\n",
        "  \n",
        "  This version includes an additional _hook_invisit that is called after \n",
        "  the tour of the left subtree (if any), yet before the tour of the \n",
        "  right subtree (if any)\n",
        "  \n",
        "  Note: Right child is always assigned index 1 in path, even if no left sibling\n",
        "  '''\n",
        "  def _tour(self, p, d, path):\n",
        "    results = [None, None] # will update with results of recursions\n",
        "    self._hook_previsit(p, d, path) # \"pre visit\" for p\n",
        "    if self._tree.left(p) is not None: # consider left child\n",
        "      path.append(0)\n",
        "      results[0] = self._tour(self._tree.left(p), d+1, path)\n",
        "      path.pop()\n",
        "    self._hook_invisit(p, d, path) # \"in visit\" for p\n",
        "    if self._tree.right(p) is not None: # consider right child\n",
        "      path.append(1)\n",
        "      results[1] = self._tour(self._tree.right(p), d+1, path)\n",
        "      path.pop()\n",
        "    answer = self._hook_postvisit(p, d, path, results) # \"post visit\" p\n",
        "    return answer\n",
        "  \n",
        "  def _hook_invisit(self, p, d, path): # can be overridden\n",
        "    pass"
      ],
      "execution_count": 0,
      "outputs": []
    }
  ]
}